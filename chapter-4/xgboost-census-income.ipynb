{
 "cells": [
  {
   "cell_type": "code",
   "execution_count": 1,
   "metadata": {
    "ExecuteTime": {
     "start_time": "2023-04-04T16:46:29.868561Z",
     "end_time": "2023-04-04T16:46:30.410182Z"
    }
   },
   "outputs": [],
   "source": [
    "import numpy as np\n",
    "import pandas as pd\n",
    "\n",
    "import xgboost as xgb\n",
    "\n",
    "from sklearn.metrics import f1_score, accuracy_score\n",
    "\n",
    "import matplotlib.pyplot as plt\n",
    "import seaborn as sns\n",
    "import time"
   ]
  },
  {
   "cell_type": "code",
   "execution_count": 2,
   "metadata": {
    "ExecuteTime": {
     "start_time": "2023-04-04T16:46:30.410182Z",
     "end_time": "2023-04-04T16:46:48.060660Z"
    }
   },
   "outputs": [
    {
     "name": "stdout",
     "output_type": "stream",
     "text": [
      "Train dataset shape: (32561, 15)\n",
      "Test dataset shape: (16281, 15)\n"
     ]
    }
   ],
   "source": [
    "HEADERS = [\n",
    "    \"age\",\n",
    "    \"workclass\",\n",
    "    \"fnlwgt\",\n",
    "    \"education\",\n",
    "    \"education_num\",\n",
    "    \"marital_status\",\n",
    "    \"occupation\",\n",
    "    \"relationship\",\n",
    "    \"race\",\n",
    "    \"gender\",\n",
    "    \"capital_gain\",\n",
    "    \"capital_loss\",\n",
    "    \"hours_per_week\",\n",
    "    \"native_country\",\n",
    "    \"income_bracket\",\n",
    "]\n",
    "\n",
    "train_data_url = (\n",
    "    \"https://archive.ics.uci.edu/ml/machine-learning-databases/adult/adult.data\"\n",
    ")\n",
    "train_data = pd.read_csv(train_data_url, header=None, names=HEADERS)\n",
    "\n",
    "test_data_url = (\n",
    "    \"https://archive.ics.uci.edu/ml/machine-learning-databases/adult/adult.test\"\n",
    ")\n",
    "test_data = pd.read_csv(test_data_url, header=None, names=HEADERS)\n",
    "\n",
    "test_data = test_data[1:]\n",
    "test_data.income_bracket = test_data.income_bracket.apply(\n",
    "   lambda value: value.replace(\".\", \"\")\n",
    ")\n",
    "\n",
    "print(f\"Train dataset shape: {train_data.shape}\")\n",
    "print(f\"Test dataset shape: {test_data.shape}\")"
   ]
  },
  {
   "cell_type": "code",
   "execution_count": 3,
   "metadata": {
    "ExecuteTime": {
     "start_time": "2023-04-04T16:46:48.063177Z",
     "end_time": "2023-04-04T16:46:48.318662Z"
    }
   },
   "outputs": [
    {
     "data": {
      "text/plain": "       age          workclass  fnlwgt      education  education_num  \\\n24276   21            Private  161415   Some-college             10   \n1241    55            Private  326297        HS-grad              9   \n625     30            Private  124187        HS-grad              9   \n20855   22            Private  190968   Some-college             10   \n20611   27   Self-emp-not-inc  153546      Bachelors             13   \n24115   18            Private  294387           11th              7   \n302     31            Private  217460        HS-grad              9   \n18179   26            Private  152452      Bachelors             13   \n31572   36            Private  418702      Assoc-voc             11   \n17916   44            Private  367749      Bachelors             13   \n\n            marital_status          occupation    relationship    race  \\\n24276        Never-married        Craft-repair   Not-in-family   White   \n1241             Separated        Adm-clerical   Not-in-family   White   \n625          Never-married     Farming-fishing       Own-child   Black   \n20855   Married-civ-spouse        Craft-repair         Husband   White   \n20611        Never-married      Prof-specialty       Own-child   White   \n24115        Never-married   Handlers-cleaners   Not-in-family   White   \n302     Married-civ-spouse    Transport-moving         Husband   White   \n18179   Married-civ-spouse        Tech-support         Husband   White   \n31572             Divorced        Adm-clerical       Unmarried   White   \n17916        Never-married      Prof-specialty   Not-in-family   White   \n\n        gender  capital_gain  capital_loss  hours_per_week  native_country  \\\n24276     Male             0             0              50   United-States   \n1241    Female             0             0              25   United-States   \n625       Male             0             0              60   United-States   \n20855     Male          2407             0              40   United-States   \n20611   Female             0             0              40   United-States   \n24115     Male             0             0              40   United-States   \n302       Male             0             0              45   United-States   \n18179     Male             0             0              50   United-States   \n31572   Female             0             0              40   United-States   \n17916   Female             0             0              45          Mexico   \n\n      income_bracket  \n24276          <=50K  \n1241           <=50K  \n625            <=50K  \n20855          <=50K  \n20611          <=50K  \n24115          <=50K  \n302             >50K  \n18179          <=50K  \n31572          <=50K  \n17916          <=50K  ",
      "text/html": "<div>\n<style scoped>\n    .dataframe tbody tr th:only-of-type {\n        vertical-align: middle;\n    }\n\n    .dataframe tbody tr th {\n        vertical-align: top;\n    }\n\n    .dataframe thead th {\n        text-align: right;\n    }\n</style>\n<table border=\"1\" class=\"dataframe\">\n  <thead>\n    <tr style=\"text-align: right;\">\n      <th></th>\n      <th>age</th>\n      <th>workclass</th>\n      <th>fnlwgt</th>\n      <th>education</th>\n      <th>education_num</th>\n      <th>marital_status</th>\n      <th>occupation</th>\n      <th>relationship</th>\n      <th>race</th>\n      <th>gender</th>\n      <th>capital_gain</th>\n      <th>capital_loss</th>\n      <th>hours_per_week</th>\n      <th>native_country</th>\n      <th>income_bracket</th>\n    </tr>\n  </thead>\n  <tbody>\n    <tr>\n      <th>24276</th>\n      <td>21</td>\n      <td>Private</td>\n      <td>161415</td>\n      <td>Some-college</td>\n      <td>10</td>\n      <td>Never-married</td>\n      <td>Craft-repair</td>\n      <td>Not-in-family</td>\n      <td>White</td>\n      <td>Male</td>\n      <td>0</td>\n      <td>0</td>\n      <td>50</td>\n      <td>United-States</td>\n      <td>&lt;=50K</td>\n    </tr>\n    <tr>\n      <th>1241</th>\n      <td>55</td>\n      <td>Private</td>\n      <td>326297</td>\n      <td>HS-grad</td>\n      <td>9</td>\n      <td>Separated</td>\n      <td>Adm-clerical</td>\n      <td>Not-in-family</td>\n      <td>White</td>\n      <td>Female</td>\n      <td>0</td>\n      <td>0</td>\n      <td>25</td>\n      <td>United-States</td>\n      <td>&lt;=50K</td>\n    </tr>\n    <tr>\n      <th>625</th>\n      <td>30</td>\n      <td>Private</td>\n      <td>124187</td>\n      <td>HS-grad</td>\n      <td>9</td>\n      <td>Never-married</td>\n      <td>Farming-fishing</td>\n      <td>Own-child</td>\n      <td>Black</td>\n      <td>Male</td>\n      <td>0</td>\n      <td>0</td>\n      <td>60</td>\n      <td>United-States</td>\n      <td>&lt;=50K</td>\n    </tr>\n    <tr>\n      <th>20855</th>\n      <td>22</td>\n      <td>Private</td>\n      <td>190968</td>\n      <td>Some-college</td>\n      <td>10</td>\n      <td>Married-civ-spouse</td>\n      <td>Craft-repair</td>\n      <td>Husband</td>\n      <td>White</td>\n      <td>Male</td>\n      <td>2407</td>\n      <td>0</td>\n      <td>40</td>\n      <td>United-States</td>\n      <td>&lt;=50K</td>\n    </tr>\n    <tr>\n      <th>20611</th>\n      <td>27</td>\n      <td>Self-emp-not-inc</td>\n      <td>153546</td>\n      <td>Bachelors</td>\n      <td>13</td>\n      <td>Never-married</td>\n      <td>Prof-specialty</td>\n      <td>Own-child</td>\n      <td>White</td>\n      <td>Female</td>\n      <td>0</td>\n      <td>0</td>\n      <td>40</td>\n      <td>United-States</td>\n      <td>&lt;=50K</td>\n    </tr>\n    <tr>\n      <th>24115</th>\n      <td>18</td>\n      <td>Private</td>\n      <td>294387</td>\n      <td>11th</td>\n      <td>7</td>\n      <td>Never-married</td>\n      <td>Handlers-cleaners</td>\n      <td>Not-in-family</td>\n      <td>White</td>\n      <td>Male</td>\n      <td>0</td>\n      <td>0</td>\n      <td>40</td>\n      <td>United-States</td>\n      <td>&lt;=50K</td>\n    </tr>\n    <tr>\n      <th>302</th>\n      <td>31</td>\n      <td>Private</td>\n      <td>217460</td>\n      <td>HS-grad</td>\n      <td>9</td>\n      <td>Married-civ-spouse</td>\n      <td>Transport-moving</td>\n      <td>Husband</td>\n      <td>White</td>\n      <td>Male</td>\n      <td>0</td>\n      <td>0</td>\n      <td>45</td>\n      <td>United-States</td>\n      <td>&gt;50K</td>\n    </tr>\n    <tr>\n      <th>18179</th>\n      <td>26</td>\n      <td>Private</td>\n      <td>152452</td>\n      <td>Bachelors</td>\n      <td>13</td>\n      <td>Married-civ-spouse</td>\n      <td>Tech-support</td>\n      <td>Husband</td>\n      <td>White</td>\n      <td>Male</td>\n      <td>0</td>\n      <td>0</td>\n      <td>50</td>\n      <td>United-States</td>\n      <td>&lt;=50K</td>\n    </tr>\n    <tr>\n      <th>31572</th>\n      <td>36</td>\n      <td>Private</td>\n      <td>418702</td>\n      <td>Assoc-voc</td>\n      <td>11</td>\n      <td>Divorced</td>\n      <td>Adm-clerical</td>\n      <td>Unmarried</td>\n      <td>White</td>\n      <td>Female</td>\n      <td>0</td>\n      <td>0</td>\n      <td>40</td>\n      <td>United-States</td>\n      <td>&lt;=50K</td>\n    </tr>\n    <tr>\n      <th>17916</th>\n      <td>44</td>\n      <td>Private</td>\n      <td>367749</td>\n      <td>Bachelors</td>\n      <td>13</td>\n      <td>Never-married</td>\n      <td>Prof-specialty</td>\n      <td>Not-in-family</td>\n      <td>White</td>\n      <td>Female</td>\n      <td>0</td>\n      <td>0</td>\n      <td>45</td>\n      <td>Mexico</td>\n      <td>&lt;=50K</td>\n    </tr>\n  </tbody>\n</table>\n</div>"
     },
     "execution_count": 3,
     "metadata": {},
     "output_type": "execute_result"
    }
   ],
   "source": [
    "train_data.sample(10)"
   ]
  },
  {
   "cell_type": "code",
   "execution_count": 4,
   "metadata": {
    "ExecuteTime": {
     "start_time": "2023-04-04T16:46:48.318166Z",
     "end_time": "2023-04-04T16:46:48.319667Z"
    }
   },
   "outputs": [],
   "source": [
    "train_data.replace(\" ?\", None, inplace=True)\n",
    "test_data.replace(\" ?\", None, inplace=True)"
   ]
  },
  {
   "cell_type": "code",
   "execution_count": 5,
   "metadata": {
    "ExecuteTime": {
     "start_time": "2023-04-04T16:46:48.318662Z",
     "end_time": "2023-04-04T16:46:48.323875Z"
    }
   },
   "outputs": [],
   "source": [
    "def sort_none_last(xs):\n",
    "    return sorted(xs, key=lambda x: (x is None, x))\n",
    "\n",
    "CATEGORICAL_FEATURES_WITH_VOCABULARY = {\n",
    "    \"workclass\": sort_none_last(list(train_data[\"workclass\"].unique())),\n",
    "    \"education\": sort_none_last(list(train_data[\"education\"].unique())),\n",
    "    \"marital_status\": sort_none_last(list(train_data[\"marital_status\"].unique())),\n",
    "    \"occupation\": sort_none_last(list(train_data[\"occupation\"].unique())),\n",
    "    \"relationship\": sort_none_last(list(train_data[\"relationship\"].unique())),\n",
    "    \"race\": sort_none_last(list(train_data[\"race\"].unique())),\n",
    "    \"gender\": sort_none_last(list(train_data[\"gender\"].unique())),\n",
    "    \"native_country\": sort_none_last(list(train_data[\"native_country\"].unique())),\n",
    "    \"income_bracket\": sort_none_last(list(train_data[\"income_bracket\"].unique())),\n",
    "}"
   ]
  },
  {
   "cell_type": "code",
   "execution_count": 6,
   "metadata": {
    "ExecuteTime": {
     "start_time": "2023-04-04T16:46:48.323875Z",
     "end_time": "2023-04-04T16:46:48.491163Z"
    }
   },
   "outputs": [],
   "source": [
    "def map_to_index(val, vocab):\n",
    "    if val is None:\n",
    "        return None\n",
    "    return vocab.index(val)\n",
    "\n",
    "for dataset in (train_data, test_data):\n",
    "    for feature, vocab in CATEGORICAL_FEATURES_WITH_VOCABULARY.items():\n",
    "        dataset[feature] = dataset[feature].map(lambda val: map_to_index(val, vocab))"
   ]
  },
  {
   "cell_type": "code",
   "execution_count": 7,
   "metadata": {
    "ExecuteTime": {
     "start_time": "2023-04-04T16:46:48.444311Z",
     "end_time": "2023-04-04T16:46:48.494183Z"
    }
   },
   "outputs": [
    {
     "data": {
      "text/plain": "       age  workclass  fnlwgt  education  education_num  marital_status  \\\n7372    26        3.0  276624         15             10               2   \n22838   58        1.0   53481         12             14               4   \n16549   35        3.0  112512         11              9               6   \n15536   21        3.0  129674         15             10               4   \n4528    28        5.0   33035          2              8               0   \n23337   23        3.0  267955         15             10               4   \n30425   36        3.0  108320         11              9               0   \n9131    51        5.0   74160         12             14               0   \n5532    42        6.0  117583         10             16               0   \n28536   38        4.0  140854          9             13               2   \n\n       occupation  relationship  race  gender  capital_gain  capital_loss  \\\n7372         10.0             0     4       1             0             0   \n22838         9.0             1     4       1             0             0   \n16549         7.0             3     4       0             0             0   \n15536         3.0             1     2       1             0             0   \n4528          7.0             4     4       0             0             0   \n23337        11.0             1     4       0             0             0   \n30425         6.0             1     4       1          4101             0   \n9131          9.0             4     4       1             0             0   \n5532          9.0             1     4       0          8614             0   \n28536         2.0             0     4       1             0             0   \n\n       hours_per_week  native_country  income_bracket  \n7372               40            38.0               0  \n22838              35            38.0               0  \n16549              40            38.0               0  \n15536              48            25.0               0  \n4528               30            38.0               0  \n23337              40            38.0               0  \n30425              40            38.0               0  \n9131               60            38.0               1  \n5532               60            38.0               1  \n28536              50            38.0               1  ",
      "text/html": "<div>\n<style scoped>\n    .dataframe tbody tr th:only-of-type {\n        vertical-align: middle;\n    }\n\n    .dataframe tbody tr th {\n        vertical-align: top;\n    }\n\n    .dataframe thead th {\n        text-align: right;\n    }\n</style>\n<table border=\"1\" class=\"dataframe\">\n  <thead>\n    <tr style=\"text-align: right;\">\n      <th></th>\n      <th>age</th>\n      <th>workclass</th>\n      <th>fnlwgt</th>\n      <th>education</th>\n      <th>education_num</th>\n      <th>marital_status</th>\n      <th>occupation</th>\n      <th>relationship</th>\n      <th>race</th>\n      <th>gender</th>\n      <th>capital_gain</th>\n      <th>capital_loss</th>\n      <th>hours_per_week</th>\n      <th>native_country</th>\n      <th>income_bracket</th>\n    </tr>\n  </thead>\n  <tbody>\n    <tr>\n      <th>7372</th>\n      <td>26</td>\n      <td>3.0</td>\n      <td>276624</td>\n      <td>15</td>\n      <td>10</td>\n      <td>2</td>\n      <td>10.0</td>\n      <td>0</td>\n      <td>4</td>\n      <td>1</td>\n      <td>0</td>\n      <td>0</td>\n      <td>40</td>\n      <td>38.0</td>\n      <td>0</td>\n    </tr>\n    <tr>\n      <th>22838</th>\n      <td>58</td>\n      <td>1.0</td>\n      <td>53481</td>\n      <td>12</td>\n      <td>14</td>\n      <td>4</td>\n      <td>9.0</td>\n      <td>1</td>\n      <td>4</td>\n      <td>1</td>\n      <td>0</td>\n      <td>0</td>\n      <td>35</td>\n      <td>38.0</td>\n      <td>0</td>\n    </tr>\n    <tr>\n      <th>16549</th>\n      <td>35</td>\n      <td>3.0</td>\n      <td>112512</td>\n      <td>11</td>\n      <td>9</td>\n      <td>6</td>\n      <td>7.0</td>\n      <td>3</td>\n      <td>4</td>\n      <td>0</td>\n      <td>0</td>\n      <td>0</td>\n      <td>40</td>\n      <td>38.0</td>\n      <td>0</td>\n    </tr>\n    <tr>\n      <th>15536</th>\n      <td>21</td>\n      <td>3.0</td>\n      <td>129674</td>\n      <td>15</td>\n      <td>10</td>\n      <td>4</td>\n      <td>3.0</td>\n      <td>1</td>\n      <td>2</td>\n      <td>1</td>\n      <td>0</td>\n      <td>0</td>\n      <td>48</td>\n      <td>25.0</td>\n      <td>0</td>\n    </tr>\n    <tr>\n      <th>4528</th>\n      <td>28</td>\n      <td>5.0</td>\n      <td>33035</td>\n      <td>2</td>\n      <td>8</td>\n      <td>0</td>\n      <td>7.0</td>\n      <td>4</td>\n      <td>4</td>\n      <td>0</td>\n      <td>0</td>\n      <td>0</td>\n      <td>30</td>\n      <td>38.0</td>\n      <td>0</td>\n    </tr>\n    <tr>\n      <th>23337</th>\n      <td>23</td>\n      <td>3.0</td>\n      <td>267955</td>\n      <td>15</td>\n      <td>10</td>\n      <td>4</td>\n      <td>11.0</td>\n      <td>1</td>\n      <td>4</td>\n      <td>0</td>\n      <td>0</td>\n      <td>0</td>\n      <td>40</td>\n      <td>38.0</td>\n      <td>0</td>\n    </tr>\n    <tr>\n      <th>30425</th>\n      <td>36</td>\n      <td>3.0</td>\n      <td>108320</td>\n      <td>11</td>\n      <td>9</td>\n      <td>0</td>\n      <td>6.0</td>\n      <td>1</td>\n      <td>4</td>\n      <td>1</td>\n      <td>4101</td>\n      <td>0</td>\n      <td>40</td>\n      <td>38.0</td>\n      <td>0</td>\n    </tr>\n    <tr>\n      <th>9131</th>\n      <td>51</td>\n      <td>5.0</td>\n      <td>74160</td>\n      <td>12</td>\n      <td>14</td>\n      <td>0</td>\n      <td>9.0</td>\n      <td>4</td>\n      <td>4</td>\n      <td>1</td>\n      <td>0</td>\n      <td>0</td>\n      <td>60</td>\n      <td>38.0</td>\n      <td>1</td>\n    </tr>\n    <tr>\n      <th>5532</th>\n      <td>42</td>\n      <td>6.0</td>\n      <td>117583</td>\n      <td>10</td>\n      <td>16</td>\n      <td>0</td>\n      <td>9.0</td>\n      <td>1</td>\n      <td>4</td>\n      <td>0</td>\n      <td>8614</td>\n      <td>0</td>\n      <td>60</td>\n      <td>38.0</td>\n      <td>1</td>\n    </tr>\n    <tr>\n      <th>28536</th>\n      <td>38</td>\n      <td>4.0</td>\n      <td>140854</td>\n      <td>9</td>\n      <td>13</td>\n      <td>2</td>\n      <td>2.0</td>\n      <td>0</td>\n      <td>4</td>\n      <td>1</td>\n      <td>0</td>\n      <td>0</td>\n      <td>50</td>\n      <td>38.0</td>\n      <td>1</td>\n    </tr>\n  </tbody>\n</table>\n</div>"
     },
     "execution_count": 7,
     "metadata": {},
     "output_type": "execute_result"
    }
   ],
   "source": [
    "train_data.sample(10)"
   ]
  },
  {
   "cell_type": "code",
   "execution_count": 8,
   "metadata": {
    "ExecuteTime": {
     "start_time": "2023-04-04T16:46:48.581231Z",
     "end_time": "2023-04-04T16:46:48.646713Z"
    }
   },
   "outputs": [
    {
     "data": {
      "text/plain": "      age  workclass    fnlwgt  education  education_num  marital_status  \\\n15858  49        3.0   27614.0         11            9.0               5   \n11202  61        NaN  149855.0          5            4.0               2   \n6869   26        1.0  176756.0         11            9.0               2   \n3751   46        3.0  171335.0         15           10.0               0   \n11590  50        3.0  178251.0         12           14.0               2   \n11507  28        3.0  202222.0          9           13.0               4   \n11691  49        3.0  220978.0         11            9.0               2   \n5610   25        1.0  187792.0         15           10.0               0   \n7429   37        3.0  215618.0          9           13.0               2   \n4598   47        NaN  127441.0         15           10.0               0   \n\n       occupation  relationship  race  gender  capital_gain  capital_loss  \\\n15858         6.0             1     4       0           0.0           0.0   \n11202         NaN             0     4       1           0.0        2057.0   \n6869         12.0             0     4       1           0.0           0.0   \n3751          3.0             1     4       1           0.0           0.0   \n11590         0.0             5     4       0           0.0           0.0   \n11507        11.0             1     4       1           0.0           0.0   \n11691         2.0             0     4       1           0.0           0.0   \n5610         10.0             1     4       0           0.0           0.0   \n7429          3.0             0     4       1           0.0           0.0   \n4598          NaN             4     4       0           0.0           0.0   \n\n       hours_per_week  native_country  income_bracket  \n15858            40.0            38.0               0  \n11202            70.0            38.0               0  \n6869             75.0            38.0               1  \n3751             40.0            38.0               0  \n11590            40.0            38.0               1  \n11507            40.0            38.0               0  \n11691            44.0            38.0               0  \n5610             40.0            38.0               0  \n7429             40.0            38.0               1  \n4598             42.0            38.0               0  ",
      "text/html": "<div>\n<style scoped>\n    .dataframe tbody tr th:only-of-type {\n        vertical-align: middle;\n    }\n\n    .dataframe tbody tr th {\n        vertical-align: top;\n    }\n\n    .dataframe thead th {\n        text-align: right;\n    }\n</style>\n<table border=\"1\" class=\"dataframe\">\n  <thead>\n    <tr style=\"text-align: right;\">\n      <th></th>\n      <th>age</th>\n      <th>workclass</th>\n      <th>fnlwgt</th>\n      <th>education</th>\n      <th>education_num</th>\n      <th>marital_status</th>\n      <th>occupation</th>\n      <th>relationship</th>\n      <th>race</th>\n      <th>gender</th>\n      <th>capital_gain</th>\n      <th>capital_loss</th>\n      <th>hours_per_week</th>\n      <th>native_country</th>\n      <th>income_bracket</th>\n    </tr>\n  </thead>\n  <tbody>\n    <tr>\n      <th>15858</th>\n      <td>49</td>\n      <td>3.0</td>\n      <td>27614.0</td>\n      <td>11</td>\n      <td>9.0</td>\n      <td>5</td>\n      <td>6.0</td>\n      <td>1</td>\n      <td>4</td>\n      <td>0</td>\n      <td>0.0</td>\n      <td>0.0</td>\n      <td>40.0</td>\n      <td>38.0</td>\n      <td>0</td>\n    </tr>\n    <tr>\n      <th>11202</th>\n      <td>61</td>\n      <td>NaN</td>\n      <td>149855.0</td>\n      <td>5</td>\n      <td>4.0</td>\n      <td>2</td>\n      <td>NaN</td>\n      <td>0</td>\n      <td>4</td>\n      <td>1</td>\n      <td>0.0</td>\n      <td>2057.0</td>\n      <td>70.0</td>\n      <td>38.0</td>\n      <td>0</td>\n    </tr>\n    <tr>\n      <th>6869</th>\n      <td>26</td>\n      <td>1.0</td>\n      <td>176756.0</td>\n      <td>11</td>\n      <td>9.0</td>\n      <td>2</td>\n      <td>12.0</td>\n      <td>0</td>\n      <td>4</td>\n      <td>1</td>\n      <td>0.0</td>\n      <td>0.0</td>\n      <td>75.0</td>\n      <td>38.0</td>\n      <td>1</td>\n    </tr>\n    <tr>\n      <th>3751</th>\n      <td>46</td>\n      <td>3.0</td>\n      <td>171335.0</td>\n      <td>15</td>\n      <td>10.0</td>\n      <td>0</td>\n      <td>3.0</td>\n      <td>1</td>\n      <td>4</td>\n      <td>1</td>\n      <td>0.0</td>\n      <td>0.0</td>\n      <td>40.0</td>\n      <td>38.0</td>\n      <td>0</td>\n    </tr>\n    <tr>\n      <th>11590</th>\n      <td>50</td>\n      <td>3.0</td>\n      <td>178251.0</td>\n      <td>12</td>\n      <td>14.0</td>\n      <td>2</td>\n      <td>0.0</td>\n      <td>5</td>\n      <td>4</td>\n      <td>0</td>\n      <td>0.0</td>\n      <td>0.0</td>\n      <td>40.0</td>\n      <td>38.0</td>\n      <td>1</td>\n    </tr>\n    <tr>\n      <th>11507</th>\n      <td>28</td>\n      <td>3.0</td>\n      <td>202222.0</td>\n      <td>9</td>\n      <td>13.0</td>\n      <td>4</td>\n      <td>11.0</td>\n      <td>1</td>\n      <td>4</td>\n      <td>1</td>\n      <td>0.0</td>\n      <td>0.0</td>\n      <td>40.0</td>\n      <td>38.0</td>\n      <td>0</td>\n    </tr>\n    <tr>\n      <th>11691</th>\n      <td>49</td>\n      <td>3.0</td>\n      <td>220978.0</td>\n      <td>11</td>\n      <td>9.0</td>\n      <td>2</td>\n      <td>2.0</td>\n      <td>0</td>\n      <td>4</td>\n      <td>1</td>\n      <td>0.0</td>\n      <td>0.0</td>\n      <td>44.0</td>\n      <td>38.0</td>\n      <td>0</td>\n    </tr>\n    <tr>\n      <th>5610</th>\n      <td>25</td>\n      <td>1.0</td>\n      <td>187792.0</td>\n      <td>15</td>\n      <td>10.0</td>\n      <td>0</td>\n      <td>10.0</td>\n      <td>1</td>\n      <td>4</td>\n      <td>0</td>\n      <td>0.0</td>\n      <td>0.0</td>\n      <td>40.0</td>\n      <td>38.0</td>\n      <td>0</td>\n    </tr>\n    <tr>\n      <th>7429</th>\n      <td>37</td>\n      <td>3.0</td>\n      <td>215618.0</td>\n      <td>9</td>\n      <td>13.0</td>\n      <td>2</td>\n      <td>3.0</td>\n      <td>0</td>\n      <td>4</td>\n      <td>1</td>\n      <td>0.0</td>\n      <td>0.0</td>\n      <td>40.0</td>\n      <td>38.0</td>\n      <td>1</td>\n    </tr>\n    <tr>\n      <th>4598</th>\n      <td>47</td>\n      <td>NaN</td>\n      <td>127441.0</td>\n      <td>15</td>\n      <td>10.0</td>\n      <td>0</td>\n      <td>NaN</td>\n      <td>4</td>\n      <td>4</td>\n      <td>0</td>\n      <td>0.0</td>\n      <td>0.0</td>\n      <td>42.0</td>\n      <td>38.0</td>\n      <td>0</td>\n    </tr>\n  </tbody>\n</table>\n</div>"
     },
     "execution_count": 8,
     "metadata": {},
     "output_type": "execute_result"
    }
   ],
   "source": [
    "test_data.sample(10)"
   ]
  },
  {
   "cell_type": "code",
   "execution_count": 9,
   "metadata": {
    "ExecuteTime": {
     "start_time": "2023-04-04T16:46:48.582239Z",
     "end_time": "2023-04-04T16:46:48.647210Z"
    }
   },
   "outputs": [
    {
     "data": {
      "text/plain": "age                  0\nworkclass         1836\nfnlwgt               0\neducation            0\neducation_num        0\nmarital_status       0\noccupation        1843\nrelationship         0\nrace                 0\ngender               0\ncapital_gain         0\ncapital_loss         0\nhours_per_week       0\nnative_country     583\nincome_bracket       0\ndtype: int64"
     },
     "execution_count": 9,
     "metadata": {},
     "output_type": "execute_result"
    }
   ],
   "source": [
    "train_data.isnull().sum()"
   ]
  },
  {
   "cell_type": "code",
   "execution_count": 10,
   "metadata": {
    "ExecuteTime": {
     "start_time": "2023-04-04T16:46:48.582307Z",
     "end_time": "2023-04-04T16:46:48.778566Z"
    }
   },
   "outputs": [
    {
     "data": {
      "text/plain": "       age  workclass  fnlwgt  education  education_num  marital_status  \\\n4881    25        3.0  308144          9             13               4   \n5104    90        3.0   52386         15             10               4   \n9171    21        3.0  250051         15             10               4   \n11631   20        3.0  107658         15             10               4   \n13084   25        3.0  195994          3              2               4   \n15059   21        3.0  243368         13              1               4   \n17040   46        3.0  173243         11              9               2   \n18555   30        3.0  144593         11              9               4   \n18698   19        3.0   97261         11              9               4   \n21318   19        3.0  138153         15             10               4   \n21490   19        3.0  146679         15             10               4   \n21875   49        3.0   31267          5              4               2   \n22300   25        3.0  195994          3              2               4   \n22367   44        3.0  367749          9             13               4   \n22494   49        5.0   43479         15             10               2   \n25872   23        3.0  240137          4              3               4   \n26313   28        3.0  274679         12             14               4   \n28230   27        3.0  255582         11              9               4   \n28522   42        3.0  204235         15             10               2   \n28846   39        3.0   30916         11              9               2   \n29157   38        3.0  207202         11              9               2   \n30845   46        3.0  133616         15             10               0   \n31993   19        3.0  251579         15             10               4   \n32404   35        3.0  379959         11              9               0   \n\n       occupation  relationship  race  gender  capital_gain  capital_loss  \\\n4881          2.0             1     4       1             0             0   \n5104          7.0             1     1       1             0             0   \n9171          9.0             3     4       0             0             0   \n11631        12.0             1     4       0             0             0   \n13084         8.0             1     4       0             0             0   \n15059         4.0             1     4       1             0             0   \n17040         2.0             0     4       1             0             0   \n18555         7.0             1     2       1             0             0   \n18698         4.0             1     4       1             0             0   \n21318         0.0             3     4       0             0             0   \n21490         3.0             3     2       1             0             0   \n21875         2.0             0     4       1             0             0   \n22300         8.0             1     4       0             0             0   \n22367         9.0             1     4       0             0             0   \n22494         2.0             0     4       1             0             0   \n25872         5.0             1     4       1             0             0   \n26313         9.0             1     4       1             0             0   \n28230         6.0             1     4       0             0             0   \n28522         9.0             0     4       1             0             0   \n28846         2.0             0     4       1             0             0   \n29157         6.0             0     4       1             0             0   \n30845         0.0             4     4       0             0             0   \n31993         7.0             3     4       1             0             0   \n32404         7.0             1     4       0             0             0   \n\n       hours_per_week  native_country  income_bracket  \n4881               40            25.0               0  \n5104               35            38.0               0  \n9171               10            38.0               0  \n11631              10            38.0               0  \n13084              40            12.0               0  \n15059              50            25.0               0  \n17040              40            38.0               0  \n18555              40             NaN               0  \n18698              40            38.0               0  \n21318              10            38.0               0  \n21490              30            38.0               0  \n21875              40            38.0               0  \n22300              40            12.0               0  \n22367              45            25.0               0  \n22494              40            38.0               0  \n25872              55            25.0               0  \n26313              50            38.0               0  \n28230              40            38.0               0  \n28522              40            38.0               1  \n28846              40            38.0               0  \n29157              48            38.0               1  \n30845              40            38.0               0  \n31993              14            38.0               0  \n32404              40            38.0               0  ",
      "text/html": "<div>\n<style scoped>\n    .dataframe tbody tr th:only-of-type {\n        vertical-align: middle;\n    }\n\n    .dataframe tbody tr th {\n        vertical-align: top;\n    }\n\n    .dataframe thead th {\n        text-align: right;\n    }\n</style>\n<table border=\"1\" class=\"dataframe\">\n  <thead>\n    <tr style=\"text-align: right;\">\n      <th></th>\n      <th>age</th>\n      <th>workclass</th>\n      <th>fnlwgt</th>\n      <th>education</th>\n      <th>education_num</th>\n      <th>marital_status</th>\n      <th>occupation</th>\n      <th>relationship</th>\n      <th>race</th>\n      <th>gender</th>\n      <th>capital_gain</th>\n      <th>capital_loss</th>\n      <th>hours_per_week</th>\n      <th>native_country</th>\n      <th>income_bracket</th>\n    </tr>\n  </thead>\n  <tbody>\n    <tr>\n      <th>4881</th>\n      <td>25</td>\n      <td>3.0</td>\n      <td>308144</td>\n      <td>9</td>\n      <td>13</td>\n      <td>4</td>\n      <td>2.0</td>\n      <td>1</td>\n      <td>4</td>\n      <td>1</td>\n      <td>0</td>\n      <td>0</td>\n      <td>40</td>\n      <td>25.0</td>\n      <td>0</td>\n    </tr>\n    <tr>\n      <th>5104</th>\n      <td>90</td>\n      <td>3.0</td>\n      <td>52386</td>\n      <td>15</td>\n      <td>10</td>\n      <td>4</td>\n      <td>7.0</td>\n      <td>1</td>\n      <td>1</td>\n      <td>1</td>\n      <td>0</td>\n      <td>0</td>\n      <td>35</td>\n      <td>38.0</td>\n      <td>0</td>\n    </tr>\n    <tr>\n      <th>9171</th>\n      <td>21</td>\n      <td>3.0</td>\n      <td>250051</td>\n      <td>15</td>\n      <td>10</td>\n      <td>4</td>\n      <td>9.0</td>\n      <td>3</td>\n      <td>4</td>\n      <td>0</td>\n      <td>0</td>\n      <td>0</td>\n      <td>10</td>\n      <td>38.0</td>\n      <td>0</td>\n    </tr>\n    <tr>\n      <th>11631</th>\n      <td>20</td>\n      <td>3.0</td>\n      <td>107658</td>\n      <td>15</td>\n      <td>10</td>\n      <td>4</td>\n      <td>12.0</td>\n      <td>1</td>\n      <td>4</td>\n      <td>0</td>\n      <td>0</td>\n      <td>0</td>\n      <td>10</td>\n      <td>38.0</td>\n      <td>0</td>\n    </tr>\n    <tr>\n      <th>13084</th>\n      <td>25</td>\n      <td>3.0</td>\n      <td>195994</td>\n      <td>3</td>\n      <td>2</td>\n      <td>4</td>\n      <td>8.0</td>\n      <td>1</td>\n      <td>4</td>\n      <td>0</td>\n      <td>0</td>\n      <td>0</td>\n      <td>40</td>\n      <td>12.0</td>\n      <td>0</td>\n    </tr>\n    <tr>\n      <th>15059</th>\n      <td>21</td>\n      <td>3.0</td>\n      <td>243368</td>\n      <td>13</td>\n      <td>1</td>\n      <td>4</td>\n      <td>4.0</td>\n      <td>1</td>\n      <td>4</td>\n      <td>1</td>\n      <td>0</td>\n      <td>0</td>\n      <td>50</td>\n      <td>25.0</td>\n      <td>0</td>\n    </tr>\n    <tr>\n      <th>17040</th>\n      <td>46</td>\n      <td>3.0</td>\n      <td>173243</td>\n      <td>11</td>\n      <td>9</td>\n      <td>2</td>\n      <td>2.0</td>\n      <td>0</td>\n      <td>4</td>\n      <td>1</td>\n      <td>0</td>\n      <td>0</td>\n      <td>40</td>\n      <td>38.0</td>\n      <td>0</td>\n    </tr>\n    <tr>\n      <th>18555</th>\n      <td>30</td>\n      <td>3.0</td>\n      <td>144593</td>\n      <td>11</td>\n      <td>9</td>\n      <td>4</td>\n      <td>7.0</td>\n      <td>1</td>\n      <td>2</td>\n      <td>1</td>\n      <td>0</td>\n      <td>0</td>\n      <td>40</td>\n      <td>NaN</td>\n      <td>0</td>\n    </tr>\n    <tr>\n      <th>18698</th>\n      <td>19</td>\n      <td>3.0</td>\n      <td>97261</td>\n      <td>11</td>\n      <td>9</td>\n      <td>4</td>\n      <td>4.0</td>\n      <td>1</td>\n      <td>4</td>\n      <td>1</td>\n      <td>0</td>\n      <td>0</td>\n      <td>40</td>\n      <td>38.0</td>\n      <td>0</td>\n    </tr>\n    <tr>\n      <th>21318</th>\n      <td>19</td>\n      <td>3.0</td>\n      <td>138153</td>\n      <td>15</td>\n      <td>10</td>\n      <td>4</td>\n      <td>0.0</td>\n      <td>3</td>\n      <td>4</td>\n      <td>0</td>\n      <td>0</td>\n      <td>0</td>\n      <td>10</td>\n      <td>38.0</td>\n      <td>0</td>\n    </tr>\n    <tr>\n      <th>21490</th>\n      <td>19</td>\n      <td>3.0</td>\n      <td>146679</td>\n      <td>15</td>\n      <td>10</td>\n      <td>4</td>\n      <td>3.0</td>\n      <td>3</td>\n      <td>2</td>\n      <td>1</td>\n      <td>0</td>\n      <td>0</td>\n      <td>30</td>\n      <td>38.0</td>\n      <td>0</td>\n    </tr>\n    <tr>\n      <th>21875</th>\n      <td>49</td>\n      <td>3.0</td>\n      <td>31267</td>\n      <td>5</td>\n      <td>4</td>\n      <td>2</td>\n      <td>2.0</td>\n      <td>0</td>\n      <td>4</td>\n      <td>1</td>\n      <td>0</td>\n      <td>0</td>\n      <td>40</td>\n      <td>38.0</td>\n      <td>0</td>\n    </tr>\n    <tr>\n      <th>22300</th>\n      <td>25</td>\n      <td>3.0</td>\n      <td>195994</td>\n      <td>3</td>\n      <td>2</td>\n      <td>4</td>\n      <td>8.0</td>\n      <td>1</td>\n      <td>4</td>\n      <td>0</td>\n      <td>0</td>\n      <td>0</td>\n      <td>40</td>\n      <td>12.0</td>\n      <td>0</td>\n    </tr>\n    <tr>\n      <th>22367</th>\n      <td>44</td>\n      <td>3.0</td>\n      <td>367749</td>\n      <td>9</td>\n      <td>13</td>\n      <td>4</td>\n      <td>9.0</td>\n      <td>1</td>\n      <td>4</td>\n      <td>0</td>\n      <td>0</td>\n      <td>0</td>\n      <td>45</td>\n      <td>25.0</td>\n      <td>0</td>\n    </tr>\n    <tr>\n      <th>22494</th>\n      <td>49</td>\n      <td>5.0</td>\n      <td>43479</td>\n      <td>15</td>\n      <td>10</td>\n      <td>2</td>\n      <td>2.0</td>\n      <td>0</td>\n      <td>4</td>\n      <td>1</td>\n      <td>0</td>\n      <td>0</td>\n      <td>40</td>\n      <td>38.0</td>\n      <td>0</td>\n    </tr>\n    <tr>\n      <th>25872</th>\n      <td>23</td>\n      <td>3.0</td>\n      <td>240137</td>\n      <td>4</td>\n      <td>3</td>\n      <td>4</td>\n      <td>5.0</td>\n      <td>1</td>\n      <td>4</td>\n      <td>1</td>\n      <td>0</td>\n      <td>0</td>\n      <td>55</td>\n      <td>25.0</td>\n      <td>0</td>\n    </tr>\n    <tr>\n      <th>26313</th>\n      <td>28</td>\n      <td>3.0</td>\n      <td>274679</td>\n      <td>12</td>\n      <td>14</td>\n      <td>4</td>\n      <td>9.0</td>\n      <td>1</td>\n      <td>4</td>\n      <td>1</td>\n      <td>0</td>\n      <td>0</td>\n      <td>50</td>\n      <td>38.0</td>\n      <td>0</td>\n    </tr>\n    <tr>\n      <th>28230</th>\n      <td>27</td>\n      <td>3.0</td>\n      <td>255582</td>\n      <td>11</td>\n      <td>9</td>\n      <td>4</td>\n      <td>6.0</td>\n      <td>1</td>\n      <td>4</td>\n      <td>0</td>\n      <td>0</td>\n      <td>0</td>\n      <td>40</td>\n      <td>38.0</td>\n      <td>0</td>\n    </tr>\n    <tr>\n      <th>28522</th>\n      <td>42</td>\n      <td>3.0</td>\n      <td>204235</td>\n      <td>15</td>\n      <td>10</td>\n      <td>2</td>\n      <td>9.0</td>\n      <td>0</td>\n      <td>4</td>\n      <td>1</td>\n      <td>0</td>\n      <td>0</td>\n      <td>40</td>\n      <td>38.0</td>\n      <td>1</td>\n    </tr>\n    <tr>\n      <th>28846</th>\n      <td>39</td>\n      <td>3.0</td>\n      <td>30916</td>\n      <td>11</td>\n      <td>9</td>\n      <td>2</td>\n      <td>2.0</td>\n      <td>0</td>\n      <td>4</td>\n      <td>1</td>\n      <td>0</td>\n      <td>0</td>\n      <td>40</td>\n      <td>38.0</td>\n      <td>0</td>\n    </tr>\n    <tr>\n      <th>29157</th>\n      <td>38</td>\n      <td>3.0</td>\n      <td>207202</td>\n      <td>11</td>\n      <td>9</td>\n      <td>2</td>\n      <td>6.0</td>\n      <td>0</td>\n      <td>4</td>\n      <td>1</td>\n      <td>0</td>\n      <td>0</td>\n      <td>48</td>\n      <td>38.0</td>\n      <td>1</td>\n    </tr>\n    <tr>\n      <th>30845</th>\n      <td>46</td>\n      <td>3.0</td>\n      <td>133616</td>\n      <td>15</td>\n      <td>10</td>\n      <td>0</td>\n      <td>0.0</td>\n      <td>4</td>\n      <td>4</td>\n      <td>0</td>\n      <td>0</td>\n      <td>0</td>\n      <td>40</td>\n      <td>38.0</td>\n      <td>0</td>\n    </tr>\n    <tr>\n      <th>31993</th>\n      <td>19</td>\n      <td>3.0</td>\n      <td>251579</td>\n      <td>15</td>\n      <td>10</td>\n      <td>4</td>\n      <td>7.0</td>\n      <td>3</td>\n      <td>4</td>\n      <td>1</td>\n      <td>0</td>\n      <td>0</td>\n      <td>14</td>\n      <td>38.0</td>\n      <td>0</td>\n    </tr>\n    <tr>\n      <th>32404</th>\n      <td>35</td>\n      <td>3.0</td>\n      <td>379959</td>\n      <td>11</td>\n      <td>9</td>\n      <td>0</td>\n      <td>7.0</td>\n      <td>1</td>\n      <td>4</td>\n      <td>0</td>\n      <td>0</td>\n      <td>0</td>\n      <td>40</td>\n      <td>38.0</td>\n      <td>0</td>\n    </tr>\n  </tbody>\n</table>\n</div>"
     },
     "execution_count": 10,
     "metadata": {},
     "output_type": "execute_result"
    }
   ],
   "source": [
    "train_data[train_data.duplicated() == True]"
   ]
  },
  {
   "cell_type": "code",
   "execution_count": 11,
   "outputs": [],
   "source": [
    "train_data.drop_duplicates(inplace=True)"
   ],
   "metadata": {
    "collapsed": false,
    "ExecuteTime": {
     "start_time": "2023-04-04T16:46:48.705990Z",
     "end_time": "2023-04-04T16:46:48.816349Z"
    }
   }
  },
  {
   "cell_type": "code",
   "execution_count": 12,
   "metadata": {
    "ExecuteTime": {
     "start_time": "2023-04-04T16:46:48.729136Z",
     "end_time": "2023-04-04T16:46:48.817348Z"
    }
   },
   "outputs": [
    {
     "data": {
      "text/plain": "                age     workclass        fnlwgt     education  education_num  \\\ncount  32537.000000  30701.000000  3.253700e+04  32537.000000   32537.000000   \nmean      38.585549      3.100094  1.897808e+05     10.297507      10.081815   \nstd       13.637984      1.139938  1.055565e+05      3.870142       2.571633   \nmin       17.000000      0.000000  1.228500e+04      0.000000       1.000000   \n25%       28.000000      3.000000  1.178270e+05      9.000000       9.000000   \n50%       37.000000      3.000000  1.783560e+05     11.000000      10.000000   \n75%       48.000000      3.000000  2.369930e+05     12.000000      12.000000   \nmax       90.000000      7.000000  1.484705e+06     15.000000      16.000000   \n\n       marital_status    occupation  relationship          race        gender  \\\ncount    32537.000000  30694.000000  32537.000000  32537.000000  32537.000000   \nmean         2.611427      5.967518      1.446538      3.665827      0.669238   \nstd          1.506301      4.026549      1.607064      0.848847      0.470495   \nmin          0.000000      0.000000      0.000000      0.000000      0.000000   \n25%          2.000000      2.000000      0.000000      4.000000      0.000000   \n50%          2.000000      6.000000      1.000000      4.000000      1.000000   \n75%          4.000000      9.000000      3.000000      4.000000      1.000000   \nmax          6.000000     13.000000      5.000000      4.000000      1.000000   \n\n       capital_gain  capital_loss  hours_per_week  native_country  \\\ncount  32537.000000  32537.000000    32537.000000    31955.000000   \nmean    1078.443741     87.368227       40.440329       36.390393   \nstd     7387.957424    403.101833       12.346889        6.104904   \nmin        0.000000      0.000000        1.000000        0.000000   \n25%        0.000000      0.000000       40.000000       38.000000   \n50%        0.000000      0.000000       40.000000       38.000000   \n75%        0.000000      0.000000       45.000000       38.000000   \nmax    99999.000000   4356.000000       99.000000       40.000000   \n\n       income_bracket  \ncount    32537.000000  \nmean         0.240926  \nstd          0.427652  \nmin          0.000000  \n25%          0.000000  \n50%          0.000000  \n75%          0.000000  \nmax          1.000000  ",
      "text/html": "<div>\n<style scoped>\n    .dataframe tbody tr th:only-of-type {\n        vertical-align: middle;\n    }\n\n    .dataframe tbody tr th {\n        vertical-align: top;\n    }\n\n    .dataframe thead th {\n        text-align: right;\n    }\n</style>\n<table border=\"1\" class=\"dataframe\">\n  <thead>\n    <tr style=\"text-align: right;\">\n      <th></th>\n      <th>age</th>\n      <th>workclass</th>\n      <th>fnlwgt</th>\n      <th>education</th>\n      <th>education_num</th>\n      <th>marital_status</th>\n      <th>occupation</th>\n      <th>relationship</th>\n      <th>race</th>\n      <th>gender</th>\n      <th>capital_gain</th>\n      <th>capital_loss</th>\n      <th>hours_per_week</th>\n      <th>native_country</th>\n      <th>income_bracket</th>\n    </tr>\n  </thead>\n  <tbody>\n    <tr>\n      <th>count</th>\n      <td>32537.000000</td>\n      <td>30701.000000</td>\n      <td>3.253700e+04</td>\n      <td>32537.000000</td>\n      <td>32537.000000</td>\n      <td>32537.000000</td>\n      <td>30694.000000</td>\n      <td>32537.000000</td>\n      <td>32537.000000</td>\n      <td>32537.000000</td>\n      <td>32537.000000</td>\n      <td>32537.000000</td>\n      <td>32537.000000</td>\n      <td>31955.000000</td>\n      <td>32537.000000</td>\n    </tr>\n    <tr>\n      <th>mean</th>\n      <td>38.585549</td>\n      <td>3.100094</td>\n      <td>1.897808e+05</td>\n      <td>10.297507</td>\n      <td>10.081815</td>\n      <td>2.611427</td>\n      <td>5.967518</td>\n      <td>1.446538</td>\n      <td>3.665827</td>\n      <td>0.669238</td>\n      <td>1078.443741</td>\n      <td>87.368227</td>\n      <td>40.440329</td>\n      <td>36.390393</td>\n      <td>0.240926</td>\n    </tr>\n    <tr>\n      <th>std</th>\n      <td>13.637984</td>\n      <td>1.139938</td>\n      <td>1.055565e+05</td>\n      <td>3.870142</td>\n      <td>2.571633</td>\n      <td>1.506301</td>\n      <td>4.026549</td>\n      <td>1.607064</td>\n      <td>0.848847</td>\n      <td>0.470495</td>\n      <td>7387.957424</td>\n      <td>403.101833</td>\n      <td>12.346889</td>\n      <td>6.104904</td>\n      <td>0.427652</td>\n    </tr>\n    <tr>\n      <th>min</th>\n      <td>17.000000</td>\n      <td>0.000000</td>\n      <td>1.228500e+04</td>\n      <td>0.000000</td>\n      <td>1.000000</td>\n      <td>0.000000</td>\n      <td>0.000000</td>\n      <td>0.000000</td>\n      <td>0.000000</td>\n      <td>0.000000</td>\n      <td>0.000000</td>\n      <td>0.000000</td>\n      <td>1.000000</td>\n      <td>0.000000</td>\n      <td>0.000000</td>\n    </tr>\n    <tr>\n      <th>25%</th>\n      <td>28.000000</td>\n      <td>3.000000</td>\n      <td>1.178270e+05</td>\n      <td>9.000000</td>\n      <td>9.000000</td>\n      <td>2.000000</td>\n      <td>2.000000</td>\n      <td>0.000000</td>\n      <td>4.000000</td>\n      <td>0.000000</td>\n      <td>0.000000</td>\n      <td>0.000000</td>\n      <td>40.000000</td>\n      <td>38.000000</td>\n      <td>0.000000</td>\n    </tr>\n    <tr>\n      <th>50%</th>\n      <td>37.000000</td>\n      <td>3.000000</td>\n      <td>1.783560e+05</td>\n      <td>11.000000</td>\n      <td>10.000000</td>\n      <td>2.000000</td>\n      <td>6.000000</td>\n      <td>1.000000</td>\n      <td>4.000000</td>\n      <td>1.000000</td>\n      <td>0.000000</td>\n      <td>0.000000</td>\n      <td>40.000000</td>\n      <td>38.000000</td>\n      <td>0.000000</td>\n    </tr>\n    <tr>\n      <th>75%</th>\n      <td>48.000000</td>\n      <td>3.000000</td>\n      <td>2.369930e+05</td>\n      <td>12.000000</td>\n      <td>12.000000</td>\n      <td>4.000000</td>\n      <td>9.000000</td>\n      <td>3.000000</td>\n      <td>4.000000</td>\n      <td>1.000000</td>\n      <td>0.000000</td>\n      <td>0.000000</td>\n      <td>45.000000</td>\n      <td>38.000000</td>\n      <td>0.000000</td>\n    </tr>\n    <tr>\n      <th>max</th>\n      <td>90.000000</td>\n      <td>7.000000</td>\n      <td>1.484705e+06</td>\n      <td>15.000000</td>\n      <td>16.000000</td>\n      <td>6.000000</td>\n      <td>13.000000</td>\n      <td>5.000000</td>\n      <td>4.000000</td>\n      <td>1.000000</td>\n      <td>99999.000000</td>\n      <td>4356.000000</td>\n      <td>99.000000</td>\n      <td>40.000000</td>\n      <td>1.000000</td>\n    </tr>\n  </tbody>\n</table>\n</div>"
     },
     "execution_count": 12,
     "metadata": {},
     "output_type": "execute_result"
    }
   ],
   "source": [
    "train_data.describe()"
   ]
  },
  {
   "cell_type": "code",
   "execution_count": 13,
   "metadata": {
    "ExecuteTime": {
     "start_time": "2023-04-04T16:46:48.729136Z",
     "end_time": "2023-04-04T16:46:49.200013Z"
    }
   },
   "outputs": [
    {
     "data": {
      "text/plain": "Text(0.5, 1.0, 'Correlation Heatmap')"
     },
     "execution_count": 13,
     "metadata": {},
     "output_type": "execute_result"
    },
    {
     "data": {
      "text/plain": "<Figure size 432x360 with 2 Axes>",
      "image/png": "[encoded data removed]"
     },
     "metadata": {
      "needs_background": "light"
     },
     "output_type": "display_data"
    }
   ],
   "source": [
    "plt.figure(figsize=(6,5))\n",
    "sns.heatmap(train_data.corr(), cmap='coolwarm')\n",
    "plt.title('Correlation Heatmap')"
   ]
  },
  {
   "cell_type": "code",
   "execution_count": 14,
   "metadata": {
    "ExecuteTime": {
     "start_time": "2023-04-04T16:46:49.202521Z",
     "end_time": "2023-04-04T16:46:49.209055Z"
    }
   },
   "outputs": [
    {
     "data": {
      "text/plain": "3.1506569715524937"
     },
     "execution_count": 14,
     "metadata": {},
     "output_type": "execute_result"
    }
   ],
   "source": [
    "counts = np.bincount(train_data[\"income_bracket\"])\n",
    "class_weight = {\n",
    "    0: counts[0] / train_data.shape[0],\n",
    "    1: counts[1] / train_data.shape[0]\n",
    "}\n",
    "scale_pos_weight = class_weight[0]/class_weight[1]\n",
    "scale_pos_weight"
   ]
  },
  {
   "cell_type": "code",
   "execution_count": 15,
   "metadata": {
    "ExecuteTime": {
     "start_time": "2023-04-04T16:46:49.211068Z",
     "end_time": "2023-04-04T16:46:49.214618Z"
    }
   },
   "outputs": [],
   "source": [
    "X_train = train_data.drop(columns=[\"income_bracket\"], axis=1)\n",
    "y_train = train_data[\"income_bracket\"]\n",
    "X_test = test_data.drop(columns=[\"income_bracket\"], axis=1)\n",
    "y_test = test_data[\"income_bracket\"]"
   ]
  },
  {
   "cell_type": "code",
   "execution_count": 16,
   "metadata": {
    "ExecuteTime": {
     "start_time": "2023-04-04T16:46:49.214618Z",
     "end_time": "2023-04-04T16:46:54.606059Z"
    }
   },
   "outputs": [],
   "source": [
    "start = time.time()\n",
    "model = xgb.XGBClassifier(scale_pos_weight=scale_pos_weight, n_estimators=350, learning_rate=0.13)\n",
    "model = model.fit(X_train, y_train)"
   ]
  },
  {
   "cell_type": "code",
   "execution_count": 17,
   "metadata": {
    "ExecuteTime": {
     "start_time": "2023-04-04T16:46:54.610006Z",
     "end_time": "2023-04-04T16:46:54.687521Z"
    }
   },
   "outputs": [
    {
     "name": "stdout",
     "output_type": "stream",
     "text": [
      "F1 score: 0.7170317389360751\n",
      "Accuracy: 0.8444812972176157\n",
      "Training time: 5.498104572296143s\n"
     ]
    }
   ],
   "source": [
    "y_pred = model.predict(X_test.values)\n",
    "print(f\"F1 score: {f1_score(y_test, y_pred)}\")\n",
    "print(f\"Accuracy: {accuracy_score(y_test, y_pred)}\")\n",
    "end = time.time()\n",
    "print(f\"Training time: {end - start}s\")"
   ]
  }
 ],
 "metadata": {
  "kernelspec": {
   "display_name": "Python 3 (ipykernel)",
   "language": "python",
   "name": "python3"
  },
  "language_info": {
   "codemirror_mode": {
    "name": "ipython",
    "version": 3
   },
   "file_extension": ".py",
   "mimetype": "text/x-python",
   "name": "python",
   "nbconvert_exporter": "python",
   "pygments_lexer": "ipython3",
   "version": "3.10.9"
  },
  "orig_nbformat": 4
 },
 "nbformat": 4,
 "nbformat_minor": 2
}
