{
 "cells": [
  {
   "cell_type": "code",
   "execution_count": 1,
   "metadata": {
    "ExecuteTime": {
     "start_time": "2023-04-08T22:16:18.375455Z",
     "end_time": "2023-04-08T22:16:19.569213Z"
    }
   },
   "outputs": [],
   "source": [
    "import lightgbm as lgb\n",
    "import numpy as np\n",
    "import pandas as pd\n",
    "from sklearn.model_selection import cross_val_score\n",
    "import time"
   ]
  },
  {
   "cell_type": "code",
   "execution_count": 2,
   "metadata": {
    "ExecuteTime": {
     "start_time": "2023-04-08T22:16:19.631505Z",
     "end_time": "2023-04-08T22:16:22.920250Z"
    }
   },
   "outputs": [],
   "source": [
    "df = pd.read_csv(\"cc-fraud/creditcard.csv\")"
   ]
  },
  {
   "cell_type": "code",
   "execution_count": 3,
   "metadata": {
    "ExecuteTime": {
     "start_time": "2023-04-08T22:16:22.919785Z",
     "end_time": "2023-04-08T22:16:23.214484Z"
    }
   },
   "outputs": [
    {
     "data": {
      "text/plain": "            Time        V1        V2        V3        V4        V5        V6  \\\n223278  143322.0  1.743591 -1.276207 -1.703568 -0.551499  0.182804  0.993246   \n145565   87054.0 -1.205241 -0.130198 -1.346397 -2.372208  1.553399 -1.777034   \n36813    38696.0 -2.109662 -1.044721  2.315128 -0.269519  0.918316 -0.860468   \n98424    66657.0 -0.858823  0.928831  1.638651 -0.535640  0.327566 -0.859982   \n224727  143934.0 -5.718998 -5.788360 -0.220737  0.324390  5.280846 -3.567975   \n76439    56571.0 -0.693223  0.624702  1.745828 -0.819360  0.151565 -0.084684   \n10282    16179.0  1.162990  0.585682  1.081202  2.877693 -0.226887 -0.104174   \n95398    65286.0 -0.047052 -0.246928  1.783663 -1.571497 -1.424880 -0.585279   \n248080  153789.0  0.035700  1.267053 -1.059015 -0.022929  0.270340 -1.339248   \n232733  147286.0 -3.317206 -4.081467  0.490204  4.132857 -0.827638  1.393303   \n\n              V7        V8        V9  ...       V21       V22       V23  \\\n223278 -0.401833  0.183088 -0.549561  ...  0.135117  0.802800 -0.115902   \n145565  0.637386  0.331383  0.050536  ...  0.358353  0.678112 -0.158165   \n36813   0.287132 -0.181102  0.104975  ... -0.103089  0.119249  0.875925   \n98424   1.212978 -0.123662 -1.162586  ...  0.091992  0.101818 -0.271478   \n224727 -2.146524  0.656593 -0.502391  ...  0.815861 -0.237749 -0.549783   \n76439   0.731768  0.076800 -0.252783  ...  0.032285  0.217722 -0.321889   \n10282  -0.112787 -0.099170  0.954979  ... -0.440766 -0.893027  0.087746   \n95398  -0.609930 -0.156651 -2.252177  ...  0.088517  0.687270 -0.063328   \n248080  0.820101 -0.044629 -0.328963  ...  0.355169  1.078043 -0.055421   \n232733  2.091947  0.360839 -1.259604  ...  0.990699  0.310767  2.987731   \n\n             V24       V25       V26       V27       V28   Amount  Class  \n223278 -1.610128  0.005429  0.076368  0.029846 -0.053789   160.00      0  \n145565  0.760901 -0.391271  0.480153  0.212302  0.036251     1.00      0  \n36813  -0.110959  0.513343  0.351808 -0.120387 -0.247729    48.44      0  \n98424   0.572436  0.558861  0.249717 -0.050398  0.044221    42.81      0  \n224727  0.165590  1.025843  0.767957 -0.111164 -1.051211    59.00      0  \n76439   0.094126  0.317576  0.512195  0.012048  0.071173    29.75      0  \n10282   0.258407  0.372496 -0.216396 -0.015326  0.020287     3.80      0  \n95398   0.399094 -0.631889 -0.129960  0.095469  0.168752    15.80      0  \n248080  0.018688 -0.218777 -0.168232 -0.171916 -0.059910    42.81      0  \n232733 -0.625436 -0.939505 -0.298163 -0.165743  0.371756  1052.90      0  \n\n[10 rows x 31 columns]",
      "text/html": "<div>\n<style scoped>\n    .dataframe tbody tr th:only-of-type {\n        vertical-align: middle;\n    }\n\n    .dataframe tbody tr th {\n        vertical-align: top;\n    }\n\n    .dataframe thead th {\n        text-align: right;\n    }\n</style>\n<table border=\"1\" class=\"dataframe\">\n  <thead>\n    <tr style=\"text-align: right;\">\n      <th></th>\n      <th>Time</th>\n      <th>V1</th>\n      <th>V2</th>\n      <th>V3</th>\n      <th>V4</th>\n      <th>V5</th>\n      <th>V6</th>\n      <th>V7</th>\n      <th>V8</th>\n      <th>V9</th>\n      <th>...</th>\n      <th>V21</th>\n      <th>V22</th>\n      <th>V23</th>\n      <th>V24</th>\n      <th>V25</th>\n      <th>V26</th>\n      <th>V27</th>\n      <th>V28</th>\n      <th>Amount</th>\n      <th>Class</th>\n    </tr>\n  </thead>\n  <tbody>\n    <tr>\n      <th>223278</th>\n      <td>143322.0</td>\n      <td>1.743591</td>\n      <td>-1.276207</td>\n      <td>-1.703568</td>\n      <td>-0.551499</td>\n      <td>0.182804</td>\n      <td>0.993246</td>\n      <td>-0.401833</td>\n      <td>0.183088</td>\n      <td>-0.549561</td>\n      <td>...</td>\n      <td>0.135117</td>\n      <td>0.802800</td>\n      <td>-0.115902</td>\n      <td>-1.610128</td>\n      <td>0.005429</td>\n      <td>0.076368</td>\n      <td>0.029846</td>\n      <td>-0.053789</td>\n      <td>160.00</td>\n      <td>0</td>\n    </tr>\n    <tr>\n      <th>145565</th>\n      <td>87054.0</td>\n      <td>-1.205241</td>\n      <td>-0.130198</td>\n      <td>-1.346397</td>\n      <td>-2.372208</td>\n      <td>1.553399</td>\n      <td>-1.777034</td>\n      <td>0.637386</td>\n      <td>0.331383</td>\n      <td>0.050536</td>\n      <td>...</td>\n      <td>0.358353</td>\n      <td>0.678112</td>\n      <td>-0.158165</td>\n      <td>0.760901</td>\n      <td>-0.391271</td>\n      <td>0.480153</td>\n      <td>0.212302</td>\n      <td>0.036251</td>\n      <td>1.00</td>\n      <td>0</td>\n    </tr>\n    <tr>\n      <th>36813</th>\n      <td>38696.0</td>\n      <td>-2.109662</td>\n      <td>-1.044721</td>\n      <td>2.315128</td>\n      <td>-0.269519</td>\n      <td>0.918316</td>\n      <td>-0.860468</td>\n      <td>0.287132</td>\n      <td>-0.181102</td>\n      <td>0.104975</td>\n      <td>...</td>\n      <td>-0.103089</td>\n      <td>0.119249</td>\n      <td>0.875925</td>\n      <td>-0.110959</td>\n      <td>0.513343</td>\n      <td>0.351808</td>\n      <td>-0.120387</td>\n      <td>-0.247729</td>\n      <td>48.44</td>\n      <td>0</td>\n    </tr>\n    <tr>\n      <th>98424</th>\n      <td>66657.0</td>\n      <td>-0.858823</td>\n      <td>0.928831</td>\n      <td>1.638651</td>\n      <td>-0.535640</td>\n      <td>0.327566</td>\n      <td>-0.859982</td>\n      <td>1.212978</td>\n      <td>-0.123662</td>\n      <td>-1.162586</td>\n      <td>...</td>\n      <td>0.091992</td>\n      <td>0.101818</td>\n      <td>-0.271478</td>\n      <td>0.572436</td>\n      <td>0.558861</td>\n      <td>0.249717</td>\n      <td>-0.050398</td>\n      <td>0.044221</td>\n      <td>42.81</td>\n      <td>0</td>\n    </tr>\n    <tr>\n      <th>224727</th>\n      <td>143934.0</td>\n      <td>-5.718998</td>\n      <td>-5.788360</td>\n      <td>-0.220737</td>\n      <td>0.324390</td>\n      <td>5.280846</td>\n      <td>-3.567975</td>\n      <td>-2.146524</td>\n      <td>0.656593</td>\n      <td>-0.502391</td>\n      <td>...</td>\n      <td>0.815861</td>\n      <td>-0.237749</td>\n      <td>-0.549783</td>\n      <td>0.165590</td>\n      <td>1.025843</td>\n      <td>0.767957</td>\n      <td>-0.111164</td>\n      <td>-1.051211</td>\n      <td>59.00</td>\n      <td>0</td>\n    </tr>\n    <tr>\n      <th>76439</th>\n      <td>56571.0</td>\n      <td>-0.693223</td>\n      <td>0.624702</td>\n      <td>1.745828</td>\n      <td>-0.819360</td>\n      <td>0.151565</td>\n      <td>-0.084684</td>\n      <td>0.731768</td>\n      <td>0.076800</td>\n      <td>-0.252783</td>\n      <td>...</td>\n      <td>0.032285</td>\n      <td>0.217722</td>\n      <td>-0.321889</td>\n      <td>0.094126</td>\n      <td>0.317576</td>\n      <td>0.512195</td>\n      <td>0.012048</td>\n      <td>0.071173</td>\n      <td>29.75</td>\n      <td>0</td>\n    </tr>\n    <tr>\n      <th>10282</th>\n      <td>16179.0</td>\n      <td>1.162990</td>\n      <td>0.585682</td>\n      <td>1.081202</td>\n      <td>2.877693</td>\n      <td>-0.226887</td>\n      <td>-0.104174</td>\n      <td>-0.112787</td>\n      <td>-0.099170</td>\n      <td>0.954979</td>\n      <td>...</td>\n      <td>-0.440766</td>\n      <td>-0.893027</td>\n      <td>0.087746</td>\n      <td>0.258407</td>\n      <td>0.372496</td>\n      <td>-0.216396</td>\n      <td>-0.015326</td>\n      <td>0.020287</td>\n      <td>3.80</td>\n      <td>0</td>\n    </tr>\n    <tr>\n      <th>95398</th>\n      <td>65286.0</td>\n      <td>-0.047052</td>\n      <td>-0.246928</td>\n      <td>1.783663</td>\n      <td>-1.571497</td>\n      <td>-1.424880</td>\n      <td>-0.585279</td>\n      <td>-0.609930</td>\n      <td>-0.156651</td>\n      <td>-2.252177</td>\n      <td>...</td>\n      <td>0.088517</td>\n      <td>0.687270</td>\n      <td>-0.063328</td>\n      <td>0.399094</td>\n      <td>-0.631889</td>\n      <td>-0.129960</td>\n      <td>0.095469</td>\n      <td>0.168752</td>\n      <td>15.80</td>\n      <td>0</td>\n    </tr>\n    <tr>\n      <th>248080</th>\n      <td>153789.0</td>\n      <td>0.035700</td>\n      <td>1.267053</td>\n      <td>-1.059015</td>\n      <td>-0.022929</td>\n      <td>0.270340</td>\n      <td>-1.339248</td>\n      <td>0.820101</td>\n      <td>-0.044629</td>\n      <td>-0.328963</td>\n      <td>...</td>\n      <td>0.355169</td>\n      <td>1.078043</td>\n      <td>-0.055421</td>\n      <td>0.018688</td>\n      <td>-0.218777</td>\n      <td>-0.168232</td>\n      <td>-0.171916</td>\n      <td>-0.059910</td>\n      <td>42.81</td>\n      <td>0</td>\n    </tr>\n    <tr>\n      <th>232733</th>\n      <td>147286.0</td>\n      <td>-3.317206</td>\n      <td>-4.081467</td>\n      <td>0.490204</td>\n      <td>4.132857</td>\n      <td>-0.827638</td>\n      <td>1.393303</td>\n      <td>2.091947</td>\n      <td>0.360839</td>\n      <td>-1.259604</td>\n      <td>...</td>\n      <td>0.990699</td>\n      <td>0.310767</td>\n      <td>2.987731</td>\n      <td>-0.625436</td>\n      <td>-0.939505</td>\n      <td>-0.298163</td>\n      <td>-0.165743</td>\n      <td>0.371756</td>\n      <td>1052.90</td>\n      <td>0</td>\n    </tr>\n  </tbody>\n</table>\n<p>10 rows × 31 columns</p>\n</div>"
     },
     "execution_count": 3,
     "metadata": {},
     "output_type": "execute_result"
    }
   ],
   "source": [
    "df.sample(10)"
   ]
  },
  {
   "cell_type": "code",
   "execution_count": 4,
   "outputs": [
    {
     "data": {
      "text/plain": "577.8760162601625"
     },
     "execution_count": 4,
     "metadata": {},
     "output_type": "execute_result"
    }
   ],
   "source": [
    "counts = np.bincount(df[\"Class\"])\n",
    "class_weight = {\n",
    "    0: counts[0] / df.shape[0],\n",
    "    1: counts[1] / df.shape[0]\n",
    "}\n",
    "scale_pos_weight = class_weight[0]/class_weight[1]\n",
    "scale_pos_weight"
   ],
   "metadata": {
    "collapsed": false,
    "ExecuteTime": {
     "start_time": "2023-04-08T22:16:23.190792Z",
     "end_time": "2023-04-08T22:16:23.215988Z"
    }
   }
  },
  {
   "cell_type": "code",
   "execution_count": 5,
   "metadata": {
    "ExecuteTime": {
     "start_time": "2023-04-08T22:16:23.192785Z",
     "end_time": "2023-04-08T22:16:23.216486Z"
    }
   },
   "outputs": [],
   "source": [
    "X = df.drop(columns=[\"Class\"], axis=1)\n",
    "y = df[\"Class\"]"
   ]
  },
  {
   "cell_type": "code",
   "execution_count": 6,
   "metadata": {
    "ExecuteTime": {
     "start_time": "2023-04-08T22:16:23.196787Z",
     "end_time": "2023-04-08T22:16:23.448461Z"
    }
   },
   "outputs": [],
   "source": [
    "model = lgb.LGBMClassifier(force_row_wise=True, boosting_type=\"dart\", learning_rate=0.0023, max_bin=384, n_estimators=300, scale_pos_weight=scale_pos_weight, verbose=-1)"
   ]
  },
  {
   "cell_type": "code",
   "execution_count": 7,
   "metadata": {
    "ExecuteTime": {
     "start_time": "2023-04-08T22:16:23.402968Z",
     "end_time": "2023-04-08T22:18:16.383278Z"
    }
   },
   "outputs": [
    {
     "name": "stdout",
     "output_type": "stream",
     "text": [
      "Mean F1-score: 0.7968539399986524\n",
      "Training time: 113.36332678794861s\n"
     ]
    }
   ],
   "source": [
    "start = time.time()\n",
    "scores = cross_val_score(model, X, y, scoring=\"f1_macro\")\n",
    "print(f\"Mean F1-score: {scores.mean()}\")\n",
    "end = time.time()\n",
    "print(f\"Training time: {end - start}s\")"
   ]
  },
  {
   "cell_type": "code",
   "execution_count": 8,
   "outputs": [
    {
     "name": "stdout",
     "output_type": "stream",
     "text": [
      "Mean F1-score: 0.9988588729715675\n",
      "Training time: 111.68864893913269s\n"
     ]
    }
   ],
   "source": [
    "start = time.time()\n",
    "scores = cross_val_score(model, X, y, scoring=\"accuracy\")\n",
    "print(f\"Mean F1-score: {scores.mean()}\")\n",
    "end = time.time()\n",
    "print(f\"Training time: {end - start}s\")"
   ],
   "metadata": {
    "collapsed": false,
    "ExecuteTime": {
     "start_time": "2023-04-08T22:18:16.382781Z",
     "end_time": "2023-04-08T22:20:08.085813Z"
    }
   }
  }
 ],
 "metadata": {
  "kernelspec": {
   "display_name": "Python 3 (ipykernel)",
   "language": "python",
   "name": "python3"
  },
  "orig_nbformat": 4
 },
 "nbformat": 4,
 "nbformat_minor": 2
}
