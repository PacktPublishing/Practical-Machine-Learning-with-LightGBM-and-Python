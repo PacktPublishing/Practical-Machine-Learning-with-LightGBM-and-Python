{
 "cells": [
  {
   "cell_type": "code",
   "execution_count": 1,
   "metadata": {
    "ExecuteTime": {
     "start_time": "2023-04-04T16:48:25.152111Z",
     "end_time": "2023-04-04T16:48:25.363465Z"
    }
   },
   "outputs": [],
   "source": [
    "import numpy as np\n",
    "import pandas as pd\n",
    "\n",
    "import lightgbm as lgb\n",
    "\n",
    "from sklearn.metrics import f1_score, accuracy_score\n",
    "\n",
    "import matplotlib.pyplot as plt\n",
    "import seaborn as sns\n",
    "import time"
   ]
  },
  {
   "cell_type": "code",
   "execution_count": 2,
   "metadata": {
    "ExecuteTime": {
     "start_time": "2023-04-04T16:48:25.369523Z",
     "end_time": "2023-04-04T16:48:32.548347Z"
    }
   },
   "outputs": [
    {
     "name": "stdout",
     "output_type": "stream",
     "text": [
      "Train dataset shape: (32561, 15)\n",
      "Test dataset shape: (16281, 15)\n"
     ]
    }
   ],
   "source": [
    "HEADERS = [\n",
    "    \"age\",\n",
    "    \"workclass\",\n",
    "    \"fnlwgt\",\n",
    "    \"education\",\n",
    "    \"education_num\",\n",
    "    \"marital_status\",\n",
    "    \"occupation\",\n",
    "    \"relationship\",\n",
    "    \"race\",\n",
    "    \"gender\",\n",
    "    \"capital_gain\",\n",
    "    \"capital_loss\",\n",
    "    \"hours_per_week\",\n",
    "    \"native_country\",\n",
    "    \"income_bracket\",\n",
    "]\n",
    "\n",
    "train_data_url = (\n",
    "    \"https://archive.ics.uci.edu/ml/machine-learning-databases/adult/adult.data\"\n",
    ")\n",
    "train_data = pd.read_csv(train_data_url, header=None, names=HEADERS)\n",
    "\n",
    "test_data_url = (\n",
    "    \"https://archive.ics.uci.edu/ml/machine-learning-databases/adult/adult.test\"\n",
    ")\n",
    "test_data = pd.read_csv(test_data_url, header=None, names=HEADERS)\n",
    "\n",
    "test_data = test_data[1:]\n",
    "test_data.income_bracket = test_data.income_bracket.apply(\n",
    "   lambda value: value.replace(\".\", \"\")\n",
    ")\n",
    "\n",
    "print(f\"Train dataset shape: {train_data.shape}\")\n",
    "print(f\"Test dataset shape: {test_data.shape}\")"
   ]
  },
  {
   "cell_type": "code",
   "execution_count": 3,
   "metadata": {
    "ExecuteTime": {
     "start_time": "2023-04-04T16:48:32.559412Z",
     "end_time": "2023-04-04T16:48:32.793642Z"
    }
   },
   "outputs": [
    {
     "data": {
      "text/plain": "       age          workclass  fnlwgt      education  education_num  \\\n5641    40            Private  115161        HS-grad              9   \n27185   28   Self-emp-not-inc  294398   Some-college             10   \n9030    77                  ?  185426        HS-grad              9   \n17607   26            Private  244372        HS-grad              9   \n1784    31            Private   19302     Assoc-acdm             12   \n4875    49          Local-gov  337768        Masters             14   \n21056   64          Local-gov  142166        HS-grad              9   \n9678    29       Self-emp-inc  190450        HS-grad              9   \n27002   30            Private   95299        HS-grad              9   \n3023    38            Private   53930           10th              6   \n\n            marital_status          occupation    relationship  \\\n5641    Married-civ-spouse    Transport-moving         Husband   \n27185        Never-married   Machine-op-inspct   Not-in-family   \n9030    Married-civ-spouse                   ?         Husband   \n17607   Married-civ-spouse        Adm-clerical            Wife   \n1784         Never-married        Adm-clerical   Not-in-family   \n4875    Married-civ-spouse     Exec-managerial         Husband   \n21056   Married-civ-spouse        Craft-repair         Husband   \n9678    Married-civ-spouse               Sales         Husband   \n27002   Married-civ-spouse   Machine-op-inspct         Husband   \n3023         Never-married        Craft-repair   Not-in-family   \n\n                      race   gender  capital_gain  capital_loss  \\\n5641                 White     Male             0             0   \n27185                Black     Male             0             0   \n9030                 White     Male             0             0   \n17607                White   Female             0             0   \n1784                 White     Male          2202             0   \n4875                 White     Male             0             0   \n21056                White     Male             0             0   \n9678    Asian-Pac-Islander     Male             0             0   \n27002   Asian-Pac-Islander     Male             0             0   \n3023                 Black     Male             0             0   \n\n       hours_per_week  native_country income_bracket  \n5641               30   United-States          <=50K  \n27185              40   United-States          <=50K  \n9030               15   United-States          <=50K  \n17607              52   United-States           >50K  \n1784               38   United-States          <=50K  \n4875               50   United-States           >50K  \n21056              99   United-States          <=50K  \n9678               40         Germany          <=50K  \n27002              40         Vietnam           >50K  \n3023               40               ?          <=50K  ",
      "text/html": "<div>\n<style scoped>\n    .dataframe tbody tr th:only-of-type {\n        vertical-align: middle;\n    }\n\n    .dataframe tbody tr th {\n        vertical-align: top;\n    }\n\n    .dataframe thead th {\n        text-align: right;\n    }\n</style>\n<table border=\"1\" class=\"dataframe\">\n  <thead>\n    <tr style=\"text-align: right;\">\n      <th></th>\n      <th>age</th>\n      <th>workclass</th>\n      <th>fnlwgt</th>\n      <th>education</th>\n      <th>education_num</th>\n      <th>marital_status</th>\n      <th>occupation</th>\n      <th>relationship</th>\n      <th>race</th>\n      <th>gender</th>\n      <th>capital_gain</th>\n      <th>capital_loss</th>\n      <th>hours_per_week</th>\n      <th>native_country</th>\n      <th>income_bracket</th>\n    </tr>\n  </thead>\n  <tbody>\n    <tr>\n      <th>5641</th>\n      <td>40</td>\n      <td>Private</td>\n      <td>115161</td>\n      <td>HS-grad</td>\n      <td>9</td>\n      <td>Married-civ-spouse</td>\n      <td>Transport-moving</td>\n      <td>Husband</td>\n      <td>White</td>\n      <td>Male</td>\n      <td>0</td>\n      <td>0</td>\n      <td>30</td>\n      <td>United-States</td>\n      <td>&lt;=50K</td>\n    </tr>\n    <tr>\n      <th>27185</th>\n      <td>28</td>\n      <td>Self-emp-not-inc</td>\n      <td>294398</td>\n      <td>Some-college</td>\n      <td>10</td>\n      <td>Never-married</td>\n      <td>Machine-op-inspct</td>\n      <td>Not-in-family</td>\n      <td>Black</td>\n      <td>Male</td>\n      <td>0</td>\n      <td>0</td>\n      <td>40</td>\n      <td>United-States</td>\n      <td>&lt;=50K</td>\n    </tr>\n    <tr>\n      <th>9030</th>\n      <td>77</td>\n      <td>?</td>\n      <td>185426</td>\n      <td>HS-grad</td>\n      <td>9</td>\n      <td>Married-civ-spouse</td>\n      <td>?</td>\n      <td>Husband</td>\n      <td>White</td>\n      <td>Male</td>\n      <td>0</td>\n      <td>0</td>\n      <td>15</td>\n      <td>United-States</td>\n      <td>&lt;=50K</td>\n    </tr>\n    <tr>\n      <th>17607</th>\n      <td>26</td>\n      <td>Private</td>\n      <td>244372</td>\n      <td>HS-grad</td>\n      <td>9</td>\n      <td>Married-civ-spouse</td>\n      <td>Adm-clerical</td>\n      <td>Wife</td>\n      <td>White</td>\n      <td>Female</td>\n      <td>0</td>\n      <td>0</td>\n      <td>52</td>\n      <td>United-States</td>\n      <td>&gt;50K</td>\n    </tr>\n    <tr>\n      <th>1784</th>\n      <td>31</td>\n      <td>Private</td>\n      <td>19302</td>\n      <td>Assoc-acdm</td>\n      <td>12</td>\n      <td>Never-married</td>\n      <td>Adm-clerical</td>\n      <td>Not-in-family</td>\n      <td>White</td>\n      <td>Male</td>\n      <td>2202</td>\n      <td>0</td>\n      <td>38</td>\n      <td>United-States</td>\n      <td>&lt;=50K</td>\n    </tr>\n    <tr>\n      <th>4875</th>\n      <td>49</td>\n      <td>Local-gov</td>\n      <td>337768</td>\n      <td>Masters</td>\n      <td>14</td>\n      <td>Married-civ-spouse</td>\n      <td>Exec-managerial</td>\n      <td>Husband</td>\n      <td>White</td>\n      <td>Male</td>\n      <td>0</td>\n      <td>0</td>\n      <td>50</td>\n      <td>United-States</td>\n      <td>&gt;50K</td>\n    </tr>\n    <tr>\n      <th>21056</th>\n      <td>64</td>\n      <td>Local-gov</td>\n      <td>142166</td>\n      <td>HS-grad</td>\n      <td>9</td>\n      <td>Married-civ-spouse</td>\n      <td>Craft-repair</td>\n      <td>Husband</td>\n      <td>White</td>\n      <td>Male</td>\n      <td>0</td>\n      <td>0</td>\n      <td>99</td>\n      <td>United-States</td>\n      <td>&lt;=50K</td>\n    </tr>\n    <tr>\n      <th>9678</th>\n      <td>29</td>\n      <td>Self-emp-inc</td>\n      <td>190450</td>\n      <td>HS-grad</td>\n      <td>9</td>\n      <td>Married-civ-spouse</td>\n      <td>Sales</td>\n      <td>Husband</td>\n      <td>Asian-Pac-Islander</td>\n      <td>Male</td>\n      <td>0</td>\n      <td>0</td>\n      <td>40</td>\n      <td>Germany</td>\n      <td>&lt;=50K</td>\n    </tr>\n    <tr>\n      <th>27002</th>\n      <td>30</td>\n      <td>Private</td>\n      <td>95299</td>\n      <td>HS-grad</td>\n      <td>9</td>\n      <td>Married-civ-spouse</td>\n      <td>Machine-op-inspct</td>\n      <td>Husband</td>\n      <td>Asian-Pac-Islander</td>\n      <td>Male</td>\n      <td>0</td>\n      <td>0</td>\n      <td>40</td>\n      <td>Vietnam</td>\n      <td>&gt;50K</td>\n    </tr>\n    <tr>\n      <th>3023</th>\n      <td>38</td>\n      <td>Private</td>\n      <td>53930</td>\n      <td>10th</td>\n      <td>6</td>\n      <td>Never-married</td>\n      <td>Craft-repair</td>\n      <td>Not-in-family</td>\n      <td>Black</td>\n      <td>Male</td>\n      <td>0</td>\n      <td>0</td>\n      <td>40</td>\n      <td>?</td>\n      <td>&lt;=50K</td>\n    </tr>\n  </tbody>\n</table>\n</div>"
     },
     "execution_count": 3,
     "metadata": {},
     "output_type": "execute_result"
    }
   ],
   "source": [
    "train_data.sample(10)"
   ]
  },
  {
   "cell_type": "code",
   "execution_count": 4,
   "metadata": {
    "ExecuteTime": {
     "start_time": "2023-04-04T16:48:32.792635Z",
     "end_time": "2023-04-04T16:48:32.810688Z"
    }
   },
   "outputs": [
    {
     "data": {
      "text/plain": "       age      education       marital_status  hours_per_week income_bracket\n23991   62      Assoc-voc             Divorced              40          <=50K\n19530   30      Bachelors   Married-civ-spouse              40          <=50K\n19393   38        HS-grad        Never-married              40          <=50K\n15020   58        5th-6th   Married-civ-spouse              40          <=50K\n254     58   Some-college        Never-married              20          <=50K",
      "text/html": "<div>\n<style scoped>\n    .dataframe tbody tr th:only-of-type {\n        vertical-align: middle;\n    }\n\n    .dataframe tbody tr th {\n        vertical-align: top;\n    }\n\n    .dataframe thead th {\n        text-align: right;\n    }\n</style>\n<table border=\"1\" class=\"dataframe\">\n  <thead>\n    <tr style=\"text-align: right;\">\n      <th></th>\n      <th>age</th>\n      <th>education</th>\n      <th>marital_status</th>\n      <th>hours_per_week</th>\n      <th>income_bracket</th>\n    </tr>\n  </thead>\n  <tbody>\n    <tr>\n      <th>23991</th>\n      <td>62</td>\n      <td>Assoc-voc</td>\n      <td>Divorced</td>\n      <td>40</td>\n      <td>&lt;=50K</td>\n    </tr>\n    <tr>\n      <th>19530</th>\n      <td>30</td>\n      <td>Bachelors</td>\n      <td>Married-civ-spouse</td>\n      <td>40</td>\n      <td>&lt;=50K</td>\n    </tr>\n    <tr>\n      <th>19393</th>\n      <td>38</td>\n      <td>HS-grad</td>\n      <td>Never-married</td>\n      <td>40</td>\n      <td>&lt;=50K</td>\n    </tr>\n    <tr>\n      <th>15020</th>\n      <td>58</td>\n      <td>5th-6th</td>\n      <td>Married-civ-spouse</td>\n      <td>40</td>\n      <td>&lt;=50K</td>\n    </tr>\n    <tr>\n      <th>254</th>\n      <td>58</td>\n      <td>Some-college</td>\n      <td>Never-married</td>\n      <td>20</td>\n      <td>&lt;=50K</td>\n    </tr>\n  </tbody>\n</table>\n</div>"
     },
     "execution_count": 4,
     "metadata": {},
     "output_type": "execute_result"
    }
   ],
   "source": [
    "train_data.sample(5)[[\"age\", \"education\", \"marital_status\", \"hours_per_week\", \"income_bracket\"]]"
   ]
  },
  {
   "cell_type": "code",
   "execution_count": 5,
   "metadata": {
    "ExecuteTime": {
     "start_time": "2023-04-04T16:48:32.810688Z",
     "end_time": "2023-04-04T16:48:32.811187Z"
    }
   },
   "outputs": [],
   "source": [
    "train_data.replace(\" ?\", None, inplace=True)\n",
    "test_data.replace(\" ?\", None, inplace=True)"
   ]
  },
  {
   "cell_type": "code",
   "execution_count": 6,
   "metadata": {
    "ExecuteTime": {
     "start_time": "2023-04-04T16:48:32.836659Z",
     "end_time": "2023-04-04T16:48:32.913965Z"
    }
   },
   "outputs": [],
   "source": [
    "def sort_none_last(xs):\n",
    "    return sorted(xs, key=lambda x: (x is None, x))\n",
    "\n",
    "CATEGORICAL_FEATURES_WITH_VOCABULARY = {\n",
    "    \"workclass\": sort_none_last(list(train_data[\"workclass\"].unique())),\n",
    "    \"education\": sort_none_last(list(train_data[\"education\"].unique())),\n",
    "    \"marital_status\": sort_none_last(list(train_data[\"marital_status\"].unique())),\n",
    "    \"occupation\": sort_none_last(list(train_data[\"occupation\"].unique())),\n",
    "    \"relationship\": sort_none_last(list(train_data[\"relationship\"].unique())),\n",
    "    \"race\": sort_none_last(list(train_data[\"race\"].unique())),\n",
    "    \"gender\": sort_none_last(list(train_data[\"gender\"].unique())),\n",
    "    \"native_country\": sort_none_last(list(train_data[\"native_country\"].unique())),\n",
    "    \"income_bracket\": sort_none_last(list(train_data[\"income_bracket\"].unique())),\n",
    "}"
   ]
  },
  {
   "cell_type": "code",
   "execution_count": 7,
   "metadata": {
    "ExecuteTime": {
     "start_time": "2023-04-04T16:48:32.837667Z",
     "end_time": "2023-04-04T16:48:32.918487Z"
    }
   },
   "outputs": [],
   "source": [
    "for c in CATEGORICAL_FEATURES_WITH_VOCABULARY.keys():\n",
    "    for dataset in [train_data, test_data]:\n",
    "        dataset[c] = dataset[c].astype('category')\n",
    "        dataset[c] = dataset[c].astype('category')"
   ]
  },
  {
   "cell_type": "code",
   "execution_count": 8,
   "metadata": {
    "ExecuteTime": {
     "start_time": "2023-04-04T16:48:32.837667Z",
     "end_time": "2023-04-04T16:48:32.918988Z"
    }
   },
   "outputs": [],
   "source": [
    "def map_to_index(val, vocab):\n",
    "    if val is None:\n",
    "        return None\n",
    "    return vocab.index(val)\n",
    "\n",
    "for dataset in (train_data, test_data):\n",
    "    for feature, vocab in CATEGORICAL_FEATURES_WITH_VOCABULARY.items():\n",
    "        dataset[feature] = dataset[feature].map(lambda val: map_to_index(val, vocab))"
   ]
  },
  {
   "cell_type": "code",
   "execution_count": 9,
   "metadata": {
    "ExecuteTime": {
     "start_time": "2023-04-04T16:48:32.837667Z",
     "end_time": "2023-04-04T16:48:32.918988Z"
    }
   },
   "outputs": [
    {
     "data": {
      "text/plain": "       age education marital_status  hours_per_week income_bracket\n18823   33         5              0              35              0\n9469    32         9              2               8              1\n12810   47         1              2              40              0\n25633   56        14              2              40              1\n15983   26        15              2              40              0",
      "text/html": "<div>\n<style scoped>\n    .dataframe tbody tr th:only-of-type {\n        vertical-align: middle;\n    }\n\n    .dataframe tbody tr th {\n        vertical-align: top;\n    }\n\n    .dataframe thead th {\n        text-align: right;\n    }\n</style>\n<table border=\"1\" class=\"dataframe\">\n  <thead>\n    <tr style=\"text-align: right;\">\n      <th></th>\n      <th>age</th>\n      <th>education</th>\n      <th>marital_status</th>\n      <th>hours_per_week</th>\n      <th>income_bracket</th>\n    </tr>\n  </thead>\n  <tbody>\n    <tr>\n      <th>18823</th>\n      <td>33</td>\n      <td>5</td>\n      <td>0</td>\n      <td>35</td>\n      <td>0</td>\n    </tr>\n    <tr>\n      <th>9469</th>\n      <td>32</td>\n      <td>9</td>\n      <td>2</td>\n      <td>8</td>\n      <td>1</td>\n    </tr>\n    <tr>\n      <th>12810</th>\n      <td>47</td>\n      <td>1</td>\n      <td>2</td>\n      <td>40</td>\n      <td>0</td>\n    </tr>\n    <tr>\n      <th>25633</th>\n      <td>56</td>\n      <td>14</td>\n      <td>2</td>\n      <td>40</td>\n      <td>1</td>\n    </tr>\n    <tr>\n      <th>15983</th>\n      <td>26</td>\n      <td>15</td>\n      <td>2</td>\n      <td>40</td>\n      <td>0</td>\n    </tr>\n  </tbody>\n</table>\n</div>"
     },
     "execution_count": 9,
     "metadata": {},
     "output_type": "execute_result"
    }
   ],
   "source": [
    "train_data.sample(5)[[\"age\", \"education\", \"marital_status\", \"hours_per_week\", \"income_bracket\"]]"
   ]
  },
  {
   "cell_type": "code",
   "execution_count": 10,
   "metadata": {
    "ExecuteTime": {
     "start_time": "2023-04-04T16:48:32.838168Z",
     "end_time": "2023-04-04T16:48:33.057736Z"
    }
   },
   "outputs": [
    {
     "data": {
      "text/plain": "       age workclass  fnlwgt education  education_num marital_status  \\\n4809    33         3  209900        15             10              4   \n27941   19         3  278115        15             10              4   \n19344   25         5   72338        11              9              4   \n2460    38         3   31069         8             11              2   \n14688   17       NaN  303317         1              7              4   \n11239   35         5  308874        11              9              4   \n14023   23         3  376416         9             13              4   \n5695    63         3  339473        15             10              0   \n13763   51         5  136322        11              9              2   \n27165   45         0  179638        12             14              0   \n\n      occupation relationship race gender  capital_gain  capital_loss  \\\n4809          12            3    4      1             0             0   \n27941          7            3    4      1             0             0   \n19344         11            4    1      0             0             0   \n2460           2            0    4      1          4386             0   \n14688        NaN            3    4      1             0             0   \n11239          2            1    2      1             0             0   \n14023          0            1    4      1             0             0   \n5695          11            1    4      0             0             0   \n13763          4            0    4      1             0          1579   \n27165          3            1    4      1             0             0   \n\n       hours_per_week native_country income_bracket  \n4809               20             38              0  \n27941              12             38              0  \n19344              40             38              0  \n2460               40             38              1  \n14688              40             38              0  \n11239              40             38              0  \n14023              40             38              0  \n5695               60             38              0  \n13763              40             38              0  \n27165              40             38              1  ",
      "text/html": "<div>\n<style scoped>\n    .dataframe tbody tr th:only-of-type {\n        vertical-align: middle;\n    }\n\n    .dataframe tbody tr th {\n        vertical-align: top;\n    }\n\n    .dataframe thead th {\n        text-align: right;\n    }\n</style>\n<table border=\"1\" class=\"dataframe\">\n  <thead>\n    <tr style=\"text-align: right;\">\n      <th></th>\n      <th>age</th>\n      <th>workclass</th>\n      <th>fnlwgt</th>\n      <th>education</th>\n      <th>education_num</th>\n      <th>marital_status</th>\n      <th>occupation</th>\n      <th>relationship</th>\n      <th>race</th>\n      <th>gender</th>\n      <th>capital_gain</th>\n      <th>capital_loss</th>\n      <th>hours_per_week</th>\n      <th>native_country</th>\n      <th>income_bracket</th>\n    </tr>\n  </thead>\n  <tbody>\n    <tr>\n      <th>4809</th>\n      <td>33</td>\n      <td>3</td>\n      <td>209900</td>\n      <td>15</td>\n      <td>10</td>\n      <td>4</td>\n      <td>12</td>\n      <td>3</td>\n      <td>4</td>\n      <td>1</td>\n      <td>0</td>\n      <td>0</td>\n      <td>20</td>\n      <td>38</td>\n      <td>0</td>\n    </tr>\n    <tr>\n      <th>27941</th>\n      <td>19</td>\n      <td>3</td>\n      <td>278115</td>\n      <td>15</td>\n      <td>10</td>\n      <td>4</td>\n      <td>7</td>\n      <td>3</td>\n      <td>4</td>\n      <td>1</td>\n      <td>0</td>\n      <td>0</td>\n      <td>12</td>\n      <td>38</td>\n      <td>0</td>\n    </tr>\n    <tr>\n      <th>19344</th>\n      <td>25</td>\n      <td>5</td>\n      <td>72338</td>\n      <td>11</td>\n      <td>9</td>\n      <td>4</td>\n      <td>11</td>\n      <td>4</td>\n      <td>1</td>\n      <td>0</td>\n      <td>0</td>\n      <td>0</td>\n      <td>40</td>\n      <td>38</td>\n      <td>0</td>\n    </tr>\n    <tr>\n      <th>2460</th>\n      <td>38</td>\n      <td>3</td>\n      <td>31069</td>\n      <td>8</td>\n      <td>11</td>\n      <td>2</td>\n      <td>2</td>\n      <td>0</td>\n      <td>4</td>\n      <td>1</td>\n      <td>4386</td>\n      <td>0</td>\n      <td>40</td>\n      <td>38</td>\n      <td>1</td>\n    </tr>\n    <tr>\n      <th>14688</th>\n      <td>17</td>\n      <td>NaN</td>\n      <td>303317</td>\n      <td>1</td>\n      <td>7</td>\n      <td>4</td>\n      <td>NaN</td>\n      <td>3</td>\n      <td>4</td>\n      <td>1</td>\n      <td>0</td>\n      <td>0</td>\n      <td>40</td>\n      <td>38</td>\n      <td>0</td>\n    </tr>\n    <tr>\n      <th>11239</th>\n      <td>35</td>\n      <td>5</td>\n      <td>308874</td>\n      <td>11</td>\n      <td>9</td>\n      <td>4</td>\n      <td>2</td>\n      <td>1</td>\n      <td>2</td>\n      <td>1</td>\n      <td>0</td>\n      <td>0</td>\n      <td>40</td>\n      <td>38</td>\n      <td>0</td>\n    </tr>\n    <tr>\n      <th>14023</th>\n      <td>23</td>\n      <td>3</td>\n      <td>376416</td>\n      <td>9</td>\n      <td>13</td>\n      <td>4</td>\n      <td>0</td>\n      <td>1</td>\n      <td>4</td>\n      <td>1</td>\n      <td>0</td>\n      <td>0</td>\n      <td>40</td>\n      <td>38</td>\n      <td>0</td>\n    </tr>\n    <tr>\n      <th>5695</th>\n      <td>63</td>\n      <td>3</td>\n      <td>339473</td>\n      <td>15</td>\n      <td>10</td>\n      <td>0</td>\n      <td>11</td>\n      <td>1</td>\n      <td>4</td>\n      <td>0</td>\n      <td>0</td>\n      <td>0</td>\n      <td>60</td>\n      <td>38</td>\n      <td>0</td>\n    </tr>\n    <tr>\n      <th>13763</th>\n      <td>51</td>\n      <td>5</td>\n      <td>136322</td>\n      <td>11</td>\n      <td>9</td>\n      <td>2</td>\n      <td>4</td>\n      <td>0</td>\n      <td>4</td>\n      <td>1</td>\n      <td>0</td>\n      <td>1579</td>\n      <td>40</td>\n      <td>38</td>\n      <td>0</td>\n    </tr>\n    <tr>\n      <th>27165</th>\n      <td>45</td>\n      <td>0</td>\n      <td>179638</td>\n      <td>12</td>\n      <td>14</td>\n      <td>0</td>\n      <td>3</td>\n      <td>1</td>\n      <td>4</td>\n      <td>1</td>\n      <td>0</td>\n      <td>0</td>\n      <td>40</td>\n      <td>38</td>\n      <td>1</td>\n    </tr>\n  </tbody>\n</table>\n</div>"
     },
     "execution_count": 10,
     "metadata": {},
     "output_type": "execute_result"
    }
   ],
   "source": [
    "train_data.sample(10)"
   ]
  },
  {
   "cell_type": "code",
   "execution_count": 11,
   "metadata": {
    "ExecuteTime": {
     "start_time": "2023-04-04T16:48:33.053202Z",
     "end_time": "2023-04-04T16:48:33.081776Z"
    }
   },
   "outputs": [
    {
     "data": {
      "text/plain": "      age workclass    fnlwgt education  education_num marital_status  \\\n13369  42         4  203233.0        14           15.0              2   \n16229  35         1  297322.0        15           10.0              2   \n16035  69         5  215926.0         5            4.0              2   \n4907   32         5  178109.0         0            6.0              2   \n7357   46         3  235334.0        12           14.0              2   \n12917  49         3  117310.0         7           12.0              2   \n15840  72       NaN   94268.0        11            9.0              2   \n1      25         3  226802.0         1            7.0              4   \n6024   52         1  182856.0        12           14.0              4   \n11736  51         3  203435.0        11            9.0              0   \n\n      occupation relationship race gender  capital_gain  capital_loss  \\\n13369          9            0    4      1       99999.0           0.0   \n16229         13            0    2      1           0.0           0.0   \n16035          7            0    4      1           0.0           0.0   \n4907           3            0    4      1           0.0           0.0   \n7357           3            0    2      1       99999.0           0.0   \n12917          0            3    4      0           0.0           0.0   \n15840        NaN            0    4      1           0.0           0.0   \n1              6            3    2      1           0.0           0.0   \n6024           9            1    4      1       10520.0           0.0   \n11736         11            1    4      0           0.0           0.0   \n\n       hours_per_week native_country income_bracket  \n13369            99.0             38              1  \n16229            40.0             38              1  \n16035            35.0             38              0  \n4907             55.0             38              0  \n7357             60.0             38              1  \n12917            38.0             38              0  \n15840             8.0             38              0  \n1                40.0             38              0  \n6024             45.0             38              1  \n11736            40.0             38              0  ",
      "text/html": "<div>\n<style scoped>\n    .dataframe tbody tr th:only-of-type {\n        vertical-align: middle;\n    }\n\n    .dataframe tbody tr th {\n        vertical-align: top;\n    }\n\n    .dataframe thead th {\n        text-align: right;\n    }\n</style>\n<table border=\"1\" class=\"dataframe\">\n  <thead>\n    <tr style=\"text-align: right;\">\n      <th></th>\n      <th>age</th>\n      <th>workclass</th>\n      <th>fnlwgt</th>\n      <th>education</th>\n      <th>education_num</th>\n      <th>marital_status</th>\n      <th>occupation</th>\n      <th>relationship</th>\n      <th>race</th>\n      <th>gender</th>\n      <th>capital_gain</th>\n      <th>capital_loss</th>\n      <th>hours_per_week</th>\n      <th>native_country</th>\n      <th>income_bracket</th>\n    </tr>\n  </thead>\n  <tbody>\n    <tr>\n      <th>13369</th>\n      <td>42</td>\n      <td>4</td>\n      <td>203233.0</td>\n      <td>14</td>\n      <td>15.0</td>\n      <td>2</td>\n      <td>9</td>\n      <td>0</td>\n      <td>4</td>\n      <td>1</td>\n      <td>99999.0</td>\n      <td>0.0</td>\n      <td>99.0</td>\n      <td>38</td>\n      <td>1</td>\n    </tr>\n    <tr>\n      <th>16229</th>\n      <td>35</td>\n      <td>1</td>\n      <td>297322.0</td>\n      <td>15</td>\n      <td>10.0</td>\n      <td>2</td>\n      <td>13</td>\n      <td>0</td>\n      <td>2</td>\n      <td>1</td>\n      <td>0.0</td>\n      <td>0.0</td>\n      <td>40.0</td>\n      <td>38</td>\n      <td>1</td>\n    </tr>\n    <tr>\n      <th>16035</th>\n      <td>69</td>\n      <td>5</td>\n      <td>215926.0</td>\n      <td>5</td>\n      <td>4.0</td>\n      <td>2</td>\n      <td>7</td>\n      <td>0</td>\n      <td>4</td>\n      <td>1</td>\n      <td>0.0</td>\n      <td>0.0</td>\n      <td>35.0</td>\n      <td>38</td>\n      <td>0</td>\n    </tr>\n    <tr>\n      <th>4907</th>\n      <td>32</td>\n      <td>5</td>\n      <td>178109.0</td>\n      <td>0</td>\n      <td>6.0</td>\n      <td>2</td>\n      <td>3</td>\n      <td>0</td>\n      <td>4</td>\n      <td>1</td>\n      <td>0.0</td>\n      <td>0.0</td>\n      <td>55.0</td>\n      <td>38</td>\n      <td>0</td>\n    </tr>\n    <tr>\n      <th>7357</th>\n      <td>46</td>\n      <td>3</td>\n      <td>235334.0</td>\n      <td>12</td>\n      <td>14.0</td>\n      <td>2</td>\n      <td>3</td>\n      <td>0</td>\n      <td>2</td>\n      <td>1</td>\n      <td>99999.0</td>\n      <td>0.0</td>\n      <td>60.0</td>\n      <td>38</td>\n      <td>1</td>\n    </tr>\n    <tr>\n      <th>12917</th>\n      <td>49</td>\n      <td>3</td>\n      <td>117310.0</td>\n      <td>7</td>\n      <td>12.0</td>\n      <td>2</td>\n      <td>0</td>\n      <td>3</td>\n      <td>4</td>\n      <td>0</td>\n      <td>0.0</td>\n      <td>0.0</td>\n      <td>38.0</td>\n      <td>38</td>\n      <td>0</td>\n    </tr>\n    <tr>\n      <th>15840</th>\n      <td>72</td>\n      <td>NaN</td>\n      <td>94268.0</td>\n      <td>11</td>\n      <td>9.0</td>\n      <td>2</td>\n      <td>NaN</td>\n      <td>0</td>\n      <td>4</td>\n      <td>1</td>\n      <td>0.0</td>\n      <td>0.0</td>\n      <td>8.0</td>\n      <td>38</td>\n      <td>0</td>\n    </tr>\n    <tr>\n      <th>1</th>\n      <td>25</td>\n      <td>3</td>\n      <td>226802.0</td>\n      <td>1</td>\n      <td>7.0</td>\n      <td>4</td>\n      <td>6</td>\n      <td>3</td>\n      <td>2</td>\n      <td>1</td>\n      <td>0.0</td>\n      <td>0.0</td>\n      <td>40.0</td>\n      <td>38</td>\n      <td>0</td>\n    </tr>\n    <tr>\n      <th>6024</th>\n      <td>52</td>\n      <td>1</td>\n      <td>182856.0</td>\n      <td>12</td>\n      <td>14.0</td>\n      <td>4</td>\n      <td>9</td>\n      <td>1</td>\n      <td>4</td>\n      <td>1</td>\n      <td>10520.0</td>\n      <td>0.0</td>\n      <td>45.0</td>\n      <td>38</td>\n      <td>1</td>\n    </tr>\n    <tr>\n      <th>11736</th>\n      <td>51</td>\n      <td>3</td>\n      <td>203435.0</td>\n      <td>11</td>\n      <td>9.0</td>\n      <td>0</td>\n      <td>11</td>\n      <td>1</td>\n      <td>4</td>\n      <td>0</td>\n      <td>0.0</td>\n      <td>0.0</td>\n      <td>40.0</td>\n      <td>38</td>\n      <td>0</td>\n    </tr>\n  </tbody>\n</table>\n</div>"
     },
     "execution_count": 11,
     "metadata": {},
     "output_type": "execute_result"
    }
   ],
   "source": [
    "test_data.sample(10)"
   ]
  },
  {
   "cell_type": "code",
   "execution_count": 12,
   "metadata": {
    "ExecuteTime": {
     "start_time": "2023-04-04T16:48:33.069253Z",
     "end_time": "2023-04-04T16:48:33.081776Z"
    }
   },
   "outputs": [
    {
     "data": {
      "text/plain": "age                  0\nworkclass         1836\nfnlwgt               0\neducation            0\neducation_num        0\nmarital_status       0\noccupation        1843\nrelationship         0\nrace                 0\ngender               0\ncapital_gain         0\ncapital_loss         0\nhours_per_week       0\nnative_country     583\nincome_bracket       0\ndtype: int64"
     },
     "execution_count": 12,
     "metadata": {},
     "output_type": "execute_result"
    }
   ],
   "source": [
    "train_data.isnull().sum()"
   ]
  },
  {
   "cell_type": "code",
   "execution_count": 13,
   "metadata": {
    "ExecuteTime": {
     "start_time": "2023-04-04T16:48:33.095914Z",
     "end_time": "2023-04-04T16:48:33.224975Z"
    }
   },
   "outputs": [
    {
     "data": {
      "text/plain": "       age workclass  fnlwgt education  education_num marital_status  \\\n4881    25         3  308144         9             13              4   \n5104    90         3   52386        15             10              4   \n9171    21         3  250051        15             10              4   \n11631   20         3  107658        15             10              4   \n13084   25         3  195994         3              2              4   \n15059   21         3  243368        13              1              4   \n17040   46         3  173243        11              9              2   \n18555   30         3  144593        11              9              4   \n18698   19         3   97261        11              9              4   \n21318   19         3  138153        15             10              4   \n21490   19         3  146679        15             10              4   \n21875   49         3   31267         5              4              2   \n22300   25         3  195994         3              2              4   \n22367   44         3  367749         9             13              4   \n22494   49         5   43479        15             10              2   \n25872   23         3  240137         4              3              4   \n26313   28         3  274679        12             14              4   \n28230   27         3  255582        11              9              4   \n28522   42         3  204235        15             10              2   \n28846   39         3   30916        11              9              2   \n29157   38         3  207202        11              9              2   \n30845   46         3  133616        15             10              0   \n31993   19         3  251579        15             10              4   \n32404   35         3  379959        11              9              0   \n\n      occupation relationship race gender  capital_gain  capital_loss  \\\n4881           2            1    4      1             0             0   \n5104           7            1    1      1             0             0   \n9171           9            3    4      0             0             0   \n11631         12            1    4      0             0             0   \n13084          8            1    4      0             0             0   \n15059          4            1    4      1             0             0   \n17040          2            0    4      1             0             0   \n18555          7            1    2      1             0             0   \n18698          4            1    4      1             0             0   \n21318          0            3    4      0             0             0   \n21490          3            3    2      1             0             0   \n21875          2            0    4      1             0             0   \n22300          8            1    4      0             0             0   \n22367          9            1    4      0             0             0   \n22494          2            0    4      1             0             0   \n25872          5            1    4      1             0             0   \n26313          9            1    4      1             0             0   \n28230          6            1    4      0             0             0   \n28522          9            0    4      1             0             0   \n28846          2            0    4      1             0             0   \n29157          6            0    4      1             0             0   \n30845          0            4    4      0             0             0   \n31993          7            3    4      1             0             0   \n32404          7            1    4      0             0             0   \n\n       hours_per_week native_country income_bracket  \n4881               40             25              0  \n5104               35             38              0  \n9171               10             38              0  \n11631              10             38              0  \n13084              40             12              0  \n15059              50             25              0  \n17040              40             38              0  \n18555              40            NaN              0  \n18698              40             38              0  \n21318              10             38              0  \n21490              30             38              0  \n21875              40             38              0  \n22300              40             12              0  \n22367              45             25              0  \n22494              40             38              0  \n25872              55             25              0  \n26313              50             38              0  \n28230              40             38              0  \n28522              40             38              1  \n28846              40             38              0  \n29157              48             38              1  \n30845              40             38              0  \n31993              14             38              0  \n32404              40             38              0  ",
      "text/html": "<div>\n<style scoped>\n    .dataframe tbody tr th:only-of-type {\n        vertical-align: middle;\n    }\n\n    .dataframe tbody tr th {\n        vertical-align: top;\n    }\n\n    .dataframe thead th {\n        text-align: right;\n    }\n</style>\n<table border=\"1\" class=\"dataframe\">\n  <thead>\n    <tr style=\"text-align: right;\">\n      <th></th>\n      <th>age</th>\n      <th>workclass</th>\n      <th>fnlwgt</th>\n      <th>education</th>\n      <th>education_num</th>\n      <th>marital_status</th>\n      <th>occupation</th>\n      <th>relationship</th>\n      <th>race</th>\n      <th>gender</th>\n      <th>capital_gain</th>\n      <th>capital_loss</th>\n      <th>hours_per_week</th>\n      <th>native_country</th>\n      <th>income_bracket</th>\n    </tr>\n  </thead>\n  <tbody>\n    <tr>\n      <th>4881</th>\n      <td>25</td>\n      <td>3</td>\n      <td>308144</td>\n      <td>9</td>\n      <td>13</td>\n      <td>4</td>\n      <td>2</td>\n      <td>1</td>\n      <td>4</td>\n      <td>1</td>\n      <td>0</td>\n      <td>0</td>\n      <td>40</td>\n      <td>25</td>\n      <td>0</td>\n    </tr>\n    <tr>\n      <th>5104</th>\n      <td>90</td>\n      <td>3</td>\n      <td>52386</td>\n      <td>15</td>\n      <td>10</td>\n      <td>4</td>\n      <td>7</td>\n      <td>1</td>\n      <td>1</td>\n      <td>1</td>\n      <td>0</td>\n      <td>0</td>\n      <td>35</td>\n      <td>38</td>\n      <td>0</td>\n    </tr>\n    <tr>\n      <th>9171</th>\n      <td>21</td>\n      <td>3</td>\n      <td>250051</td>\n      <td>15</td>\n      <td>10</td>\n      <td>4</td>\n      <td>9</td>\n      <td>3</td>\n      <td>4</td>\n      <td>0</td>\n      <td>0</td>\n      <td>0</td>\n      <td>10</td>\n      <td>38</td>\n      <td>0</td>\n    </tr>\n    <tr>\n      <th>11631</th>\n      <td>20</td>\n      <td>3</td>\n      <td>107658</td>\n      <td>15</td>\n      <td>10</td>\n      <td>4</td>\n      <td>12</td>\n      <td>1</td>\n      <td>4</td>\n      <td>0</td>\n      <td>0</td>\n      <td>0</td>\n      <td>10</td>\n      <td>38</td>\n      <td>0</td>\n    </tr>\n    <tr>\n      <th>13084</th>\n      <td>25</td>\n      <td>3</td>\n      <td>195994</td>\n      <td>3</td>\n      <td>2</td>\n      <td>4</td>\n      <td>8</td>\n      <td>1</td>\n      <td>4</td>\n      <td>0</td>\n      <td>0</td>\n      <td>0</td>\n      <td>40</td>\n      <td>12</td>\n      <td>0</td>\n    </tr>\n    <tr>\n      <th>15059</th>\n      <td>21</td>\n      <td>3</td>\n      <td>243368</td>\n      <td>13</td>\n      <td>1</td>\n      <td>4</td>\n      <td>4</td>\n      <td>1</td>\n      <td>4</td>\n      <td>1</td>\n      <td>0</td>\n      <td>0</td>\n      <td>50</td>\n      <td>25</td>\n      <td>0</td>\n    </tr>\n    <tr>\n      <th>17040</th>\n      <td>46</td>\n      <td>3</td>\n      <td>173243</td>\n      <td>11</td>\n      <td>9</td>\n      <td>2</td>\n      <td>2</td>\n      <td>0</td>\n      <td>4</td>\n      <td>1</td>\n      <td>0</td>\n      <td>0</td>\n      <td>40</td>\n      <td>38</td>\n      <td>0</td>\n    </tr>\n    <tr>\n      <th>18555</th>\n      <td>30</td>\n      <td>3</td>\n      <td>144593</td>\n      <td>11</td>\n      <td>9</td>\n      <td>4</td>\n      <td>7</td>\n      <td>1</td>\n      <td>2</td>\n      <td>1</td>\n      <td>0</td>\n      <td>0</td>\n      <td>40</td>\n      <td>NaN</td>\n      <td>0</td>\n    </tr>\n    <tr>\n      <th>18698</th>\n      <td>19</td>\n      <td>3</td>\n      <td>97261</td>\n      <td>11</td>\n      <td>9</td>\n      <td>4</td>\n      <td>4</td>\n      <td>1</td>\n      <td>4</td>\n      <td>1</td>\n      <td>0</td>\n      <td>0</td>\n      <td>40</td>\n      <td>38</td>\n      <td>0</td>\n    </tr>\n    <tr>\n      <th>21318</th>\n      <td>19</td>\n      <td>3</td>\n      <td>138153</td>\n      <td>15</td>\n      <td>10</td>\n      <td>4</td>\n      <td>0</td>\n      <td>3</td>\n      <td>4</td>\n      <td>0</td>\n      <td>0</td>\n      <td>0</td>\n      <td>10</td>\n      <td>38</td>\n      <td>0</td>\n    </tr>\n    <tr>\n      <th>21490</th>\n      <td>19</td>\n      <td>3</td>\n      <td>146679</td>\n      <td>15</td>\n      <td>10</td>\n      <td>4</td>\n      <td>3</td>\n      <td>3</td>\n      <td>2</td>\n      <td>1</td>\n      <td>0</td>\n      <td>0</td>\n      <td>30</td>\n      <td>38</td>\n      <td>0</td>\n    </tr>\n    <tr>\n      <th>21875</th>\n      <td>49</td>\n      <td>3</td>\n      <td>31267</td>\n      <td>5</td>\n      <td>4</td>\n      <td>2</td>\n      <td>2</td>\n      <td>0</td>\n      <td>4</td>\n      <td>1</td>\n      <td>0</td>\n      <td>0</td>\n      <td>40</td>\n      <td>38</td>\n      <td>0</td>\n    </tr>\n    <tr>\n      <th>22300</th>\n      <td>25</td>\n      <td>3</td>\n      <td>195994</td>\n      <td>3</td>\n      <td>2</td>\n      <td>4</td>\n      <td>8</td>\n      <td>1</td>\n      <td>4</td>\n      <td>0</td>\n      <td>0</td>\n      <td>0</td>\n      <td>40</td>\n      <td>12</td>\n      <td>0</td>\n    </tr>\n    <tr>\n      <th>22367</th>\n      <td>44</td>\n      <td>3</td>\n      <td>367749</td>\n      <td>9</td>\n      <td>13</td>\n      <td>4</td>\n      <td>9</td>\n      <td>1</td>\n      <td>4</td>\n      <td>0</td>\n      <td>0</td>\n      <td>0</td>\n      <td>45</td>\n      <td>25</td>\n      <td>0</td>\n    </tr>\n    <tr>\n      <th>22494</th>\n      <td>49</td>\n      <td>5</td>\n      <td>43479</td>\n      <td>15</td>\n      <td>10</td>\n      <td>2</td>\n      <td>2</td>\n      <td>0</td>\n      <td>4</td>\n      <td>1</td>\n      <td>0</td>\n      <td>0</td>\n      <td>40</td>\n      <td>38</td>\n      <td>0</td>\n    </tr>\n    <tr>\n      <th>25872</th>\n      <td>23</td>\n      <td>3</td>\n      <td>240137</td>\n      <td>4</td>\n      <td>3</td>\n      <td>4</td>\n      <td>5</td>\n      <td>1</td>\n      <td>4</td>\n      <td>1</td>\n      <td>0</td>\n      <td>0</td>\n      <td>55</td>\n      <td>25</td>\n      <td>0</td>\n    </tr>\n    <tr>\n      <th>26313</th>\n      <td>28</td>\n      <td>3</td>\n      <td>274679</td>\n      <td>12</td>\n      <td>14</td>\n      <td>4</td>\n      <td>9</td>\n      <td>1</td>\n      <td>4</td>\n      <td>1</td>\n      <td>0</td>\n      <td>0</td>\n      <td>50</td>\n      <td>38</td>\n      <td>0</td>\n    </tr>\n    <tr>\n      <th>28230</th>\n      <td>27</td>\n      <td>3</td>\n      <td>255582</td>\n      <td>11</td>\n      <td>9</td>\n      <td>4</td>\n      <td>6</td>\n      <td>1</td>\n      <td>4</td>\n      <td>0</td>\n      <td>0</td>\n      <td>0</td>\n      <td>40</td>\n      <td>38</td>\n      <td>0</td>\n    </tr>\n    <tr>\n      <th>28522</th>\n      <td>42</td>\n      <td>3</td>\n      <td>204235</td>\n      <td>15</td>\n      <td>10</td>\n      <td>2</td>\n      <td>9</td>\n      <td>0</td>\n      <td>4</td>\n      <td>1</td>\n      <td>0</td>\n      <td>0</td>\n      <td>40</td>\n      <td>38</td>\n      <td>1</td>\n    </tr>\n    <tr>\n      <th>28846</th>\n      <td>39</td>\n      <td>3</td>\n      <td>30916</td>\n      <td>11</td>\n      <td>9</td>\n      <td>2</td>\n      <td>2</td>\n      <td>0</td>\n      <td>4</td>\n      <td>1</td>\n      <td>0</td>\n      <td>0</td>\n      <td>40</td>\n      <td>38</td>\n      <td>0</td>\n    </tr>\n    <tr>\n      <th>29157</th>\n      <td>38</td>\n      <td>3</td>\n      <td>207202</td>\n      <td>11</td>\n      <td>9</td>\n      <td>2</td>\n      <td>6</td>\n      <td>0</td>\n      <td>4</td>\n      <td>1</td>\n      <td>0</td>\n      <td>0</td>\n      <td>48</td>\n      <td>38</td>\n      <td>1</td>\n    </tr>\n    <tr>\n      <th>30845</th>\n      <td>46</td>\n      <td>3</td>\n      <td>133616</td>\n      <td>15</td>\n      <td>10</td>\n      <td>0</td>\n      <td>0</td>\n      <td>4</td>\n      <td>4</td>\n      <td>0</td>\n      <td>0</td>\n      <td>0</td>\n      <td>40</td>\n      <td>38</td>\n      <td>0</td>\n    </tr>\n    <tr>\n      <th>31993</th>\n      <td>19</td>\n      <td>3</td>\n      <td>251579</td>\n      <td>15</td>\n      <td>10</td>\n      <td>4</td>\n      <td>7</td>\n      <td>3</td>\n      <td>4</td>\n      <td>1</td>\n      <td>0</td>\n      <td>0</td>\n      <td>14</td>\n      <td>38</td>\n      <td>0</td>\n    </tr>\n    <tr>\n      <th>32404</th>\n      <td>35</td>\n      <td>3</td>\n      <td>379959</td>\n      <td>11</td>\n      <td>9</td>\n      <td>0</td>\n      <td>7</td>\n      <td>1</td>\n      <td>4</td>\n      <td>0</td>\n      <td>0</td>\n      <td>0</td>\n      <td>40</td>\n      <td>38</td>\n      <td>0</td>\n    </tr>\n  </tbody>\n</table>\n</div>"
     },
     "execution_count": 13,
     "metadata": {},
     "output_type": "execute_result"
    }
   ],
   "source": [
    "train_data[train_data.duplicated() == True]"
   ]
  },
  {
   "cell_type": "code",
   "execution_count": 14,
   "metadata": {
    "ExecuteTime": {
     "start_time": "2023-04-04T16:48:33.096423Z",
     "end_time": "2023-04-04T16:48:33.224975Z"
    }
   },
   "outputs": [],
   "source": [
    "train_data.drop_duplicates(inplace=True)"
   ]
  },
  {
   "cell_type": "code",
   "execution_count": 15,
   "metadata": {
    "ExecuteTime": {
     "start_time": "2023-04-04T16:48:33.096423Z",
     "end_time": "2023-04-04T16:48:33.224975Z"
    }
   },
   "outputs": [
    {
     "data": {
      "text/plain": "                age        fnlwgt  education_num  capital_gain  capital_loss  \\\ncount  32537.000000  3.253700e+04   32537.000000  32537.000000  32537.000000   \nmean      38.585549  1.897808e+05      10.081815   1078.443741     87.368227   \nstd       13.637984  1.055565e+05       2.571633   7387.957424    403.101833   \nmin       17.000000  1.228500e+04       1.000000      0.000000      0.000000   \n25%       28.000000  1.178270e+05       9.000000      0.000000      0.000000   \n50%       37.000000  1.783560e+05      10.000000      0.000000      0.000000   \n75%       48.000000  2.369930e+05      12.000000      0.000000      0.000000   \nmax       90.000000  1.484705e+06      16.000000  99999.000000   4356.000000   \n\n       hours_per_week  \ncount    32537.000000  \nmean        40.440329  \nstd         12.346889  \nmin          1.000000  \n25%         40.000000  \n50%         40.000000  \n75%         45.000000  \nmax         99.000000  ",
      "text/html": "<div>\n<style scoped>\n    .dataframe tbody tr th:only-of-type {\n        vertical-align: middle;\n    }\n\n    .dataframe tbody tr th {\n        vertical-align: top;\n    }\n\n    .dataframe thead th {\n        text-align: right;\n    }\n</style>\n<table border=\"1\" class=\"dataframe\">\n  <thead>\n    <tr style=\"text-align: right;\">\n      <th></th>\n      <th>age</th>\n      <th>fnlwgt</th>\n      <th>education_num</th>\n      <th>capital_gain</th>\n      <th>capital_loss</th>\n      <th>hours_per_week</th>\n    </tr>\n  </thead>\n  <tbody>\n    <tr>\n      <th>count</th>\n      <td>32537.000000</td>\n      <td>3.253700e+04</td>\n      <td>32537.000000</td>\n      <td>32537.000000</td>\n      <td>32537.000000</td>\n      <td>32537.000000</td>\n    </tr>\n    <tr>\n      <th>mean</th>\n      <td>38.585549</td>\n      <td>1.897808e+05</td>\n      <td>10.081815</td>\n      <td>1078.443741</td>\n      <td>87.368227</td>\n      <td>40.440329</td>\n    </tr>\n    <tr>\n      <th>std</th>\n      <td>13.637984</td>\n      <td>1.055565e+05</td>\n      <td>2.571633</td>\n      <td>7387.957424</td>\n      <td>403.101833</td>\n      <td>12.346889</td>\n    </tr>\n    <tr>\n      <th>min</th>\n      <td>17.000000</td>\n      <td>1.228500e+04</td>\n      <td>1.000000</td>\n      <td>0.000000</td>\n      <td>0.000000</td>\n      <td>1.000000</td>\n    </tr>\n    <tr>\n      <th>25%</th>\n      <td>28.000000</td>\n      <td>1.178270e+05</td>\n      <td>9.000000</td>\n      <td>0.000000</td>\n      <td>0.000000</td>\n      <td>40.000000</td>\n    </tr>\n    <tr>\n      <th>50%</th>\n      <td>37.000000</td>\n      <td>1.783560e+05</td>\n      <td>10.000000</td>\n      <td>0.000000</td>\n      <td>0.000000</td>\n      <td>40.000000</td>\n    </tr>\n    <tr>\n      <th>75%</th>\n      <td>48.000000</td>\n      <td>2.369930e+05</td>\n      <td>12.000000</td>\n      <td>0.000000</td>\n      <td>0.000000</td>\n      <td>45.000000</td>\n    </tr>\n    <tr>\n      <th>max</th>\n      <td>90.000000</td>\n      <td>1.484705e+06</td>\n      <td>16.000000</td>\n      <td>99999.000000</td>\n      <td>4356.000000</td>\n      <td>99.000000</td>\n    </tr>\n  </tbody>\n</table>\n</div>"
     },
     "execution_count": 15,
     "metadata": {},
     "output_type": "execute_result"
    }
   ],
   "source": [
    "train_data.describe()"
   ]
  },
  {
   "cell_type": "code",
   "execution_count": 16,
   "metadata": {
    "ExecuteTime": {
     "start_time": "2023-04-04T16:48:33.096423Z",
     "end_time": "2023-04-04T16:48:33.407366Z"
    }
   },
   "outputs": [
    {
     "data": {
      "text/plain": "Text(0.5, 1.0, 'Correlation Heatmap')"
     },
     "execution_count": 16,
     "metadata": {},
     "output_type": "execute_result"
    },
    {
     "data": {
      "text/plain": "<Figure size 432x360 with 2 Axes>",
      "image/png": "[encoded data removed]"
     },
     "metadata": {
      "needs_background": "light"
     },
     "output_type": "display_data"
    }
   ],
   "source": [
    "plt.figure(figsize=(6,5))\n",
    "sns.heatmap(train_data.corr(), cmap='coolwarm')\n",
    "plt.title('Correlation Heatmap')"
   ]
  },
  {
   "cell_type": "code",
   "execution_count": 17,
   "metadata": {
    "ExecuteTime": {
     "start_time": "2023-04-04T16:48:33.337329Z",
     "end_time": "2023-04-04T16:48:33.441100Z"
    }
   },
   "outputs": [
    {
     "data": {
      "text/plain": "3.1506569715524937"
     },
     "execution_count": 17,
     "metadata": {},
     "output_type": "execute_result"
    }
   ],
   "source": [
    "counts = np.bincount(train_data[\"income_bracket\"])\n",
    "class_weight = {\n",
    "    0: counts[0] / train_data.shape[0],\n",
    "    1: counts[1] / train_data.shape[0]\n",
    "}\n",
    "scale_pos_weight = class_weight[0]/class_weight[1]\n",
    "scale_pos_weight"
   ]
  },
  {
   "cell_type": "code",
   "execution_count": 18,
   "metadata": {
    "ExecuteTime": {
     "start_time": "2023-04-04T16:48:33.355963Z",
     "end_time": "2023-04-04T16:48:33.464992Z"
    }
   },
   "outputs": [],
   "source": [
    "X_train = train_data.drop(columns=[\"income_bracket\"], axis=1)\n",
    "y_train = train_data[\"income_bracket\"]\n",
    "X_test = test_data.drop(columns=[\"income_bracket\"], axis=1)\n",
    "y_test = test_data[\"income_bracket\"]"
   ]
  },
  {
   "cell_type": "code",
   "execution_count": 19,
   "metadata": {
    "ExecuteTime": {
     "start_time": "2023-04-04T16:48:33.364007Z",
     "end_time": "2023-04-04T16:48:34.291712Z"
    }
   },
   "outputs": [
    {
     "name": "stdout",
     "output_type": "stream",
     "text": [
      "[LightGBM] [Info] Number of positive: 7839, number of negative: 24698\n",
      "[LightGBM] [Info] Total Bins 769\n",
      "[LightGBM] [Info] Number of data points in the train set: 32537, number of used features: 14\n",
      "[LightGBM] [Info] [binary:BoostFromScore]: pavg=0.240926 -> initscore=-1.147611\n",
      "[LightGBM] [Info] Start training from score -1.147611\n"
     ]
    }
   ],
   "source": [
    "start = time.time()\n",
    "model = lgb.LGBMClassifier(force_row_wise=True, boosting_type=\"gbdt\", scale_pos_weight=scale_pos_weight, learning_rate=0.162, max_bin=320, n_estimators=360)\n",
    "model = model.fit(X_train, y_train)"
   ]
  },
  {
   "cell_type": "code",
   "execution_count": 20,
   "metadata": {
    "ExecuteTime": {
     "start_time": "2023-04-04T16:48:34.293332Z",
     "end_time": "2023-04-04T16:48:34.447268Z"
    }
   },
   "outputs": [
    {
     "name": "stdout",
     "output_type": "stream",
     "text": [
      "F1 score: 0.7104600595101854\n",
      "Accuracy: 0.8446041397948529\n",
      "Training time: 1.0591073036193848s\n"
     ]
    }
   ],
   "source": [
    "y_pred = model.predict(X_test.values)\n",
    "print(f\"F1 score: {f1_score(y_test, y_pred)}\")\n",
    "print(f\"Accuracy: {accuracy_score(y_test, y_pred)}\")\n",
    "end = time.time()\n",
    "print(f\"Training time: {end - start}s\")"
   ]
  }
 ],
 "metadata": {
  "kernelspec": {
   "display_name": "Python 3 (ipykernel)",
   "language": "python",
   "name": "python3"
  },
  "language_info": {
   "codemirror_mode": {
    "name": "ipython",
    "version": 3
   },
   "file_extension": ".py",
   "mimetype": "text/x-python",
   "name": "python",
   "nbconvert_exporter": "python",
   "pygments_lexer": "ipython3",
   "version": "3.10.9"
  },
  "orig_nbformat": 4
 },
 "nbformat": 4,
 "nbformat_minor": 2
}
