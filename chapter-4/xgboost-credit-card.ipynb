{
 "cells": [
  {
   "cell_type": "code",
   "execution_count": 1,
   "metadata": {
    "ExecuteTime": {
     "start_time": "2023-04-08T22:45:08.661035Z",
     "end_time": "2023-04-08T22:45:09.804059Z"
    }
   },
   "outputs": [],
   "source": [
    "import numpy as np\n",
    "import pandas as pd\n",
    "import xgboost as xgb\n",
    "from sklearn.model_selection import cross_val_score\n",
    "import time"
   ]
  },
  {
   "cell_type": "code",
   "execution_count": 2,
   "metadata": {
    "ExecuteTime": {
     "start_time": "2023-04-08T22:45:09.819967Z",
     "end_time": "2023-04-08T22:45:12.935430Z"
    }
   },
   "outputs": [],
   "source": [
    "df = pd.read_csv(\"cc-fraud/creditcard.csv\")"
   ]
  },
  {
   "cell_type": "code",
   "execution_count": 3,
   "metadata": {
    "ExecuteTime": {
     "start_time": "2023-04-08T22:45:12.937930Z",
     "end_time": "2023-04-08T22:45:13.205032Z"
    }
   },
   "outputs": [
    {
     "data": {
      "text/plain": "            Time        V1        V2        V3        V4        V5        V6  \\\n90016    62835.0  1.186916 -0.628387  0.823801  0.634563 -0.991028  0.378426   \n169324  119638.0  2.091130 -0.100302 -1.463019  0.057325  0.445755 -0.296167   \n157914  110608.0  0.172057  1.157305 -0.347110 -0.391079  1.090960 -0.670067   \n54321    46390.0 -2.446626 -1.392801  2.486090 -1.437006 -0.130777  0.247363   \n224520  143840.0  1.987746 -0.345377 -0.857260 -0.026509 -0.255560 -0.433971   \n134279   80731.0  1.088271  0.515387  0.034373  2.544648  0.127277 -0.815731   \n277531  167698.0 -0.549196  1.667503  1.723408  4.506009 -0.387283  0.909142   \n253777  156415.0 -0.746983  0.806339 -1.143385 -1.829478 -1.254622 -0.462788   \n213054  139095.0 -1.187823 -0.797728  1.826044 -1.726375  0.387285 -0.455587   \n138876   82895.0 -2.001406  1.469920  1.430859  1.484364 -1.855166  0.650517   \n\n              V7        V8        V9  ...       V21       V22       V23  \\\n90016  -0.733348  0.129817 -0.467202  ... -0.413338 -0.459490 -0.115784   \n169324  0.086775 -0.144889  0.292411  ... -0.299988 -0.742414  0.196875   \n157914  0.875220 -0.178660  1.250112  ... -0.507823 -1.058637  0.074348   \n54321  -0.122512 -0.217604  0.171860  ... -0.193329  0.546879  0.428545   \n224520 -0.268325  0.049544  1.195217  ... -0.439221 -1.184703  0.418502   \n134279  0.657932 -0.296933 -1.052196  ...  0.028268 -0.108078 -0.167465   \n277531 -0.217665  0.666612 -1.666344  ...  0.302117  1.030549 -0.120420   \n253777 -0.994538  1.277622 -1.207482  ... -0.022226 -0.519674  0.629858   \n213054 -0.434468  0.174386 -0.675245  ... -0.157146 -0.204616 -0.321785   \n138876 -1.487717  1.651590  0.920541  ...  0.134146  0.430580  0.138413   \n\n             V24       V25       V26       V27       V28  Amount  Class  \n90016   0.013555  0.609051 -0.305222  0.077682  0.025180   45.45      0  \n169324 -1.026305 -0.179246  0.240368 -0.073363 -0.079581    1.98      0  \n157914  0.309518 -0.416293  0.086843  0.196423  0.075552    0.89      0  \n54321   0.025033  0.487434 -0.373896 -0.686355  0.157639   30.00      0  \n224520 -0.578599 -0.421837 -1.072648  0.024619 -0.050843    7.00      0  \n134279  0.398679  0.700764  0.060626 -0.054062  0.022710   76.07      0  \n277531  0.010829 -0.379345  0.538205  0.336028  0.179168   25.03      0  \n253777  0.695904 -1.139688 -0.898166 -0.304241 -0.148031   38.00      0  \n213054 -0.714656  0.633766  0.815002 -0.036699  0.056779   26.99      0  \n138876  0.426804 -0.443392 -0.360828 -0.404383  0.046306    3.43      0  \n\n[10 rows x 31 columns]",
      "text/html": "<div>\n<style scoped>\n    .dataframe tbody tr th:only-of-type {\n        vertical-align: middle;\n    }\n\n    .dataframe tbody tr th {\n        vertical-align: top;\n    }\n\n    .dataframe thead th {\n        text-align: right;\n    }\n</style>\n<table border=\"1\" class=\"dataframe\">\n  <thead>\n    <tr style=\"text-align: right;\">\n      <th></th>\n      <th>Time</th>\n      <th>V1</th>\n      <th>V2</th>\n      <th>V3</th>\n      <th>V4</th>\n      <th>V5</th>\n      <th>V6</th>\n      <th>V7</th>\n      <th>V8</th>\n      <th>V9</th>\n      <th>...</th>\n      <th>V21</th>\n      <th>V22</th>\n      <th>V23</th>\n      <th>V24</th>\n      <th>V25</th>\n      <th>V26</th>\n      <th>V27</th>\n      <th>V28</th>\n      <th>Amount</th>\n      <th>Class</th>\n    </tr>\n  </thead>\n  <tbody>\n    <tr>\n      <th>90016</th>\n      <td>62835.0</td>\n      <td>1.186916</td>\n      <td>-0.628387</td>\n      <td>0.823801</td>\n      <td>0.634563</td>\n      <td>-0.991028</td>\n      <td>0.378426</td>\n      <td>-0.733348</td>\n      <td>0.129817</td>\n      <td>-0.467202</td>\n      <td>...</td>\n      <td>-0.413338</td>\n      <td>-0.459490</td>\n      <td>-0.115784</td>\n      <td>0.013555</td>\n      <td>0.609051</td>\n      <td>-0.305222</td>\n      <td>0.077682</td>\n      <td>0.025180</td>\n      <td>45.45</td>\n      <td>0</td>\n    </tr>\n    <tr>\n      <th>169324</th>\n      <td>119638.0</td>\n      <td>2.091130</td>\n      <td>-0.100302</td>\n      <td>-1.463019</td>\n      <td>0.057325</td>\n      <td>0.445755</td>\n      <td>-0.296167</td>\n      <td>0.086775</td>\n      <td>-0.144889</td>\n      <td>0.292411</td>\n      <td>...</td>\n      <td>-0.299988</td>\n      <td>-0.742414</td>\n      <td>0.196875</td>\n      <td>-1.026305</td>\n      <td>-0.179246</td>\n      <td>0.240368</td>\n      <td>-0.073363</td>\n      <td>-0.079581</td>\n      <td>1.98</td>\n      <td>0</td>\n    </tr>\n    <tr>\n      <th>157914</th>\n      <td>110608.0</td>\n      <td>0.172057</td>\n      <td>1.157305</td>\n      <td>-0.347110</td>\n      <td>-0.391079</td>\n      <td>1.090960</td>\n      <td>-0.670067</td>\n      <td>0.875220</td>\n      <td>-0.178660</td>\n      <td>1.250112</td>\n      <td>...</td>\n      <td>-0.507823</td>\n      <td>-1.058637</td>\n      <td>0.074348</td>\n      <td>0.309518</td>\n      <td>-0.416293</td>\n      <td>0.086843</td>\n      <td>0.196423</td>\n      <td>0.075552</td>\n      <td>0.89</td>\n      <td>0</td>\n    </tr>\n    <tr>\n      <th>54321</th>\n      <td>46390.0</td>\n      <td>-2.446626</td>\n      <td>-1.392801</td>\n      <td>2.486090</td>\n      <td>-1.437006</td>\n      <td>-0.130777</td>\n      <td>0.247363</td>\n      <td>-0.122512</td>\n      <td>-0.217604</td>\n      <td>0.171860</td>\n      <td>...</td>\n      <td>-0.193329</td>\n      <td>0.546879</td>\n      <td>0.428545</td>\n      <td>0.025033</td>\n      <td>0.487434</td>\n      <td>-0.373896</td>\n      <td>-0.686355</td>\n      <td>0.157639</td>\n      <td>30.00</td>\n      <td>0</td>\n    </tr>\n    <tr>\n      <th>224520</th>\n      <td>143840.0</td>\n      <td>1.987746</td>\n      <td>-0.345377</td>\n      <td>-0.857260</td>\n      <td>-0.026509</td>\n      <td>-0.255560</td>\n      <td>-0.433971</td>\n      <td>-0.268325</td>\n      <td>0.049544</td>\n      <td>1.195217</td>\n      <td>...</td>\n      <td>-0.439221</td>\n      <td>-1.184703</td>\n      <td>0.418502</td>\n      <td>-0.578599</td>\n      <td>-0.421837</td>\n      <td>-1.072648</td>\n      <td>0.024619</td>\n      <td>-0.050843</td>\n      <td>7.00</td>\n      <td>0</td>\n    </tr>\n    <tr>\n      <th>134279</th>\n      <td>80731.0</td>\n      <td>1.088271</td>\n      <td>0.515387</td>\n      <td>0.034373</td>\n      <td>2.544648</td>\n      <td>0.127277</td>\n      <td>-0.815731</td>\n      <td>0.657932</td>\n      <td>-0.296933</td>\n      <td>-1.052196</td>\n      <td>...</td>\n      <td>0.028268</td>\n      <td>-0.108078</td>\n      <td>-0.167465</td>\n      <td>0.398679</td>\n      <td>0.700764</td>\n      <td>0.060626</td>\n      <td>-0.054062</td>\n      <td>0.022710</td>\n      <td>76.07</td>\n      <td>0</td>\n    </tr>\n    <tr>\n      <th>277531</th>\n      <td>167698.0</td>\n      <td>-0.549196</td>\n      <td>1.667503</td>\n      <td>1.723408</td>\n      <td>4.506009</td>\n      <td>-0.387283</td>\n      <td>0.909142</td>\n      <td>-0.217665</td>\n      <td>0.666612</td>\n      <td>-1.666344</td>\n      <td>...</td>\n      <td>0.302117</td>\n      <td>1.030549</td>\n      <td>-0.120420</td>\n      <td>0.010829</td>\n      <td>-0.379345</td>\n      <td>0.538205</td>\n      <td>0.336028</td>\n      <td>0.179168</td>\n      <td>25.03</td>\n      <td>0</td>\n    </tr>\n    <tr>\n      <th>253777</th>\n      <td>156415.0</td>\n      <td>-0.746983</td>\n      <td>0.806339</td>\n      <td>-1.143385</td>\n      <td>-1.829478</td>\n      <td>-1.254622</td>\n      <td>-0.462788</td>\n      <td>-0.994538</td>\n      <td>1.277622</td>\n      <td>-1.207482</td>\n      <td>...</td>\n      <td>-0.022226</td>\n      <td>-0.519674</td>\n      <td>0.629858</td>\n      <td>0.695904</td>\n      <td>-1.139688</td>\n      <td>-0.898166</td>\n      <td>-0.304241</td>\n      <td>-0.148031</td>\n      <td>38.00</td>\n      <td>0</td>\n    </tr>\n    <tr>\n      <th>213054</th>\n      <td>139095.0</td>\n      <td>-1.187823</td>\n      <td>-0.797728</td>\n      <td>1.826044</td>\n      <td>-1.726375</td>\n      <td>0.387285</td>\n      <td>-0.455587</td>\n      <td>-0.434468</td>\n      <td>0.174386</td>\n      <td>-0.675245</td>\n      <td>...</td>\n      <td>-0.157146</td>\n      <td>-0.204616</td>\n      <td>-0.321785</td>\n      <td>-0.714656</td>\n      <td>0.633766</td>\n      <td>0.815002</td>\n      <td>-0.036699</td>\n      <td>0.056779</td>\n      <td>26.99</td>\n      <td>0</td>\n    </tr>\n    <tr>\n      <th>138876</th>\n      <td>82895.0</td>\n      <td>-2.001406</td>\n      <td>1.469920</td>\n      <td>1.430859</td>\n      <td>1.484364</td>\n      <td>-1.855166</td>\n      <td>0.650517</td>\n      <td>-1.487717</td>\n      <td>1.651590</td>\n      <td>0.920541</td>\n      <td>...</td>\n      <td>0.134146</td>\n      <td>0.430580</td>\n      <td>0.138413</td>\n      <td>0.426804</td>\n      <td>-0.443392</td>\n      <td>-0.360828</td>\n      <td>-0.404383</td>\n      <td>0.046306</td>\n      <td>3.43</td>\n      <td>0</td>\n    </tr>\n  </tbody>\n</table>\n<p>10 rows × 31 columns</p>\n</div>"
     },
     "execution_count": 3,
     "metadata": {},
     "output_type": "execute_result"
    }
   ],
   "source": [
    "df.sample(10)"
   ]
  },
  {
   "cell_type": "code",
   "execution_count": 4,
   "outputs": [
    {
     "data": {
      "text/plain": "577.8760162601625"
     },
     "execution_count": 4,
     "metadata": {},
     "output_type": "execute_result"
    }
   ],
   "source": [
    "counts = np.bincount(df[\"Class\"])\n",
    "class_weight = {\n",
    "    0: counts[0] / df.shape[0],\n",
    "    1: counts[1] / df.shape[0]\n",
    "}\n",
    "scale_pos_weight = class_weight[0]/class_weight[1]\n",
    "scale_pos_weight"
   ],
   "metadata": {
    "collapsed": false,
    "ExecuteTime": {
     "start_time": "2023-04-08T22:45:13.206025Z",
     "end_time": "2023-04-08T22:45:13.208026Z"
    }
   }
  },
  {
   "cell_type": "code",
   "execution_count": 5,
   "metadata": {
    "ExecuteTime": {
     "start_time": "2023-04-08T22:45:13.206526Z",
     "end_time": "2023-04-08T22:45:13.208533Z"
    }
   },
   "outputs": [],
   "source": [
    "X = df.drop(columns=[\"Class\"], axis=1)\n",
    "y = df[\"Class\"]"
   ]
  },
  {
   "cell_type": "code",
   "execution_count": 6,
   "outputs": [],
   "source": [
    "model = xgb.XGBClassifier(scale_pos_weight=scale_pos_weight, n_estimators=320, learning_rate=0.423)"
   ],
   "metadata": {
    "collapsed": false,
    "ExecuteTime": {
     "start_time": "2023-04-08T22:45:13.207027Z",
     "end_time": "2023-04-08T22:45:13.218027Z"
    }
   }
  },
  {
   "cell_type": "code",
   "execution_count": 7,
   "metadata": {
    "ExecuteTime": {
     "start_time": "2023-04-08T22:45:13.222526Z",
     "end_time": "2023-04-08T22:51:05.097714Z"
    }
   },
   "outputs": [
    {
     "name": "stdout",
     "output_type": "stream",
     "text": [
      "Mean F1-score: 0.8205245517192994\n",
      "K-fold training time: 351.9986901283264s\n"
     ]
    }
   ],
   "source": [
    "start = time.time()\n",
    "scores = cross_val_score(model, X, y, scoring=\"f1_macro\")\n",
    "print(f\"Mean F1-score: {scores.mean()}\")\n",
    "end = time.time()\n",
    "print(f\"K-fold training time: {end - start}s\")"
   ]
  },
  {
   "cell_type": "code",
   "execution_count": 8,
   "outputs": [
    {
     "name": "stdout",
     "output_type": "stream",
     "text": [
      "Mean F1-score: 0.9841227407322783\n",
      "K-fold training time: 314.5866029262543s\n"
     ]
    }
   ],
   "source": [
    "start = time.time()\n",
    "scores = cross_val_score(model, X, y, scoring=\"accuracy\")\n",
    "print(f\"Mean F1-score: {scores.mean()}\")\n",
    "end = time.time()\n",
    "print(f\"K-fold training time: {end - start}s\")"
   ],
   "metadata": {
    "collapsed": false,
    "ExecuteTime": {
     "start_time": "2023-04-08T22:51:05.096218Z",
     "end_time": "2023-04-08T22:56:19.752816Z"
    }
   }
  }
 ],
 "metadata": {
  "kernelspec": {
   "display_name": "Python 3 (ipykernel)",
   "language": "python",
   "name": "python3"
  },
  "orig_nbformat": 4
 },
 "nbformat": 4,
 "nbformat_minor": 2
}
