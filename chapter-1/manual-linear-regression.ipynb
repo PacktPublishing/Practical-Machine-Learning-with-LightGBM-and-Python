{
 "cells": [
  {
   "cell_type": "code",
   "execution_count": null,
   "id": "ef9c4560-21b5-466f-a87f-3d9274c531ef",
   "metadata": {},
   "outputs": [],
   "source": [
    "import numpy as np\n",
    "import pandas as pd\n",
    "\n",
    "from matplotlib import pyplot as plt\n",
    "import seaborn as sns\n",
    "sns.set_theme(style=\"white\", palette='bright')"
   ]
  },
  {
   "cell_type": "code",
   "execution_count": null,
   "id": "99776b60-9912-4ed3-96df-1a80c3bbb0e9",
   "metadata": {},
   "outputs": [],
   "source": [
    "months = np.array([ 1,  2,  3,  4,  5,  6,  7,  8,  9, 10, 11, 12])"
   ]
  },
  {
   "cell_type": "code",
   "execution_count": null,
   "id": "9f19dce5-7467-4e2e-8078-c7ecd1b9afa8",
   "metadata": {},
   "outputs": [],
   "source": [
    "sales = np.array([4.14,  4.85,  7.34,  6.89,  8.27, 10.06,  8.11, 11.67, 10.45, 11.54, 13.4 , 14.42])"
   ]
  },
  {
   "cell_type": "code",
   "execution_count": null,
   "id": "0874ebec-0a8d-4368-a236-62a9458d19f6",
   "metadata": {},
   "outputs": [
    {
     "data": {
      "text/html": [
       "<div>\n",
       "<style scoped>\n",
       "    .dataframe tbody tr th:only-of-type {\n",
       "        vertical-align: middle;\n",
       "    }\n",
       "\n",
       "    .dataframe tbody tr th {\n",
       "        vertical-align: top;\n",
       "    }\n",
       "\n",
       "    .dataframe thead th {\n",
       "        text-align: right;\n",
       "    }\n",
       "</style>\n",
       "<table border=\"1\" class=\"dataframe\">\n",
       "  <thead>\n",
       "    <tr style=\"text-align: right;\">\n",
       "      <th></th>\n",
       "      <th>month</th>\n",
       "      <th>sales</th>\n",
       "    </tr>\n",
       "  </thead>\n",
       "  <tbody>\n",
       "    <tr>\n",
       "      <th>0</th>\n",
       "      <td>1</td>\n",
       "      <td>4.14</td>\n",
       "    </tr>\n",
       "    <tr>\n",
       "      <th>1</th>\n",
       "      <td>2</td>\n",
       "      <td>4.85</td>\n",
       "    </tr>\n",
       "    <tr>\n",
       "      <th>2</th>\n",
       "      <td>3</td>\n",
       "      <td>7.34</td>\n",
       "    </tr>\n",
       "    <tr>\n",
       "      <th>3</th>\n",
       "      <td>4</td>\n",
       "      <td>6.89</td>\n",
       "    </tr>\n",
       "    <tr>\n",
       "      <th>4</th>\n",
       "      <td>5</td>\n",
       "      <td>8.27</td>\n",
       "    </tr>\n",
       "    <tr>\n",
       "      <th>5</th>\n",
       "      <td>6</td>\n",
       "      <td>10.06</td>\n",
       "    </tr>\n",
       "    <tr>\n",
       "      <th>6</th>\n",
       "      <td>7</td>\n",
       "      <td>8.11</td>\n",
       "    </tr>\n",
       "    <tr>\n",
       "      <th>7</th>\n",
       "      <td>8</td>\n",
       "      <td>11.67</td>\n",
       "    </tr>\n",
       "    <tr>\n",
       "      <th>8</th>\n",
       "      <td>9</td>\n",
       "      <td>10.45</td>\n",
       "    </tr>\n",
       "    <tr>\n",
       "      <th>9</th>\n",
       "      <td>10</td>\n",
       "      <td>11.54</td>\n",
       "    </tr>\n",
       "    <tr>\n",
       "      <th>10</th>\n",
       "      <td>11</td>\n",
       "      <td>13.40</td>\n",
       "    </tr>\n",
       "    <tr>\n",
       "      <th>11</th>\n",
       "      <td>12</td>\n",
       "      <td>14.42</td>\n",
       "    </tr>\n",
       "  </tbody>\n",
       "</table>\n",
       "</div>"
      ],
      "text/plain": [
       "    month  sales\n",
       "0       1   4.14\n",
       "1       2   4.85\n",
       "2       3   7.34\n",
       "3       4   6.89\n",
       "4       5   8.27\n",
       "5       6  10.06\n",
       "6       7   8.11\n",
       "7       8  11.67\n",
       "8       9  10.45\n",
       "9      10  11.54\n",
       "10     11  13.40\n",
       "11     12  14.42"
      ]
     },
     "execution_count": null,
     "metadata": {},
     "output_type": "execute_result"
    }
   ],
   "source": [
    "df = pd.DataFrame({\"month\": months, \"sales\": sales})\n",
    "df"
   ]
  },
  {
   "cell_type": "code",
   "execution_count": null,
   "id": "807aa8e4-357b-4763-ad55-7c5fa9999f7b",
   "metadata": {},
   "outputs": [
    {
     "data": {
      "image/png": "[encoded data removed]",
      "text/plain": [
       "<Figure size 640x480 with 1 Axes>"
      ]
     },
     "metadata": {},
     "output_type": "display_data"
    }
   ],
   "source": [
    "sns.lineplot(data=df, x='month', y='sales')\n",
    "plt.xlabel(\"month\")\n",
    "plt.ylabel(\"sales (in thousands)\")\n",
    "plt.savefig(\"figures/ch1_linear_sales.png\", dpi=600)"
   ]
  },
  {
   "cell_type": "markdown",
   "id": "886a3fd9-2cdd-41e6-810b-318828ced227",
   "metadata": {},
   "source": [
    "## Manual modelling example"
   ]
  },
  {
   "cell_type": "code",
   "execution_count": null,
   "id": "bab2c468-21c1-4921-8e3e-411355d1f91e",
   "metadata": {},
   "outputs": [],
   "source": [
    "def linear_model(m, c, x):\n",
    "    return m*x + c"
   ]
  },
  {
   "cell_type": "code",
   "execution_count": null,
   "id": "1bda25ee-7dfe-4144-a52c-a52bca748d11",
   "metadata": {},
   "outputs": [],
   "source": [
    "def msa(y, y_pred):\n",
    "    return ((y - y_pred).abs()).mean()"
   ]
  },
  {
   "cell_type": "code",
   "execution_count": null,
   "id": "52e76d3f-edc2-4757-a84f-ef9d29a5c7b4",
   "metadata": {},
   "outputs": [],
   "source": [
    "def guess(m, c):\n",
    "    Y_pred = linear_model(m, c, df.month)\n",
    "    return {'m': m, 'c': c, 'msa':  msa(df.sales, Y_pred)}"
   ]
  },
  {
   "cell_type": "code",
   "execution_count": null,
   "id": "cfd97e53-ad99-4861-a7a8-ca3b98a638de",
   "metadata": {},
   "outputs": [],
   "source": [
    "guess1 = 0.1*df.month+4."
   ]
  },
  {
   "cell_type": "code",
   "execution_count": null,
   "id": "0422d13c-ca98-4021-8099-8d2c60842e51",
   "metadata": {},
   "outputs": [
    {
     "data": {
      "image/png": "[encoded data removed]",
      "text/plain": [
       "<Figure size 640x480 with 1 Axes>"
      ]
     },
     "metadata": {},
     "output_type": "display_data"
    }
   ],
   "source": [
    "sns.lineplot(data={'predicted': guess1, 'actual': df.sales})\n",
    "plt.xlabel(\"month\")\n",
    "plt.ylabel(\"sales (in thousands)\")\n",
    "plt.savefig(\"figures/ch1_linear_sales_guess.png\", dpi=600)"
   ]
  },
  {
   "cell_type": "code",
   "execution_count": null,
   "id": "c35713cc-eddf-4404-9b90-afe14faa97ff",
   "metadata": {},
   "outputs": [
    {
     "data": {
      "text/html": [
       "<div>\n",
       "<style scoped>\n",
       "    .dataframe tbody tr th:only-of-type {\n",
       "        vertical-align: middle;\n",
       "    }\n",
       "\n",
       "    .dataframe tbody tr th {\n",
       "        vertical-align: top;\n",
       "    }\n",
       "\n",
       "    .dataframe thead th {\n",
       "        text-align: right;\n",
       "    }\n",
       "</style>\n",
       "<table border=\"1\" class=\"dataframe\">\n",
       "  <thead>\n",
       "    <tr style=\"text-align: right;\">\n",
       "      <th></th>\n",
       "      <th>m</th>\n",
       "      <th>c</th>\n",
       "      <th>msa</th>\n",
       "    </tr>\n",
       "  </thead>\n",
       "  <tbody>\n",
       "    <tr>\n",
       "      <th>0</th>\n",
       "      <td>0.1</td>\n",
       "      <td>4.0</td>\n",
       "      <td>4.611667</td>\n",
       "    </tr>\n",
       "    <tr>\n",
       "      <th>1</th>\n",
       "      <td>0.2</td>\n",
       "      <td>4.1</td>\n",
       "      <td>3.888333</td>\n",
       "    </tr>\n",
       "    <tr>\n",
       "      <th>2</th>\n",
       "      <td>0.3</td>\n",
       "      <td>4.2</td>\n",
       "      <td>3.171667</td>\n",
       "    </tr>\n",
       "    <tr>\n",
       "      <th>3</th>\n",
       "      <td>0.4</td>\n",
       "      <td>4.3</td>\n",
       "      <td>2.496667</td>\n",
       "    </tr>\n",
       "    <tr>\n",
       "      <th>4</th>\n",
       "      <td>0.5</td>\n",
       "      <td>4.4</td>\n",
       "      <td>1.830000</td>\n",
       "    </tr>\n",
       "  </tbody>\n",
       "</table>\n",
       "</div>"
      ],
      "text/plain": [
       "     m    c       msa\n",
       "0  0.1  4.0  4.611667\n",
       "1  0.2  4.1  3.888333\n",
       "2  0.3  4.2  3.171667\n",
       "3  0.4  4.3  2.496667\n",
       "4  0.5  4.4  1.830000"
      ]
     },
     "execution_count": null,
     "metadata": {},
     "output_type": "execute_result"
    }
   ],
   "source": [
    "guess_df = pd.DataFrame([\n",
    "    guess(0.1, 4),\n",
    "    guess(0.2, 4.1),\n",
    "    guess(0.3, 4.2),\n",
    "    guess(0.4, 4.3),\n",
    "    guess(0.5, 4.4),\n",
    "])\n",
    "guess_df"
   ]
  },
  {
   "cell_type": "code",
   "execution_count": null,
   "id": "00c4577e-3d9c-4c05-a40d-67e1a49c1d58",
   "metadata": {},
   "outputs": [],
   "source": []
  }
 ],
 "metadata": {
  "kernelspec": {
   "display_name": "Python 3 (ipykernel)",
   "language": "python",
   "name": "python3"
  }
 },
 "nbformat": 4,
 "nbformat_minor": 5
}
