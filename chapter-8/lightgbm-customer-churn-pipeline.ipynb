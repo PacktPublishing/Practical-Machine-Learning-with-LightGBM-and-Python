{
 "cells": [
  {
   "cell_type": "code",
   "execution_count": 11,
   "metadata": {
    "collapsed": true,
    "ExecuteTime": {
     "end_time": "2023-05-29T12:02:36.176011100Z",
     "start_time": "2023-05-29T12:02:36.167494Z"
    }
   },
   "outputs": [],
   "source": [
    "import flaml\n",
    "import joblib\n",
    "import pandas as pd\n",
    "from sklearn.compose import ColumnTransformer\n",
    "from sklearn.metrics import f1_score\n",
    "from sklearn.pipeline import Pipeline\n",
    "from sklearn.preprocessing import OneHotEncoder\n",
    "\n",
    "from transformers import CustomerIdTransformer"
   ]
  },
  {
   "cell_type": "code",
   "execution_count": 12,
   "outputs": [],
   "source": [
    "df = pd.read_csv(\"telco/telco-churn-train.csv\")"
   ],
   "metadata": {
    "collapsed": false,
    "ExecuteTime": {
     "end_time": "2023-05-29T12:02:36.415000300Z",
     "start_time": "2023-05-29T12:02:36.381092Z"
    }
   }
  },
  {
   "cell_type": "code",
   "execution_count": 13,
   "outputs": [
    {
     "data": {
      "text/plain": "      customerID  gender  SeniorCitizen Partner Dependents  tenure  \\\n397   6635-MYYYZ  Female              0      No         No      30   \n2369  7814-LEEVE  Female              0     Yes         No       1   \n1602  1309-XGFSN    Male              1     Yes        Yes      52   \n5591  4816-OKWNX    Male              0     Yes        Yes      50   \n1112  5651-YLPRD  Female              0     Yes        Yes      32   \n2791  6979-TNDEU  Female              0      No         No       8   \n850   4020-KIUDI    Male              0     Yes        Yes       6   \n1079  4658-HCOHW  Female              0     Yes        Yes      21   \n1213  3470-OBUET  Female              0     Yes        Yes      67   \n4814  2003-CKLOR    Male              0      No         No      66   \n\n     PhoneService MultipleLines InternetService       OnlineSecurity  ...  \\\n397           Yes            No             DSL                  Yes  ...   \n2369          Yes            No              No  No internet service  ...   \n1602          Yes           Yes             DSL                   No  ...   \n5591          Yes            No     Fiber optic                   No  ...   \n1112          Yes            No     Fiber optic                   No  ...   \n2791          Yes            No              No  No internet service  ...   \n850           Yes            No              No  No internet service  ...   \n1079          Yes            No     Fiber optic                   No  ...   \n1213          Yes           Yes             DSL                  Yes  ...   \n4814          Yes            No     Fiber optic                   No  ...   \n\n         DeviceProtection          TechSupport          StreamingTV  \\\n397                   Yes                  Yes                  Yes   \n2369  No internet service  No internet service  No internet service   \n1602                  Yes                   No                  Yes   \n5591                  Yes                  Yes                  Yes   \n1112                   No                   No                  Yes   \n2791  No internet service  No internet service  No internet service   \n850   No internet service  No internet service  No internet service   \n1079                  Yes                  Yes                  Yes   \n1213                   No                  Yes                  Yes   \n4814                  Yes                   No                  Yes   \n\n          StreamingMovies        Contract PaperlessBilling  \\\n397                   Yes        One year               No   \n2369  No internet service  Month-to-month              Yes   \n1602                  Yes        One year              Yes   \n5591                  Yes        One year              Yes   \n1112                   No  Month-to-month              Yes   \n2791  No internet service  Month-to-month               No   \n850   No internet service  Month-to-month               No   \n1079                  Yes  Month-to-month              Yes   \n1213                   No        Two year               No   \n4814                  Yes  Month-to-month               No   \n\n                  PaymentMethod MonthlyCharges  TotalCharges Churn  \n397   Bank transfer (automatic)          85.35        2530.4   Yes  \n2369  Bank transfer (automatic)          20.30          20.3    No  \n1602           Electronic check          80.85       4079.55    No  \n5591  Bank transfer (automatic)         103.40        5236.4    No  \n1112           Electronic check          86.10       2723.75    No  \n2791               Mailed check          19.20        156.85    No  \n850     Credit card (automatic)          19.85        138.85    No  \n1079           Electronic check         102.80       2110.15   Yes  \n1213    Credit card (automatic)          74.00        4868.4    No  \n4814           Electronic check          99.50        6710.5   Yes  \n\n[10 rows x 21 columns]",
      "text/html": "<div>\n<style scoped>\n    .dataframe tbody tr th:only-of-type {\n        vertical-align: middle;\n    }\n\n    .dataframe tbody tr th {\n        vertical-align: top;\n    }\n\n    .dataframe thead th {\n        text-align: right;\n    }\n</style>\n<table border=\"1\" class=\"dataframe\">\n  <thead>\n    <tr style=\"text-align: right;\">\n      <th></th>\n      <th>customerID</th>\n      <th>gender</th>\n      <th>SeniorCitizen</th>\n      <th>Partner</th>\n      <th>Dependents</th>\n      <th>tenure</th>\n      <th>PhoneService</th>\n      <th>MultipleLines</th>\n      <th>InternetService</th>\n      <th>OnlineSecurity</th>\n      <th>...</th>\n      <th>DeviceProtection</th>\n      <th>TechSupport</th>\n      <th>StreamingTV</th>\n      <th>StreamingMovies</th>\n      <th>Contract</th>\n      <th>PaperlessBilling</th>\n      <th>PaymentMethod</th>\n      <th>MonthlyCharges</th>\n      <th>TotalCharges</th>\n      <th>Churn</th>\n    </tr>\n  </thead>\n  <tbody>\n    <tr>\n      <th>397</th>\n      <td>6635-MYYYZ</td>\n      <td>Female</td>\n      <td>0</td>\n      <td>No</td>\n      <td>No</td>\n      <td>30</td>\n      <td>Yes</td>\n      <td>No</td>\n      <td>DSL</td>\n      <td>Yes</td>\n      <td>...</td>\n      <td>Yes</td>\n      <td>Yes</td>\n      <td>Yes</td>\n      <td>Yes</td>\n      <td>One year</td>\n      <td>No</td>\n      <td>Bank transfer (automatic)</td>\n      <td>85.35</td>\n      <td>2530.4</td>\n      <td>Yes</td>\n    </tr>\n    <tr>\n      <th>2369</th>\n      <td>7814-LEEVE</td>\n      <td>Female</td>\n      <td>0</td>\n      <td>Yes</td>\n      <td>No</td>\n      <td>1</td>\n      <td>Yes</td>\n      <td>No</td>\n      <td>No</td>\n      <td>No internet service</td>\n      <td>...</td>\n      <td>No internet service</td>\n      <td>No internet service</td>\n      <td>No internet service</td>\n      <td>No internet service</td>\n      <td>Month-to-month</td>\n      <td>Yes</td>\n      <td>Bank transfer (automatic)</td>\n      <td>20.30</td>\n      <td>20.3</td>\n      <td>No</td>\n    </tr>\n    <tr>\n      <th>1602</th>\n      <td>1309-XGFSN</td>\n      <td>Male</td>\n      <td>1</td>\n      <td>Yes</td>\n      <td>Yes</td>\n      <td>52</td>\n      <td>Yes</td>\n      <td>Yes</td>\n      <td>DSL</td>\n      <td>No</td>\n      <td>...</td>\n      <td>Yes</td>\n      <td>No</td>\n      <td>Yes</td>\n      <td>Yes</td>\n      <td>One year</td>\n      <td>Yes</td>\n      <td>Electronic check</td>\n      <td>80.85</td>\n      <td>4079.55</td>\n      <td>No</td>\n    </tr>\n    <tr>\n      <th>5591</th>\n      <td>4816-OKWNX</td>\n      <td>Male</td>\n      <td>0</td>\n      <td>Yes</td>\n      <td>Yes</td>\n      <td>50</td>\n      <td>Yes</td>\n      <td>No</td>\n      <td>Fiber optic</td>\n      <td>No</td>\n      <td>...</td>\n      <td>Yes</td>\n      <td>Yes</td>\n      <td>Yes</td>\n      <td>Yes</td>\n      <td>One year</td>\n      <td>Yes</td>\n      <td>Bank transfer (automatic)</td>\n      <td>103.40</td>\n      <td>5236.4</td>\n      <td>No</td>\n    </tr>\n    <tr>\n      <th>1112</th>\n      <td>5651-YLPRD</td>\n      <td>Female</td>\n      <td>0</td>\n      <td>Yes</td>\n      <td>Yes</td>\n      <td>32</td>\n      <td>Yes</td>\n      <td>No</td>\n      <td>Fiber optic</td>\n      <td>No</td>\n      <td>...</td>\n      <td>No</td>\n      <td>No</td>\n      <td>Yes</td>\n      <td>No</td>\n      <td>Month-to-month</td>\n      <td>Yes</td>\n      <td>Electronic check</td>\n      <td>86.10</td>\n      <td>2723.75</td>\n      <td>No</td>\n    </tr>\n    <tr>\n      <th>2791</th>\n      <td>6979-TNDEU</td>\n      <td>Female</td>\n      <td>0</td>\n      <td>No</td>\n      <td>No</td>\n      <td>8</td>\n      <td>Yes</td>\n      <td>No</td>\n      <td>No</td>\n      <td>No internet service</td>\n      <td>...</td>\n      <td>No internet service</td>\n      <td>No internet service</td>\n      <td>No internet service</td>\n      <td>No internet service</td>\n      <td>Month-to-month</td>\n      <td>No</td>\n      <td>Mailed check</td>\n      <td>19.20</td>\n      <td>156.85</td>\n      <td>No</td>\n    </tr>\n    <tr>\n      <th>850</th>\n      <td>4020-KIUDI</td>\n      <td>Male</td>\n      <td>0</td>\n      <td>Yes</td>\n      <td>Yes</td>\n      <td>6</td>\n      <td>Yes</td>\n      <td>No</td>\n      <td>No</td>\n      <td>No internet service</td>\n      <td>...</td>\n      <td>No internet service</td>\n      <td>No internet service</td>\n      <td>No internet service</td>\n      <td>No internet service</td>\n      <td>Month-to-month</td>\n      <td>No</td>\n      <td>Credit card (automatic)</td>\n      <td>19.85</td>\n      <td>138.85</td>\n      <td>No</td>\n    </tr>\n    <tr>\n      <th>1079</th>\n      <td>4658-HCOHW</td>\n      <td>Female</td>\n      <td>0</td>\n      <td>Yes</td>\n      <td>Yes</td>\n      <td>21</td>\n      <td>Yes</td>\n      <td>No</td>\n      <td>Fiber optic</td>\n      <td>No</td>\n      <td>...</td>\n      <td>Yes</td>\n      <td>Yes</td>\n      <td>Yes</td>\n      <td>Yes</td>\n      <td>Month-to-month</td>\n      <td>Yes</td>\n      <td>Electronic check</td>\n      <td>102.80</td>\n      <td>2110.15</td>\n      <td>Yes</td>\n    </tr>\n    <tr>\n      <th>1213</th>\n      <td>3470-OBUET</td>\n      <td>Female</td>\n      <td>0</td>\n      <td>Yes</td>\n      <td>Yes</td>\n      <td>67</td>\n      <td>Yes</td>\n      <td>Yes</td>\n      <td>DSL</td>\n      <td>Yes</td>\n      <td>...</td>\n      <td>No</td>\n      <td>Yes</td>\n      <td>Yes</td>\n      <td>No</td>\n      <td>Two year</td>\n      <td>No</td>\n      <td>Credit card (automatic)</td>\n      <td>74.00</td>\n      <td>4868.4</td>\n      <td>No</td>\n    </tr>\n    <tr>\n      <th>4814</th>\n      <td>2003-CKLOR</td>\n      <td>Male</td>\n      <td>0</td>\n      <td>No</td>\n      <td>No</td>\n      <td>66</td>\n      <td>Yes</td>\n      <td>No</td>\n      <td>Fiber optic</td>\n      <td>No</td>\n      <td>...</td>\n      <td>Yes</td>\n      <td>No</td>\n      <td>Yes</td>\n      <td>Yes</td>\n      <td>Month-to-month</td>\n      <td>No</td>\n      <td>Electronic check</td>\n      <td>99.50</td>\n      <td>6710.5</td>\n      <td>Yes</td>\n    </tr>\n  </tbody>\n</table>\n<p>10 rows × 21 columns</p>\n</div>"
     },
     "execution_count": 13,
     "metadata": {},
     "output_type": "execute_result"
    }
   ],
   "source": [
    "df.sample(10)"
   ],
   "metadata": {
    "collapsed": false,
    "ExecuteTime": {
     "end_time": "2023-05-29T12:02:36.638180600Z",
     "start_time": "2023-05-29T12:02:36.589376700Z"
    }
   }
  },
  {
   "cell_type": "code",
   "execution_count": 14,
   "outputs": [],
   "source": [
    "X = df.drop(columns=[\"Churn\"], axis=1)\n",
    "y = df[\"Churn\"]"
   ],
   "metadata": {
    "collapsed": false,
    "ExecuteTime": {
     "end_time": "2023-05-29T12:02:37.473814100Z",
     "start_time": "2023-05-29T12:02:37.466314400Z"
    }
   }
  },
  {
   "cell_type": "code",
   "execution_count": 15,
   "outputs": [],
   "source": [
    "def build_pipeline():\n",
    "    id_columns = [\"customerID\"]\n",
    "    categorical_features = list(\n",
    "        X.loc[:, df.dtypes == 'object'].columns.values\n",
    "    )\n",
    "    categorical_features = [\n",
    "        f for f in categorical_features if not f in id_columns\n",
    "    ]\n",
    "    id_transformer = (\n",
    "        \"customer_id\",\n",
    "        CustomerIdTransformer(id_columns),\n",
    "        id_columns\n",
    "    )\n",
    "    encode_transformer = (\n",
    "        \"encoder\",\n",
    "        OneHotEncoder(sparse_output=False),\n",
    "        categorical_features\n",
    "    )\n",
    "    preprocessor = ColumnTransformer(\n",
    "        transformers=[\n",
    "            id_transformer,\n",
    "            encode_transformer,\n",
    "        ],\n",
    "        remainder='passthrough'\n",
    "    )\n",
    "    automl_settings = {\n",
    "        \"time_budget\": 120,\n",
    "        \"metric\": \"accuracy\",\n",
    "        \"task\": \"classification\",\n",
    "        \"estimator_list\": [\"lgbm\", \"rf\"],\n",
    "        \"custom_hp\": {\n",
    "            \"n_estimators\": {\n",
    "                \"domain\": flaml.tune.uniform(20, 500)\n",
    "            }\n",
    "        },\n",
    "        \"verbose\": -1\n",
    "    }\n",
    "    pipeline_settings = {\n",
    "        f\"automl__{key}\": value for key, value in automl_settings.items()\n",
    "    }\n",
    "    automl = flaml.AutoML()\n",
    "    pipeline = Pipeline(\n",
    "        steps=[(\"preprocessor\", preprocessor),\n",
    "               (\"automl\", automl)]\n",
    "    )\n",
    "    return pipeline, pipeline_settings"
   ],
   "metadata": {
    "collapsed": false,
    "ExecuteTime": {
     "end_time": "2023-05-29T12:02:38.506513800Z",
     "start_time": "2023-05-29T12:02:38.460012100Z"
    }
   }
  },
  {
   "cell_type": "code",
   "execution_count": 16,
   "outputs": [],
   "source": [
    "pipeline, settings = build_pipeline()"
   ],
   "metadata": {
    "collapsed": false,
    "ExecuteTime": {
     "end_time": "2023-05-29T12:02:39.744959800Z",
     "start_time": "2023-05-29T12:02:39.726536500Z"
    }
   }
  },
  {
   "cell_type": "code",
   "execution_count": 17,
   "outputs": [
    {
     "data": {
      "text/plain": "Pipeline(steps=[('preprocessor',\n                 ColumnTransformer(remainder='passthrough',\n                                   transformers=[('customer_id',\n                                                  CustomerIdTransformer(id_columns=['customerID']),\n                                                  ['customerID']),\n                                                 ('encoder',\n                                                  OneHotEncoder(sparse_output=False),\n                                                  ['gender', 'Partner',\n                                                   'Dependents', 'PhoneService',\n                                                   'MultipleLines',\n                                                   'InternetService',\n                                                   'OnlineSecurity',\n                                                   'OnlineBackup',\n                                                   'DeviceProtection',\n                                                   'Te...\n                        keep_search_state=False, learner_selector='sample',\n                        log_file_name='', log_training_metric=False,\n                        log_type='better', max_iter=None, mem_thres=4294967296,\n                        metric='auto', metric_constraints=[],\n                        min_sample_size=10000, mlflow_logging=True,\n                        model_history=False, n_concurrent_trials=1, n_jobs=-1,\n                        n_splits=5, pred_time_limit=inf,\n                        preserve_checkpoint=True, retrain_full=True, ...))])",
      "text/html": "<style>#sk-container-id-3 {color: black;background-color: white;}#sk-container-id-3 pre{padding: 0;}#sk-container-id-3 div.sk-toggleable {background-color: white;}#sk-container-id-3 label.sk-toggleable__label {cursor: pointer;display: block;width: 100%;margin-bottom: 0;padding: 0.3em;box-sizing: border-box;text-align: center;}#sk-container-id-3 label.sk-toggleable__label-arrow:before {content: \"▸\";float: left;margin-right: 0.25em;color: #696969;}#sk-container-id-3 label.sk-toggleable__label-arrow:hover:before {color: black;}#sk-container-id-3 div.sk-estimator:hover label.sk-toggleable__label-arrow:before {color: black;}#sk-container-id-3 div.sk-toggleable__content {max-height: 0;max-width: 0;overflow: hidden;text-align: left;background-color: #f0f8ff;}#sk-container-id-3 div.sk-toggleable__content pre {margin: 0.2em;color: black;border-radius: 0.25em;background-color: #f0f8ff;}#sk-container-id-3 input.sk-toggleable__control:checked~div.sk-toggleable__content {max-height: 200px;max-width: 100%;overflow: auto;}#sk-container-id-3 input.sk-toggleable__control:checked~label.sk-toggleable__label-arrow:before {content: \"▾\";}#sk-container-id-3 div.sk-estimator input.sk-toggleable__control:checked~label.sk-toggleable__label {background-color: #d4ebff;}#sk-container-id-3 div.sk-label input.sk-toggleable__control:checked~label.sk-toggleable__label {background-color: #d4ebff;}#sk-container-id-3 input.sk-hidden--visually {border: 0;clip: rect(1px 1px 1px 1px);clip: rect(1px, 1px, 1px, 1px);height: 1px;margin: -1px;overflow: hidden;padding: 0;position: absolute;width: 1px;}#sk-container-id-3 div.sk-estimator {font-family: monospace;background-color: #f0f8ff;border: 1px dotted black;border-radius: 0.25em;box-sizing: border-box;margin-bottom: 0.5em;}#sk-container-id-3 div.sk-estimator:hover {background-color: #d4ebff;}#sk-container-id-3 div.sk-parallel-item::after {content: \"\";width: 100%;border-bottom: 1px solid gray;flex-grow: 1;}#sk-container-id-3 div.sk-label:hover label.sk-toggleable__label {background-color: #d4ebff;}#sk-container-id-3 div.sk-serial::before {content: \"\";position: absolute;border-left: 1px solid gray;box-sizing: border-box;top: 0;bottom: 0;left: 50%;z-index: 0;}#sk-container-id-3 div.sk-serial {display: flex;flex-direction: column;align-items: center;background-color: white;padding-right: 0.2em;padding-left: 0.2em;position: relative;}#sk-container-id-3 div.sk-item {position: relative;z-index: 1;}#sk-container-id-3 div.sk-parallel {display: flex;align-items: stretch;justify-content: center;background-color: white;position: relative;}#sk-container-id-3 div.sk-item::before, #sk-container-id-3 div.sk-parallel-item::before {content: \"\";position: absolute;border-left: 1px solid gray;box-sizing: border-box;top: 0;bottom: 0;left: 50%;z-index: -1;}#sk-container-id-3 div.sk-parallel-item {display: flex;flex-direction: column;z-index: 1;position: relative;background-color: white;}#sk-container-id-3 div.sk-parallel-item:first-child::after {align-self: flex-end;width: 50%;}#sk-container-id-3 div.sk-parallel-item:last-child::after {align-self: flex-start;width: 50%;}#sk-container-id-3 div.sk-parallel-item:only-child::after {width: 0;}#sk-container-id-3 div.sk-dashed-wrapped {border: 1px dashed gray;margin: 0 0.4em 0.5em 0.4em;box-sizing: border-box;padding-bottom: 0.4em;background-color: white;}#sk-container-id-3 div.sk-label label {font-family: monospace;font-weight: bold;display: inline-block;line-height: 1.2em;}#sk-container-id-3 div.sk-label-container {text-align: center;}#sk-container-id-3 div.sk-container {/* jupyter's `normalize.less` sets `[hidden] { display: none; }` but bootstrap.min.css set `[hidden] { display: none !important; }` so we also need the `!important` here to be able to override the default hidden behavior on the sphinx rendered scikit-learn.org. See: https://github.com/scikit-learn/scikit-learn/issues/21755 */display: inline-block !important;position: relative;}#sk-container-id-3 div.sk-text-repr-fallback {display: none;}</style><div id=\"sk-container-id-3\" class=\"sk-top-container\"><div class=\"sk-text-repr-fallback\"><pre>Pipeline(steps=[(&#x27;preprocessor&#x27;,\n                 ColumnTransformer(remainder=&#x27;passthrough&#x27;,\n                                   transformers=[(&#x27;customer_id&#x27;,\n                                                  CustomerIdTransformer(id_columns=[&#x27;customerID&#x27;]),\n                                                  [&#x27;customerID&#x27;]),\n                                                 (&#x27;encoder&#x27;,\n                                                  OneHotEncoder(sparse_output=False),\n                                                  [&#x27;gender&#x27;, &#x27;Partner&#x27;,\n                                                   &#x27;Dependents&#x27;, &#x27;PhoneService&#x27;,\n                                                   &#x27;MultipleLines&#x27;,\n                                                   &#x27;InternetService&#x27;,\n                                                   &#x27;OnlineSecurity&#x27;,\n                                                   &#x27;OnlineBackup&#x27;,\n                                                   &#x27;DeviceProtection&#x27;,\n                                                   &#x27;Te...\n                        keep_search_state=False, learner_selector=&#x27;sample&#x27;,\n                        log_file_name=&#x27;&#x27;, log_training_metric=False,\n                        log_type=&#x27;better&#x27;, max_iter=None, mem_thres=4294967296,\n                        metric=&#x27;auto&#x27;, metric_constraints=[],\n                        min_sample_size=10000, mlflow_logging=True,\n                        model_history=False, n_concurrent_trials=1, n_jobs=-1,\n                        n_splits=5, pred_time_limit=inf,\n                        preserve_checkpoint=True, retrain_full=True, ...))])</pre><b>In a Jupyter environment, please rerun this cell to show the HTML representation or trust the notebook. <br />On GitHub, the HTML representation is unable to render, please try loading this page with nbviewer.org.</b></div><div class=\"sk-container\" hidden><div class=\"sk-item sk-dashed-wrapped\"><div class=\"sk-label-container\"><div class=\"sk-label sk-toggleable\"><input class=\"sk-toggleable__control sk-hidden--visually\" id=\"sk-estimator-id-19\" type=\"checkbox\" ><label for=\"sk-estimator-id-19\" class=\"sk-toggleable__label sk-toggleable__label-arrow\">Pipeline</label><div class=\"sk-toggleable__content\"><pre>Pipeline(steps=[(&#x27;preprocessor&#x27;,\n                 ColumnTransformer(remainder=&#x27;passthrough&#x27;,\n                                   transformers=[(&#x27;customer_id&#x27;,\n                                                  CustomerIdTransformer(id_columns=[&#x27;customerID&#x27;]),\n                                                  [&#x27;customerID&#x27;]),\n                                                 (&#x27;encoder&#x27;,\n                                                  OneHotEncoder(sparse_output=False),\n                                                  [&#x27;gender&#x27;, &#x27;Partner&#x27;,\n                                                   &#x27;Dependents&#x27;, &#x27;PhoneService&#x27;,\n                                                   &#x27;MultipleLines&#x27;,\n                                                   &#x27;InternetService&#x27;,\n                                                   &#x27;OnlineSecurity&#x27;,\n                                                   &#x27;OnlineBackup&#x27;,\n                                                   &#x27;DeviceProtection&#x27;,\n                                                   &#x27;Te...\n                        keep_search_state=False, learner_selector=&#x27;sample&#x27;,\n                        log_file_name=&#x27;&#x27;, log_training_metric=False,\n                        log_type=&#x27;better&#x27;, max_iter=None, mem_thres=4294967296,\n                        metric=&#x27;auto&#x27;, metric_constraints=[],\n                        min_sample_size=10000, mlflow_logging=True,\n                        model_history=False, n_concurrent_trials=1, n_jobs=-1,\n                        n_splits=5, pred_time_limit=inf,\n                        preserve_checkpoint=True, retrain_full=True, ...))])</pre></div></div></div><div class=\"sk-serial\"><div class=\"sk-item sk-dashed-wrapped\"><div class=\"sk-label-container\"><div class=\"sk-label sk-toggleable\"><input class=\"sk-toggleable__control sk-hidden--visually\" id=\"sk-estimator-id-20\" type=\"checkbox\" ><label for=\"sk-estimator-id-20\" class=\"sk-toggleable__label sk-toggleable__label-arrow\">preprocessor: ColumnTransformer</label><div class=\"sk-toggleable__content\"><pre>ColumnTransformer(remainder=&#x27;passthrough&#x27;,\n                  transformers=[(&#x27;customer_id&#x27;,\n                                 CustomerIdTransformer(id_columns=[&#x27;customerID&#x27;]),\n                                 [&#x27;customerID&#x27;]),\n                                (&#x27;encoder&#x27;, OneHotEncoder(sparse_output=False),\n                                 [&#x27;gender&#x27;, &#x27;Partner&#x27;, &#x27;Dependents&#x27;,\n                                  &#x27;PhoneService&#x27;, &#x27;MultipleLines&#x27;,\n                                  &#x27;InternetService&#x27;, &#x27;OnlineSecurity&#x27;,\n                                  &#x27;OnlineBackup&#x27;, &#x27;DeviceProtection&#x27;,\n                                  &#x27;TechSupport&#x27;, &#x27;StreamingTV&#x27;,\n                                  &#x27;StreamingMovies&#x27;, &#x27;Contract&#x27;,\n                                  &#x27;PaperlessBilling&#x27;, &#x27;PaymentMethod&#x27;,\n                                  &#x27;TotalCharges&#x27;])])</pre></div></div></div><div class=\"sk-parallel\"><div class=\"sk-parallel-item\"><div class=\"sk-item\"><div class=\"sk-label-container\"><div class=\"sk-label sk-toggleable\"><input class=\"sk-toggleable__control sk-hidden--visually\" id=\"sk-estimator-id-21\" type=\"checkbox\" ><label for=\"sk-estimator-id-21\" class=\"sk-toggleable__label sk-toggleable__label-arrow\">customer_id</label><div class=\"sk-toggleable__content\"><pre>[&#x27;customerID&#x27;]</pre></div></div></div><div class=\"sk-serial\"><div class=\"sk-item\"><div class=\"sk-estimator sk-toggleable\"><input class=\"sk-toggleable__control sk-hidden--visually\" id=\"sk-estimator-id-22\" type=\"checkbox\" ><label for=\"sk-estimator-id-22\" class=\"sk-toggleable__label sk-toggleable__label-arrow\">CustomerIdTransformer</label><div class=\"sk-toggleable__content\"><pre>CustomerIdTransformer(id_columns=[&#x27;customerID&#x27;])</pre></div></div></div></div></div></div><div class=\"sk-parallel-item\"><div class=\"sk-item\"><div class=\"sk-label-container\"><div class=\"sk-label sk-toggleable\"><input class=\"sk-toggleable__control sk-hidden--visually\" id=\"sk-estimator-id-23\" type=\"checkbox\" ><label for=\"sk-estimator-id-23\" class=\"sk-toggleable__label sk-toggleable__label-arrow\">encoder</label><div class=\"sk-toggleable__content\"><pre>[&#x27;gender&#x27;, &#x27;Partner&#x27;, &#x27;Dependents&#x27;, &#x27;PhoneService&#x27;, &#x27;MultipleLines&#x27;, &#x27;InternetService&#x27;, &#x27;OnlineSecurity&#x27;, &#x27;OnlineBackup&#x27;, &#x27;DeviceProtection&#x27;, &#x27;TechSupport&#x27;, &#x27;StreamingTV&#x27;, &#x27;StreamingMovies&#x27;, &#x27;Contract&#x27;, &#x27;PaperlessBilling&#x27;, &#x27;PaymentMethod&#x27;, &#x27;TotalCharges&#x27;]</pre></div></div></div><div class=\"sk-serial\"><div class=\"sk-item\"><div class=\"sk-estimator sk-toggleable\"><input class=\"sk-toggleable__control sk-hidden--visually\" id=\"sk-estimator-id-24\" type=\"checkbox\" ><label for=\"sk-estimator-id-24\" class=\"sk-toggleable__label sk-toggleable__label-arrow\">OneHotEncoder</label><div class=\"sk-toggleable__content\"><pre>OneHotEncoder(sparse_output=False)</pre></div></div></div></div></div></div><div class=\"sk-parallel-item\"><div class=\"sk-item\"><div class=\"sk-label-container\"><div class=\"sk-label sk-toggleable\"><input class=\"sk-toggleable__control sk-hidden--visually\" id=\"sk-estimator-id-25\" type=\"checkbox\" ><label for=\"sk-estimator-id-25\" class=\"sk-toggleable__label sk-toggleable__label-arrow\">remainder</label><div class=\"sk-toggleable__content\"><pre>[&#x27;SeniorCitizen&#x27;, &#x27;tenure&#x27;, &#x27;MonthlyCharges&#x27;]</pre></div></div></div><div class=\"sk-serial\"><div class=\"sk-item\"><div class=\"sk-estimator sk-toggleable\"><input class=\"sk-toggleable__control sk-hidden--visually\" id=\"sk-estimator-id-26\" type=\"checkbox\" ><label for=\"sk-estimator-id-26\" class=\"sk-toggleable__label sk-toggleable__label-arrow\">passthrough</label><div class=\"sk-toggleable__content\"><pre>passthrough</pre></div></div></div></div></div></div></div></div><div class=\"sk-item\"><div class=\"sk-estimator sk-toggleable\"><input class=\"sk-toggleable__control sk-hidden--visually\" id=\"sk-estimator-id-27\" type=\"checkbox\" ><label for=\"sk-estimator-id-27\" class=\"sk-toggleable__label sk-toggleable__label-arrow\">AutoML</label><div class=\"sk-toggleable__content\"><pre>AutoML(append_log=False, auto_augment=True, custom_hp={},\n       cv_score_agg_func=None, early_stop=False, ensemble=False,\n       estimator_list=&#x27;auto&#x27;, eval_method=&#x27;auto&#x27;, fit_kwargs_by_estimator={},\n       force_cancel=False, free_mem_ratio=0, hpo_method=&#x27;auto&#x27;,\n       keep_search_state=False, learner_selector=&#x27;sample&#x27;, log_file_name=&#x27;&#x27;,\n       log_training_metric=False, log_type=&#x27;better&#x27;, max_iter=None,\n       mem_thres=4294967296, metric=&#x27;auto&#x27;, metric_constraints=[],\n       min_sample_size=10000, mlflow_logging=True, model_history=False,\n       n_concurrent_trials=1, n_jobs=-1, n_splits=5, pred_time_limit=inf,\n       preserve_checkpoint=True, retrain_full=True, ...)</pre></div></div></div></div></div></div></div>"
     },
     "execution_count": 17,
     "metadata": {},
     "output_type": "execute_result"
    }
   ],
   "source": [
    "pipeline.fit(X, y, **settings)"
   ],
   "metadata": {
    "collapsed": false,
    "ExecuteTime": {
     "end_time": "2023-05-29T12:04:40.562769Z",
     "start_time": "2023-05-29T12:02:40.505987500Z"
    }
   }
  },
  {
   "cell_type": "markdown",
   "source": [
    "### Validation"
   ],
   "metadata": {
    "collapsed": false
   }
  },
  {
   "cell_type": "code",
   "execution_count": 19,
   "outputs": [
    {
     "name": "stdout",
     "output_type": "stream",
     "text": [
      "F1: 0.6601503759398495\n"
     ]
    }
   ],
   "source": [
    "print(f\"F1: {f1_score(pipeline.predict(X), y, pos_label='Yes')}\")"
   ],
   "metadata": {
    "collapsed": false,
    "ExecuteTime": {
     "end_time": "2023-05-29T12:05:37.445583700Z",
     "start_time": "2023-05-29T12:05:37.175785300Z"
    }
   }
  },
  {
   "cell_type": "code",
   "execution_count": 8,
   "outputs": [
    {
     "data": {
      "text/plain": "array(['No'], dtype=object)"
     },
     "execution_count": 8,
     "metadata": {},
     "output_type": "execute_result"
    }
   ],
   "source": [
    "pipeline.predict(X.iloc[[0]])"
   ],
   "metadata": {
    "collapsed": false,
    "ExecuteTime": {
     "end_time": "2023-05-29T11:10:36.065898800Z",
     "start_time": "2023-05-29T11:10:36.024739600Z"
    }
   }
  },
  {
   "cell_type": "code",
   "execution_count": 9,
   "outputs": [
    {
     "data": {
      "text/plain": "['churn_lgbm.pkl']"
     },
     "execution_count": 9,
     "metadata": {},
     "output_type": "execute_result"
    }
   ],
   "source": [
    "joblib.dump(pipeline, \"churn_pipeline.pkl\")"
   ],
   "metadata": {
    "collapsed": false,
    "ExecuteTime": {
     "end_time": "2023-05-29T11:10:36.257811800Z",
     "start_time": "2023-05-29T11:10:36.033756700Z"
    }
   }
  },
  {
   "cell_type": "markdown",
   "source": [
    "## Gradio"
   ],
   "metadata": {
    "collapsed": false
   }
  },
  {
   "cell_type": "code",
   "execution_count": 15,
   "outputs": [],
   "source": [
    "import gradio as gr"
   ],
   "metadata": {
    "collapsed": false,
    "ExecuteTime": {
     "end_time": "2023-05-28T13:36:37.822693Z",
     "start_time": "2023-05-28T13:36:36.754467800Z"
    }
   }
  },
  {
   "cell_type": "code",
   "execution_count": 17,
   "outputs": [
    {
     "name": "stdout",
     "output_type": "stream",
     "text": [
      "Running on local URL:  http://127.0.0.1:7860\n",
      "\n",
      "To create a public link, set `share=True` in `launch()`.\n"
     ]
    },
    {
     "data": {
      "text/plain": "<IPython.core.display.HTML object>",
      "text/html": "<div><iframe src=\"http://127.0.0.1:7860/\" width=\"100%\" height=\"500\" allow=\"autoplay; camera; microphone; clipboard-read; clipboard-write;\" frameborder=\"0\" allowfullscreen></iframe></div>"
     },
     "metadata": {},
     "output_type": "display_data"
    },
    {
     "data": {
      "text/plain": ""
     },
     "execution_count": 17,
     "metadata": {},
     "output_type": "execute_result"
    }
   ],
   "source": [
    "inputs = [gr.Dataframe(row_count=(2, \"dynamic\"), col_count=(21, \"dynamic\"), label=\"Input Data\", interactive=1)]\n",
    "outputs = [gr.Dataframe(row_count=(2, \"dynamic\"), col_count=(1, \"fixed\"), label=\"Predictions\", headers=[\"Churn\"])]\n",
    "\n",
    "model = joblib.load(\"churn_lgbm.pkl\")\n",
    "\n",
    "df = pd.read_csv(\"telco/telco-churn.csv\")\n",
    "\n",
    "\n",
    "def infer(input_dataframe):\n",
    "    return pd.DataFrame(model.predict(input_dataframe))\n",
    "\n",
    "\n",
    "gr.Interface(fn=infer, inputs=inputs, outputs=outputs, examples=[[df.head(2)]]).launch()"
   ],
   "metadata": {
    "collapsed": false,
    "ExecuteTime": {
     "end_time": "2023-05-28T13:39:01.912941800Z",
     "start_time": "2023-05-28T13:39:00.275264800Z"
    }
   }
  }
 ],
 "metadata": {
  "kernelspec": {
   "display_name": "Python 3",
   "language": "python",
   "name": "python3"
  },
  "language_info": {
   "codemirror_mode": {
    "name": "ipython",
    "version": 2
   },
   "file_extension": ".py",
   "mimetype": "text/x-python",
   "name": "python",
   "nbconvert_exporter": "python",
   "pygments_lexer": "ipython2",
   "version": "2.7.6"
  }
 },
 "nbformat": 4,
 "nbformat_minor": 0
}
