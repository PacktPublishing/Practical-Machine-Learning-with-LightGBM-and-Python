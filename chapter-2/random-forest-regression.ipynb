{
 "cells": [
  {
   "cell_type": "code",
   "execution_count": 1,
   "id": "22f220f8-e59d-4438-b361-67e05936e1c3",
   "metadata": {
    "ExecuteTime": {
     "start_time": "2023-03-06T13:05:13.476966Z",
     "end_time": "2023-03-06T13:05:15.060203Z"
    }
   },
   "outputs": [],
   "source": [
    "import numpy as np\n",
    "import pandas as pd\n",
    "\n",
    "from matplotlib import pyplot as plt\n",
    "\n",
    "from sklearn import datasets\n",
    "from sklearn.tree import DecisionTreeClassifier\n",
    "from sklearn.ensemble import RandomForestClassifier, ExtraTreesClassifier\n",
    "from sklearn.model_selection import train_test_split\n",
    "from sklearn.metrics import f1_score"
   ]
  },
  {
   "cell_type": "code",
   "execution_count": 2,
   "id": "b4b32741-ae12-4244-b38f-df57701adf69",
   "metadata": {
    "ExecuteTime": {
     "start_time": "2023-03-06T13:05:15.059693Z",
     "end_time": "2023-03-06T13:05:15.905859Z"
    }
   },
   "outputs": [],
   "source": [
    "dataset = datasets.fetch_covtype()\n",
    "\n",
    "X_train, X_test, y_train, y_test = train_test_split(dataset.data, dataset.target, random_state=179)"
   ]
  },
  {
   "cell_type": "code",
   "execution_count": 3,
   "id": "88c0705b-b87d-496e-91b0-8866960d22b2",
   "metadata": {
    "ExecuteTime": {
     "start_time": "2023-03-06T13:05:15.905859Z",
     "end_time": "2023-03-06T13:05:23.646598Z"
    }
   },
   "outputs": [
    {
     "name": "stdout",
     "output_type": "stream",
     "text": [
      "0.8916521618124621\n"
     ]
    }
   ],
   "source": [
    "tree = DecisionTreeClassifier(random_state=179, min_samples_leaf=3, min_samples_split=6)\n",
    "tree = tree.fit(X_train, y_train)\n",
    "\n",
    "print(f1_score(y_test, tree.predict(X_test), average=\"macro\"))"
   ]
  },
  {
   "cell_type": "code",
   "execution_count": 4,
   "id": "f7c45eac-5c49-4b7b-b19e-29beb911aa08",
   "metadata": {
    "ExecuteTime": {
     "start_time": "2023-03-06T13:05:23.646598Z",
     "end_time": "2023-03-06T13:08:09.308924Z"
    }
   },
   "outputs": [
    {
     "name": "stdout",
     "output_type": "stream",
     "text": [
      "0.9209269748875469\n"
     ]
    }
   ],
   "source": [
    "forest = RandomForestClassifier(random_state=179, min_samples_leaf=1, min_samples_split=2, n_estimators=140)\n",
    "forest = forest.fit(X_train, y_train)\n",
    "\n",
    "print(f1_score(y_test, forest.predict(X_test), average=\"macro\"))"
   ]
  },
  {
   "cell_type": "code",
   "execution_count": 5,
   "id": "b1aa0fd7-e8e3-4e46-915b-836a690675ef",
   "metadata": {
    "ExecuteTime": {
     "start_time": "2023-03-06T13:08:09.308924Z",
     "end_time": "2023-03-06T13:11:36.781035Z"
    }
   },
   "outputs": [
    {
     "name": "stdout",
     "output_type": "stream",
     "text": [
      "0.9230624992615903\n"
     ]
    }
   ],
   "source": [
    "extra_tree = ExtraTreesClassifier(random_state=179, min_samples_leaf=1, min_samples_split=2, n_estimators=180)\n",
    "extra_tree = extra_tree.fit(X_train, y_train)\n",
    "\n",
    "print(f1_score(y_test, extra_tree.predict(X_test), average=\"macro\"))"
   ]
  }
 ],
 "metadata": {
  "kernelspec": {
   "display_name": "lgbmenv",
   "language": "python",
   "name": "python3"
  },
  "language_info": {
   "codemirror_mode": {
    "name": "ipython",
    "version": 3
   },
   "file_extension": ".py",
   "mimetype": "text/x-python",
   "name": "python",
   "nbconvert_exporter": "python",
   "pygments_lexer": "ipython3",
   "version": "3.10.9"
  },
  "vscode": {
   "interpreter": {
    "hash": "5e690b3d8af96fccddb0bcea98968490c59678da2298e058666d3fe70333b9d4"
   }
  }
 },
 "nbformat": 4,
 "nbformat_minor": 5
}
