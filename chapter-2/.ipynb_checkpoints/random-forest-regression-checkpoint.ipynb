{
 "cells": [
  {
   "cell_type": "code",
   "execution_count": null,
   "id": "22f220f8-e59d-4438-b361-67e05936e1c3",
   "metadata": {},
   "outputs": [],
   "source": [
    "import numpy as np\n",
    "import pandas as pd\n",
    "\n",
    "from matplotlib import pyplot as plt\n",
    "\n",
    "from sklearn import datasets\n",
    "from sklearn.tree import DecisionTreeClassifier\n",
    "from sklearn.ensemble import RandomForestClassifier, ExtraTreesClassifier\n",
    "from sklearn.model_selection import train_test_split\n",
    "from sklearn.metrics import f1_score"
   ]
  },
  {
   "cell_type": "code",
   "execution_count": null,
   "id": "b4b32741-ae12-4244-b38f-df57701adf69",
   "metadata": {},
   "outputs": [],
   "source": [
    "dataset = datasets.fetch_covtype()\n",
    "\n",
    "X_train, X_test, y_train, y_test = train_test_split(dataset.data, dataset.target, random_state=179)"
   ]
  },
  {
   "cell_type": "code",
   "execution_count": null,
   "id": "88c0705b-b87d-496e-91b0-8866960d22b2",
   "metadata": {},
   "outputs": [
    {
     "data": {
      "text/plain": [
       "0.8997162461938978"
      ]
     },
     "execution_count": null,
     "metadata": {},
     "output_type": "execute_result"
    }
   ],
   "source": [
    "tree = DecisionTreeClassifier(random_state=179)\n",
    "tree = tree.fit(X_train, y_train)\n",
    "\n",
    "f1_score(y_test, tree.predict(X_test), average=\"macro\")"
   ]
  },
  {
   "cell_type": "code",
   "execution_count": null,
   "id": "9ea70ab4-42fc-4ce9-98fa-107eefec28fe",
   "metadata": {},
   "outputs": [
    {
     "data": {
      "text/plain": [
       "0.9366622376129925"
      ]
     },
     "execution_count": null,
     "metadata": {},
     "output_type": "execute_result"
    }
   ],
   "source": [
    "0.9366622376129925"
   ]
  },
  {
   "cell_type": "code",
   "execution_count": null,
   "id": "f7c45eac-5c49-4b7b-b19e-29beb911aa08",
   "metadata": {},
   "outputs": [
    {
     "data": {
      "text/plain": [
       "0.92423409561065"
      ]
     },
     "execution_count": null,
     "metadata": {},
     "output_type": "execute_result"
    }
   ],
   "source": [
    "forest = RandomForestClassifier(random_state=179)\n",
    "forest = forest.fit(X_train, y_train)\n",
    "\n",
    "f1_score(y_test, forest.predict(X_test), average=\"macro\")"
   ]
  },
  {
   "cell_type": "code",
   "execution_count": null,
   "id": "b1aa0fd7-e8e3-4e46-915b-836a690675ef",
   "metadata": {},
   "outputs": [
    {
     "data": {
      "text/plain": [
       "0.9515810344708887"
      ]
     },
     "execution_count": null,
     "metadata": {},
     "output_type": "execute_result"
    }
   ],
   "source": [
    "extra_tree = ExtraTreesClassifier(random_state=179)\n",
    "extra_tree = extra_tree.fit(X_train, y_train)\n",
    "\n",
    "f1_score(y_test, extra_tree.predict(X_test), average=\"micro\")"
   ]
  },
  {
   "cell_type": "code",
   "execution_count": null,
   "id": "e2b3e26c-ebf2-4b31-a4ee-45d1ced52b83",
   "metadata": {},
   "outputs": [],
   "source": [
    "from lightgbm import LGBMClassifier"
   ]
  },
  {
   "cell_type": "code",
   "execution_count": null,
   "id": "324ceba3-9b6b-40fa-9c9b-f5f1c2ff3d07",
   "metadata": {},
   "outputs": [
    {
     "data": {
      "text/plain": [
       "0.9130645600719903"
      ]
     },
     "execution_count": null,
     "metadata": {},
     "output_type": "execute_result"
    }
   ],
   "source": [
    "lgbm = LGBMClassifier(learning_rate=0.07, num_leaves=120, max_depth=22, n_estimators=120)\n",
    "lgbm = lgbm.fit(X_train, y_train)\n",
    "\n",
    "f1_score(y_test, lgbm.predict(X_test), average=\"macro\")"
   ]
  },
  {
   "cell_type": "code",
   "execution_count": null,
   "id": "283412af-afa9-405d-944b-d0f5a2b65e9a",
   "metadata": {},
   "outputs": [],
   "source": [
    "from sklearn.ensemble import GradientBoostingClassifier"
   ]
  },
  {
   "cell_type": "code",
   "execution_count": null,
   "id": "eee94943-3a48-40a0-93f6-db33820142f6",
   "metadata": {},
   "outputs": [
    {
     "data": {
      "text/plain": [
       "0.7727207011214916"
      ]
     },
     "execution_count": null,
     "metadata": {},
     "output_type": "execute_result"
    }
   ],
   "source": [
    "booster = GradientBoostingClassifier(random_state=179)\n",
    "booster = booster.fit(X_train, y_train)\n",
    "\n",
    "f1_score(y_test, booster.predict(X_test), average=\"micro\")"
   ]
  },
  {
   "cell_type": "code",
   "execution_count": null,
   "id": "704c473f-9774-45d0-8b6b-3d516db1b2e4",
   "metadata": {},
   "outputs": [],
   "source": []
  }
 ],
 "metadata": {
  "kernelspec": {
   "display_name": "Python 3 (ipykernel)",
   "language": "python",
   "name": "python3"
  }
 },
 "nbformat": 4,
 "nbformat_minor": 5
}
