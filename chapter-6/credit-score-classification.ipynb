{
 "cells": [
  {
   "cell_type": "code",
   "execution_count": null,
   "metadata": {
    "collapsed": true
   },
   "outputs": [],
   "source": [
    "import joblib\n",
    "import lightgbm as lgb\n",
    "import matplotlib.pyplot as plt\n",
    "import numpy as np\n",
    "import optuna\n",
    "import pandas as pd\n",
    "import seaborn as sns\n",
    "from imblearn.over_sampling import SMOTE\n",
    "from sklearn.ensemble import RandomForestClassifier\n",
    "from sklearn.metrics import f1_score\n",
    "from sklearn.model_selection import KFold\n",
    "from sklearn.tree import DecisionTreeClassifier"
   ]
  },
  {
   "cell_type": "code",
   "execution_count": null,
   "outputs": [],
   "source": [
    "train_df = pd.read_csv(\"creditscore/train.csv\", low_memory=False)"
   ],
   "metadata": {
    "collapsed": false
   }
  },
  {
   "cell_type": "markdown",
   "source": [
    "## Data Preparation"
   ],
   "metadata": {
    "collapsed": false
   }
  },
  {
   "cell_type": "code",
   "execution_count": null,
   "outputs": [],
   "source": [
    "train_df.shape"
   ],
   "metadata": {
    "collapsed": false
   }
  },
  {
   "cell_type": "code",
   "execution_count": null,
   "outputs": [],
   "source": [
    "train_df.sample(30)"
   ],
   "metadata": {
    "collapsed": false
   }
  },
  {
   "cell_type": "code",
   "execution_count": null,
   "outputs": [],
   "source": [
    "train_df.info()"
   ],
   "metadata": {
    "collapsed": false
   }
  },
  {
   "cell_type": "code",
   "execution_count": null,
   "outputs": [],
   "source": [
    "train_df.nunique()"
   ],
   "metadata": {
    "collapsed": false
   }
  },
  {
   "cell_type": "markdown",
   "source": [
    "## Data Preparation"
   ],
   "metadata": {
    "collapsed": false
   }
  },
  {
   "cell_type": "markdown",
   "source": [
    "### Missing and duplicated values"
   ],
   "metadata": {
    "collapsed": false
   }
  },
  {
   "cell_type": "code",
   "execution_count": null,
   "outputs": [],
   "source": [
    "train_df.isnull().sum()"
   ],
   "metadata": {
    "collapsed": false
   }
  },
  {
   "cell_type": "code",
   "execution_count": null,
   "outputs": [],
   "source": [
    "train_df[train_df.duplicated()]"
   ],
   "metadata": {
    "collapsed": false
   }
  },
  {
   "cell_type": "markdown",
   "source": [
    "## Data Cleaning"
   ],
   "metadata": {
    "collapsed": false
   }
  },
  {
   "cell_type": "code",
   "execution_count": null,
   "outputs": [],
   "source": [
    "numerical_columns = ['Age',\n",
    "                     'Annual_Income',\n",
    "                     'Monthly_Inhand_Salary',\n",
    "                     'Num_Bank_Accounts',\n",
    "                     'Num_Credit_Card',\n",
    "                     'Interest_Rate',\n",
    "                     'Num_of_Loan',\n",
    "                     'Delay_from_due_date',\n",
    "                     'Num_of_Delayed_Payment',\n",
    "                     'Changed_Credit_Limit',\n",
    "                     'Num_Credit_Inquiries',\n",
    "                     'Outstanding_Debt',\n",
    "                     'Credit_Utilization_Ratio',\n",
    "                     'Credit_History_Age',\n",
    "                     'Total_EMI_per_month',\n",
    "                     'Amount_invested_monthly',\n",
    "                     'Monthly_Balance']"
   ],
   "metadata": {
    "collapsed": false
   }
  },
  {
   "cell_type": "code",
   "execution_count": null,
   "outputs": [],
   "source": [
    "categorical_columns = [\n",
    "    \"Occupation\",\n",
    "    \"Credit_Mix\",\n",
    "    \"Payment_of_Min_Amount\",\n",
    "    \"Payment_Behaviour\",\n",
    "    \"Credit_Score\",\n",
    "    \"Month\",\n",
    "    \"auto_loan\",\n",
    "    \"credit-builder_loan\",\n",
    "    \"debt_consolidation_loan\",\n",
    "    \"home_equity_loan\",\n",
    "    \"mortgage_loan\",\n",
    "    \"unspecified_loan\",\n",
    "    \"payday_loan\",\n",
    "    \"personal_loan\",\n",
    "    \"student_loan\"\n",
    "]"
   ],
   "metadata": {
    "collapsed": false
   }
  },
  {
   "cell_type": "code",
   "execution_count": null,
   "outputs": [],
   "source": [
    "def clean_type_of_loan(frame):\n",
    "    frame[\"auto_loan\"] = frame[\"Type_of_Loan\"].str.lower().str.contains(\"auto loan\").astype(bool)\n",
    "    frame[\"credit-builder_loan\"] = frame[\"Type_of_Loan\"].str.lower().str.contains(\"credit-builder loan\").astype(bool)\n",
    "    frame[\"debt_consolidation_loan\"] = frame[\"Type_of_Loan\"].str.lower().str.contains(\"debt consolidation loan\").astype(bool)\n",
    "    frame[\"home_equity_loan\"] = frame[\"Type_of_Loan\"].str.lower().str.contains(\"home equity loan\").astype(bool)\n",
    "    frame[\"mortgage_loan\"] = frame[\"Type_of_Loan\"].str.lower().str.contains(\"mortgage loan\").astype(bool)\n",
    "    frame[\"unspecified_loan\"] = frame[\"Type_of_Loan\"].str.lower().str.contains(\"not specified\").astype(bool)\n",
    "    frame[\"payday_loan\"] = frame[\"Type_of_Loan\"].str.lower().str.contains(\"payday loan\").astype(bool)\n",
    "    frame[\"personal_loan\"] = frame[\"Type_of_Loan\"].str.lower().str.contains(\"personal loan\").astype(bool)\n",
    "    frame[\"student_loan\"] = frame[\"Type_of_Loan\"].str.lower().str.contains(\"student loan\").astype(bool)\n",
    "    return frame"
   ],
   "metadata": {
    "collapsed": false
   }
  },
  {
   "cell_type": "code",
   "execution_count": null,
   "outputs": [],
   "source": [
    "def clean_credit_age(age):\n",
    "    if age == 'nan':\n",
    "        return np.nan\n",
    "    if not \"Years\" in age:\n",
    "        return age\n",
    "    years, months = age.split(\" Years and \")\n",
    "    months = months.replace(\" Months\", \"\")\n",
    "    return int(years) + int(months) / 12"
   ],
   "metadata": {
    "collapsed": false
   }
  },
  {
   "cell_type": "code",
   "execution_count": null,
   "outputs": [],
   "source": [
    "def clean_outliers(frame):\n",
    "    frame.loc[frame[\"Age\"] > 65, \"Age\"] = 65\n",
    "    frame.loc[frame[\"Num_Bank_Accounts\"] > 1000, \"Num_Bank_Accounts\"] = 1000\n",
    "    frame.loc[frame[\"Monthly_Balance\"] > 1e6, \"Monthly_Balance\"] = np.nan\n",
    "    return frame"
   ],
   "metadata": {
    "collapsed": false
   }
  },
  {
   "cell_type": "code",
   "execution_count": null,
   "outputs": [],
   "source": [
    "def clean_data(frame, is_test=False):\n",
    "    numeric_object_columns = ['Age', 'Annual_Income', 'Delay_from_due_date', 'Num_of_Loan', 'Num_of_Delayed_Payment',\n",
    "                              'Changed_Credit_Limit', 'Outstanding_Debt', 'Amount_invested_monthly', 'Monthly_Balance']\n",
    "    for col in numeric_object_columns:\n",
    "        frame[col] = frame[col].astype(str).str.replace(r'[^\\d\\.]', '', regex=True)\n",
    "        frame[col] = pd.to_numeric(frame[col], errors=\"coerce\")\n",
    "    frame[\"Credit_History_Age\"] = frame[\"Credit_History_Age\"].astype(str).apply(clean_credit_age)\n",
    "    frame[\"Credit_History_Age\"] = pd.to_numeric(frame[\"Credit_History_Age\"], errors=\"coerce\")\n",
    "\n",
    "    frame = clean_type_of_loan(frame)\n",
    "\n",
    "    frame = clean_outliers(frame)\n",
    "\n",
    "    frame[\"Occupation\"] = frame[\"Occupation\"].astype(str).str.replace(\"_______\", \"\")\n",
    "    frame[\"Occupation\"] = frame[\"Occupation\"].astype(str).str.replace(\"nan\", \"\")\n",
    "    frame[\"Payment_Behaviour\"] = frame[\"Payment_Behaviour\"].astype(str).str.replace(\"!@9#%8\", \"\")\n",
    "    frame[\"Payment_Behaviour\"] = frame[\"Payment_Behaviour\"].astype(str).str.replace(\"nan\", \"\")\n",
    "    frame = frame.drop_duplicates()\n",
    "\n",
    "    frame = frame.drop(columns=['ID', 'Customer_ID', 'Name', 'SSN', \"Type_of_Loan\"], axis=1)\n",
    "\n",
    "    frame.loc[frame[\"Num_Bank_Accounts\"] < 0, \"Num_Bank_Accounts\"] = np.nan\n",
    "\n",
    "    for f in frame.columns:\n",
    "        if is_test and f == \"Credit_Score\":\n",
    "            break\n",
    "        if f in numerical_columns:\n",
    "            frame[f].fillna(frame[f].median(), inplace=True)\n",
    "        else:\n",
    "            frame[f].fillna(frame[f].mode()[0], inplace=True)\n",
    "\n",
    "    return frame"
   ],
   "metadata": {
    "collapsed": false
   }
  },
  {
   "cell_type": "code",
   "execution_count": null,
   "outputs": [],
   "source": [
    "train_df = clean_data(train_df)"
   ],
   "metadata": {
    "collapsed": false
   }
  },
  {
   "cell_type": "code",
   "execution_count": null,
   "outputs": [],
   "source": [
    "train_df.isnull().sum()"
   ],
   "metadata": {
    "collapsed": false
   }
  },
  {
   "cell_type": "code",
   "execution_count": null,
   "outputs": [],
   "source": [
    "train_df[train_df.duplicated()]"
   ],
   "metadata": {
    "collapsed": false
   }
  },
  {
   "cell_type": "code",
   "execution_count": null,
   "outputs": [],
   "source": [
    "train_df.info()"
   ],
   "metadata": {
    "collapsed": false
   }
  },
  {
   "cell_type": "code",
   "execution_count": null,
   "outputs": [],
   "source": [
    "train_df.nunique()"
   ],
   "metadata": {
    "collapsed": false
   }
  },
  {
   "cell_type": "code",
   "execution_count": null,
   "outputs": [],
   "source": [
    "train_df.sample(20)"
   ],
   "metadata": {
    "collapsed": false
   }
  },
  {
   "cell_type": "markdown",
   "source": [
    "## Exploratory Data Analysis"
   ],
   "metadata": {
    "collapsed": false
   }
  },
  {
   "cell_type": "code",
   "execution_count": null,
   "outputs": [],
   "source": [
    "train_df.describe().T.style.bar(subset=['mean'])"
   ],
   "metadata": {
    "collapsed": false
   }
  },
  {
   "cell_type": "code",
   "execution_count": null,
   "outputs": [],
   "source": [
    "_ = train_df.hist(bins=20, figsize=(20, 15))"
   ],
   "metadata": {
    "collapsed": false
   }
  },
  {
   "cell_type": "code",
   "execution_count": null,
   "outputs": [],
   "source": [
    "plt.figure(figsize=(12,10))\n",
    "sns.histplot(train_df[\"Age\"], bins=20)\n",
    "plt.title('Customer Age')\n",
    "plt.savefig(\"figures/ch6_credit_age.png\", dpi=600)"
   ],
   "metadata": {
    "collapsed": false
   }
  },
  {
   "cell_type": "code",
   "execution_count": null,
   "outputs": [],
   "source": [
    "plt.figure(figsize=(12,10))\n",
    "sns.histplot(train_df[\"Monthly_Inhand_Salary\"], bins=30)\n",
    "plt.title('Monthly Inhand Salary')\n",
    "plt.savefig(\"figures/ch6_credit_salary.png\", dpi=600)"
   ],
   "metadata": {
    "collapsed": false
   }
  },
  {
   "cell_type": "code",
   "execution_count": null,
   "outputs": [],
   "source": [
    "fig, axes = plt.subplots(3, 2, figsize=(20, 15))\n",
    "sns.histplot(train_df['Occupation'], ax=axes[0, 0])\n",
    "sns.histplot(train_df['Credit_Mix'], ax=axes[0, 1])\n",
    "sns.histplot(train_df['Payment_of_Min_Amount'], ax=axes[1, 0])\n",
    "sns.histplot(train_df['Payment_Behaviour'], ax=axes[1, 1])\n",
    "sns.histplot(train_df['Credit_Score'], ax=axes[2, 0])\n",
    "sns.histplot(train_df['Month'], ax=axes[2, 1])"
   ],
   "metadata": {
    "collapsed": false
   }
  },
  {
   "cell_type": "code",
   "execution_count": null,
   "outputs": [],
   "source": [
    "plt.figure(figsize=(12,10))\n",
    "sns.histplot(train_df[\"Credit_Score\"], bins=30)\n",
    "plt.title('Credit Score')\n",
    "plt.savefig(\"figures/ch6_credit_score.png\", dpi=600)"
   ],
   "metadata": {
    "collapsed": false
   }
  },
  {
   "cell_type": "code",
   "execution_count": null,
   "outputs": [],
   "source": [
    "plt.figure(figsize=(12,10))\n",
    "sns.heatmap(train_df.corr(method=\"spearman\"), cmap='coolwarm')\n",
    "plt.title('Correlation Heatmap')\n",
    "plt.savefig(\"figures/ch6_credit_correlations.png\", dpi=600)"
   ],
   "metadata": {
    "collapsed": false
   }
  },
  {
   "cell_type": "code",
   "execution_count": null,
   "outputs": [],
   "source": [
    "train_df.groupby(\"Credit_Score\")[\"Annual_Income\"].mean().plot.bar()"
   ],
   "metadata": {
    "collapsed": false
   }
  },
  {
   "cell_type": "code",
   "execution_count": null,
   "outputs": [],
   "source": [
    "train_df.groupby(\"Credit_Score\")[\"Age\"].mean().plot.bar()"
   ],
   "metadata": {
    "collapsed": false
   }
  },
  {
   "cell_type": "code",
   "execution_count": null,
   "outputs": [],
   "source": [
    "sns.scatterplot(x='Age',y='Annual_Income',hue='Credit_Score',data=train_df)"
   ],
   "metadata": {
    "collapsed": false
   }
  },
  {
   "cell_type": "markdown",
   "source": [],
   "metadata": {
    "collapsed": false
   }
  },
  {
   "cell_type": "code",
   "execution_count": null,
   "outputs": [],
   "source": [
    "sns.scatterplot(x='Age',y='Monthly_Inhand_Salary',hue='Credit_Score',data=train_df)"
   ],
   "metadata": {
    "collapsed": false
   }
  },
  {
   "cell_type": "code",
   "execution_count": null,
   "outputs": [],
   "source": [
    "sns.scatterplot(x='Num_of_Delayed_Payment',y='Credit_History_Age',hue='Credit_Score',data=train_df)"
   ],
   "metadata": {
    "collapsed": false
   }
  },
  {
   "cell_type": "code",
   "execution_count": null,
   "outputs": [],
   "source": [
    "sns.scatterplot(x='Monthly_Inhand_Salary',y='Monthly_Balance',hue='Credit_Score',data=train_df)"
   ],
   "metadata": {
    "collapsed": false
   }
  },
  {
   "cell_type": "code",
   "execution_count": null,
   "outputs": [],
   "source": [
    "sns.scatterplot(x='Delay_from_due_date',y='Outstanding_Debt',hue='Credit_Score',data=train_df)"
   ],
   "metadata": {
    "collapsed": false
   }
  },
  {
   "cell_type": "code",
   "execution_count": null,
   "outputs": [],
   "source": [
    "sns.scatterplot(x='Monthly_Inhand_Salary',y='Outstanding_Debt',hue='Credit_Score',data=train_df)"
   ],
   "metadata": {
    "collapsed": false
   }
  },
  {
   "cell_type": "code",
   "execution_count": null,
   "outputs": [],
   "source": [
    "sns.scatterplot(x='Annual_Income',y='Outstanding_Debt',hue='Credit_Score',data=train_df)"
   ],
   "metadata": {
    "collapsed": false
   }
  },
  {
   "cell_type": "markdown",
   "source": [
    "## Data Preparation"
   ],
   "metadata": {
    "collapsed": false
   }
  },
  {
   "cell_type": "code",
   "execution_count": null,
   "outputs": [],
   "source": [
    "def prepare_data(frame, test=False, resample=False):\n",
    "    for feature in categorical_columns:\n",
    "        if test and feature == 'Credit_Score':\n",
    "            continue\n",
    "        frame[feature] = pd.Series(frame[feature], dtype=\"category\")\n",
    "    if not test:\n",
    "        X_prep = frame.drop(columns=[\"Credit_Score\"], axis=1)\n",
    "    else:\n",
    "        X_prep = frame\n",
    "    X_dummies = pd.get_dummies(X_prep)\n",
    "    y = train_df[\"Credit_Score\"]\n",
    "    if not test and resample:\n",
    "        smote = SMOTE(sampling_strategy='auto')\n",
    "        return smote.fit_resample(X_dummies, y)\n",
    "    return X_dummies, y"
   ],
   "metadata": {
    "collapsed": false
   }
  },
  {
   "cell_type": "code",
   "execution_count": null,
   "outputs": [],
   "source": [
    "X, y = prepare_data(train_df, resample=True)"
   ],
   "metadata": {
    "collapsed": false
   }
  },
  {
   "cell_type": "code",
   "execution_count": null,
   "outputs": [],
   "source": [
    "y.value_counts(normalize=True)"
   ],
   "metadata": {
    "collapsed": false
   }
  },
  {
   "cell_type": "code",
   "execution_count": null,
   "outputs": [],
   "source": [
    "plt.figure(figsize=(12,10))\n",
    "sns.histplot(y, bins=30)\n",
    "plt.title('Credit Score')\n",
    "plt.savefig(\"figures/ch6_credit_score_normal.png\", dpi=600)"
   ],
   "metadata": {
    "collapsed": false
   }
  },
  {
   "cell_type": "markdown",
   "source": [
    "## Modeling"
   ],
   "metadata": {
    "collapsed": false
   }
  },
  {
   "cell_type": "code",
   "execution_count": null,
   "outputs": [],
   "source": [
    "def cross_validate_with_smote(val_model, X_cross, y_cross, verbose=True):\n",
    "    X_cross = X_cross.values\n",
    "    y_cross = y_cross.values\n",
    "    kf = KFold(n_splits=5)\n",
    "    accuracies = []\n",
    "    f1_scores = []\n",
    "    for fold, (train_index, test_index) in enumerate(kf.split(X_cross), 1):\n",
    "        if verbose:\n",
    "            print(f'Fold {fold}:')\n",
    "        X_train = X_cross[train_index]\n",
    "        y_train = y_cross[train_index]\n",
    "        X_val = X_cross[test_index]\n",
    "        y_val = y_cross[test_index]\n",
    "        smote = SMOTE()\n",
    "        X_train_resampled, y_train_resampled = smote.fit_resample(X_train, y_train)\n",
    "        if verbose:\n",
    "            print(\"Fitting model\")\n",
    "        val_model.fit(X_train_resampled, y_train_resampled)  \n",
    "        y_pred = val_model.predict(X_val)\n",
    "        \n",
    "        accuracy = val_model.score(X_val, y_val)\n",
    "        f1 = f1_score(y_val, y_pred, average=\"macro\")\n",
    "        accuracies.append(accuracy)\n",
    "        f1_scores.append(f1)\n",
    "        \n",
    "        if verbose:\n",
    "            print(f'Accuracy: {accuracy}')\n",
    "            print(f'F1 score: {f1}')\n",
    "    return np.array(accuracies), np.array(f1_scores)\n"
   ],
   "metadata": {
    "collapsed": false
   }
  },
  {
   "cell_type": "code",
   "execution_count": null,
   "outputs": [],
   "source": [
    "tree = DecisionTreeClassifier()\n",
    "scores, f1_scores = cross_validate_with_smote(tree, X, y)\n",
    "print(f\"Accuracy: {scores.mean()}\")\n",
    "print(f\"F1: {f1_scores.mean()}\")"
   ],
   "metadata": {
    "collapsed": false
   }
  },
  {
   "cell_type": "code",
   "execution_count": null,
   "outputs": [],
   "source": [
    "forest = RandomForestClassifier()\n",
    "scores, f1_scores = cross_validate_with_smote(forest, X, y)\n",
    "print(f\"Accuracy: {scores.mean()}\")\n",
    "print(f\"F1: {f1_scores.mean()}\")"
   ],
   "metadata": {
    "collapsed": false
   }
  },
  {
   "cell_type": "code",
   "execution_count": null,
   "outputs": [],
   "source": [
    "lgbm = lgb.LGBMClassifier(force_row_wise=True, verbose = -1)\n",
    "scores, f1_scores = cross_validate_with_smote(lgbm, X, y)\n",
    "print(f\"Accuracy: {scores.mean()}\")\n",
    "print(f\"F1: {f1_scores.mean()}\")"
   ],
   "metadata": {
    "collapsed": false
   }
  },
  {
   "cell_type": "markdown",
   "source": [
    "## Parameter Optimization"
   ],
   "metadata": {
    "collapsed": false
   }
  },
  {
   "cell_type": "code",
   "execution_count": null,
   "outputs": [],
   "source": [
    "X, y = prepare_data(train_df, resample=False) # we need the original data (without resampling) for cross validation"
   ],
   "metadata": {
    "collapsed": false
   }
  },
  {
   "cell_type": "code",
   "execution_count": null,
   "outputs": [],
   "source": [
    "def objective(trial):\n",
    "    boosting_type = trial.suggest_categorical(\"boosting_type\", [\"dart\", \"gbdt\"])\n",
    "    lambda_l1 = trial.suggest_float(\n",
    "        'lambda_l1', 1e-8, 10.0, log=True),\n",
    "    lambda_l2 = trial.suggest_float(\n",
    "        'lambda_l2', 1e-8, 10.0, log=True),\n",
    "    num_leaves = trial.suggest_int(\n",
    "        'num_leaves', 2, 256),\n",
    "    feature_fraction = trial.suggest_float(\n",
    "        'feature_fraction', 0.4, 1.0),\n",
    "    bagging_fraction = trial.suggest_float(\n",
    "        'bagging_fraction', 0.4, 1.0),\n",
    "    bagging_freq = trial.suggest_int(\n",
    "        'bagging_freq', 1, 7),\n",
    "    min_child_samples = trial.suggest_int(\n",
    "        'min_child_samples', 5, 100),\n",
    "    learning_rate = trial.suggest_float(\n",
    "        \"learning_rate\", 0.0001, 0.5, log=True),\n",
    "    max_bin = trial.suggest_int(\n",
    "        \"max_bin\", 128, 512, 32)\n",
    "    n_estimators = trial.suggest_int(\n",
    "        \"n_estimators\", 40, 400, 20)\n",
    "\n",
    "    model = lgb.LGBMClassifier(\n",
    "        force_row_wise=True,\n",
    "        boosting_type=boosting_type,\n",
    "        n_estimators=n_estimators,\n",
    "        lambda_l1=lambda_l1,\n",
    "        lambda_l2=lambda_l2,\n",
    "        num_leaves=num_leaves,\n",
    "        feature_fraction=feature_fraction,\n",
    "        bagging_fraction=bagging_fraction,\n",
    "        bagging_freq=bagging_freq,\n",
    "        min_child_samples=min_child_samples,\n",
    "        learning_rate=learning_rate,\n",
    "        max_bin=max_bin,\n",
    "        verbose=-1)\n",
    "    scores, f1_scores = cross_validate_with_smote(model, X, y, verbose=False)\n",
    "    return f1_scores.mean()"
   ],
   "metadata": {
    "collapsed": false
   }
  },
  {
   "cell_type": "code",
   "execution_count": null,
   "outputs": [],
   "source": [
    "sampler = optuna.samplers.TPESampler()\n",
    "pruner = optuna.pruners.HyperbandPruner(\n",
    "    min_resource=20, max_resource=400, reduction_factor=3)\n",
    "\n",
    "study = optuna.create_study(\n",
    "    direction='maximize', sampler=sampler,\n",
    "    pruner=pruner\n",
    ")\n",
    "study.optimize(objective, n_trials=50, n_jobs=-1)"
   ],
   "metadata": {
    "collapsed": false
   }
  },
  {
   "cell_type": "code",
   "execution_count": null,
   "outputs": [],
   "source": [
    "print(study.best_trial)"
   ],
   "metadata": {
    "collapsed": false
   }
  },
  {
   "cell_type": "markdown",
   "source": [
    "## Train model using best results"
   ],
   "metadata": {
    "collapsed": false
   }
  },
  {
   "cell_type": "code",
   "execution_count": null,
   "outputs": [],
   "source": [
    "model = lgb.LGBMClassifier(\n",
    "        force_row_wise=True,\n",
    "        boosting_type='gbdt',\n",
    "        n_estimators=200,\n",
    "        lambda_l1=0.0003,\n",
    "        lambda_l2=1.4418,\n",
    "        num_leaves=58,\n",
    "        feature_fraction=0.6628,\n",
    "        bagging_fraction=0.6651,\n",
    "        bagging_freq=3,\n",
    "        min_child_samples=58,\n",
    "        learning_rate=0.013,\n",
    "        max_bin=128,\n",
    "        verbose=-1\n",
    ")\n",
    "scores, f1_scores = cross_validate_with_smote(model, X, y, verbose=False)\n",
    "print(f\"Accuracy: {scores.mean()}\")\n",
    "print(f\"F1: {f1_scores.mean()}\")\n",
    "X, y = prepare_data(train_df, resample=True)\n",
    "model = model.fit(X, y)"
   ],
   "metadata": {
    "collapsed": false
   }
  },
  {
   "cell_type": "code",
   "execution_count": null,
   "outputs": [],
   "source": [
    "lgb.plot_importance(model, figsize=(15, 12))"
   ],
   "metadata": {
    "collapsed": false
   }
  },
  {
   "cell_type": "markdown",
   "source": [
    "### Saving and loading the model"
   ],
   "metadata": {
    "collapsed": false
   }
  },
  {
   "cell_type": "code",
   "execution_count": null,
   "outputs": [],
   "source": [
    "X, y = prepare_data(train_df, resample=False)"
   ],
   "metadata": {
    "collapsed": false
   }
  },
  {
   "cell_type": "code",
   "execution_count": null,
   "outputs": [],
   "source": [
    "joblib.dump(model, \"lgb_credit_score_classification.pkl\")"
   ],
   "metadata": {
    "collapsed": false
   }
  },
  {
   "cell_type": "code",
   "execution_count": null,
   "outputs": [],
   "source": [
    "def make_predictions(data):\n",
    "    model = joblib.load(\"lgb_credit_score_classification.pkl\")\n",
    "    return model.predict(data)"
   ],
   "metadata": {
    "collapsed": false
   }
  },
  {
   "cell_type": "code",
   "execution_count": null,
   "outputs": [],
   "source": [
    "predictions = make_predictions(X)"
   ],
   "metadata": {
    "collapsed": false
   }
  },
  {
   "cell_type": "code",
   "execution_count": null,
   "outputs": [],
   "source": [],
   "metadata": {
    "collapsed": false
   }
  }
 ],
 "metadata": {
  "kernelspec": {
   "display_name": "Python 3",
   "language": "python",
   "name": "python3"
  },
  "language_info": {
   "codemirror_mode": {
    "name": "ipython",
    "version": 2
   },
   "file_extension": ".py",
   "mimetype": "text/x-python",
   "name": "python",
   "nbconvert_exporter": "python",
   "pygments_lexer": "ipython2",
   "version": "2.7.6"
  }
 },
 "nbformat": 4,
 "nbformat_minor": 0
}
