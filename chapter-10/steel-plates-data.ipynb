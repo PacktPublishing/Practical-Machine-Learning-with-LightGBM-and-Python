{
 "cells": [
  {
   "cell_type": "code",
   "execution_count": 1,
   "metadata": {
    "collapsed": true,
    "ExecuteTime": {
     "end_time": "2023-07-03T20:22:04.253076300Z",
     "start_time": "2023-07-03T20:22:02.956548Z"
    }
   },
   "outputs": [],
   "source": [
    "import openml"
   ]
  },
  {
   "cell_type": "code",
   "execution_count": 2,
   "outputs": [],
   "source": [
    "dataset = openml.datasets.get_dataset(1504)"
   ],
   "metadata": {
    "collapsed": false,
    "ExecuteTime": {
     "end_time": "2023-07-03T20:22:10.855667100Z",
     "start_time": "2023-07-03T20:22:04.254082200Z"
    }
   }
  },
  {
   "cell_type": "code",
   "execution_count": 3,
   "outputs": [],
   "source": [
    "X, y, X2, y2 = dataset.get_data(dataset_format=\"dataframe\", target=\"Class\")"
   ],
   "metadata": {
    "collapsed": false,
    "ExecuteTime": {
     "end_time": "2023-07-03T20:22:11.001698100Z",
     "start_time": "2023-07-03T20:22:10.858681900Z"
    }
   }
  },
  {
   "cell_type": "code",
   "execution_count": 12,
   "outputs": [],
   "source": [
    "X[\"Class\"] = y"
   ],
   "metadata": {
    "collapsed": false,
    "ExecuteTime": {
     "end_time": "2023-07-03T20:23:59.569087700Z",
     "start_time": "2023-07-03T20:23:59.564588500Z"
    }
   }
  },
  {
   "cell_type": "code",
   "execution_count": 13,
   "outputs": [
    {
     "data": {
      "text/plain": "          V1      V2         V3         V4      V5    V6     V7        V8  \\\n0       42.0    50.0   270900.0   270944.0   267.0  17.0   44.0   24220.0   \n1      645.0   651.0  2538079.0  2538108.0   108.0  10.0   30.0   11397.0   \n2      829.0   835.0  1553913.0  1553931.0    71.0   8.0   19.0    7972.0   \n3      853.0   860.0   369370.0   369415.0   176.0  13.0   45.0   18996.0   \n4     1289.0  1306.0   498078.0   498335.0  2409.0  60.0  260.0  246930.0   \n...      ...     ...        ...        ...     ...   ...    ...       ...   \n1936   249.0   277.0   325780.0   325796.0   273.0  54.0   22.0   35033.0   \n1937   144.0   175.0   340581.0   340598.0   287.0  44.0   24.0   34599.0   \n1938   145.0   174.0   386779.0   386794.0   292.0  40.0   22.0   37572.0   \n1939   137.0   170.0   422497.0   422528.0   419.0  97.0   47.0   52715.0   \n1940  1261.0  1281.0    87951.0    87967.0   103.0  26.0   22.0   11682.0   \n\n       V9  V10  ...     V25     V26     V27  V28  V29  V30  V31  V32  V33  \\\n0      76  108  ...  0.8182 -0.2913  0.5822    1    0    0    0    0    0   \n1      84  123  ...  0.7931 -0.1756  0.2984    1    0    0    0    0    0   \n2      99  125  ...  0.6667 -0.1228  0.2150    1    0    0    0    0    0   \n3      99  126  ...  0.8444 -0.1568  0.5212    1    0    0    0    0    0   \n4      37  126  ...  0.9338 -0.1992  1.0000    1    0    0    0    0    0   \n...   ...  ...  ...     ...     ...     ...  ...  ...  ...  ...  ...  ...   \n1936  119  141  ... -0.4286  0.0026  0.7254    0    0    0    0    0    0   \n1937  112  133  ... -0.4516 -0.0582  0.8173    0    0    0    0    0    0   \n1938  120  140  ... -0.4828  0.0052  0.7079    0    0    0    0    0    0   \n1939  117  140  ... -0.0606 -0.0171  0.9919    0    0    0    0    0    0   \n1940  101  133  ... -0.2000 -0.1139  0.5296    0    0    0    0    0    0   \n\n      Class  \n0         1  \n1         1  \n2         1  \n3         1  \n4         1  \n...     ...  \n1936      2  \n1937      2  \n1938      2  \n1939      2  \n1940      2  \n\n[1941 rows x 34 columns]",
      "text/html": "<div>\n<style scoped>\n    .dataframe tbody tr th:only-of-type {\n        vertical-align: middle;\n    }\n\n    .dataframe tbody tr th {\n        vertical-align: top;\n    }\n\n    .dataframe thead th {\n        text-align: right;\n    }\n</style>\n<table border=\"1\" class=\"dataframe\">\n  <thead>\n    <tr style=\"text-align: right;\">\n      <th></th>\n      <th>V1</th>\n      <th>V2</th>\n      <th>V3</th>\n      <th>V4</th>\n      <th>V5</th>\n      <th>V6</th>\n      <th>V7</th>\n      <th>V8</th>\n      <th>V9</th>\n      <th>V10</th>\n      <th>...</th>\n      <th>V25</th>\n      <th>V26</th>\n      <th>V27</th>\n      <th>V28</th>\n      <th>V29</th>\n      <th>V30</th>\n      <th>V31</th>\n      <th>V32</th>\n      <th>V33</th>\n      <th>Class</th>\n    </tr>\n  </thead>\n  <tbody>\n    <tr>\n      <th>0</th>\n      <td>42.0</td>\n      <td>50.0</td>\n      <td>270900.0</td>\n      <td>270944.0</td>\n      <td>267.0</td>\n      <td>17.0</td>\n      <td>44.0</td>\n      <td>24220.0</td>\n      <td>76</td>\n      <td>108</td>\n      <td>...</td>\n      <td>0.8182</td>\n      <td>-0.2913</td>\n      <td>0.5822</td>\n      <td>1</td>\n      <td>0</td>\n      <td>0</td>\n      <td>0</td>\n      <td>0</td>\n      <td>0</td>\n      <td>1</td>\n    </tr>\n    <tr>\n      <th>1</th>\n      <td>645.0</td>\n      <td>651.0</td>\n      <td>2538079.0</td>\n      <td>2538108.0</td>\n      <td>108.0</td>\n      <td>10.0</td>\n      <td>30.0</td>\n      <td>11397.0</td>\n      <td>84</td>\n      <td>123</td>\n      <td>...</td>\n      <td>0.7931</td>\n      <td>-0.1756</td>\n      <td>0.2984</td>\n      <td>1</td>\n      <td>0</td>\n      <td>0</td>\n      <td>0</td>\n      <td>0</td>\n      <td>0</td>\n      <td>1</td>\n    </tr>\n    <tr>\n      <th>2</th>\n      <td>829.0</td>\n      <td>835.0</td>\n      <td>1553913.0</td>\n      <td>1553931.0</td>\n      <td>71.0</td>\n      <td>8.0</td>\n      <td>19.0</td>\n      <td>7972.0</td>\n      <td>99</td>\n      <td>125</td>\n      <td>...</td>\n      <td>0.6667</td>\n      <td>-0.1228</td>\n      <td>0.2150</td>\n      <td>1</td>\n      <td>0</td>\n      <td>0</td>\n      <td>0</td>\n      <td>0</td>\n      <td>0</td>\n      <td>1</td>\n    </tr>\n    <tr>\n      <th>3</th>\n      <td>853.0</td>\n      <td>860.0</td>\n      <td>369370.0</td>\n      <td>369415.0</td>\n      <td>176.0</td>\n      <td>13.0</td>\n      <td>45.0</td>\n      <td>18996.0</td>\n      <td>99</td>\n      <td>126</td>\n      <td>...</td>\n      <td>0.8444</td>\n      <td>-0.1568</td>\n      <td>0.5212</td>\n      <td>1</td>\n      <td>0</td>\n      <td>0</td>\n      <td>0</td>\n      <td>0</td>\n      <td>0</td>\n      <td>1</td>\n    </tr>\n    <tr>\n      <th>4</th>\n      <td>1289.0</td>\n      <td>1306.0</td>\n      <td>498078.0</td>\n      <td>498335.0</td>\n      <td>2409.0</td>\n      <td>60.0</td>\n      <td>260.0</td>\n      <td>246930.0</td>\n      <td>37</td>\n      <td>126</td>\n      <td>...</td>\n      <td>0.9338</td>\n      <td>-0.1992</td>\n      <td>1.0000</td>\n      <td>1</td>\n      <td>0</td>\n      <td>0</td>\n      <td>0</td>\n      <td>0</td>\n      <td>0</td>\n      <td>1</td>\n    </tr>\n    <tr>\n      <th>...</th>\n      <td>...</td>\n      <td>...</td>\n      <td>...</td>\n      <td>...</td>\n      <td>...</td>\n      <td>...</td>\n      <td>...</td>\n      <td>...</td>\n      <td>...</td>\n      <td>...</td>\n      <td>...</td>\n      <td>...</td>\n      <td>...</td>\n      <td>...</td>\n      <td>...</td>\n      <td>...</td>\n      <td>...</td>\n      <td>...</td>\n      <td>...</td>\n      <td>...</td>\n      <td>...</td>\n    </tr>\n    <tr>\n      <th>1936</th>\n      <td>249.0</td>\n      <td>277.0</td>\n      <td>325780.0</td>\n      <td>325796.0</td>\n      <td>273.0</td>\n      <td>54.0</td>\n      <td>22.0</td>\n      <td>35033.0</td>\n      <td>119</td>\n      <td>141</td>\n      <td>...</td>\n      <td>-0.4286</td>\n      <td>0.0026</td>\n      <td>0.7254</td>\n      <td>0</td>\n      <td>0</td>\n      <td>0</td>\n      <td>0</td>\n      <td>0</td>\n      <td>0</td>\n      <td>2</td>\n    </tr>\n    <tr>\n      <th>1937</th>\n      <td>144.0</td>\n      <td>175.0</td>\n      <td>340581.0</td>\n      <td>340598.0</td>\n      <td>287.0</td>\n      <td>44.0</td>\n      <td>24.0</td>\n      <td>34599.0</td>\n      <td>112</td>\n      <td>133</td>\n      <td>...</td>\n      <td>-0.4516</td>\n      <td>-0.0582</td>\n      <td>0.8173</td>\n      <td>0</td>\n      <td>0</td>\n      <td>0</td>\n      <td>0</td>\n      <td>0</td>\n      <td>0</td>\n      <td>2</td>\n    </tr>\n    <tr>\n      <th>1938</th>\n      <td>145.0</td>\n      <td>174.0</td>\n      <td>386779.0</td>\n      <td>386794.0</td>\n      <td>292.0</td>\n      <td>40.0</td>\n      <td>22.0</td>\n      <td>37572.0</td>\n      <td>120</td>\n      <td>140</td>\n      <td>...</td>\n      <td>-0.4828</td>\n      <td>0.0052</td>\n      <td>0.7079</td>\n      <td>0</td>\n      <td>0</td>\n      <td>0</td>\n      <td>0</td>\n      <td>0</td>\n      <td>0</td>\n      <td>2</td>\n    </tr>\n    <tr>\n      <th>1939</th>\n      <td>137.0</td>\n      <td>170.0</td>\n      <td>422497.0</td>\n      <td>422528.0</td>\n      <td>419.0</td>\n      <td>97.0</td>\n      <td>47.0</td>\n      <td>52715.0</td>\n      <td>117</td>\n      <td>140</td>\n      <td>...</td>\n      <td>-0.0606</td>\n      <td>-0.0171</td>\n      <td>0.9919</td>\n      <td>0</td>\n      <td>0</td>\n      <td>0</td>\n      <td>0</td>\n      <td>0</td>\n      <td>0</td>\n      <td>2</td>\n    </tr>\n    <tr>\n      <th>1940</th>\n      <td>1261.0</td>\n      <td>1281.0</td>\n      <td>87951.0</td>\n      <td>87967.0</td>\n      <td>103.0</td>\n      <td>26.0</td>\n      <td>22.0</td>\n      <td>11682.0</td>\n      <td>101</td>\n      <td>133</td>\n      <td>...</td>\n      <td>-0.2000</td>\n      <td>-0.1139</td>\n      <td>0.5296</td>\n      <td>0</td>\n      <td>0</td>\n      <td>0</td>\n      <td>0</td>\n      <td>0</td>\n      <td>0</td>\n      <td>2</td>\n    </tr>\n  </tbody>\n</table>\n<p>1941 rows × 34 columns</p>\n</div>"
     },
     "execution_count": 13,
     "metadata": {},
     "output_type": "execute_result"
    }
   ],
   "source": [
    "X"
   ],
   "metadata": {
    "collapsed": false,
    "ExecuteTime": {
     "end_time": "2023-07-03T20:24:00.854609900Z",
     "start_time": "2023-07-03T20:24:00.838317300Z"
    }
   }
  },
  {
   "cell_type": "code",
   "execution_count": 23,
   "outputs": [],
   "source": [
    "X = X.sample(frac=1)"
   ],
   "metadata": {
    "collapsed": false,
    "ExecuteTime": {
     "end_time": "2023-07-03T21:30:31.821722500Z",
     "start_time": "2023-07-03T21:30:31.808645300Z"
    }
   }
  },
  {
   "cell_type": "code",
   "execution_count": 24,
   "outputs": [
    {
     "data": {
      "text/plain": "          V1      V2         V3         V4      V5     V6     V7        V8  \\\n209      0.0    37.0   814236.0   814627.0  7292.0  466.0  536.0  608995.0   \n126   1595.0  1611.0  1594430.0  1594517.0   794.0   59.0   87.0   84410.0   \n23      82.0    92.0   149044.0   149083.0   264.0   15.0   39.0   32175.0   \n46    1495.0  1502.0  3509718.0  3509731.0    56.0   12.0   13.0    5587.0   \n1751    54.0    75.0  2344077.0  2344153.0   838.0   67.0   80.0   85442.0   \n...      ...     ...        ...        ...     ...    ...    ...       ...   \n275     30.0    58.0  1772722.0  1772736.0   253.0   50.0   26.0   28728.0   \n1174  1031.0  1045.0   621518.0   621530.0   115.0   15.0   12.0   11562.0   \n1117   315.0   341.0   530471.0   530483.0   116.0   32.0   19.0   14912.0   \n1058   993.0  1004.0  1589161.0  1589168.0    57.0   12.0    7.0    6528.0   \n1821    54.0    62.0  3971234.0  3971359.0   583.0   75.0  125.0   60497.0   \n\n       V9  V10  ...     V25     V26     V27  V28  V29  V30  V31  V32  V33  \\\n209    43  108  ...  0.9054 -0.3475  1.0000    0    1    0    0    0    0   \n126    62  127  ...  0.8161 -0.1694  0.9993    1    0    0    0    0    0   \n23     92  141  ...  0.7436 -0.0479  0.6422    1    0    0    0    0    0   \n46     85  116  ...  0.4615 -0.2206  0.1965    1    0    0    0    0    0   \n1751   90  119  ...  0.7237 -0.2034  0.9998    0    0    0    0    0    0   \n...   ...  ...  ...     ...     ...     ...  ...  ...  ...  ...  ...  ...   \n275    86  135  ... -0.5000 -0.1129  0.6453    0    1    0    0    0    0   \n1174   68  127  ... -0.1429 -0.2145  0.2901    0    0    0    0    0    1   \n1117  121  142  ... -0.5385  0.0043  0.5162    0    0    0    0    0    1   \n1058  103  126  ... -0.3636 -0.1053  0.1822    0    0    0    0    0    1   \n1821   89  126  ...  0.9360 -0.1893  0.9905    0    0    0    0    0    0   \n\n      Class  \n209       1  \n126       1  \n23        1  \n46        1  \n1751      2  \n...     ...  \n275       1  \n1174      1  \n1117      1  \n1058      1  \n1821      2  \n\n[1941 rows x 34 columns]",
      "text/html": "<div>\n<style scoped>\n    .dataframe tbody tr th:only-of-type {\n        vertical-align: middle;\n    }\n\n    .dataframe tbody tr th {\n        vertical-align: top;\n    }\n\n    .dataframe thead th {\n        text-align: right;\n    }\n</style>\n<table border=\"1\" class=\"dataframe\">\n  <thead>\n    <tr style=\"text-align: right;\">\n      <th></th>\n      <th>V1</th>\n      <th>V2</th>\n      <th>V3</th>\n      <th>V4</th>\n      <th>V5</th>\n      <th>V6</th>\n      <th>V7</th>\n      <th>V8</th>\n      <th>V9</th>\n      <th>V10</th>\n      <th>...</th>\n      <th>V25</th>\n      <th>V26</th>\n      <th>V27</th>\n      <th>V28</th>\n      <th>V29</th>\n      <th>V30</th>\n      <th>V31</th>\n      <th>V32</th>\n      <th>V33</th>\n      <th>Class</th>\n    </tr>\n  </thead>\n  <tbody>\n    <tr>\n      <th>209</th>\n      <td>0.0</td>\n      <td>37.0</td>\n      <td>814236.0</td>\n      <td>814627.0</td>\n      <td>7292.0</td>\n      <td>466.0</td>\n      <td>536.0</td>\n      <td>608995.0</td>\n      <td>43</td>\n      <td>108</td>\n      <td>...</td>\n      <td>0.9054</td>\n      <td>-0.3475</td>\n      <td>1.0000</td>\n      <td>0</td>\n      <td>1</td>\n      <td>0</td>\n      <td>0</td>\n      <td>0</td>\n      <td>0</td>\n      <td>1</td>\n    </tr>\n    <tr>\n      <th>126</th>\n      <td>1595.0</td>\n      <td>1611.0</td>\n      <td>1594430.0</td>\n      <td>1594517.0</td>\n      <td>794.0</td>\n      <td>59.0</td>\n      <td>87.0</td>\n      <td>84410.0</td>\n      <td>62</td>\n      <td>127</td>\n      <td>...</td>\n      <td>0.8161</td>\n      <td>-0.1694</td>\n      <td>0.9993</td>\n      <td>1</td>\n      <td>0</td>\n      <td>0</td>\n      <td>0</td>\n      <td>0</td>\n      <td>0</td>\n      <td>1</td>\n    </tr>\n    <tr>\n      <th>23</th>\n      <td>82.0</td>\n      <td>92.0</td>\n      <td>149044.0</td>\n      <td>149083.0</td>\n      <td>264.0</td>\n      <td>15.0</td>\n      <td>39.0</td>\n      <td>32175.0</td>\n      <td>92</td>\n      <td>141</td>\n      <td>...</td>\n      <td>0.7436</td>\n      <td>-0.0479</td>\n      <td>0.6422</td>\n      <td>1</td>\n      <td>0</td>\n      <td>0</td>\n      <td>0</td>\n      <td>0</td>\n      <td>0</td>\n      <td>1</td>\n    </tr>\n    <tr>\n      <th>46</th>\n      <td>1495.0</td>\n      <td>1502.0</td>\n      <td>3509718.0</td>\n      <td>3509731.0</td>\n      <td>56.0</td>\n      <td>12.0</td>\n      <td>13.0</td>\n      <td>5587.0</td>\n      <td>85</td>\n      <td>116</td>\n      <td>...</td>\n      <td>0.4615</td>\n      <td>-0.2206</td>\n      <td>0.1965</td>\n      <td>1</td>\n      <td>0</td>\n      <td>0</td>\n      <td>0</td>\n      <td>0</td>\n      <td>0</td>\n      <td>1</td>\n    </tr>\n    <tr>\n      <th>1751</th>\n      <td>54.0</td>\n      <td>75.0</td>\n      <td>2344077.0</td>\n      <td>2344153.0</td>\n      <td>838.0</td>\n      <td>67.0</td>\n      <td>80.0</td>\n      <td>85442.0</td>\n      <td>90</td>\n      <td>119</td>\n      <td>...</td>\n      <td>0.7237</td>\n      <td>-0.2034</td>\n      <td>0.9998</td>\n      <td>0</td>\n      <td>0</td>\n      <td>0</td>\n      <td>0</td>\n      <td>0</td>\n      <td>0</td>\n      <td>2</td>\n    </tr>\n    <tr>\n      <th>...</th>\n      <td>...</td>\n      <td>...</td>\n      <td>...</td>\n      <td>...</td>\n      <td>...</td>\n      <td>...</td>\n      <td>...</td>\n      <td>...</td>\n      <td>...</td>\n      <td>...</td>\n      <td>...</td>\n      <td>...</td>\n      <td>...</td>\n      <td>...</td>\n      <td>...</td>\n      <td>...</td>\n      <td>...</td>\n      <td>...</td>\n      <td>...</td>\n      <td>...</td>\n      <td>...</td>\n    </tr>\n    <tr>\n      <th>275</th>\n      <td>30.0</td>\n      <td>58.0</td>\n      <td>1772722.0</td>\n      <td>1772736.0</td>\n      <td>253.0</td>\n      <td>50.0</td>\n      <td>26.0</td>\n      <td>28728.0</td>\n      <td>86</td>\n      <td>135</td>\n      <td>...</td>\n      <td>-0.5000</td>\n      <td>-0.1129</td>\n      <td>0.6453</td>\n      <td>0</td>\n      <td>1</td>\n      <td>0</td>\n      <td>0</td>\n      <td>0</td>\n      <td>0</td>\n      <td>1</td>\n    </tr>\n    <tr>\n      <th>1174</th>\n      <td>1031.0</td>\n      <td>1045.0</td>\n      <td>621518.0</td>\n      <td>621530.0</td>\n      <td>115.0</td>\n      <td>15.0</td>\n      <td>12.0</td>\n      <td>11562.0</td>\n      <td>68</td>\n      <td>127</td>\n      <td>...</td>\n      <td>-0.1429</td>\n      <td>-0.2145</td>\n      <td>0.2901</td>\n      <td>0</td>\n      <td>0</td>\n      <td>0</td>\n      <td>0</td>\n      <td>0</td>\n      <td>1</td>\n      <td>1</td>\n    </tr>\n    <tr>\n      <th>1117</th>\n      <td>315.0</td>\n      <td>341.0</td>\n      <td>530471.0</td>\n      <td>530483.0</td>\n      <td>116.0</td>\n      <td>32.0</td>\n      <td>19.0</td>\n      <td>14912.0</td>\n      <td>121</td>\n      <td>142</td>\n      <td>...</td>\n      <td>-0.5385</td>\n      <td>0.0043</td>\n      <td>0.5162</td>\n      <td>0</td>\n      <td>0</td>\n      <td>0</td>\n      <td>0</td>\n      <td>0</td>\n      <td>1</td>\n      <td>1</td>\n    </tr>\n    <tr>\n      <th>1058</th>\n      <td>993.0</td>\n      <td>1004.0</td>\n      <td>1589161.0</td>\n      <td>1589168.0</td>\n      <td>57.0</td>\n      <td>12.0</td>\n      <td>7.0</td>\n      <td>6528.0</td>\n      <td>103</td>\n      <td>126</td>\n      <td>...</td>\n      <td>-0.3636</td>\n      <td>-0.1053</td>\n      <td>0.1822</td>\n      <td>0</td>\n      <td>0</td>\n      <td>0</td>\n      <td>0</td>\n      <td>0</td>\n      <td>1</td>\n      <td>1</td>\n    </tr>\n    <tr>\n      <th>1821</th>\n      <td>54.0</td>\n      <td>62.0</td>\n      <td>3971234.0</td>\n      <td>3971359.0</td>\n      <td>583.0</td>\n      <td>75.0</td>\n      <td>125.0</td>\n      <td>60497.0</td>\n      <td>89</td>\n      <td>126</td>\n      <td>...</td>\n      <td>0.9360</td>\n      <td>-0.1893</td>\n      <td>0.9905</td>\n      <td>0</td>\n      <td>0</td>\n      <td>0</td>\n      <td>0</td>\n      <td>0</td>\n      <td>0</td>\n      <td>2</td>\n    </tr>\n  </tbody>\n</table>\n<p>1941 rows × 34 columns</p>\n</div>"
     },
     "execution_count": 24,
     "metadata": {},
     "output_type": "execute_result"
    }
   ],
   "source": [
    "X"
   ],
   "metadata": {
    "collapsed": false,
    "ExecuteTime": {
     "end_time": "2023-07-03T21:30:32.316009700Z",
     "start_time": "2023-07-03T21:30:32.267516700Z"
    }
   }
  },
  {
   "cell_type": "code",
   "execution_count": 26,
   "outputs": [],
   "source": [
    "X.to_csv(\"steel-plates/steel-plates.csv\", index=False)"
   ],
   "metadata": {
    "collapsed": false,
    "ExecuteTime": {
     "end_time": "2023-07-03T21:31:01.217655Z",
     "start_time": "2023-07-03T21:31:01.168839800Z"
    }
   }
  },
  {
   "cell_type": "code",
   "execution_count": null,
   "outputs": [],
   "source": [],
   "metadata": {
    "collapsed": false
   }
  }
 ],
 "metadata": {
  "kernelspec": {
   "display_name": "Python 3",
   "language": "python",
   "name": "python3"
  },
  "language_info": {
   "codemirror_mode": {
    "name": "ipython",
    "version": 2
   },
   "file_extension": ".py",
   "mimetype": "text/x-python",
   "name": "python",
   "nbconvert_exporter": "python",
   "pygments_lexer": "ipython2",
   "version": "2.7.6"
  }
 },
 "nbformat": 4,
 "nbformat_minor": 0
}
