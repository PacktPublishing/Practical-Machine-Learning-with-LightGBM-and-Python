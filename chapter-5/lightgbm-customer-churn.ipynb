{
 "cells": [
  {
   "cell_type": "code",
   "execution_count": 1,
   "metadata": {
    "collapsed": true,
    "ExecuteTime": {
     "start_time": "2023-04-27T12:28:07.139630Z",
     "end_time": "2023-04-27T12:28:07.483508Z"
    }
   },
   "outputs": [],
   "source": [
    "import logging\n",
    "import sys\n",
    "\n",
    "import joblib\n",
    "import lightgbm as lgb\n",
    "import optuna\n",
    "import pandas as pd\n",
    "from sklearn.model_selection import cross_val_score"
   ]
  },
  {
   "cell_type": "code",
   "execution_count": 2,
   "outputs": [],
   "source": [
    "df = pd.read_csv(\"telco/telco-churn.csv\")"
   ],
   "metadata": {
    "collapsed": false,
    "ExecuteTime": {
     "start_time": "2023-04-27T12:28:07.487566Z",
     "end_time": "2023-04-27T12:28:07.525952Z"
    }
   }
  },
  {
   "cell_type": "code",
   "execution_count": 3,
   "outputs": [
    {
     "data": {
      "text/plain": "      customerID  gender  SeniorCitizen Partner Dependents  tenure  \\\n5466  0221-NAUXK    Male              0      No        Yes      10   \n1850  3537-RYBHH  Female              1     Yes         No      47   \n402   0979-PHULV    Male              0     Yes        Yes      69   \n6241  8878-HMWBV    Male              0      No         No       3   \n3311  6137-MFAJN  Female              0      No         No      48   \n1480  8898-KASCD    Male              0      No         No      39   \n588   0742-LAFQK    Male              0     Yes         No      72   \n645   1626-ERCMM    Male              1     Yes         No      20   \n423   3935-TBRZZ    Male              0     Yes        Yes      44   \n5529  5919-VCZYM    Male              0      No         No       2   \n\n     PhoneService     MultipleLines InternetService       OnlineSecurity  ...  \\\n5466          Yes                No              No  No internet service  ...   \n1850          Yes               Yes             DSL                  Yes  ...   \n402           Yes               Yes     Fiber optic                   No  ...   \n6241          Yes                No             DSL                   No  ...   \n3311           No  No phone service             DSL                  Yes  ...   \n1480           No  No phone service             DSL                   No  ...   \n588           Yes               Yes     Fiber optic                  Yes  ...   \n645           Yes               Yes     Fiber optic                   No  ...   \n423           Yes               Yes              No  No internet service  ...   \n5529          Yes                No              No  No internet service  ...   \n\n         DeviceProtection          TechSupport          StreamingTV  \\\n5466  No internet service  No internet service  No internet service   \n1850                  Yes                   No                   No   \n402                   Yes                   No                  Yes   \n6241                  Yes                   No                   No   \n3311                   No                   No                  Yes   \n1480                  Yes                  Yes                   No   \n588                   Yes                   No                   No   \n645                    No                   No                  Yes   \n423   No internet service  No internet service  No internet service   \n5529  No internet service  No internet service  No internet service   \n\n          StreamingMovies        Contract PaperlessBilling  \\\n5466  No internet service        One year              Yes   \n1850                   No  Month-to-month              Yes   \n402                   Yes  Month-to-month              Yes   \n6241                   No  Month-to-month              Yes   \n3311                   No  Month-to-month              Yes   \n1480                   No        One year               No   \n588                   Yes        Two year              Yes   \n645                   Yes  Month-to-month              Yes   \n423   No internet service        One year               No   \n5529  No internet service  Month-to-month               No   \n\n                  PaymentMethod MonthlyCharges  TotalCharges Churn  \n5466  Bank transfer (automatic)          19.95         219.5    No  \n1850    Credit card (automatic)          67.45          3252    No  \n402     Credit card (automatic)          99.45        7007.6   Yes  \n6241           Electronic check          49.15        169.05   Yes  \n3311           Electronic check          44.80       2104.55    No  \n1480               Mailed check          35.55       1309.15    No  \n588            Electronic check          99.15        7422.1    No  \n645            Electronic check          94.55       1899.65   Yes  \n423                Mailed check          25.70        1110.5    No  \n5529               Mailed check          20.05          42.7    No  \n\n[10 rows x 21 columns]",
      "text/html": "<div>\n<style scoped>\n    .dataframe tbody tr th:only-of-type {\n        vertical-align: middle;\n    }\n\n    .dataframe tbody tr th {\n        vertical-align: top;\n    }\n\n    .dataframe thead th {\n        text-align: right;\n    }\n</style>\n<table border=\"1\" class=\"dataframe\">\n  <thead>\n    <tr style=\"text-align: right;\">\n      <th></th>\n      <th>customerID</th>\n      <th>gender</th>\n      <th>SeniorCitizen</th>\n      <th>Partner</th>\n      <th>Dependents</th>\n      <th>tenure</th>\n      <th>PhoneService</th>\n      <th>MultipleLines</th>\n      <th>InternetService</th>\n      <th>OnlineSecurity</th>\n      <th>...</th>\n      <th>DeviceProtection</th>\n      <th>TechSupport</th>\n      <th>StreamingTV</th>\n      <th>StreamingMovies</th>\n      <th>Contract</th>\n      <th>PaperlessBilling</th>\n      <th>PaymentMethod</th>\n      <th>MonthlyCharges</th>\n      <th>TotalCharges</th>\n      <th>Churn</th>\n    </tr>\n  </thead>\n  <tbody>\n    <tr>\n      <th>5466</th>\n      <td>0221-NAUXK</td>\n      <td>Male</td>\n      <td>0</td>\n      <td>No</td>\n      <td>Yes</td>\n      <td>10</td>\n      <td>Yes</td>\n      <td>No</td>\n      <td>No</td>\n      <td>No internet service</td>\n      <td>...</td>\n      <td>No internet service</td>\n      <td>No internet service</td>\n      <td>No internet service</td>\n      <td>No internet service</td>\n      <td>One year</td>\n      <td>Yes</td>\n      <td>Bank transfer (automatic)</td>\n      <td>19.95</td>\n      <td>219.5</td>\n      <td>No</td>\n    </tr>\n    <tr>\n      <th>1850</th>\n      <td>3537-RYBHH</td>\n      <td>Female</td>\n      <td>1</td>\n      <td>Yes</td>\n      <td>No</td>\n      <td>47</td>\n      <td>Yes</td>\n      <td>Yes</td>\n      <td>DSL</td>\n      <td>Yes</td>\n      <td>...</td>\n      <td>Yes</td>\n      <td>No</td>\n      <td>No</td>\n      <td>No</td>\n      <td>Month-to-month</td>\n      <td>Yes</td>\n      <td>Credit card (automatic)</td>\n      <td>67.45</td>\n      <td>3252</td>\n      <td>No</td>\n    </tr>\n    <tr>\n      <th>402</th>\n      <td>0979-PHULV</td>\n      <td>Male</td>\n      <td>0</td>\n      <td>Yes</td>\n      <td>Yes</td>\n      <td>69</td>\n      <td>Yes</td>\n      <td>Yes</td>\n      <td>Fiber optic</td>\n      <td>No</td>\n      <td>...</td>\n      <td>Yes</td>\n      <td>No</td>\n      <td>Yes</td>\n      <td>Yes</td>\n      <td>Month-to-month</td>\n      <td>Yes</td>\n      <td>Credit card (automatic)</td>\n      <td>99.45</td>\n      <td>7007.6</td>\n      <td>Yes</td>\n    </tr>\n    <tr>\n      <th>6241</th>\n      <td>8878-HMWBV</td>\n      <td>Male</td>\n      <td>0</td>\n      <td>No</td>\n      <td>No</td>\n      <td>3</td>\n      <td>Yes</td>\n      <td>No</td>\n      <td>DSL</td>\n      <td>No</td>\n      <td>...</td>\n      <td>Yes</td>\n      <td>No</td>\n      <td>No</td>\n      <td>No</td>\n      <td>Month-to-month</td>\n      <td>Yes</td>\n      <td>Electronic check</td>\n      <td>49.15</td>\n      <td>169.05</td>\n      <td>Yes</td>\n    </tr>\n    <tr>\n      <th>3311</th>\n      <td>6137-MFAJN</td>\n      <td>Female</td>\n      <td>0</td>\n      <td>No</td>\n      <td>No</td>\n      <td>48</td>\n      <td>No</td>\n      <td>No phone service</td>\n      <td>DSL</td>\n      <td>Yes</td>\n      <td>...</td>\n      <td>No</td>\n      <td>No</td>\n      <td>Yes</td>\n      <td>No</td>\n      <td>Month-to-month</td>\n      <td>Yes</td>\n      <td>Electronic check</td>\n      <td>44.80</td>\n      <td>2104.55</td>\n      <td>No</td>\n    </tr>\n    <tr>\n      <th>1480</th>\n      <td>8898-KASCD</td>\n      <td>Male</td>\n      <td>0</td>\n      <td>No</td>\n      <td>No</td>\n      <td>39</td>\n      <td>No</td>\n      <td>No phone service</td>\n      <td>DSL</td>\n      <td>No</td>\n      <td>...</td>\n      <td>Yes</td>\n      <td>Yes</td>\n      <td>No</td>\n      <td>No</td>\n      <td>One year</td>\n      <td>No</td>\n      <td>Mailed check</td>\n      <td>35.55</td>\n      <td>1309.15</td>\n      <td>No</td>\n    </tr>\n    <tr>\n      <th>588</th>\n      <td>0742-LAFQK</td>\n      <td>Male</td>\n      <td>0</td>\n      <td>Yes</td>\n      <td>No</td>\n      <td>72</td>\n      <td>Yes</td>\n      <td>Yes</td>\n      <td>Fiber optic</td>\n      <td>Yes</td>\n      <td>...</td>\n      <td>Yes</td>\n      <td>No</td>\n      <td>No</td>\n      <td>Yes</td>\n      <td>Two year</td>\n      <td>Yes</td>\n      <td>Electronic check</td>\n      <td>99.15</td>\n      <td>7422.1</td>\n      <td>No</td>\n    </tr>\n    <tr>\n      <th>645</th>\n      <td>1626-ERCMM</td>\n      <td>Male</td>\n      <td>1</td>\n      <td>Yes</td>\n      <td>No</td>\n      <td>20</td>\n      <td>Yes</td>\n      <td>Yes</td>\n      <td>Fiber optic</td>\n      <td>No</td>\n      <td>...</td>\n      <td>No</td>\n      <td>No</td>\n      <td>Yes</td>\n      <td>Yes</td>\n      <td>Month-to-month</td>\n      <td>Yes</td>\n      <td>Electronic check</td>\n      <td>94.55</td>\n      <td>1899.65</td>\n      <td>Yes</td>\n    </tr>\n    <tr>\n      <th>423</th>\n      <td>3935-TBRZZ</td>\n      <td>Male</td>\n      <td>0</td>\n      <td>Yes</td>\n      <td>Yes</td>\n      <td>44</td>\n      <td>Yes</td>\n      <td>Yes</td>\n      <td>No</td>\n      <td>No internet service</td>\n      <td>...</td>\n      <td>No internet service</td>\n      <td>No internet service</td>\n      <td>No internet service</td>\n      <td>No internet service</td>\n      <td>One year</td>\n      <td>No</td>\n      <td>Mailed check</td>\n      <td>25.70</td>\n      <td>1110.5</td>\n      <td>No</td>\n    </tr>\n    <tr>\n      <th>5529</th>\n      <td>5919-VCZYM</td>\n      <td>Male</td>\n      <td>0</td>\n      <td>No</td>\n      <td>No</td>\n      <td>2</td>\n      <td>Yes</td>\n      <td>No</td>\n      <td>No</td>\n      <td>No internet service</td>\n      <td>...</td>\n      <td>No internet service</td>\n      <td>No internet service</td>\n      <td>No internet service</td>\n      <td>No internet service</td>\n      <td>Month-to-month</td>\n      <td>No</td>\n      <td>Mailed check</td>\n      <td>20.05</td>\n      <td>42.7</td>\n      <td>No</td>\n    </tr>\n  </tbody>\n</table>\n<p>10 rows × 21 columns</p>\n</div>"
     },
     "execution_count": 3,
     "metadata": {},
     "output_type": "execute_result"
    }
   ],
   "source": [
    "df.sample(10)"
   ],
   "metadata": {
    "collapsed": false,
    "ExecuteTime": {
     "start_time": "2023-04-27T12:28:07.713776Z",
     "end_time": "2023-04-27T12:28:07.751157Z"
    }
   }
  },
  {
   "cell_type": "code",
   "execution_count": 4,
   "outputs": [],
   "source": [
    "cat_features = list(df.loc[:, df.dtypes == 'object'].columns.values)\n",
    "for feature in cat_features:\n",
    "    df[feature] = pd.Series(df[feature], dtype=\"category\")"
   ],
   "metadata": {
    "collapsed": false,
    "ExecuteTime": {
     "start_time": "2023-04-27T12:28:07.750661Z",
     "end_time": "2023-04-27T12:28:07.777267Z"
    }
   }
  },
  {
   "cell_type": "code",
   "execution_count": 5,
   "outputs": [],
   "source": [
    "X = df.drop(columns=[\"customerID\", \"Churn\"], axis=1)\n",
    "y = df[\"Churn\"]"
   ],
   "metadata": {
    "collapsed": false,
    "ExecuteTime": {
     "start_time": "2023-04-27T12:28:07.966255Z",
     "end_time": "2023-04-27T12:28:07.971843Z"
    }
   }
  },
  {
   "cell_type": "markdown",
   "source": [
    "## Run A Study"
   ],
   "metadata": {
    "collapsed": false
   }
  },
  {
   "cell_type": "code",
   "execution_count": 6,
   "outputs": [],
   "source": [
    "def objective(optimize_boosting_type=True):\n",
    "    def _objective(trial):\n",
    "        if optimize_boosting_type:\n",
    "            boosting_type = trial.suggest_categorical(\"boosting_type\", [\"dart\", \"gbdt\"])\n",
    "        else:\n",
    "            boosting_type = \"gbdt\"\n",
    "        lambda_l1 = trial.suggest_float(\n",
    "            'lambda_l1', 1e-8, 10.0, log=True),\n",
    "        lambda_l2 = trial.suggest_float(\n",
    "            'lambda_l2', 1e-8, 10.0, log=True),\n",
    "        num_leaves = trial.suggest_int(\n",
    "            'num_leaves', 2, 256),\n",
    "        feature_fraction = trial.suggest_float(\n",
    "            'feature_fraction', 0.4, 1.0),\n",
    "        bagging_fraction = trial.suggest_float(\n",
    "            'bagging_fraction', 0.4, 1.0),\n",
    "        bagging_freq = trial.suggest_int(\n",
    "            'bagging_freq', 1, 7),\n",
    "        min_child_samples = trial.suggest_int(\n",
    "            'min_child_samples', 5, 100),\n",
    "        learning_rate = trial.suggest_float(\n",
    "            \"learning_rate\", 0.0001, 0.5, log=True),\n",
    "        max_bin = trial.suggest_int(\n",
    "            \"max_bin\", 128, 512, 32)\n",
    "        n_estimators = trial.suggest_int(\n",
    "            \"n_estimators\", 40, 400, 20)\n",
    "\n",
    "        pruning_callback = optuna.integration.LightGBMPruningCallback(trial, \"binary\")\n",
    "\n",
    "        model = lgb.LGBMClassifier(\n",
    "            force_row_wise=True,\n",
    "            boosting_type=boosting_type,\n",
    "            n_estimators=n_estimators,\n",
    "            lambda_l1=lambda_l1,\n",
    "            lambda_l2=lambda_l2,\n",
    "            num_leaves=num_leaves,\n",
    "            feature_fraction=feature_fraction,\n",
    "            bagging_fraction=bagging_fraction,\n",
    "            bagging_freq=bagging_freq,\n",
    "            min_child_samples=min_child_samples,\n",
    "            learning_rate=learning_rate,\n",
    "            max_bin=max_bin,\n",
    "            callbacks=[pruning_callback],\n",
    "            verbose=-1)\n",
    "        scores = cross_val_score(model, X, y, scoring=\"f1_macro\")\n",
    "        return scores.mean()\n",
    "\n",
    "    return _objective"
   ],
   "metadata": {
    "collapsed": false,
    "ExecuteTime": {
     "start_time": "2023-04-27T12:28:10.152538Z",
     "end_time": "2023-04-27T12:28:10.156076Z"
    }
   }
  },
  {
   "cell_type": "code",
   "execution_count": 7,
   "outputs": [
    {
     "name": "stderr",
     "output_type": "stream",
     "text": [
      "\u001B[32m[I 2023-04-27 10:28:12,658]\u001B[0m A new study created in memory with name: no-name-4d5b595b-6933-4f5e-a075-54a3a8e6f4ba\u001B[0m\n",
      "\u001B[32m[I 2023-04-27 10:28:17,653]\u001B[0m Trial 6 finished with value: 0.6648478078588671 and parameters: {'boosting_type': 'gbdt', 'lambda_l1': 1.8685314248567396e-06, 'lambda_l2': 2.9848294452493614e-08, 'num_leaves': 19, 'feature_fraction': 0.9460072127370179, 'bagging_fraction': 0.6961435923195338, 'bagging_freq': 2, 'min_child_samples': 59, 'learning_rate': 0.028406303087725134, 'max_bin': 416, 'n_estimators': 40}. Best is trial 6 with value: 0.6648478078588671.\u001B[0m\n",
      "\u001B[32m[I 2023-04-27 10:28:18,608]\u001B[0m Trial 0 finished with value: 0.4235082247366586 and parameters: {'boosting_type': 'dart', 'lambda_l1': 1.772915202694721e-07, 'lambda_l2': 1.820053164125362e-07, 'num_leaves': 25, 'feature_fraction': 0.8999729196142454, 'bagging_fraction': 0.8211338945242368, 'bagging_freq': 2, 'min_child_samples': 85, 'learning_rate': 0.00018924512031810915, 'max_bin': 352, 'n_estimators': 40}. Best is trial 6 with value: 0.6648478078588671.\u001B[0m\n",
      "\u001B[32m[I 2023-04-27 10:28:30,602]\u001B[0m Trial 9 finished with value: 0.7152614714504432 and parameters: {'boosting_type': 'gbdt', 'lambda_l1': 1.8959054666233173, 'lambda_l2': 0.017469707263818485, 'num_leaves': 143, 'feature_fraction': 0.6879555652669735, 'bagging_fraction': 0.625109229245483, 'bagging_freq': 6, 'min_child_samples': 61, 'learning_rate': 0.024429773565291437, 'max_bin': 512, 'n_estimators': 100}. Best is trial 9 with value: 0.7152614714504432.\u001B[0m\n",
      "\u001B[32m[I 2023-04-27 10:28:36,061]\u001B[0m Trial 1 finished with value: 0.640835039164487 and parameters: {'boosting_type': 'gbdt', 'lambda_l1': 1.3912474988327937e-08, 'lambda_l2': 0.00010738128561250571, 'num_leaves': 223, 'feature_fraction': 0.9260831479940592, 'bagging_fraction': 0.8808841581145757, 'bagging_freq': 3, 'min_child_samples': 68, 'learning_rate': 0.009137319721859952, 'max_bin': 128, 'n_estimators': 100}. Best is trial 9 with value: 0.7152614714504432.\u001B[0m\n",
      "\u001B[32m[I 2023-04-27 10:28:38,599]\u001B[0m Trial 8 finished with value: 0.7162768883354099 and parameters: {'boosting_type': 'gbdt', 'lambda_l1': 2.3635192679689447e-08, 'lambda_l2': 0.31203481995680443, 'num_leaves': 132, 'feature_fraction': 0.6951949835370455, 'bagging_fraction': 0.9360696060408417, 'bagging_freq': 7, 'min_child_samples': 40, 'learning_rate': 0.07995462779761865, 'max_bin': 192, 'n_estimators': 60}. Best is trial 8 with value: 0.7162768883354099.\u001B[0m\n",
      "\u001B[32m[I 2023-04-27 10:28:48,551]\u001B[0m Trial 4 finished with value: 0.6941997493622704 and parameters: {'boosting_type': 'gbdt', 'lambda_l1': 0.0011613713053115456, 'lambda_l2': 1.1822531934283055e-08, 'num_leaves': 105, 'feature_fraction': 0.9487904576706194, 'bagging_fraction': 0.817577683944817, 'bagging_freq': 1, 'min_child_samples': 26, 'learning_rate': 0.3114307896173403, 'max_bin': 128, 'n_estimators': 80}. Best is trial 8 with value: 0.7162768883354099.\u001B[0m\n",
      "\u001B[32m[I 2023-04-27 10:29:02,077]\u001B[0m Trial 3 finished with value: 0.6885931318719715 and parameters: {'boosting_type': 'gbdt', 'lambda_l1': 0.1707451442927721, 'lambda_l2': 2.0295400149459333, 'num_leaves': 225, 'feature_fraction': 0.7507189945184614, 'bagging_fraction': 0.5298554734681051, 'bagging_freq': 7, 'min_child_samples': 16, 'learning_rate': 0.4448294776285634, 'max_bin': 448, 'n_estimators': 140}. Best is trial 8 with value: 0.7162768883354099.\u001B[0m\n",
      "\u001B[32m[I 2023-04-27 10:29:08,169]\u001B[0m Trial 10 finished with value: 0.4235082247366586 and parameters: {'boosting_type': 'gbdt', 'lambda_l1': 5.413399504243149e-07, 'lambda_l2': 1.1627896737856798, 'num_leaves': 42, 'feature_fraction': 0.9054488141401047, 'bagging_fraction': 0.6724339023452035, 'bagging_freq': 4, 'min_child_samples': 62, 'learning_rate': 0.0005564168205060662, 'max_bin': 128, 'n_estimators': 280}. Best is trial 8 with value: 0.7162768883354099.\u001B[0m\n",
      "\u001B[32m[I 2023-04-27 10:29:09,645]\u001B[0m Trial 13 finished with value: 0.7221131261103811 and parameters: {'boosting_type': 'dart', 'lambda_l1': 1.8770282108512026e-07, 'lambda_l2': 0.23536384091650234, 'num_leaves': 4, 'feature_fraction': 0.9620245394487146, 'bagging_fraction': 0.9381913277993457, 'bagging_freq': 6, 'min_child_samples': 86, 'learning_rate': 0.04850110161850806, 'max_bin': 352, 'n_estimators': 300}. Best is trial 13 with value: 0.7221131261103811.\u001B[0m\n",
      "\u001B[32m[I 2023-04-27 10:29:29,667]\u001B[0m Trial 5 finished with value: 0.7194393818812695 and parameters: {'boosting_type': 'gbdt', 'lambda_l1': 6.341733578267758e-06, 'lambda_l2': 0.007050604233308903, 'num_leaves': 132, 'feature_fraction': 0.9394433578458332, 'bagging_fraction': 0.8670943740766583, 'bagging_freq': 2, 'min_child_samples': 35, 'learning_rate': 0.0169026706967594, 'max_bin': 352, 'n_estimators': 200}. Best is trial 13 with value: 0.7221131261103811.\u001B[0m\n",
      "\u001B[32m[I 2023-04-27 10:29:45,311]\u001B[0m Trial 14 finished with value: 0.7206378400003233 and parameters: {'boosting_type': 'gbdt', 'lambda_l1': 0.45303973151986826, 'lambda_l2': 9.039857953759214e-08, 'num_leaves': 58, 'feature_fraction': 0.43753410298508066, 'bagging_fraction': 0.5987101883325607, 'bagging_freq': 6, 'min_child_samples': 84, 'learning_rate': 0.008516204486563681, 'max_bin': 160, 'n_estimators': 380}. Best is trial 13 with value: 0.7221131261103811.\u001B[0m\n",
      "\u001B[32m[I 2023-04-27 10:30:18,786]\u001B[0m Trial 15 finished with value: 0.7181680010953786 and parameters: {'boosting_type': 'gbdt', 'lambda_l1': 0.0002924421106718631, 'lambda_l2': 8.44021984520386e-07, 'num_leaves': 187, 'feature_fraction': 0.9994418045343645, 'bagging_fraction': 0.9712043760441524, 'bagging_freq': 5, 'min_child_samples': 74, 'learning_rate': 0.021128338747520826, 'max_bin': 416, 'n_estimators': 300}. Best is trial 13 with value: 0.7221131261103811.\u001B[0m\n",
      "\u001B[32m[I 2023-04-27 10:30:30,753]\u001B[0m Trial 16 finished with value: 0.6988899958310372 and parameters: {'boosting_type': 'dart', 'lambda_l1': 1.9407802434918815e-07, 'lambda_l2': 2.0271915292463207, 'num_leaves': 107, 'feature_fraction': 0.7408327377004714, 'bagging_fraction': 0.9192221073055347, 'bagging_freq': 3, 'min_child_samples': 30, 'learning_rate': 0.00823809666876976, 'max_bin': 352, 'n_estimators': 260}. Best is trial 13 with value: 0.7221131261103811.\u001B[0m\n",
      "\u001B[32m[I 2023-04-27 10:30:36,449]\u001B[0m Trial 17 finished with value: 0.5849814465185031 and parameters: {'boosting_type': 'dart', 'lambda_l1': 0.00015600020289497488, 'lambda_l2': 7.833912098208972, 'num_leaves': 77, 'feature_fraction': 0.4246651352965675, 'bagging_fraction': 0.9808168604925789, 'bagging_freq': 5, 'min_child_samples': 99, 'learning_rate': 0.0030539358686479403, 'max_bin': 256, 'n_estimators': 400}. Best is trial 13 with value: 0.7221131261103811.\u001B[0m\n",
      "\u001B[32m[I 2023-04-27 10:30:41,821]\u001B[0m Trial 12 finished with value: 0.7194524409405971 and parameters: {'boosting_type': 'dart', 'lambda_l1': 1.8831147062279178e-07, 'lambda_l2': 0.00031335596276723575, 'num_leaves': 177, 'feature_fraction': 0.8035554087188994, 'bagging_fraction': 0.6478014887573026, 'bagging_freq': 4, 'min_child_samples': 33, 'learning_rate': 0.010480297048902631, 'max_bin': 320, 'n_estimators': 320}. Best is trial 13 with value: 0.7221131261103811.\u001B[0m\n",
      "\u001B[32m[I 2023-04-27 10:30:59,137]\u001B[0m Trial 19 finished with value: 0.4284020736184918 and parameters: {'boosting_type': 'dart', 'lambda_l1': 8.853201557104386, 'lambda_l2': 1.0944001480281657e-05, 'num_leaves': 66, 'feature_fraction': 0.429396043010396, 'bagging_fraction': 0.4390278366837519, 'bagging_freq': 5, 'min_child_samples': 99, 'learning_rate': 0.0025736010330230544, 'max_bin': 256, 'n_estimators': 380}. Best is trial 13 with value: 0.7221131261103811.\u001B[0m\n",
      "\u001B[32m[I 2023-04-27 10:30:59,285]\u001B[0m Trial 2 finished with value: 0.5497683599833417 and parameters: {'boosting_type': 'dart', 'lambda_l1': 0.08111052967264185, 'lambda_l2': 0.006164984149268624, 'num_leaves': 78, 'feature_fraction': 0.6868393314885402, 'bagging_fraction': 0.8270132329113243, 'bagging_freq': 5, 'min_child_samples': 13, 'learning_rate': 0.0016938287158357063, 'max_bin': 288, 'n_estimators': 380}. Best is trial 13 with value: 0.7221131261103811.\u001B[0m\n",
      "\u001B[32m[I 2023-04-27 10:31:08,291]\u001B[0m Trial 11 finished with value: 0.6940962088365159 and parameters: {'boosting_type': 'dart', 'lambda_l1': 1.7218270150989466e-06, 'lambda_l2': 0.07030074186865015, 'num_leaves': 184, 'feature_fraction': 0.9868739943504601, 'bagging_fraction': 0.8186684426001871, 'bagging_freq': 5, 'min_child_samples': 24, 'learning_rate': 0.40990693490664964, 'max_bin': 160, 'n_estimators': 240}. Best is trial 13 with value: 0.7221131261103811.\u001B[0m\n",
      "\u001B[32m[I 2023-04-27 10:31:22,472]\u001B[0m Trial 18 finished with value: 0.47097755131218644 and parameters: {'boosting_type': 'dart', 'lambda_l1': 0.0006191237238839646, 'lambda_l2': 9.484906165372672e-06, 'num_leaves': 72, 'feature_fraction': 0.42596161650133, 'bagging_fraction': 0.977847243999372, 'bagging_freq': 5, 'min_child_samples': 98, 'learning_rate': 0.002049445135523829, 'max_bin': 256, 'n_estimators': 360}. Best is trial 13 with value: 0.7221131261103811.\u001B[0m\n",
      "\u001B[32m[I 2023-04-27 10:31:29,322]\u001B[0m Trial 23 finished with value: 0.7248379941522243 and parameters: {'boosting_type': 'dart', 'lambda_l1': 1.0797305090185749e-05, 'lambda_l2': 6.237702550387765e-06, 'num_leaves': 5, 'feature_fraction': 0.5671705646973297, 'bagging_fraction': 0.7512111808659356, 'bagging_freq': 6, 'min_child_samples': 83, 'learning_rate': 0.04807547573540547, 'max_bin': 192, 'n_estimators': 340}. Best is trial 23 with value: 0.7248379941522243.\u001B[0m\n",
      "\u001B[32m[I 2023-04-27 10:31:29,468]\u001B[0m Trial 20 finished with value: 0.47122869848972265 and parameters: {'boosting_type': 'dart', 'lambda_l1': 0.055571003387874754, 'lambda_l2': 1.1832011818392527e-05, 'num_leaves': 62, 'feature_fraction': 0.4183495893319272, 'bagging_fraction': 0.41398055716359394, 'bagging_freq': 5, 'min_child_samples': 96, 'learning_rate': 0.002197044664242176, 'max_bin': 256, 'n_estimators': 380}. Best is trial 23 with value: 0.7248379941522243.\u001B[0m\n",
      "\u001B[32m[I 2023-04-27 10:31:32,873]\u001B[0m Trial 25 finished with value: 0.7251278483895267 and parameters: {'boosting_type': 'dart', 'lambda_l1': 2.3766201538216067e-05, 'lambda_l2': 8.433921109294538e-06, 'num_leaves': 3, 'feature_fraction': 0.5585022714916602, 'bagging_fraction': 0.7601029493024827, 'bagging_freq': 6, 'min_child_samples': 82, 'learning_rate': 0.07480852636831904, 'max_bin': 192, 'n_estimators': 340}. Best is trial 25 with value: 0.7251278483895267.\u001B[0m\n",
      "\u001B[32m[I 2023-04-27 10:31:34,485]\u001B[0m Trial 21 finished with value: 0.4235082247366586 and parameters: {'boosting_type': 'dart', 'lambda_l1': 0.03465890936926745, 'lambda_l2': 1.5243385245267193e-05, 'num_leaves': 55, 'feature_fraction': 0.4148078986736302, 'bagging_fraction': 0.40794181772006577, 'bagging_freq': 6, 'min_child_samples': 100, 'learning_rate': 0.0017301435378421093, 'max_bin': 256, 'n_estimators': 380}. Best is trial 25 with value: 0.7251278483895267.\u001B[0m\n",
      "\u001B[32m[I 2023-04-27 10:31:39,531]\u001B[0m Trial 22 finished with value: 0.4790685547775979 and parameters: {'boosting_type': 'dart', 'lambda_l1': 0.012292554680928366, 'lambda_l2': 6.876393493153183e-06, 'num_leaves': 56, 'feature_fraction': 0.5801495966505004, 'bagging_fraction': 0.4065216970693252, 'bagging_freq': 6, 'min_child_samples': 100, 'learning_rate': 0.0019176008864100979, 'max_bin': 256, 'n_estimators': 380}. Best is trial 25 with value: 0.7251278483895267.\u001B[0m\n",
      "\u001B[32m[I 2023-04-27 10:31:50,243]\u001B[0m Trial 27 finished with value: 0.6975736269547695 and parameters: {'boosting_type': 'dart', 'lambda_l1': 2.4248871274936837e-05, 'lambda_l2': 6.430559293949088e-07, 'num_leaves': 2, 'feature_fraction': 0.5062568235964304, 'bagging_fraction': 0.7254571786913209, 'bagging_freq': 6, 'min_child_samples': 82, 'learning_rate': 0.06233851419784014, 'max_bin': 192, 'n_estimators': 340}. Best is trial 25 with value: 0.7251278483895267.\u001B[0m\n",
      "\u001B[32m[I 2023-04-27 10:31:54,736]\u001B[0m Trial 29 finished with value: 0.7220718485773239 and parameters: {'boosting_type': 'dart', 'lambda_l1': 1.7518759053789323e-05, 'lambda_l2': 0.0011086403880359226, 'num_leaves': 3, 'feature_fraction': 0.5698242288167417, 'bagging_fraction': 0.7536063374418079, 'bagging_freq': 6, 'min_child_samples': 82, 'learning_rate': 0.0661060093056979, 'max_bin': 192, 'n_estimators': 320}. Best is trial 25 with value: 0.7251278483895267.\u001B[0m\n",
      "\u001B[32m[I 2023-04-27 10:31:58,607]\u001B[0m Trial 30 finished with value: 0.7259288184014425 and parameters: {'boosting_type': 'dart', 'lambda_l1': 1.4067811607584744e-05, 'lambda_l2': 0.0007314782941836135, 'num_leaves': 4, 'feature_fraction': 0.5844482789208739, 'bagging_fraction': 0.7454797784069424, 'bagging_freq': 7, 'min_child_samples': 83, 'learning_rate': 0.06739095900702688, 'max_bin': 192, 'n_estimators': 320}. Best is trial 30 with value: 0.7259288184014425.\u001B[0m\n",
      "\u001B[32m[I 2023-04-27 10:31:58,868]\u001B[0m Trial 31 finished with value: 0.7019187852580383 and parameters: {'boosting_type': 'dart', 'lambda_l1': 1.7989640759098727e-05, 'lambda_l2': 0.0010701891429646347, 'num_leaves': 2, 'feature_fraction': 0.5739164275510404, 'bagging_fraction': 0.7478706251348106, 'bagging_freq': 7, 'min_child_samples': 83, 'learning_rate': 0.06680285400830979, 'max_bin': 192, 'n_estimators': 320}. Best is trial 30 with value: 0.7259288184014425.\u001B[0m\n",
      "\u001B[32m[I 2023-04-27 10:32:04,369]\u001B[0m Trial 26 finished with value: 0.726970179529222 and parameters: {'boosting_type': 'dart', 'lambda_l1': 0.008933714964037002, 'lambda_l2': 0.001146903183942537, 'num_leaves': 10, 'feature_fraction': 0.5686070651575825, 'bagging_fraction': 0.7471270336398668, 'bagging_freq': 6, 'min_child_samples': 83, 'learning_rate': 0.0767181581680744, 'max_bin': 192, 'n_estimators': 340}. Best is trial 26 with value: 0.726970179529222.\u001B[0m\n",
      "\u001B[32m[I 2023-04-27 10:32:06,645]\u001B[0m Trial 32 finished with value: 0.7289447197157026 and parameters: {'boosting_type': 'dart', 'lambda_l1': 2.9737264706677676e-05, 'lambda_l2': 0.0019038932332727577, 'num_leaves': 7, 'feature_fraction': 0.6074575566493146, 'bagging_fraction': 0.7606360282613182, 'bagging_freq': 7, 'min_child_samples': 73, 'learning_rate': 0.09298842774094129, 'max_bin': 192, 'n_estimators': 200}. Best is trial 32 with value: 0.7289447197157026.\u001B[0m\n",
      "\u001B[32m[I 2023-04-27 10:32:21,722]\u001B[0m Trial 28 finished with value: 0.7263206859395505 and parameters: {'boosting_type': 'dart', 'lambda_l1': 1.7315583327673697e-05, 'lambda_l2': 7.982549298410494e-07, 'num_leaves': 15, 'feature_fraction': 0.5137980270843242, 'bagging_fraction': 0.7607482408869781, 'bagging_freq': 6, 'min_child_samples': 82, 'learning_rate': 0.0619970526459274, 'max_bin': 192, 'n_estimators': 340}. Best is trial 32 with value: 0.7289447197157026.\u001B[0m\n",
      "\u001B[32m[I 2023-04-27 10:32:26,796]\u001B[0m Trial 24 finished with value: 0.724346622970858 and parameters: {'boosting_type': 'dart', 'lambda_l1': 1.3902485306333448e-05, 'lambda_l2': 8.379093408931964e-06, 'num_leaves': 46, 'feature_fraction': 0.5469978511418762, 'bagging_fraction': 0.7536259417426039, 'bagging_freq': 6, 'min_child_samples': 84, 'learning_rate': 0.0581269852637036, 'max_bin': 192, 'n_estimators': 340}. Best is trial 32 with value: 0.7289447197157026.\u001B[0m\n",
      "\u001B[32m[I 2023-04-27 10:32:29,486]\u001B[0m Trial 33 finished with value: 0.7187478336546401 and parameters: {'boosting_type': 'dart', 'lambda_l1': 6.550642697034568e-05, 'lambda_l2': 0.0001341915365965417, 'num_leaves': 29, 'feature_fraction': 0.6272001630040565, 'bagging_fraction': 0.7590591066758247, 'bagging_freq': 7, 'min_child_samples': 46, 'learning_rate': 0.19770532963900256, 'max_bin': 320, 'n_estimators': 180}. Best is trial 32 with value: 0.7289447197157026.\u001B[0m\n",
      "\u001B[32m[I 2023-04-27 10:32:33,109]\u001B[0m Trial 34 finished with value: 0.7213518805860777 and parameters: {'boosting_type': 'dart', 'lambda_l1': 7.930129626581856e-05, 'lambda_l2': 5.107593453030574e-05, 'num_leaves': 32, 'feature_fraction': 0.6190038622761999, 'bagging_fraction': 0.7706798979393132, 'bagging_freq': 7, 'min_child_samples': 46, 'learning_rate': 0.136953012023066, 'max_bin': 224, 'n_estimators': 160}. Best is trial 32 with value: 0.7289447197157026.\u001B[0m\n",
      "\u001B[32m[I 2023-04-27 10:32:34,530]\u001B[0m Trial 7 finished with value: 0.6514032002313517 and parameters: {'boosting_type': 'gbdt', 'lambda_l1': 0.021733996381467585, 'lambda_l2': 0.00010934271651210847, 'num_leaves': 249, 'feature_fraction': 0.9493573293039451, 'bagging_fraction': 0.9629338110771737, 'bagging_freq': 6, 'min_child_samples': 18, 'learning_rate': 0.002587017764865306, 'max_bin': 288, 'n_estimators': 360}. Best is trial 32 with value: 0.7289447197157026.\u001B[0m\n",
      "\u001B[32m[I 2023-04-27 10:32:36,286]\u001B[0m Trial 35 finished with value: 0.7201417217484783 and parameters: {'boosting_type': 'dart', 'lambda_l1': 6.169696852864156e-05, 'lambda_l2': 8.046758909190789e-05, 'num_leaves': 32, 'feature_fraction': 0.6407340229503189, 'bagging_fraction': 0.7306617548381732, 'bagging_freq': 7, 'min_child_samples': 45, 'learning_rate': 0.19710193322096764, 'max_bin': 224, 'n_estimators': 180}. Best is trial 32 with value: 0.7289447197157026.\u001B[0m\n",
      "\u001B[32m[I 2023-04-27 10:32:51,242]\u001B[0m Trial 37 finished with value: 0.7154346477616434 and parameters: {'boosting_type': 'dart', 'lambda_l1': 0.0035816544254327095, 'lambda_l2': 0.00011039017555842033, 'num_leaves': 33, 'feature_fraction': 0.6316817231888845, 'bagging_fraction': 0.7038492230057176, 'bagging_freq': 7, 'min_child_samples': 51, 'learning_rate': 0.19777507359261456, 'max_bin': 224, 'n_estimators': 200}. Best is trial 32 with value: 0.7289447197157026.\u001B[0m\n",
      "\u001B[32m[I 2023-04-27 10:32:52,709]\u001B[0m Trial 36 finished with value: 0.714713572780657 and parameters: {'boosting_type': 'dart', 'lambda_l1': 0.00340149419683469, 'lambda_l2': 8.630161874807101e-05, 'num_leaves': 37, 'feature_fraction': 0.628595574499826, 'bagging_fraction': 0.76861071426923, 'bagging_freq': 7, 'min_child_samples': 48, 'learning_rate': 0.15025551399528336, 'max_bin': 160, 'n_estimators': 200}. Best is trial 32 with value: 0.7289447197157026.\u001B[0m\n",
      "\u001B[32m[I 2023-04-27 10:33:00,491]\u001B[0m Trial 38 finished with value: 0.7223501116234192 and parameters: {'boosting_type': 'dart', 'lambda_l1': 8.303858288059767e-05, 'lambda_l2': 0.00022907366415171195, 'num_leaves': 27, 'feature_fraction': 0.636892446786157, 'bagging_fraction': 0.7941751472223819, 'bagging_freq': 7, 'min_child_samples': 50, 'learning_rate': 0.1597891489117432, 'max_bin': 224, 'n_estimators': 200}. Best is trial 32 with value: 0.7289447197157026.\u001B[0m\n",
      "\u001B[32m[I 2023-04-27 10:33:06,649]\u001B[0m Trial 39 finished with value: 0.7208188997879882 and parameters: {'boosting_type': 'dart', 'lambda_l1': 0.0028978206056513986, 'lambda_l2': 0.00013589037816864012, 'num_leaves': 28, 'feature_fraction': 0.621132563318944, 'bagging_fraction': 0.7942672305384805, 'bagging_freq': 7, 'min_child_samples': 70, 'learning_rate': 0.1430785119020906, 'max_bin': 224, 'n_estimators': 200}. Best is trial 32 with value: 0.7289447197157026.\u001B[0m\n",
      "\u001B[32m[I 2023-04-27 10:33:11,200]\u001B[0m Trial 40 finished with value: 0.7206229143016124 and parameters: {'boosting_type': 'dart', 'lambda_l1': 0.0015373414632820102, 'lambda_l2': 0.001829151482745708, 'num_leaves': 27, 'feature_fraction': 0.6273470415541769, 'bagging_fraction': 0.7918674068556345, 'bagging_freq': 7, 'min_child_samples': 73, 'learning_rate': 0.150252581878327, 'max_bin': 224, 'n_estimators': 220}. Best is trial 32 with value: 0.7289447197157026.\u001B[0m\n",
      "\u001B[32m[I 2023-04-27 10:33:14,340]\u001B[0m Trial 42 finished with value: 0.7191016285993673 and parameters: {'boosting_type': 'dart', 'lambda_l1': 0.0020287026575765378, 'lambda_l2': 0.0011038001063942583, 'num_leaves': 20, 'feature_fraction': 0.48486006593092296, 'bagging_fraction': 0.7891929880701856, 'bagging_freq': 7, 'min_child_samples': 73, 'learning_rate': 0.22283336703859458, 'max_bin': 160, 'n_estimators': 220}. Best is trial 32 with value: 0.7289447197157026.\u001B[0m\n",
      "\u001B[32m[I 2023-04-27 10:33:15,262]\u001B[0m Trial 41 finished with value: 0.7203639978943703 and parameters: {'boosting_type': 'dart', 'lambda_l1': 0.0017590528140367862, 'lambda_l2': 0.001640315421105143, 'num_leaves': 22, 'feature_fraction': 0.5015177708118432, 'bagging_fraction': 0.7057206055083087, 'bagging_freq': 7, 'min_child_samples': 70, 'learning_rate': 0.15431961667039798, 'max_bin': 160, 'n_estimators': 220}. Best is trial 32 with value: 0.7289447197157026.\u001B[0m\n",
      "\u001B[32m[I 2023-04-27 10:33:16,149]\u001B[0m Trial 43 finished with value: 0.7231042528227676 and parameters: {'boosting_type': 'dart', 'lambda_l1': 0.0027196136236679945, 'lambda_l2': 0.00139397288194028, 'num_leaves': 22, 'feature_fraction': 0.5050309435449375, 'bagging_fraction': 0.8084442937570496, 'bagging_freq': 7, 'min_child_samples': 71, 'learning_rate': 0.12271591632580314, 'max_bin': 160, 'n_estimators': 220}. Best is trial 32 with value: 0.7289447197157026.\u001B[0m\n",
      "\u001B[32m[I 2023-04-27 10:33:30,071]\u001B[0m Trial 45 finished with value: 0.7236103217233776 and parameters: {'boosting_type': 'dart', 'lambda_l1': 3.429411515822591e-06, 'lambda_l2': 0.0006473242659273549, 'num_leaves': 16, 'feature_fraction': 0.51243231714421, 'bagging_fraction': 0.803196312104113, 'bagging_freq': 7, 'min_child_samples': 72, 'learning_rate': 0.035067295518388934, 'max_bin': 128, 'n_estimators': 240}. Best is trial 32 with value: 0.7289447197157026.\u001B[0m\n",
      "\u001B[32m[I 2023-04-27 10:33:32,999]\u001B[0m Trial 44 finished with value: 0.7209036282423686 and parameters: {'boosting_type': 'dart', 'lambda_l1': 0.0008785973530570158, 'lambda_l2': 0.0009958096802991116, 'num_leaves': 20, 'feature_fraction': 0.4944048628390863, 'bagging_fraction': 0.7870287692799247, 'bagging_freq': 7, 'min_child_samples': 75, 'learning_rate': 0.1106094282759806, 'max_bin': 160, 'n_estimators': 240}. Best is trial 32 with value: 0.7289447197157026.\u001B[0m\n",
      "\u001B[32m[I 2023-04-27 10:33:40,273]\u001B[0m Trial 46 finished with value: 0.7238383242644512 and parameters: {'boosting_type': 'dart', 'lambda_l1': 3.6674649779909256e-06, 'lambda_l2': 0.0012502983703379764, 'num_leaves': 18, 'feature_fraction': 0.5008598446808242, 'bagging_fraction': 0.8365106252015692, 'bagging_freq': 7, 'min_child_samples': 73, 'learning_rate': 0.03405544679535679, 'max_bin': 128, 'n_estimators': 240}. Best is trial 32 with value: 0.7289447197157026.\u001B[0m\n",
      "\u001B[32m[I 2023-04-27 10:33:50,073]\u001B[0m Trial 48 finished with value: 0.7244431145538057 and parameters: {'boosting_type': 'dart', 'lambda_l1': 3.907123509396501e-06, 'lambda_l2': 0.0029722356068326806, 'num_leaves': 15, 'feature_fraction': 0.5182479134359419, 'bagging_fraction': 0.8606430357111999, 'bagging_freq': 3, 'min_child_samples': 91, 'learning_rate': 0.037845991667939734, 'max_bin': 128, 'n_estimators': 260}. Best is trial 32 with value: 0.7289447197157026.\u001B[0m\n",
      "\u001B[32m[I 2023-04-27 10:33:52,210]\u001B[0m Trial 49 finished with value: 0.7269009522459295 and parameters: {'boosting_type': 'dart', 'lambda_l1': 3.4531587600324834e-06, 'lambda_l2': 0.003925731280689105, 'num_leaves': 15, 'feature_fraction': 0.5273093887617121, 'bagging_fraction': 0.8597340762893504, 'bagging_freq': 3, 'min_child_samples': 90, 'learning_rate': 0.09502533920453195, 'max_bin': 128, 'n_estimators': 260}. Best is trial 32 with value: 0.7289447197157026.\u001B[0m\n",
      "\u001B[32m[I 2023-04-27 10:33:55,570]\u001B[0m Trial 50 finished with value: 0.7259415895784073 and parameters: {'boosting_type': 'dart', 'lambda_l1': 4.159264533594445e-06, 'lambda_l2': 0.0005601768291722447, 'num_leaves': 16, 'feature_fraction': 0.5381765746613765, 'bagging_fraction': 0.8493581124680504, 'bagging_freq': 6, 'min_child_samples': 90, 'learning_rate': 0.034393427341839956, 'max_bin': 128, 'n_estimators': 260}. Best is trial 32 with value: 0.7289447197157026.\u001B[0m\n",
      "\u001B[32m[I 2023-04-27 10:33:57,712]\u001B[0m Trial 51 finished with value: 0.7286778417784074 and parameters: {'boosting_type': 'dart', 'lambda_l1': 2.6687713183589888e-06, 'lambda_l2': 0.005755323891509515, 'num_leaves': 16, 'feature_fraction': 0.5420875672365676, 'bagging_fraction': 0.8407832169674372, 'bagging_freq': 1, 'min_child_samples': 90, 'learning_rate': 0.09289823988796476, 'max_bin': 288, 'n_estimators': 260}. Best is trial 32 with value: 0.7289447197157026.\u001B[0m\n",
      "\u001B[32m[I 2023-04-27 10:34:05,683]\u001B[0m Trial 47 finished with value: 0.7210900965301268 and parameters: {'boosting_type': 'dart', 'lambda_l1': 3.662427593065947e-06, 'lambda_l2': 0.0015348282433668425, 'num_leaves': 97, 'feature_fraction': 0.5147278265374468, 'bagging_fraction': 0.8477817595469587, 'bagging_freq': 3, 'min_child_samples': 92, 'learning_rate': 0.10152977028801852, 'max_bin': 128, 'n_estimators': 240}. Best is trial 32 with value: 0.7289447197157026.\u001B[0m\n",
      "\u001B[32m[I 2023-04-27 10:34:31,853]\u001B[0m Trial 54 finished with value: 0.7122437936847099 and parameters: {'boosting_type': 'gbdt', 'lambda_l1': 0.00029386101005520404, 'lambda_l2': 0.011346718727823373, 'num_leaves': 104, 'feature_fraction': 0.5391030065801611, 'bagging_fraction': 0.8534971669940905, 'bagging_freq': 1, 'min_child_samples': 93, 'learning_rate': 0.10043470428364329, 'max_bin': 128, 'n_estimators': 280}. Best is trial 32 with value: 0.7289447197157026.\u001B[0m\n",
      "\u001B[32m[I 2023-04-27 10:34:38,102]\u001B[0m Trial 52 finished with value: 0.7210439623057472 and parameters: {'boosting_type': 'dart', 'lambda_l1': 3.2854006543204838e-06, 'lambda_l2': 0.005250028881102578, 'num_leaves': 45, 'feature_fraction': 0.5342192237323813, 'bagging_fraction': 0.8385314894815101, 'bagging_freq': 3, 'min_child_samples': 91, 'learning_rate': 0.09362425083497836, 'max_bin': 128, 'n_estimators': 280}. Best is trial 32 with value: 0.7289447197157026.\u001B[0m\n",
      "\u001B[32m[I 2023-04-27 10:34:42,057]\u001B[0m Trial 53 finished with value: 0.7229642455967704 and parameters: {'boosting_type': 'dart', 'lambda_l1': 5.268068336690474e-06, 'lambda_l2': 0.0062862560430389835, 'num_leaves': 100, 'feature_fraction': 0.5357165612105462, 'bagging_fraction': 0.8394321447547015, 'bagging_freq': 3, 'min_child_samples': 91, 'learning_rate': 0.036596488383066395, 'max_bin': 288, 'n_estimators': 280}. Best is trial 32 with value: 0.7289447197157026.\u001B[0m\n",
      "\u001B[32m[I 2023-04-27 10:34:49,310]\u001B[0m Trial 56 finished with value: 0.7134501402816293 and parameters: {'boosting_type': 'gbdt', 'lambda_l1': 1.0562254199125305e-06, 'lambda_l2': 0.01197382016035188, 'num_leaves': 88, 'feature_fraction': 0.46616936551779675, 'bagging_fraction': 0.8820454318911226, 'bagging_freq': 4, 'min_child_samples': 90, 'learning_rate': 0.0865217556132313, 'max_bin': 288, 'n_estimators': 280}. Best is trial 32 with value: 0.7289447197157026.\u001B[0m\n",
      "\u001B[32m[I 2023-04-27 10:34:50,109]\u001B[0m Trial 57 finished with value: 0.7231973035971189 and parameters: {'boosting_type': 'gbdt', 'lambda_l1': 1.9477633916073193e-06, 'lambda_l2': 0.007581696617691486, 'num_leaves': 108, 'feature_fraction': 0.536071847440042, 'bagging_fraction': 0.8915418630227506, 'bagging_freq': 4, 'min_child_samples': 90, 'learning_rate': 0.014648352017466037, 'max_bin': 128, 'n_estimators': 280}. Best is trial 32 with value: 0.7289447197157026.\u001B[0m\n",
      "\u001B[32m[I 2023-04-27 10:34:50,819]\u001B[0m Trial 58 finished with value: 0.7111276026277978 and parameters: {'boosting_type': 'gbdt', 'lambda_l1': 1.010118738374916e-06, 'lambda_l2': 0.00783444617160666, 'num_leaves': 91, 'feature_fraction': 0.5324659686497677, 'bagging_fraction': 0.8909517313655794, 'bagging_freq': 1, 'min_child_samples': 90, 'learning_rate': 0.09806606257970076, 'max_bin': 384, 'n_estimators': 260}. Best is trial 32 with value: 0.7289447197157026.\u001B[0m\n",
      "\u001B[32m[I 2023-04-27 10:34:52,115]\u001B[0m Trial 61 finished with value: 0.7181199498130864 and parameters: {'boosting_type': 'gbdt', 'lambda_l1': 8.999709755634091e-07, 'lambda_l2': 0.04253570604202898, 'num_leaves': 12, 'feature_fraction': 0.46042519028368284, 'bagging_fraction': 0.8864216495137948, 'bagging_freq': 4, 'min_child_samples': 78, 'learning_rate': 0.019019459073406426, 'max_bin': 384, 'n_estimators': 140}. Best is trial 32 with value: 0.7289447197157026.\u001B[0m\n",
      "\u001B[32m[I 2023-04-27 10:34:52,980]\u001B[0m Trial 55 finished with value: 0.7096112656440379 and parameters: {'boosting_type': 'gbdt', 'lambda_l1': 0.0002679127671577504, 'lambda_l2': 0.0070047449714240135, 'num_leaves': 46, 'feature_fraction': 0.5966917363208689, 'bagging_fraction': 0.685250724384996, 'bagging_freq': 1, 'min_child_samples': 65, 'learning_rate': 0.09283792097476751, 'max_bin': 288, 'n_estimators': 300}. Best is trial 32 with value: 0.7289447197157026.\u001B[0m\n",
      "\u001B[32m[I 2023-04-27 10:35:05,617]\u001B[0m Trial 59 finished with value: 0.7107530742026099 and parameters: {'boosting_type': 'gbdt', 'lambda_l1': 9.479806039172333e-07, 'lambda_l2': 0.008985765699302985, 'num_leaves': 46, 'feature_fraction': 0.5387330863501093, 'bagging_fraction': 0.883942375937745, 'bagging_freq': 1, 'min_child_samples': 89, 'learning_rate': 0.09242579770815143, 'max_bin': 288, 'n_estimators': 280}. Best is trial 32 with value: 0.7289447197157026.\u001B[0m\n",
      "\u001B[32m[I 2023-04-27 10:35:16,485]\u001B[0m Trial 62 finished with value: 0.7154959998766774 and parameters: {'boosting_type': 'gbdt', 'lambda_l1': 5.509093627648988e-07, 'lambda_l2': 0.022767405394213597, 'num_leaves': 42, 'feature_fraction': 0.46374658180074585, 'bagging_fraction': 0.8826582768000534, 'bagging_freq': 4, 'min_child_samples': 64, 'learning_rate': 0.017515557299587273, 'max_bin': 480, 'n_estimators': 140}. Best is trial 32 with value: 0.7289447197157026.\u001B[0m\n",
      "\u001B[32m[I 2023-04-27 10:35:29,595]\u001B[0m Trial 60 finished with value: 0.7254476589017147 and parameters: {'boosting_type': 'gbdt', 'lambda_l1': 1.21109154849284e-06, 'lambda_l2': 0.005891509683981396, 'num_leaves': 46, 'feature_fraction': 0.45758318973528445, 'bagging_fraction': 0.8865914745906278, 'bagging_freq': 1, 'min_child_samples': 89, 'learning_rate': 0.024284446503718478, 'max_bin': 288, 'n_estimators': 280}. Best is trial 32 with value: 0.7289447197157026.\u001B[0m\n",
      "\u001B[32m[I 2023-04-27 10:35:58,051]\u001B[0m Trial 68 finished with value: 0.7258637858108818 and parameters: {'boosting_type': 'dart', 'lambda_l1': 9.747596415390694e-06, 'lambda_l2': 0.021238157165018045, 'num_leaves': 12, 'feature_fraction': 0.5980848481763231, 'bagging_fraction': 0.8123756866787615, 'bagging_freq': 2, 'min_child_samples': 78, 'learning_rate': 0.049215100845554194, 'max_bin': 512, 'n_estimators': 360}. Best is trial 32 with value: 0.7289447197157026.\u001B[0m\n",
      "\u001B[32m[I 2023-04-27 10:36:04,634]\u001B[0m Trial 69 finished with value: 0.7266467479869563 and parameters: {'boosting_type': 'dart', 'lambda_l1': 9.000684506570937e-06, 'lambda_l2': 0.0003838102281870186, 'num_leaves': 11, 'feature_fraction': 0.6044668726430924, 'bagging_fraction': 0.812606768943768, 'bagging_freq': 2, 'min_child_samples': 56, 'learning_rate': 0.027764472614232837, 'max_bin': 160, 'n_estimators': 360}. Best is trial 32 with value: 0.7289447197157026.\u001B[0m\n",
      "\u001B[32m[I 2023-04-27 10:36:10,421]\u001B[0m Trial 64 finished with value: 0.7224989954202989 and parameters: {'boosting_type': 'dart', 'lambda_l1': 7.542376981925722e-07, 'lambda_l2': 0.02037084457232723, 'num_leaves': 157, 'feature_fraction': 0.5940154542268736, 'bagging_fraction': 0.8156563443723983, 'bagging_freq': 2, 'min_child_samples': 78, 'learning_rate': 0.019030128251555468, 'max_bin': 384, 'n_estimators': 300}. Best is trial 32 with value: 0.7289447197157026.\u001B[0m\n",
      "\u001B[32m[I 2023-04-27 10:36:17,386]\u001B[0m Trial 63 finished with value: 0.7213720741290901 and parameters: {'boosting_type': 'dart', 'lambda_l1': 6.941747205925232e-07, 'lambda_l2': 0.022584510477588304, 'num_leaves': 154, 'feature_fraction': 0.4723931576060467, 'bagging_fraction': 0.8826631526432341, 'bagging_freq': 2, 'min_child_samples': 78, 'learning_rate': 0.017645697564047762, 'max_bin': 384, 'n_estimators': 300}. Best is trial 32 with value: 0.7289447197157026.\u001B[0m\n",
      "\u001B[32m[I 2023-04-27 10:36:19,470]\u001B[0m Trial 65 finished with value: 0.7057783738831945 and parameters: {'boosting_type': 'dart', 'lambda_l1': 5.227877460766798e-07, 'lambda_l2': 0.031986170514375974, 'num_leaves': 160, 'feature_fraction': 0.47358356104628974, 'bagging_fraction': 0.8191125115471081, 'bagging_freq': 2, 'min_child_samples': 78, 'learning_rate': 0.3101082361593382, 'max_bin': 448, 'n_estimators': 300}. Best is trial 32 with value: 0.7289447197157026.\u001B[0m\n",
      "\u001B[32m[I 2023-04-27 10:36:26,117]\u001B[0m Trial 66 finished with value: 0.7227371679973711 and parameters: {'boosting_type': 'dart', 'lambda_l1': 4.6815043382892264e-07, 'lambda_l2': 0.0004636219824244754, 'num_leaves': 50, 'feature_fraction': 0.4710087799359292, 'bagging_fraction': 0.8253969533695493, 'bagging_freq': 2, 'min_child_samples': 66, 'learning_rate': 0.028707151252411828, 'max_bin': 160, 'n_estimators': 300}. Best is trial 32 with value: 0.7289447197157026.\u001B[0m\n",
      "\u001B[32m[I 2023-04-27 10:36:48,098]\u001B[0m Trial 67 finished with value: 0.7001037353398184 and parameters: {'boosting_type': 'dart', 'lambda_l1': 4.1725706840446657e-07, 'lambda_l2': 0.000341333080550964, 'num_leaves': 221, 'feature_fraction': 0.5584455676353123, 'bagging_fraction': 0.8707450793863796, 'bagging_freq': 2, 'min_child_samples': 79, 'learning_rate': 0.2972893545042196, 'max_bin': 160, 'n_estimators': 360}. Best is trial 32 with value: 0.7289447197157026.\u001B[0m\n",
      "\u001B[32m[I 2023-04-27 10:37:06,822]\u001B[0m Trial 73 finished with value: 0.7270522671597371 and parameters: {'boosting_type': 'dart', 'lambda_l1': 2.8187132968122054e-05, 'lambda_l2': 0.000450010562663605, 'num_leaves': 11, 'feature_fraction': 0.5567569436546075, 'bagging_fraction': 0.8363207828505071, 'bagging_freq': 2, 'min_child_samples': 59, 'learning_rate': 0.05187936318073733, 'max_bin': 160, 'n_estimators': 400}. Best is trial 32 with value: 0.7289447197157026.\u001B[0m\n",
      "\u001B[32m[I 2023-04-27 10:37:10,979]\u001B[0m Trial 74 finished with value: 0.7277937865586865 and parameters: {'boosting_type': 'dart', 'lambda_l1': 3.446451290511774e-05, 'lambda_l2': 0.0005008454696127765, 'num_leaves': 10, 'feature_fraction': 0.5608239514410083, 'bagging_fraction': 0.8639230117368444, 'bagging_freq': 5, 'min_child_samples': 58, 'learning_rate': 0.048416629886921705, 'max_bin': 160, 'n_estimators': 400}. Best is trial 32 with value: 0.7289447197157026.\u001B[0m\n",
      "\u001B[32m[I 2023-04-27 10:37:20,882]\u001B[0m Trial 71 finished with value: 0.7050884758783729 and parameters: {'boosting_type': 'dart', 'lambda_l1': 2.523667097883965e-05, 'lambda_l2': 0.0004983529197977339, 'num_leaves': 221, 'feature_fraction': 0.5553862162971824, 'bagging_fraction': 0.8240942232417645, 'bagging_freq': 2, 'min_child_samples': 95, 'learning_rate': 0.3131755586249452, 'max_bin': 160, 'n_estimators': 320}. Best is trial 32 with value: 0.7289447197157026.\u001B[0m\n",
      "\u001B[32m[I 2023-04-27 10:37:23,118]\u001B[0m Trial 70 finished with value: 0.7223982381211502 and parameters: {'boosting_type': 'dart', 'lambda_l1': 8.913828643057214e-06, 'lambda_l2': 0.00038127058284356325, 'num_leaves': 152, 'feature_fraction': 0.5623421209564688, 'bagging_fraction': 0.8286857760806674, 'bagging_freq': 2, 'min_child_samples': 57, 'learning_rate': 0.04770151184515744, 'max_bin': 160, 'n_estimators': 320}. Best is trial 32 with value: 0.7289447197157026.\u001B[0m\n",
      "\u001B[32m[I 2023-04-27 10:37:41,052]\u001B[0m Trial 77 finished with value: 0.7277902269285773 and parameters: {'boosting_type': 'dart', 'lambda_l1': 3.314032039545079e-05, 'lambda_l2': 0.0005287409614920769, 'num_leaves': 10, 'feature_fraction': 0.5540025110321979, 'bagging_fraction': 0.7703241898337378, 'bagging_freq': 6, 'min_child_samples': 95, 'learning_rate': 0.045213455134679476, 'max_bin': 192, 'n_estimators': 400}. Best is trial 32 with value: 0.7289447197157026.\u001B[0m\n",
      "\u001B[32m[I 2023-04-27 10:38:01,771]\u001B[0m Trial 79 finished with value: 0.728038684878449 and parameters: {'boosting_type': 'dart', 'lambda_l1': 4.350688034374282e-05, 'lambda_l2': 0.003190776308801404, 'num_leaves': 9, 'feature_fraction': 0.563860008468013, 'bagging_fraction': 0.7787635014554014, 'bagging_freq': 5, 'min_child_samples': 57, 'learning_rate': 0.05211609256993572, 'max_bin': 192, 'n_estimators': 400}. Best is trial 32 with value: 0.7289447197157026.\u001B[0m\n",
      "\u001B[32m[I 2023-04-27 10:38:03,044]\u001B[0m Trial 78 finished with value: 0.7276808971898691 and parameters: {'boosting_type': 'dart', 'lambda_l1': 3.9035046842057375e-05, 'lambda_l2': 0.0004283495104594501, 'num_leaves': 11, 'feature_fraction': 0.5526691604209711, 'bagging_fraction': 0.7731808493468331, 'bagging_freq': 6, 'min_child_samples': 56, 'learning_rate': 0.04844154685573124, 'max_bin': 192, 'n_estimators': 400}. Best is trial 32 with value: 0.7289447197157026.\u001B[0m\n",
      "\u001B[32m[I 2023-04-27 10:38:12,975]\u001B[0m Trial 81 finished with value: 0.7277382879407399 and parameters: {'boosting_type': 'dart', 'lambda_l1': 3.829475238891702e-05, 'lambda_l2': 0.004134554042986594, 'num_leaves': 9, 'feature_fraction': 0.5783573263377302, 'bagging_fraction': 0.9094501591900719, 'bagging_freq': 5, 'min_child_samples': 57, 'learning_rate': 0.05493814448038359, 'max_bin': 192, 'n_estimators': 400}. Best is trial 32 with value: 0.7289447197157026.\u001B[0m\n",
      "\u001B[32m[I 2023-04-27 10:38:16,179]\u001B[0m Trial 80 finished with value: 0.7259474002242785 and parameters: {'boosting_type': 'dart', 'lambda_l1': 3.960805807655703e-05, 'lambda_l2': 0.0030706768715789154, 'num_leaves': 11, 'feature_fraction': 0.5721078982877325, 'bagging_fraction': 0.7713316387350359, 'bagging_freq': 5, 'min_child_samples': 56, 'learning_rate': 0.049835286895521594, 'max_bin': 192, 'n_estimators': 400}. Best is trial 32 with value: 0.7289447197157026.\u001B[0m\n",
      "\u001B[32m[I 2023-04-27 10:38:25,944]\u001B[0m Trial 72 finished with value: 0.7254720957889224 and parameters: {'boosting_type': 'dart', 'lambda_l1': 3.418323019329619e-05, 'lambda_l2': 0.00040947383189860386, 'num_leaves': 169, 'feature_fraction': 0.5650347308622, 'bagging_fraction': 0.8098077889603879, 'bagging_freq': 2, 'min_child_samples': 57, 'learning_rate': 0.028958378031717233, 'max_bin': 160, 'n_estimators': 400}. Best is trial 32 with value: 0.7289447197157026.\u001B[0m\n",
      "\u001B[32m[I 2023-04-27 10:38:29,158]\u001B[0m Trial 82 finished with value: 0.7288557396416898 and parameters: {'boosting_type': 'dart', 'lambda_l1': 3.670579154281722e-05, 'lambda_l2': 0.002958506278140656, 'num_leaves': 8, 'feature_fraction': 0.580814043462539, 'bagging_fraction': 0.7749137239526965, 'bagging_freq': 5, 'min_child_samples': 58, 'learning_rate': 0.07490624253020364, 'max_bin': 192, 'n_estimators': 400}. Best is trial 32 with value: 0.7289447197157026.\u001B[0m\n",
      "\u001B[32m[I 2023-04-27 10:38:44,212]\u001B[0m Trial 76 finished with value: 0.7179225940516528 and parameters: {'boosting_type': 'dart', 'lambda_l1': 8.374177123177726e-06, 'lambda_l2': 0.0004967285770858306, 'num_leaves': 218, 'feature_fraction': 0.5574663297312719, 'bagging_fraction': 0.7751902279060444, 'bagging_freq': 5, 'min_child_samples': 57, 'learning_rate': 0.049354861449393946, 'max_bin': 160, 'n_estimators': 400}. Best is trial 32 with value: 0.7289447197157026.\u001B[0m\n",
      "\u001B[32m[I 2023-04-27 10:39:13,316]\u001B[0m Trial 88 finished with value: 0.7292286701133692 and parameters: {'boosting_type': 'dart', 'lambda_l1': 0.00013269327938856973, 'lambda_l2': 0.0025968595747526448, 'num_leaves': 7, 'feature_fraction': 0.5820351432094489, 'bagging_fraction': 0.9088193263062446, 'bagging_freq': 5, 'min_child_samples': 60, 'learning_rate': 0.07294973346981254, 'max_bin': 192, 'n_estimators': 400}. Best is trial 88 with value: 0.7292286701133692.\u001B[0m\n",
      "\u001B[32m[I 2023-04-27 10:39:52,635]\u001B[0m Trial 83 finished with value: 0.7143842997112081 and parameters: {'boosting_type': 'dart', 'lambda_l1': 0.00011401720645900442, 'lambda_l2': 0.003020956596714427, 'num_leaves': 37, 'feature_fraction': 0.5720072002792004, 'bagging_fraction': 0.7753403396938136, 'bagging_freq': 5, 'min_child_samples': 60, 'learning_rate': 0.0732699166934928, 'max_bin': 192, 'n_estimators': 400}. Best is trial 88 with value: 0.7292286701133692.\u001B[0m\n",
      "\u001B[32m[I 2023-04-27 10:39:55,435]\u001B[0m Trial 84 finished with value: 0.716590357255997 and parameters: {'boosting_type': 'dart', 'lambda_l1': 3.3514042106450553e-05, 'lambda_l2': 0.0027489273852800843, 'num_leaves': 37, 'feature_fraction': 0.582848243312051, 'bagging_fraction': 0.7784683147834197, 'bagging_freq': 5, 'min_child_samples': 6, 'learning_rate': 0.07278964769683167, 'max_bin': 192, 'n_estimators': 400}. Best is trial 88 with value: 0.7292286701133692.\u001B[0m\n",
      "\u001B[32m[I 2023-04-27 10:40:05,474]\u001B[0m Trial 85 finished with value: 0.7220335692555306 and parameters: {'boosting_type': 'dart', 'lambda_l1': 4.223542238627466e-05, 'lambda_l2': 0.0021550124691535285, 'num_leaves': 38, 'feature_fraction': 0.5799554642941968, 'bagging_fraction': 0.7775438265275236, 'bagging_freq': 5, 'min_child_samples': 61, 'learning_rate': 0.052061895254640625, 'max_bin': 192, 'n_estimators': 400}. Best is trial 88 with value: 0.7292286701133692.\u001B[0m\n",
      "\u001B[32m[I 2023-04-27 10:40:06,484]\u001B[0m Trial 86 finished with value: 0.7202365632198156 and parameters: {'boosting_type': 'dart', 'lambda_l1': 0.00013526387891261063, 'lambda_l2': 0.0025686694528172264, 'num_leaves': 36, 'feature_fraction': 0.584429499961292, 'bagging_fraction': 0.9114030728840181, 'bagging_freq': 5, 'min_child_samples': 60, 'learning_rate': 0.0692360639504977, 'max_bin': 224, 'n_estimators': 400}. Best is trial 88 with value: 0.7292286701133692.\u001B[0m\n",
      "\u001B[32m[I 2023-04-27 10:40:12,456]\u001B[0m Trial 87 finished with value: 0.7152940675359618 and parameters: {'boosting_type': 'dart', 'lambda_l1': 0.00013040142146510613, 'lambda_l2': 0.0024345195442441988, 'num_leaves': 36, 'feature_fraction': 0.6627236882907716, 'bagging_fraction': 0.7798328183937202, 'bagging_freq': 5, 'min_child_samples': 61, 'learning_rate': 0.0755708601691794, 'max_bin': 224, 'n_estimators': 400}. Best is trial 88 with value: 0.7292286701133692.\u001B[0m\n",
      "\u001B[32m[I 2023-04-27 10:40:30,179]\u001B[0m Trial 89 finished with value: 0.7195171322752909 and parameters: {'boosting_type': 'dart', 'lambda_l1': 9.59335647979153e-05, 'lambda_l2': 0.0023986380059073937, 'num_leaves': 36, 'feature_fraction': 0.5841660859016261, 'bagging_fraction': 0.734418797678076, 'bagging_freq': 5, 'min_child_samples': 60, 'learning_rate': 0.06971353574733383, 'max_bin': 224, 'n_estimators': 380}. Best is trial 88 with value: 0.7292286701133692.\u001B[0m\n",
      "\u001B[32m[I 2023-04-27 10:40:33,686]\u001B[0m Trial 91 finished with value: 0.7307756224362125 and parameters: {'boosting_type': 'dart', 'lambda_l1': 0.0001299086075040824, 'lambda_l2': 0.002180292030688179, 'num_leaves': 6, 'feature_fraction': 0.581426005452652, 'bagging_fraction': 0.9302404000281413, 'bagging_freq': 5, 'min_child_samples': 54, 'learning_rate': 0.07460637901753928, 'max_bin': 224, 'n_estimators': 380}. Best is trial 91 with value: 0.7307756224362125.\u001B[0m\n",
      "\u001B[32m[I 2023-04-27 10:40:37,884]\u001B[0m Trial 92 finished with value: 0.7293879213949506 and parameters: {'boosting_type': 'dart', 'lambda_l1': 0.00013867810938898874, 'lambda_l2': 0.0021970495615904026, 'num_leaves': 7, 'feature_fraction': 0.6492088316062213, 'bagging_fraction': 0.7258106542306729, 'bagging_freq': 5, 'min_child_samples': 40, 'learning_rate': 0.11854080362794533, 'max_bin': 224, 'n_estimators': 380}. Best is trial 91 with value: 0.7307756224362125.\u001B[0m\n",
      "\u001B[32m[I 2023-04-27 10:40:46,869]\u001B[0m Trial 93 finished with value: 0.7296384701818301 and parameters: {'boosting_type': 'dart', 'lambda_l1': 0.00010894786953552316, 'lambda_l2': 0.0002235536875506594, 'num_leaves': 6, 'feature_fraction': 0.6058517392774717, 'bagging_fraction': 0.9141860170146755, 'bagging_freq': 5, 'min_child_samples': 68, 'learning_rate': 0.05721900764977222, 'max_bin': 224, 'n_estimators': 380}. Best is trial 91 with value: 0.7307756224362125.\u001B[0m\n",
      "\u001B[32m[I 2023-04-27 10:40:54,492]\u001B[0m Trial 95 finished with value: 0.7265861735554116 and parameters: {'boosting_type': 'dart', 'lambda_l1': 6.129165355883253e-05, 'lambda_l2': 0.0008726047678064274, 'num_leaves': 6, 'feature_fraction': 0.6084344288331822, 'bagging_fraction': 0.9141548570161151, 'bagging_freq': 6, 'min_child_samples': 53, 'learning_rate': 0.03952148668710144, 'max_bin': 256, 'n_estimators': 380}. Best is trial 91 with value: 0.7307756224362125.\u001B[0m\n",
      "\u001B[32m[I 2023-04-27 10:41:00,241]\u001B[0m Trial 90 finished with value: 0.7211358010892612 and parameters: {'boosting_type': 'dart', 'lambda_l1': 0.00014027575333221162, 'lambda_l2': 0.0028724912462117684, 'num_leaves': 36, 'feature_fraction': 0.5824736531359694, 'bagging_fraction': 0.9168282045377555, 'bagging_freq': 5, 'min_child_samples': 53, 'learning_rate': 0.07522721015742057, 'max_bin': 224, 'n_estimators': 380}. Best is trial 91 with value: 0.7307756224362125.\u001B[0m\n",
      "\u001B[32m[I 2023-04-27 10:41:10,249]\u001B[0m Trial 96 finished with value: 0.7300895530613211 and parameters: {'boosting_type': 'dart', 'lambda_l1': 5.900761803213866e-05, 'lambda_l2': 0.00019538992478757564, 'num_leaves': 7, 'feature_fraction': 0.6038327369527609, 'bagging_fraction': 0.9455378867880238, 'bagging_freq': 6, 'min_child_samples': 53, 'learning_rate': 0.11874292150963292, 'max_bin': 256, 'n_estimators': 380}. Best is trial 91 with value: 0.7307756224362125.\u001B[0m\n",
      "\u001B[32m[I 2023-04-27 10:41:21,273]\u001B[0m Trial 94 finished with value: 0.7213218917691961 and parameters: {'boosting_type': 'dart', 'lambda_l1': 5.98769054131281e-05, 'lambda_l2': 0.004237797677620471, 'num_leaves': 26, 'feature_fraction': 0.6093280447627839, 'bagging_fraction': 0.9530745513081347, 'bagging_freq': 5, 'min_child_samples': 53, 'learning_rate': 0.11626392084874167, 'max_bin': 224, 'n_estimators': 380}. Best is trial 91 with value: 0.7307756224362125.\u001B[0m\n",
      "\u001B[32m[I 2023-04-27 10:41:36,330]\u001B[0m Trial 97 finished with value: 0.7191011948250906 and parameters: {'boosting_type': 'dart', 'lambda_l1': 0.00020044605249249701, 'lambda_l2': 0.004532049800824801, 'num_leaves': 25, 'feature_fraction': 0.6077009418367995, 'bagging_fraction': 0.9489738743492009, 'bagging_freq': 4, 'min_child_samples': 41, 'learning_rate': 0.13383836533935553, 'max_bin': 256, 'n_estimators': 380}. Best is trial 91 with value: 0.7307756224362125.\u001B[0m\n",
      "\u001B[32m[I 2023-04-27 10:41:37,405]\u001B[0m Trial 98 finished with value: 0.7181269451139661 and parameters: {'boosting_type': 'dart', 'lambda_l1': 6.351875938426134e-05, 'lambda_l2': 0.00022886498524226056, 'num_leaves': 23, 'feature_fraction': 0.614137176542016, 'bagging_fraction': 0.951911908435307, 'bagging_freq': 5, 'min_child_samples': 42, 'learning_rate': 0.10911813062319746, 'max_bin': 256, 'n_estimators': 380}. Best is trial 91 with value: 0.7307756224362125.\u001B[0m\n",
      "\u001B[32m[I 2023-04-27 10:41:42,402]\u001B[0m Trial 99 finished with value: 0.7190080843194078 and parameters: {'boosting_type': 'dart', 'lambda_l1': 0.00024562454750553305, 'lambda_l2': 0.0010442595195518359, 'num_leaves': 24, 'feature_fraction': 0.6096954934714054, 'bagging_fraction': 0.9535613736391249, 'bagging_freq': 4, 'min_child_samples': 40, 'learning_rate': 0.130910974025041, 'max_bin': 256, 'n_estimators': 380}. Best is trial 91 with value: 0.7307756224362125.\u001B[0m\n",
      "\u001B[32m[I 2023-04-27 10:41:49,645]\u001B[0m Trial 75 finished with value: 0.7050942599905525 and parameters: {'boosting_type': 'dart', 'lambda_l1': 7.988355307505426e-06, 'lambda_l2': 0.0004298897878971152, 'num_leaves': 234, 'feature_fraction': 0.5574673210518618, 'bagging_fraction': 0.826475220949478, 'bagging_freq': 2, 'min_child_samples': 5, 'learning_rate': 0.047592553390829934, 'max_bin': 160, 'n_estimators': 400}. Best is trial 91 with value: 0.7307756224362125.\u001B[0m\n"
     ]
    }
   ],
   "source": [
    "sampler = optuna.samplers.TPESampler()\n",
    "pruner = optuna.pruners.HyperbandPruner(\n",
    "    min_resource=10, max_resource=400, reduction_factor=3)\n",
    "\n",
    "study = optuna.create_study(\n",
    "    direction='maximize', sampler=sampler,\n",
    "    pruner=pruner\n",
    ")\n",
    "study.optimize(objective(), n_trials=100, gc_after_trial=True, n_jobs=-1)"
   ],
   "metadata": {
    "collapsed": false,
    "ExecuteTime": {
     "start_time": "2023-04-27T12:28:12.286408Z",
     "end_time": "2023-04-27T12:41:49.408124Z"
    }
   }
  },
  {
   "cell_type": "code",
   "execution_count": 8,
   "outputs": [
    {
     "name": "stdout",
     "output_type": "stream",
     "text": [
      "FrozenTrial(number=91, state=TrialState.COMPLETE, values=[0.7307756224362125], datetime_start=datetime.datetime(2023, 4, 27, 10, 39, 52, 816540), datetime_complete=datetime.datetime(2023, 4, 27, 10, 40, 33, 685912), params={'boosting_type': 'dart', 'lambda_l1': 0.0001299086075040824, 'lambda_l2': 0.002180292030688179, 'num_leaves': 6, 'feature_fraction': 0.581426005452652, 'bagging_fraction': 0.9302404000281413, 'bagging_freq': 5, 'min_child_samples': 54, 'learning_rate': 0.07460637901753928, 'max_bin': 224, 'n_estimators': 380}, user_attrs={}, system_attrs={}, intermediate_values={}, distributions={'boosting_type': CategoricalDistribution(choices=('dart', 'gbdt')), 'lambda_l1': FloatDistribution(high=10.0, log=True, low=1e-08, step=None), 'lambda_l2': FloatDistribution(high=10.0, log=True, low=1e-08, step=None), 'num_leaves': IntDistribution(high=256, log=False, low=2, step=1), 'feature_fraction': FloatDistribution(high=1.0, log=False, low=0.4, step=None), 'bagging_fraction': FloatDistribution(high=1.0, log=False, low=0.4, step=None), 'bagging_freq': IntDistribution(high=7, log=False, low=1, step=1), 'min_child_samples': IntDistribution(high=100, log=False, low=5, step=1), 'learning_rate': FloatDistribution(high=0.5, log=True, low=0.0001, step=None), 'max_bin': IntDistribution(high=512, log=False, low=128, step=32), 'n_estimators': IntDistribution(high=400, log=False, low=40, step=20)}, trial_id=91, value=None)\n"
     ]
    }
   ],
   "source": [
    "print(study.best_trial)"
   ],
   "metadata": {
    "collapsed": false,
    "ExecuteTime": {
     "start_time": "2023-04-27T12:41:49.410671Z",
     "end_time": "2023-04-27T12:41:49.410671Z"
    }
   }
  },
  {
   "cell_type": "markdown",
   "source": [
    "## Understanding Parameters"
   ],
   "metadata": {
    "collapsed": false
   }
  },
  {
   "cell_type": "code",
   "execution_count": 27,
   "outputs": [
    {
     "data": {
      "application/vnd.plotly.v1+json": {
       "data": [
        {
         "dimensions": [
          {
           "label": "Objective Value",
           "range": [
            0.4235082247366586,
            0.7307756224362125
           ],
           "values": [
            0.4235082247366586,
            0.640835039164487,
            0.5497683599833417,
            0.6885931318719715,
            0.6941997493622704,
            0.7194393818812695,
            0.6648478078588671,
            0.6514032002313517,
            0.7162768883354099,
            0.7152614714504432,
            0.4235082247366586,
            0.6940962088365159,
            0.7194524409405971,
            0.7221131261103811,
            0.7206378400003233,
            0.7181680010953786,
            0.6988899958310372,
            0.5849814465185031,
            0.47097755131218644,
            0.4284020736184918,
            0.47122869848972265,
            0.4235082247366586,
            0.4790685547775979,
            0.7248379941522243,
            0.724346622970858,
            0.7251278483895267,
            0.726970179529222,
            0.6975736269547695,
            0.7263206859395505,
            0.7220718485773239,
            0.7259288184014425,
            0.7019187852580383,
            0.7289447197157026,
            0.7187478336546401,
            0.7213518805860777,
            0.7201417217484783,
            0.714713572780657,
            0.7154346477616434,
            0.7223501116234192,
            0.7208188997879882,
            0.7206229143016124,
            0.7203639978943703,
            0.7191016285993673,
            0.7231042528227676,
            0.7209036282423686,
            0.7236103217233776,
            0.7238383242644512,
            0.7210900965301268,
            0.7244431145538057,
            0.7269009522459295,
            0.7259415895784073,
            0.7286778417784074,
            0.7210439623057472,
            0.7229642455967704,
            0.7122437936847099,
            0.7096112656440379,
            0.7134501402816293,
            0.7231973035971189,
            0.7111276026277978,
            0.7107530742026099,
            0.7254476589017147,
            0.7181199498130864,
            0.7154959998766774,
            0.7213720741290901,
            0.7224989954202989,
            0.7057783738831945,
            0.7227371679973711,
            0.7001037353398184,
            0.7258637858108818,
            0.7266467479869563,
            0.7223982381211502,
            0.7050884758783729,
            0.7254720957889224,
            0.7270522671597371,
            0.7277937865586865,
            0.7050942599905525,
            0.7179225940516528,
            0.7277902269285773,
            0.7276808971898691,
            0.728038684878449,
            0.7259474002242785,
            0.7277382879407399,
            0.7288557396416898,
            0.7143842997112081,
            0.716590357255997,
            0.7220335692555306,
            0.7202365632198156,
            0.7152940675359618,
            0.7292286701133692,
            0.7195171322752909,
            0.7211358010892612,
            0.7307756224362125,
            0.7293879213949506,
            0.7296384701818301,
            0.7213218917691961,
            0.7265861735554116,
            0.7300895530613211,
            0.7191011948250906,
            0.7181269451139661,
            0.7190080843194078
           ]
          },
          {
           "label": "boosting_type",
           "range": [
            0,
            1
           ],
           "ticktext": [
            "dart",
            "gbdt"
           ],
           "tickvals": [
            0,
            1
           ],
           "values": [
            0,
            1,
            0,
            1,
            1,
            1,
            1,
            1,
            1,
            1,
            1,
            0,
            0,
            0,
            1,
            1,
            0,
            0,
            0,
            0,
            0,
            0,
            0,
            0,
            0,
            0,
            0,
            0,
            0,
            0,
            0,
            0,
            0,
            0,
            0,
            0,
            0,
            0,
            0,
            0,
            0,
            0,
            0,
            0,
            0,
            0,
            0,
            0,
            0,
            0,
            0,
            0,
            0,
            0,
            1,
            1,
            1,
            1,
            1,
            1,
            1,
            1,
            1,
            0,
            0,
            0,
            0,
            0,
            0,
            0,
            0,
            0,
            0,
            0,
            0,
            0,
            0,
            0,
            0,
            0,
            0,
            0,
            0,
            0,
            0,
            0,
            0,
            0,
            0,
            0,
            0,
            0,
            0,
            0,
            0,
            0,
            0,
            0,
            0,
            0
           ]
          },
          {
           "label": "learning_rate",
           "range": [
            -3.7229753099586183,
            -0.3518064409690755
           ],
           "ticktext": [
            "0.000189",
            "0.001",
            "0.01",
            "0.1",
            "0.445"
           ],
           "tickvals": [
            -3.7229753099586183,
            -3,
            -2,
            -1,
            -0.3518064409690755
           ],
           "values": [
            -3.7229753099586183,
            -2.0391811785236906,
            -2.771130508721015,
            -0.3518064409690755,
            -0.5066384531041568,
            -1.7720446695148229,
            -1.5465852834566787,
            -2.5872005890041816,
            -1.0971563940965665,
            -1.6120805583970168,
            -3.2545997497393904,
            -0.38731473412015793,
            -1.979626407727197,
            -1.3142483970388528,
            -2.069753919060861,
            -1.6751346487663112,
            -2.084173116183078,
            -2.5151400871829224,
            -2.6883637034310044,
            -2.589458777783689,
            -2.658161114114198,
            -2.7619178650175393,
            -2.7172417782219385,
            -1.3180764094662027,
            -1.2356222009949296,
            -1.1260489002146852,
            -1.1151018321544377,
            -1.2052435530917271,
            -1.2076289564700635,
            -1.1797590595812286,
            -1.171398363356797,
            -1.1752049828301008,
            -1.0315710953273953,
            -0.7039816230403453,
            -0.863428411817379,
            -0.70530911603978,
            -0.8231695815296514,
            -0.7038284452127397,
            -0.7964527164348018,
            -0.8444255854092253,
            -0.8231780565240491,
            -0.8115788641494083,
            -0.6520197774312725,
            -0.9110991053725904,
            -0.9562078524733215,
            -1.4550977267541059,
            -1.467813417554765,
            -0.9934065964097646,
            -1.4219801105807508,
            -1.0221605714549977,
            -1.4635245441116262,
            -1.0319925143614268,
            -1.0286116444277151,
            -1.4365605853439454,
            -0.998116194814401,
            -1.03227459375787,
            -1.0628746768727613,
            -1.8342112319637274,
            -1.0084812615740104,
            -1.0342067924318552,
            -1.6146717906105539,
            -1.7208018388589275,
            -1.7565760400028654,
            -1.7533611685747055,
            -1.7205582848209593,
            -0.5084866991897856,
            -1.5420099024788423,
            -0.5268206419650925,
            -1.3079016206543224,
            -1.556510571530648,
            -1.3214678562721631,
            -0.5042121392338672,
            -1.538225766770534,
            -1.2850053635206709,
            -1.315005443569439,
            -1.3224609942178513,
            -1.3066700629201606,
            -1.3447323036582628,
            -1.314781997234553,
            -1.2830281531845016,
            -1.3024630372167596,
            -1.2601260128357128,
            -1.1254819875949413,
            -1.135074302245312,
            -1.1379303826078093,
            -1.2834800259376926,
            -1.1596676296061181,
            -1.121645634489885,
            -1.136976290512149,
            -1.1566828900562702,
            -1.1236250439325606,
            -1.127224037759539,
            -0.9261321328587762,
            -1.242459678442067,
            -0.9345550351190066,
            -1.4031667268409793,
            -0.9253922700477926,
            -0.8734193763525436,
            -0.9621030828175832,
            -0.8830239458193492
           ]
          },
          {
           "label": "n_estimators",
           "range": [
            40,
            400
           ],
           "values": [
            40,
            100,
            380,
            140,
            80,
            200,
            40,
            360,
            60,
            100,
            280,
            240,
            320,
            300,
            380,
            300,
            260,
            400,
            360,
            380,
            380,
            380,
            380,
            340,
            340,
            340,
            340,
            340,
            340,
            320,
            320,
            320,
            200,
            180,
            160,
            180,
            200,
            200,
            200,
            200,
            220,
            220,
            220,
            220,
            240,
            240,
            240,
            240,
            260,
            260,
            260,
            260,
            280,
            280,
            280,
            300,
            280,
            280,
            260,
            280,
            280,
            140,
            140,
            300,
            300,
            300,
            300,
            360,
            360,
            360,
            320,
            320,
            400,
            400,
            400,
            400,
            400,
            400,
            400,
            400,
            400,
            400,
            400,
            400,
            400,
            400,
            400,
            400,
            400,
            380,
            380,
            380,
            380,
            380,
            380,
            380,
            380,
            380,
            380,
            380
           ]
          },
          {
           "label": "num_leaves",
           "range": [
            2,
            249
           ],
           "values": [
            25,
            223,
            78,
            225,
            105,
            132,
            19,
            249,
            132,
            143,
            42,
            184,
            177,
            4,
            58,
            187,
            107,
            77,
            72,
            66,
            62,
            55,
            56,
            5,
            46,
            3,
            10,
            2,
            15,
            3,
            4,
            2,
            7,
            29,
            32,
            32,
            37,
            33,
            27,
            28,
            27,
            22,
            20,
            22,
            20,
            16,
            18,
            97,
            15,
            15,
            16,
            16,
            45,
            100,
            104,
            46,
            88,
            108,
            91,
            46,
            46,
            12,
            42,
            154,
            157,
            160,
            50,
            221,
            12,
            11,
            152,
            221,
            169,
            11,
            10,
            234,
            218,
            10,
            11,
            9,
            11,
            9,
            8,
            37,
            37,
            38,
            36,
            36,
            7,
            36,
            36,
            6,
            7,
            6,
            26,
            6,
            7,
            25,
            23,
            24
           ]
          }
         ],
         "labelangle": 30,
         "labelside": "bottom",
         "line": {
          "color": [
           0.4235082247366586,
           0.640835039164487,
           0.5497683599833417,
           0.6885931318719715,
           0.6941997493622704,
           0.7194393818812695,
           0.6648478078588671,
           0.6514032002313517,
           0.7162768883354099,
           0.7152614714504432,
           0.4235082247366586,
           0.6940962088365159,
           0.7194524409405971,
           0.7221131261103811,
           0.7206378400003233,
           0.7181680010953786,
           0.6988899958310372,
           0.5849814465185031,
           0.47097755131218644,
           0.4284020736184918,
           0.47122869848972265,
           0.4235082247366586,
           0.4790685547775979,
           0.7248379941522243,
           0.724346622970858,
           0.7251278483895267,
           0.726970179529222,
           0.6975736269547695,
           0.7263206859395505,
           0.7220718485773239,
           0.7259288184014425,
           0.7019187852580383,
           0.7289447197157026,
           0.7187478336546401,
           0.7213518805860777,
           0.7201417217484783,
           0.714713572780657,
           0.7154346477616434,
           0.7223501116234192,
           0.7208188997879882,
           0.7206229143016124,
           0.7203639978943703,
           0.7191016285993673,
           0.7231042528227676,
           0.7209036282423686,
           0.7236103217233776,
           0.7238383242644512,
           0.7210900965301268,
           0.7244431145538057,
           0.7269009522459295,
           0.7259415895784073,
           0.7286778417784074,
           0.7210439623057472,
           0.7229642455967704,
           0.7122437936847099,
           0.7096112656440379,
           0.7134501402816293,
           0.7231973035971189,
           0.7111276026277978,
           0.7107530742026099,
           0.7254476589017147,
           0.7181199498130864,
           0.7154959998766774,
           0.7213720741290901,
           0.7224989954202989,
           0.7057783738831945,
           0.7227371679973711,
           0.7001037353398184,
           0.7258637858108818,
           0.7266467479869563,
           0.7223982381211502,
           0.7050884758783729,
           0.7254720957889224,
           0.7270522671597371,
           0.7277937865586865,
           0.7050942599905525,
           0.7179225940516528,
           0.7277902269285773,
           0.7276808971898691,
           0.728038684878449,
           0.7259474002242785,
           0.7277382879407399,
           0.7288557396416898,
           0.7143842997112081,
           0.716590357255997,
           0.7220335692555306,
           0.7202365632198156,
           0.7152940675359618,
           0.7292286701133692,
           0.7195171322752909,
           0.7211358010892612,
           0.7307756224362125,
           0.7293879213949506,
           0.7296384701818301,
           0.7213218917691961,
           0.7265861735554116,
           0.7300895530613211,
           0.7191011948250906,
           0.7181269451139661,
           0.7190080843194078
          ],
          "colorbar": {
           "title": {
            "text": "Objective Value"
           }
          },
          "colorscale": [
           [
            0.0,
            "rgb(247,251,255)"
           ],
           [
            0.125,
            "rgb(222,235,247)"
           ],
           [
            0.25,
            "rgb(198,219,239)"
           ],
           [
            0.375,
            "rgb(158,202,225)"
           ],
           [
            0.5,
            "rgb(107,174,214)"
           ],
           [
            0.625,
            "rgb(66,146,198)"
           ],
           [
            0.75,
            "rgb(33,113,181)"
           ],
           [
            0.875,
            "rgb(8,81,156)"
           ],
           [
            1.0,
            "rgb(8,48,107)"
           ]
          ],
          "reversescale": false,
          "showscale": true
         },
         "type": "parcoords"
        }
       ],
       "layout": {
        "title": {
         "text": "Parallel Coordinate Plot"
        },
        "template": {
         "data": {
          "histogram2dcontour": [
           {
            "type": "histogram2dcontour",
            "colorbar": {
             "outlinewidth": 0,
             "ticks": ""
            },
            "colorscale": [
             [
              0.0,
              "#0d0887"
             ],
             [
              0.1111111111111111,
              "#46039f"
             ],
             [
              0.2222222222222222,
              "#7201a8"
             ],
             [
              0.3333333333333333,
              "#9c179e"
             ],
             [
              0.4444444444444444,
              "#bd3786"
             ],
             [
              0.5555555555555556,
              "#d8576b"
             ],
             [
              0.6666666666666666,
              "#ed7953"
             ],
             [
              0.7777777777777778,
              "#fb9f3a"
             ],
             [
              0.8888888888888888,
              "#fdca26"
             ],
             [
              1.0,
              "#f0f921"
             ]
            ]
           }
          ],
          "choropleth": [
           {
            "type": "choropleth",
            "colorbar": {
             "outlinewidth": 0,
             "ticks": ""
            }
           }
          ],
          "histogram2d": [
           {
            "type": "histogram2d",
            "colorbar": {
             "outlinewidth": 0,
             "ticks": ""
            },
            "colorscale": [
             [
              0.0,
              "#0d0887"
             ],
             [
              0.1111111111111111,
              "#46039f"
             ],
             [
              0.2222222222222222,
              "#7201a8"
             ],
             [
              0.3333333333333333,
              "#9c179e"
             ],
             [
              0.4444444444444444,
              "#bd3786"
             ],
             [
              0.5555555555555556,
              "#d8576b"
             ],
             [
              0.6666666666666666,
              "#ed7953"
             ],
             [
              0.7777777777777778,
              "#fb9f3a"
             ],
             [
              0.8888888888888888,
              "#fdca26"
             ],
             [
              1.0,
              "#f0f921"
             ]
            ]
           }
          ],
          "heatmap": [
           {
            "type": "heatmap",
            "colorbar": {
             "outlinewidth": 0,
             "ticks": ""
            },
            "colorscale": [
             [
              0.0,
              "#0d0887"
             ],
             [
              0.1111111111111111,
              "#46039f"
             ],
             [
              0.2222222222222222,
              "#7201a8"
             ],
             [
              0.3333333333333333,
              "#9c179e"
             ],
             [
              0.4444444444444444,
              "#bd3786"
             ],
             [
              0.5555555555555556,
              "#d8576b"
             ],
             [
              0.6666666666666666,
              "#ed7953"
             ],
             [
              0.7777777777777778,
              "#fb9f3a"
             ],
             [
              0.8888888888888888,
              "#fdca26"
             ],
             [
              1.0,
              "#f0f921"
             ]
            ]
           }
          ],
          "heatmapgl": [
           {
            "type": "heatmapgl",
            "colorbar": {
             "outlinewidth": 0,
             "ticks": ""
            },
            "colorscale": [
             [
              0.0,
              "#0d0887"
             ],
             [
              0.1111111111111111,
              "#46039f"
             ],
             [
              0.2222222222222222,
              "#7201a8"
             ],
             [
              0.3333333333333333,
              "#9c179e"
             ],
             [
              0.4444444444444444,
              "#bd3786"
             ],
             [
              0.5555555555555556,
              "#d8576b"
             ],
             [
              0.6666666666666666,
              "#ed7953"
             ],
             [
              0.7777777777777778,
              "#fb9f3a"
             ],
             [
              0.8888888888888888,
              "#fdca26"
             ],
             [
              1.0,
              "#f0f921"
             ]
            ]
           }
          ],
          "contourcarpet": [
           {
            "type": "contourcarpet",
            "colorbar": {
             "outlinewidth": 0,
             "ticks": ""
            }
           }
          ],
          "contour": [
           {
            "type": "contour",
            "colorbar": {
             "outlinewidth": 0,
             "ticks": ""
            },
            "colorscale": [
             [
              0.0,
              "#0d0887"
             ],
             [
              0.1111111111111111,
              "#46039f"
             ],
             [
              0.2222222222222222,
              "#7201a8"
             ],
             [
              0.3333333333333333,
              "#9c179e"
             ],
             [
              0.4444444444444444,
              "#bd3786"
             ],
             [
              0.5555555555555556,
              "#d8576b"
             ],
             [
              0.6666666666666666,
              "#ed7953"
             ],
             [
              0.7777777777777778,
              "#fb9f3a"
             ],
             [
              0.8888888888888888,
              "#fdca26"
             ],
             [
              1.0,
              "#f0f921"
             ]
            ]
           }
          ],
          "surface": [
           {
            "type": "surface",
            "colorbar": {
             "outlinewidth": 0,
             "ticks": ""
            },
            "colorscale": [
             [
              0.0,
              "#0d0887"
             ],
             [
              0.1111111111111111,
              "#46039f"
             ],
             [
              0.2222222222222222,
              "#7201a8"
             ],
             [
              0.3333333333333333,
              "#9c179e"
             ],
             [
              0.4444444444444444,
              "#bd3786"
             ],
             [
              0.5555555555555556,
              "#d8576b"
             ],
             [
              0.6666666666666666,
              "#ed7953"
             ],
             [
              0.7777777777777778,
              "#fb9f3a"
             ],
             [
              0.8888888888888888,
              "#fdca26"
             ],
             [
              1.0,
              "#f0f921"
             ]
            ]
           }
          ],
          "mesh3d": [
           {
            "type": "mesh3d",
            "colorbar": {
             "outlinewidth": 0,
             "ticks": ""
            }
           }
          ],
          "scatter": [
           {
            "fillpattern": {
             "fillmode": "overlay",
             "size": 10,
             "solidity": 0.2
            },
            "type": "scatter"
           }
          ],
          "parcoords": [
           {
            "type": "parcoords",
            "line": {
             "colorbar": {
              "outlinewidth": 0,
              "ticks": ""
             }
            }
           }
          ],
          "scatterpolargl": [
           {
            "type": "scatterpolargl",
            "marker": {
             "colorbar": {
              "outlinewidth": 0,
              "ticks": ""
             }
            }
           }
          ],
          "bar": [
           {
            "error_x": {
             "color": "#2a3f5f"
            },
            "error_y": {
             "color": "#2a3f5f"
            },
            "marker": {
             "line": {
              "color": "#E5ECF6",
              "width": 0.5
             },
             "pattern": {
              "fillmode": "overlay",
              "size": 10,
              "solidity": 0.2
             }
            },
            "type": "bar"
           }
          ],
          "scattergeo": [
           {
            "type": "scattergeo",
            "marker": {
             "colorbar": {
              "outlinewidth": 0,
              "ticks": ""
             }
            }
           }
          ],
          "scatterpolar": [
           {
            "type": "scatterpolar",
            "marker": {
             "colorbar": {
              "outlinewidth": 0,
              "ticks": ""
             }
            }
           }
          ],
          "histogram": [
           {
            "marker": {
             "pattern": {
              "fillmode": "overlay",
              "size": 10,
              "solidity": 0.2
             }
            },
            "type": "histogram"
           }
          ],
          "scattergl": [
           {
            "type": "scattergl",
            "marker": {
             "colorbar": {
              "outlinewidth": 0,
              "ticks": ""
             }
            }
           }
          ],
          "scatter3d": [
           {
            "type": "scatter3d",
            "line": {
             "colorbar": {
              "outlinewidth": 0,
              "ticks": ""
             }
            },
            "marker": {
             "colorbar": {
              "outlinewidth": 0,
              "ticks": ""
             }
            }
           }
          ],
          "scattermapbox": [
           {
            "type": "scattermapbox",
            "marker": {
             "colorbar": {
              "outlinewidth": 0,
              "ticks": ""
             }
            }
           }
          ],
          "scatterternary": [
           {
            "type": "scatterternary",
            "marker": {
             "colorbar": {
              "outlinewidth": 0,
              "ticks": ""
             }
            }
           }
          ],
          "scattercarpet": [
           {
            "type": "scattercarpet",
            "marker": {
             "colorbar": {
              "outlinewidth": 0,
              "ticks": ""
             }
            }
           }
          ],
          "carpet": [
           {
            "aaxis": {
             "endlinecolor": "#2a3f5f",
             "gridcolor": "white",
             "linecolor": "white",
             "minorgridcolor": "white",
             "startlinecolor": "#2a3f5f"
            },
            "baxis": {
             "endlinecolor": "#2a3f5f",
             "gridcolor": "white",
             "linecolor": "white",
             "minorgridcolor": "white",
             "startlinecolor": "#2a3f5f"
            },
            "type": "carpet"
           }
          ],
          "table": [
           {
            "cells": {
             "fill": {
              "color": "#EBF0F8"
             },
             "line": {
              "color": "white"
             }
            },
            "header": {
             "fill": {
              "color": "#C8D4E3"
             },
             "line": {
              "color": "white"
             }
            },
            "type": "table"
           }
          ],
          "barpolar": [
           {
            "marker": {
             "line": {
              "color": "#E5ECF6",
              "width": 0.5
             },
             "pattern": {
              "fillmode": "overlay",
              "size": 10,
              "solidity": 0.2
             }
            },
            "type": "barpolar"
           }
          ],
          "pie": [
           {
            "automargin": true,
            "type": "pie"
           }
          ]
         },
         "layout": {
          "autotypenumbers": "strict",
          "colorway": [
           "#636efa",
           "#EF553B",
           "#00cc96",
           "#ab63fa",
           "#FFA15A",
           "#19d3f3",
           "#FF6692",
           "#B6E880",
           "#FF97FF",
           "#FECB52"
          ],
          "font": {
           "color": "#2a3f5f"
          },
          "hovermode": "closest",
          "hoverlabel": {
           "align": "left"
          },
          "paper_bgcolor": "white",
          "plot_bgcolor": "#E5ECF6",
          "polar": {
           "bgcolor": "#E5ECF6",
           "angularaxis": {
            "gridcolor": "white",
            "linecolor": "white",
            "ticks": ""
           },
           "radialaxis": {
            "gridcolor": "white",
            "linecolor": "white",
            "ticks": ""
           }
          },
          "ternary": {
           "bgcolor": "#E5ECF6",
           "aaxis": {
            "gridcolor": "white",
            "linecolor": "white",
            "ticks": ""
           },
           "baxis": {
            "gridcolor": "white",
            "linecolor": "white",
            "ticks": ""
           },
           "caxis": {
            "gridcolor": "white",
            "linecolor": "white",
            "ticks": ""
           }
          },
          "coloraxis": {
           "colorbar": {
            "outlinewidth": 0,
            "ticks": ""
           }
          },
          "colorscale": {
           "sequential": [
            [
             0.0,
             "#0d0887"
            ],
            [
             0.1111111111111111,
             "#46039f"
            ],
            [
             0.2222222222222222,
             "#7201a8"
            ],
            [
             0.3333333333333333,
             "#9c179e"
            ],
            [
             0.4444444444444444,
             "#bd3786"
            ],
            [
             0.5555555555555556,
             "#d8576b"
            ],
            [
             0.6666666666666666,
             "#ed7953"
            ],
            [
             0.7777777777777778,
             "#fb9f3a"
            ],
            [
             0.8888888888888888,
             "#fdca26"
            ],
            [
             1.0,
             "#f0f921"
            ]
           ],
           "sequentialminus": [
            [
             0.0,
             "#0d0887"
            ],
            [
             0.1111111111111111,
             "#46039f"
            ],
            [
             0.2222222222222222,
             "#7201a8"
            ],
            [
             0.3333333333333333,
             "#9c179e"
            ],
            [
             0.4444444444444444,
             "#bd3786"
            ],
            [
             0.5555555555555556,
             "#d8576b"
            ],
            [
             0.6666666666666666,
             "#ed7953"
            ],
            [
             0.7777777777777778,
             "#fb9f3a"
            ],
            [
             0.8888888888888888,
             "#fdca26"
            ],
            [
             1.0,
             "#f0f921"
            ]
           ],
           "diverging": [
            [
             0,
             "#8e0152"
            ],
            [
             0.1,
             "#c51b7d"
            ],
            [
             0.2,
             "#de77ae"
            ],
            [
             0.3,
             "#f1b6da"
            ],
            [
             0.4,
             "#fde0ef"
            ],
            [
             0.5,
             "#f7f7f7"
            ],
            [
             0.6,
             "#e6f5d0"
            ],
            [
             0.7,
             "#b8e186"
            ],
            [
             0.8,
             "#7fbc41"
            ],
            [
             0.9,
             "#4d9221"
            ],
            [
             1,
             "#276419"
            ]
           ]
          },
          "xaxis": {
           "gridcolor": "white",
           "linecolor": "white",
           "ticks": "",
           "title": {
            "standoff": 15
           },
           "zerolinecolor": "white",
           "automargin": true,
           "zerolinewidth": 2
          },
          "yaxis": {
           "gridcolor": "white",
           "linecolor": "white",
           "ticks": "",
           "title": {
            "standoff": 15
           },
           "zerolinecolor": "white",
           "automargin": true,
           "zerolinewidth": 2
          },
          "scene": {
           "xaxis": {
            "backgroundcolor": "#E5ECF6",
            "gridcolor": "white",
            "linecolor": "white",
            "showbackground": true,
            "ticks": "",
            "zerolinecolor": "white",
            "gridwidth": 2
           },
           "yaxis": {
            "backgroundcolor": "#E5ECF6",
            "gridcolor": "white",
            "linecolor": "white",
            "showbackground": true,
            "ticks": "",
            "zerolinecolor": "white",
            "gridwidth": 2
           },
           "zaxis": {
            "backgroundcolor": "#E5ECF6",
            "gridcolor": "white",
            "linecolor": "white",
            "showbackground": true,
            "ticks": "",
            "zerolinecolor": "white",
            "gridwidth": 2
           }
          },
          "shapedefaults": {
           "line": {
            "color": "#2a3f5f"
           }
          },
          "annotationdefaults": {
           "arrowcolor": "#2a3f5f",
           "arrowhead": 0,
           "arrowwidth": 1
          },
          "geo": {
           "bgcolor": "white",
           "landcolor": "#E5ECF6",
           "subunitcolor": "white",
           "showland": true,
           "showlakes": true,
           "lakecolor": "white"
          },
          "title": {
           "x": 0.05
          },
          "mapbox": {
           "style": "light"
          }
         }
        }
       },
       "config": {
        "plotlyServerURL": "https://plot.ly"
       }
      },
      "text/html": "<div>                            <div id=\"e8c7daa8-edae-4c2f-b9b6-cbb6568a985c\" class=\"plotly-graph-div\" style=\"height:525px; width:100%;\"></div>            <script type=\"text/javascript\">                require([\"plotly\"], function(Plotly) {                    window.PLOTLYENV=window.PLOTLYENV || {};                                    if (document.getElementById(\"e8c7daa8-edae-4c2f-b9b6-cbb6568a985c\")) {                    Plotly.newPlot(                        \"e8c7daa8-edae-4c2f-b9b6-cbb6568a985c\",                        [{\"dimensions\":[{\"label\":\"Objective Value\",\"range\":[0.4235082247366586,0.7307756224362125],\"values\":[0.4235082247366586,0.640835039164487,0.5497683599833417,0.6885931318719715,0.6941997493622704,0.7194393818812695,0.6648478078588671,0.6514032002313517,0.7162768883354099,0.7152614714504432,0.4235082247366586,0.6940962088365159,0.7194524409405971,0.7221131261103811,0.7206378400003233,0.7181680010953786,0.6988899958310372,0.5849814465185031,0.47097755131218644,0.4284020736184918,0.47122869848972265,0.4235082247366586,0.4790685547775979,0.7248379941522243,0.724346622970858,0.7251278483895267,0.726970179529222,0.6975736269547695,0.7263206859395505,0.7220718485773239,0.7259288184014425,0.7019187852580383,0.7289447197157026,0.7187478336546401,0.7213518805860777,0.7201417217484783,0.714713572780657,0.7154346477616434,0.7223501116234192,0.7208188997879882,0.7206229143016124,0.7203639978943703,0.7191016285993673,0.7231042528227676,0.7209036282423686,0.7236103217233776,0.7238383242644512,0.7210900965301268,0.7244431145538057,0.7269009522459295,0.7259415895784073,0.7286778417784074,0.7210439623057472,0.7229642455967704,0.7122437936847099,0.7096112656440379,0.7134501402816293,0.7231973035971189,0.7111276026277978,0.7107530742026099,0.7254476589017147,0.7181199498130864,0.7154959998766774,0.7213720741290901,0.7224989954202989,0.7057783738831945,0.7227371679973711,0.7001037353398184,0.7258637858108818,0.7266467479869563,0.7223982381211502,0.7050884758783729,0.7254720957889224,0.7270522671597371,0.7277937865586865,0.7050942599905525,0.7179225940516528,0.7277902269285773,0.7276808971898691,0.728038684878449,0.7259474002242785,0.7277382879407399,0.7288557396416898,0.7143842997112081,0.716590357255997,0.7220335692555306,0.7202365632198156,0.7152940675359618,0.7292286701133692,0.7195171322752909,0.7211358010892612,0.7307756224362125,0.7293879213949506,0.7296384701818301,0.7213218917691961,0.7265861735554116,0.7300895530613211,0.7191011948250906,0.7181269451139661,0.7190080843194078]},{\"label\":\"boosting_type\",\"range\":[0,1],\"ticktext\":[\"dart\",\"gbdt\"],\"tickvals\":[0,1],\"values\":[0,1,0,1,1,1,1,1,1,1,1,0,0,0,1,1,0,0,0,0,0,0,0,0,0,0,0,0,0,0,0,0,0,0,0,0,0,0,0,0,0,0,0,0,0,0,0,0,0,0,0,0,0,0,1,1,1,1,1,1,1,1,1,0,0,0,0,0,0,0,0,0,0,0,0,0,0,0,0,0,0,0,0,0,0,0,0,0,0,0,0,0,0,0,0,0,0,0,0,0]},{\"label\":\"learning_rate\",\"range\":[-3.7229753099586183,-0.3518064409690755],\"ticktext\":[\"0.000189\",\"0.001\",\"0.01\",\"0.1\",\"0.445\"],\"tickvals\":[-3.7229753099586183,-3,-2,-1,-0.3518064409690755],\"values\":[-3.7229753099586183,-2.0391811785236906,-2.771130508721015,-0.3518064409690755,-0.5066384531041568,-1.7720446695148229,-1.5465852834566787,-2.5872005890041816,-1.0971563940965665,-1.6120805583970168,-3.2545997497393904,-0.38731473412015793,-1.979626407727197,-1.3142483970388528,-2.069753919060861,-1.6751346487663112,-2.084173116183078,-2.5151400871829224,-2.6883637034310044,-2.589458777783689,-2.658161114114198,-2.7619178650175393,-2.7172417782219385,-1.3180764094662027,-1.2356222009949296,-1.1260489002146852,-1.1151018321544377,-1.2052435530917271,-1.2076289564700635,-1.1797590595812286,-1.171398363356797,-1.1752049828301008,-1.0315710953273953,-0.7039816230403453,-0.863428411817379,-0.70530911603978,-0.8231695815296514,-0.7038284452127397,-0.7964527164348018,-0.8444255854092253,-0.8231780565240491,-0.8115788641494083,-0.6520197774312725,-0.9110991053725904,-0.9562078524733215,-1.4550977267541059,-1.467813417554765,-0.9934065964097646,-1.4219801105807508,-1.0221605714549977,-1.4635245441116262,-1.0319925143614268,-1.0286116444277151,-1.4365605853439454,-0.998116194814401,-1.03227459375787,-1.0628746768727613,-1.8342112319637274,-1.0084812615740104,-1.0342067924318552,-1.6146717906105539,-1.7208018388589275,-1.7565760400028654,-1.7533611685747055,-1.7205582848209593,-0.5084866991897856,-1.5420099024788423,-0.5268206419650925,-1.3079016206543224,-1.556510571530648,-1.3214678562721631,-0.5042121392338672,-1.538225766770534,-1.2850053635206709,-1.315005443569439,-1.3224609942178513,-1.3066700629201606,-1.3447323036582628,-1.314781997234553,-1.2830281531845016,-1.3024630372167596,-1.2601260128357128,-1.1254819875949413,-1.135074302245312,-1.1379303826078093,-1.2834800259376926,-1.1596676296061181,-1.121645634489885,-1.136976290512149,-1.1566828900562702,-1.1236250439325606,-1.127224037759539,-0.9261321328587762,-1.242459678442067,-0.9345550351190066,-1.4031667268409793,-0.9253922700477926,-0.8734193763525436,-0.9621030828175832,-0.8830239458193492]},{\"label\":\"n_estimators\",\"range\":[40,400],\"values\":[40,100,380,140,80,200,40,360,60,100,280,240,320,300,380,300,260,400,360,380,380,380,380,340,340,340,340,340,340,320,320,320,200,180,160,180,200,200,200,200,220,220,220,220,240,240,240,240,260,260,260,260,280,280,280,300,280,280,260,280,280,140,140,300,300,300,300,360,360,360,320,320,400,400,400,400,400,400,400,400,400,400,400,400,400,400,400,400,400,380,380,380,380,380,380,380,380,380,380,380]},{\"label\":\"num_leaves\",\"range\":[2,249],\"values\":[25,223,78,225,105,132,19,249,132,143,42,184,177,4,58,187,107,77,72,66,62,55,56,5,46,3,10,2,15,3,4,2,7,29,32,32,37,33,27,28,27,22,20,22,20,16,18,97,15,15,16,16,45,100,104,46,88,108,91,46,46,12,42,154,157,160,50,221,12,11,152,221,169,11,10,234,218,10,11,9,11,9,8,37,37,38,36,36,7,36,36,6,7,6,26,6,7,25,23,24]}],\"labelangle\":30,\"labelside\":\"bottom\",\"line\":{\"color\":[0.4235082247366586,0.640835039164487,0.5497683599833417,0.6885931318719715,0.6941997493622704,0.7194393818812695,0.6648478078588671,0.6514032002313517,0.7162768883354099,0.7152614714504432,0.4235082247366586,0.6940962088365159,0.7194524409405971,0.7221131261103811,0.7206378400003233,0.7181680010953786,0.6988899958310372,0.5849814465185031,0.47097755131218644,0.4284020736184918,0.47122869848972265,0.4235082247366586,0.4790685547775979,0.7248379941522243,0.724346622970858,0.7251278483895267,0.726970179529222,0.6975736269547695,0.7263206859395505,0.7220718485773239,0.7259288184014425,0.7019187852580383,0.7289447197157026,0.7187478336546401,0.7213518805860777,0.7201417217484783,0.714713572780657,0.7154346477616434,0.7223501116234192,0.7208188997879882,0.7206229143016124,0.7203639978943703,0.7191016285993673,0.7231042528227676,0.7209036282423686,0.7236103217233776,0.7238383242644512,0.7210900965301268,0.7244431145538057,0.7269009522459295,0.7259415895784073,0.7286778417784074,0.7210439623057472,0.7229642455967704,0.7122437936847099,0.7096112656440379,0.7134501402816293,0.7231973035971189,0.7111276026277978,0.7107530742026099,0.7254476589017147,0.7181199498130864,0.7154959998766774,0.7213720741290901,0.7224989954202989,0.7057783738831945,0.7227371679973711,0.7001037353398184,0.7258637858108818,0.7266467479869563,0.7223982381211502,0.7050884758783729,0.7254720957889224,0.7270522671597371,0.7277937865586865,0.7050942599905525,0.7179225940516528,0.7277902269285773,0.7276808971898691,0.728038684878449,0.7259474002242785,0.7277382879407399,0.7288557396416898,0.7143842997112081,0.716590357255997,0.7220335692555306,0.7202365632198156,0.7152940675359618,0.7292286701133692,0.7195171322752909,0.7211358010892612,0.7307756224362125,0.7293879213949506,0.7296384701818301,0.7213218917691961,0.7265861735554116,0.7300895530613211,0.7191011948250906,0.7181269451139661,0.7190080843194078],\"colorbar\":{\"title\":{\"text\":\"Objective Value\"}},\"colorscale\":[[0.0,\"rgb(247,251,255)\"],[0.125,\"rgb(222,235,247)\"],[0.25,\"rgb(198,219,239)\"],[0.375,\"rgb(158,202,225)\"],[0.5,\"rgb(107,174,214)\"],[0.625,\"rgb(66,146,198)\"],[0.75,\"rgb(33,113,181)\"],[0.875,\"rgb(8,81,156)\"],[1.0,\"rgb(8,48,107)\"]],\"reversescale\":false,\"showscale\":true},\"type\":\"parcoords\"}],                        {\"title\":{\"text\":\"Parallel Coordinate Plot\"},\"template\":{\"data\":{\"histogram2dcontour\":[{\"type\":\"histogram2dcontour\",\"colorbar\":{\"outlinewidth\":0,\"ticks\":\"\"},\"colorscale\":[[0.0,\"#0d0887\"],[0.1111111111111111,\"#46039f\"],[0.2222222222222222,\"#7201a8\"],[0.3333333333333333,\"#9c179e\"],[0.4444444444444444,\"#bd3786\"],[0.5555555555555556,\"#d8576b\"],[0.6666666666666666,\"#ed7953\"],[0.7777777777777778,\"#fb9f3a\"],[0.8888888888888888,\"#fdca26\"],[1.0,\"#f0f921\"]]}],\"choropleth\":[{\"type\":\"choropleth\",\"colorbar\":{\"outlinewidth\":0,\"ticks\":\"\"}}],\"histogram2d\":[{\"type\":\"histogram2d\",\"colorbar\":{\"outlinewidth\":0,\"ticks\":\"\"},\"colorscale\":[[0.0,\"#0d0887\"],[0.1111111111111111,\"#46039f\"],[0.2222222222222222,\"#7201a8\"],[0.3333333333333333,\"#9c179e\"],[0.4444444444444444,\"#bd3786\"],[0.5555555555555556,\"#d8576b\"],[0.6666666666666666,\"#ed7953\"],[0.7777777777777778,\"#fb9f3a\"],[0.8888888888888888,\"#fdca26\"],[1.0,\"#f0f921\"]]}],\"heatmap\":[{\"type\":\"heatmap\",\"colorbar\":{\"outlinewidth\":0,\"ticks\":\"\"},\"colorscale\":[[0.0,\"#0d0887\"],[0.1111111111111111,\"#46039f\"],[0.2222222222222222,\"#7201a8\"],[0.3333333333333333,\"#9c179e\"],[0.4444444444444444,\"#bd3786\"],[0.5555555555555556,\"#d8576b\"],[0.6666666666666666,\"#ed7953\"],[0.7777777777777778,\"#fb9f3a\"],[0.8888888888888888,\"#fdca26\"],[1.0,\"#f0f921\"]]}],\"heatmapgl\":[{\"type\":\"heatmapgl\",\"colorbar\":{\"outlinewidth\":0,\"ticks\":\"\"},\"colorscale\":[[0.0,\"#0d0887\"],[0.1111111111111111,\"#46039f\"],[0.2222222222222222,\"#7201a8\"],[0.3333333333333333,\"#9c179e\"],[0.4444444444444444,\"#bd3786\"],[0.5555555555555556,\"#d8576b\"],[0.6666666666666666,\"#ed7953\"],[0.7777777777777778,\"#fb9f3a\"],[0.8888888888888888,\"#fdca26\"],[1.0,\"#f0f921\"]]}],\"contourcarpet\":[{\"type\":\"contourcarpet\",\"colorbar\":{\"outlinewidth\":0,\"ticks\":\"\"}}],\"contour\":[{\"type\":\"contour\",\"colorbar\":{\"outlinewidth\":0,\"ticks\":\"\"},\"colorscale\":[[0.0,\"#0d0887\"],[0.1111111111111111,\"#46039f\"],[0.2222222222222222,\"#7201a8\"],[0.3333333333333333,\"#9c179e\"],[0.4444444444444444,\"#bd3786\"],[0.5555555555555556,\"#d8576b\"],[0.6666666666666666,\"#ed7953\"],[0.7777777777777778,\"#fb9f3a\"],[0.8888888888888888,\"#fdca26\"],[1.0,\"#f0f921\"]]}],\"surface\":[{\"type\":\"surface\",\"colorbar\":{\"outlinewidth\":0,\"ticks\":\"\"},\"colorscale\":[[0.0,\"#0d0887\"],[0.1111111111111111,\"#46039f\"],[0.2222222222222222,\"#7201a8\"],[0.3333333333333333,\"#9c179e\"],[0.4444444444444444,\"#bd3786\"],[0.5555555555555556,\"#d8576b\"],[0.6666666666666666,\"#ed7953\"],[0.7777777777777778,\"#fb9f3a\"],[0.8888888888888888,\"#fdca26\"],[1.0,\"#f0f921\"]]}],\"mesh3d\":[{\"type\":\"mesh3d\",\"colorbar\":{\"outlinewidth\":0,\"ticks\":\"\"}}],\"scatter\":[{\"fillpattern\":{\"fillmode\":\"overlay\",\"size\":10,\"solidity\":0.2},\"type\":\"scatter\"}],\"parcoords\":[{\"type\":\"parcoords\",\"line\":{\"colorbar\":{\"outlinewidth\":0,\"ticks\":\"\"}}}],\"scatterpolargl\":[{\"type\":\"scatterpolargl\",\"marker\":{\"colorbar\":{\"outlinewidth\":0,\"ticks\":\"\"}}}],\"bar\":[{\"error_x\":{\"color\":\"#2a3f5f\"},\"error_y\":{\"color\":\"#2a3f5f\"},\"marker\":{\"line\":{\"color\":\"#E5ECF6\",\"width\":0.5},\"pattern\":{\"fillmode\":\"overlay\",\"size\":10,\"solidity\":0.2}},\"type\":\"bar\"}],\"scattergeo\":[{\"type\":\"scattergeo\",\"marker\":{\"colorbar\":{\"outlinewidth\":0,\"ticks\":\"\"}}}],\"scatterpolar\":[{\"type\":\"scatterpolar\",\"marker\":{\"colorbar\":{\"outlinewidth\":0,\"ticks\":\"\"}}}],\"histogram\":[{\"marker\":{\"pattern\":{\"fillmode\":\"overlay\",\"size\":10,\"solidity\":0.2}},\"type\":\"histogram\"}],\"scattergl\":[{\"type\":\"scattergl\",\"marker\":{\"colorbar\":{\"outlinewidth\":0,\"ticks\":\"\"}}}],\"scatter3d\":[{\"type\":\"scatter3d\",\"line\":{\"colorbar\":{\"outlinewidth\":0,\"ticks\":\"\"}},\"marker\":{\"colorbar\":{\"outlinewidth\":0,\"ticks\":\"\"}}}],\"scattermapbox\":[{\"type\":\"scattermapbox\",\"marker\":{\"colorbar\":{\"outlinewidth\":0,\"ticks\":\"\"}}}],\"scatterternary\":[{\"type\":\"scatterternary\",\"marker\":{\"colorbar\":{\"outlinewidth\":0,\"ticks\":\"\"}}}],\"scattercarpet\":[{\"type\":\"scattercarpet\",\"marker\":{\"colorbar\":{\"outlinewidth\":0,\"ticks\":\"\"}}}],\"carpet\":[{\"aaxis\":{\"endlinecolor\":\"#2a3f5f\",\"gridcolor\":\"white\",\"linecolor\":\"white\",\"minorgridcolor\":\"white\",\"startlinecolor\":\"#2a3f5f\"},\"baxis\":{\"endlinecolor\":\"#2a3f5f\",\"gridcolor\":\"white\",\"linecolor\":\"white\",\"minorgridcolor\":\"white\",\"startlinecolor\":\"#2a3f5f\"},\"type\":\"carpet\"}],\"table\":[{\"cells\":{\"fill\":{\"color\":\"#EBF0F8\"},\"line\":{\"color\":\"white\"}},\"header\":{\"fill\":{\"color\":\"#C8D4E3\"},\"line\":{\"color\":\"white\"}},\"type\":\"table\"}],\"barpolar\":[{\"marker\":{\"line\":{\"color\":\"#E5ECF6\",\"width\":0.5},\"pattern\":{\"fillmode\":\"overlay\",\"size\":10,\"solidity\":0.2}},\"type\":\"barpolar\"}],\"pie\":[{\"automargin\":true,\"type\":\"pie\"}]},\"layout\":{\"autotypenumbers\":\"strict\",\"colorway\":[\"#636efa\",\"#EF553B\",\"#00cc96\",\"#ab63fa\",\"#FFA15A\",\"#19d3f3\",\"#FF6692\",\"#B6E880\",\"#FF97FF\",\"#FECB52\"],\"font\":{\"color\":\"#2a3f5f\"},\"hovermode\":\"closest\",\"hoverlabel\":{\"align\":\"left\"},\"paper_bgcolor\":\"white\",\"plot_bgcolor\":\"#E5ECF6\",\"polar\":{\"bgcolor\":\"#E5ECF6\",\"angularaxis\":{\"gridcolor\":\"white\",\"linecolor\":\"white\",\"ticks\":\"\"},\"radialaxis\":{\"gridcolor\":\"white\",\"linecolor\":\"white\",\"ticks\":\"\"}},\"ternary\":{\"bgcolor\":\"#E5ECF6\",\"aaxis\":{\"gridcolor\":\"white\",\"linecolor\":\"white\",\"ticks\":\"\"},\"baxis\":{\"gridcolor\":\"white\",\"linecolor\":\"white\",\"ticks\":\"\"},\"caxis\":{\"gridcolor\":\"white\",\"linecolor\":\"white\",\"ticks\":\"\"}},\"coloraxis\":{\"colorbar\":{\"outlinewidth\":0,\"ticks\":\"\"}},\"colorscale\":{\"sequential\":[[0.0,\"#0d0887\"],[0.1111111111111111,\"#46039f\"],[0.2222222222222222,\"#7201a8\"],[0.3333333333333333,\"#9c179e\"],[0.4444444444444444,\"#bd3786\"],[0.5555555555555556,\"#d8576b\"],[0.6666666666666666,\"#ed7953\"],[0.7777777777777778,\"#fb9f3a\"],[0.8888888888888888,\"#fdca26\"],[1.0,\"#f0f921\"]],\"sequentialminus\":[[0.0,\"#0d0887\"],[0.1111111111111111,\"#46039f\"],[0.2222222222222222,\"#7201a8\"],[0.3333333333333333,\"#9c179e\"],[0.4444444444444444,\"#bd3786\"],[0.5555555555555556,\"#d8576b\"],[0.6666666666666666,\"#ed7953\"],[0.7777777777777778,\"#fb9f3a\"],[0.8888888888888888,\"#fdca26\"],[1.0,\"#f0f921\"]],\"diverging\":[[0,\"#8e0152\"],[0.1,\"#c51b7d\"],[0.2,\"#de77ae\"],[0.3,\"#f1b6da\"],[0.4,\"#fde0ef\"],[0.5,\"#f7f7f7\"],[0.6,\"#e6f5d0\"],[0.7,\"#b8e186\"],[0.8,\"#7fbc41\"],[0.9,\"#4d9221\"],[1,\"#276419\"]]},\"xaxis\":{\"gridcolor\":\"white\",\"linecolor\":\"white\",\"ticks\":\"\",\"title\":{\"standoff\":15},\"zerolinecolor\":\"white\",\"automargin\":true,\"zerolinewidth\":2},\"yaxis\":{\"gridcolor\":\"white\",\"linecolor\":\"white\",\"ticks\":\"\",\"title\":{\"standoff\":15},\"zerolinecolor\":\"white\",\"automargin\":true,\"zerolinewidth\":2},\"scene\":{\"xaxis\":{\"backgroundcolor\":\"#E5ECF6\",\"gridcolor\":\"white\",\"linecolor\":\"white\",\"showbackground\":true,\"ticks\":\"\",\"zerolinecolor\":\"white\",\"gridwidth\":2},\"yaxis\":{\"backgroundcolor\":\"#E5ECF6\",\"gridcolor\":\"white\",\"linecolor\":\"white\",\"showbackground\":true,\"ticks\":\"\",\"zerolinecolor\":\"white\",\"gridwidth\":2},\"zaxis\":{\"backgroundcolor\":\"#E5ECF6\",\"gridcolor\":\"white\",\"linecolor\":\"white\",\"showbackground\":true,\"ticks\":\"\",\"zerolinecolor\":\"white\",\"gridwidth\":2}},\"shapedefaults\":{\"line\":{\"color\":\"#2a3f5f\"}},\"annotationdefaults\":{\"arrowcolor\":\"#2a3f5f\",\"arrowhead\":0,\"arrowwidth\":1},\"geo\":{\"bgcolor\":\"white\",\"landcolor\":\"#E5ECF6\",\"subunitcolor\":\"white\",\"showland\":true,\"showlakes\":true,\"lakecolor\":\"white\"},\"title\":{\"x\":0.05},\"mapbox\":{\"style\":\"light\"}}}},                        {\"responsive\": true}                    ).then(function(){\n                            \nvar gd = document.getElementById('e8c7daa8-edae-4c2f-b9b6-cbb6568a985c');\nvar x = new MutationObserver(function (mutations, observer) {{\n        var display = window.getComputedStyle(gd).display;\n        if (!display || display === 'none') {{\n            console.log([gd, 'removed!']);\n            Plotly.purge(gd);\n            observer.disconnect();\n        }}\n}});\n\n// Listen for the removal of the full notebook cells\nvar notebookContainer = gd.closest('#notebook-container');\nif (notebookContainer) {{\n    x.observe(notebookContainer, {childList: true});\n}}\n\n// Listen for the clearing of the current output cell\nvar outputEl = gd.closest('.output');\nif (outputEl) {{\n    x.observe(outputEl, {childList: true});\n}}\n\n                        })                };                });            </script>        </div>"
     },
     "metadata": {},
     "output_type": "display_data"
    }
   ],
   "source": [
    "fig = optuna.visualization.plot_parallel_coordinate(study, params=[\"boosting_type\", \"num_leaves\", \"learning_rate\", \"n_estimators\"])\n",
    "fig.write_image(file=\"figures/ch5_parallel_coordinates.png\", format=\"png\", scale=6)\n",
    "fig.show()"
   ],
   "metadata": {
    "collapsed": false,
    "ExecuteTime": {
     "start_time": "2023-04-27T13:10:01.799386Z",
     "end_time": "2023-04-27T13:10:19.070931Z"
    }
   }
  },
  {
   "cell_type": "code",
   "execution_count": 17,
   "outputs": [
    {
     "data": {
      "application/vnd.plotly.v1+json": {
       "data": [
        {
         "cliponaxis": false,
         "hovertemplate": [
          "lambda_l1 (FloatDistribution): 0.00023800073319757786<extra></extra>",
          "max_bin (IntDistribution): 0.0014086178148205886<extra></extra>",
          "bagging_freq (IntDistribution): 0.0014757246971956156<extra></extra>",
          "lambda_l2 (FloatDistribution): 0.0016403859887127966<extra></extra>",
          "boosting_type (CategoricalDistribution): 0.004994426764307713<extra></extra>",
          "bagging_fraction (FloatDistribution): 0.02824005365312548<extra></extra>",
          "min_child_samples (IntDistribution): 0.04433387838313496<extra></extra>",
          "feature_fraction (FloatDistribution): 0.0450933927778852<extra></extra>",
          "n_estimators (IntDistribution): 0.04849231597300969<extra></extra>",
          "num_leaves (IntDistribution): 0.08554820153027676<extra></extra>",
          "learning_rate (FloatDistribution): 0.7385350016843338<extra></extra>"
         ],
         "marker": {
          "color": "rgb(66,146,198)"
         },
         "orientation": "h",
         "text": [
          "<0.01",
          "<0.01",
          "<0.01",
          "<0.01",
          "<0.01",
          "0.03",
          "0.04",
          "0.05",
          "0.05",
          "0.09",
          "0.74"
         ],
         "textposition": "outside",
         "x": [
          2.3800073319757786E-4,
          0.0014086178148205886,
          0.0014757246971956156,
          0.0016403859887127966,
          0.004994426764307713,
          0.02824005365312548,
          0.04433387838313496,
          0.0450933927778852,
          0.04849231597300969,
          0.08554820153027676,
          0.7385350016843338
         ],
         "y": [
          "lambda_l1",
          "max_bin",
          "bagging_freq",
          "lambda_l2",
          "boosting_type",
          "bagging_fraction",
          "min_child_samples",
          "feature_fraction",
          "n_estimators",
          "num_leaves",
          "learning_rate"
         ],
         "type": "bar"
        }
       ],
       "layout": {
        "showlegend": false,
        "title": {
         "text": "Hyperparameter Importances"
        },
        "xaxis": {
         "title": {
          "text": "Importance for Objective Value"
         }
        },
        "yaxis": {
         "title": {
          "text": "Hyperparameter"
         }
        },
        "template": {
         "data": {
          "histogram2dcontour": [
           {
            "type": "histogram2dcontour",
            "colorbar": {
             "outlinewidth": 0,
             "ticks": ""
            },
            "colorscale": [
             [
              0.0,
              "#0d0887"
             ],
             [
              0.1111111111111111,
              "#46039f"
             ],
             [
              0.2222222222222222,
              "#7201a8"
             ],
             [
              0.3333333333333333,
              "#9c179e"
             ],
             [
              0.4444444444444444,
              "#bd3786"
             ],
             [
              0.5555555555555556,
              "#d8576b"
             ],
             [
              0.6666666666666666,
              "#ed7953"
             ],
             [
              0.7777777777777778,
              "#fb9f3a"
             ],
             [
              0.8888888888888888,
              "#fdca26"
             ],
             [
              1.0,
              "#f0f921"
             ]
            ]
           }
          ],
          "choropleth": [
           {
            "type": "choropleth",
            "colorbar": {
             "outlinewidth": 0,
             "ticks": ""
            }
           }
          ],
          "histogram2d": [
           {
            "type": "histogram2d",
            "colorbar": {
             "outlinewidth": 0,
             "ticks": ""
            },
            "colorscale": [
             [
              0.0,
              "#0d0887"
             ],
             [
              0.1111111111111111,
              "#46039f"
             ],
             [
              0.2222222222222222,
              "#7201a8"
             ],
             [
              0.3333333333333333,
              "#9c179e"
             ],
             [
              0.4444444444444444,
              "#bd3786"
             ],
             [
              0.5555555555555556,
              "#d8576b"
             ],
             [
              0.6666666666666666,
              "#ed7953"
             ],
             [
              0.7777777777777778,
              "#fb9f3a"
             ],
             [
              0.8888888888888888,
              "#fdca26"
             ],
             [
              1.0,
              "#f0f921"
             ]
            ]
           }
          ],
          "heatmap": [
           {
            "type": "heatmap",
            "colorbar": {
             "outlinewidth": 0,
             "ticks": ""
            },
            "colorscale": [
             [
              0.0,
              "#0d0887"
             ],
             [
              0.1111111111111111,
              "#46039f"
             ],
             [
              0.2222222222222222,
              "#7201a8"
             ],
             [
              0.3333333333333333,
              "#9c179e"
             ],
             [
              0.4444444444444444,
              "#bd3786"
             ],
             [
              0.5555555555555556,
              "#d8576b"
             ],
             [
              0.6666666666666666,
              "#ed7953"
             ],
             [
              0.7777777777777778,
              "#fb9f3a"
             ],
             [
              0.8888888888888888,
              "#fdca26"
             ],
             [
              1.0,
              "#f0f921"
             ]
            ]
           }
          ],
          "heatmapgl": [
           {
            "type": "heatmapgl",
            "colorbar": {
             "outlinewidth": 0,
             "ticks": ""
            },
            "colorscale": [
             [
              0.0,
              "#0d0887"
             ],
             [
              0.1111111111111111,
              "#46039f"
             ],
             [
              0.2222222222222222,
              "#7201a8"
             ],
             [
              0.3333333333333333,
              "#9c179e"
             ],
             [
              0.4444444444444444,
              "#bd3786"
             ],
             [
              0.5555555555555556,
              "#d8576b"
             ],
             [
              0.6666666666666666,
              "#ed7953"
             ],
             [
              0.7777777777777778,
              "#fb9f3a"
             ],
             [
              0.8888888888888888,
              "#fdca26"
             ],
             [
              1.0,
              "#f0f921"
             ]
            ]
           }
          ],
          "contourcarpet": [
           {
            "type": "contourcarpet",
            "colorbar": {
             "outlinewidth": 0,
             "ticks": ""
            }
           }
          ],
          "contour": [
           {
            "type": "contour",
            "colorbar": {
             "outlinewidth": 0,
             "ticks": ""
            },
            "colorscale": [
             [
              0.0,
              "#0d0887"
             ],
             [
              0.1111111111111111,
              "#46039f"
             ],
             [
              0.2222222222222222,
              "#7201a8"
             ],
             [
              0.3333333333333333,
              "#9c179e"
             ],
             [
              0.4444444444444444,
              "#bd3786"
             ],
             [
              0.5555555555555556,
              "#d8576b"
             ],
             [
              0.6666666666666666,
              "#ed7953"
             ],
             [
              0.7777777777777778,
              "#fb9f3a"
             ],
             [
              0.8888888888888888,
              "#fdca26"
             ],
             [
              1.0,
              "#f0f921"
             ]
            ]
           }
          ],
          "surface": [
           {
            "type": "surface",
            "colorbar": {
             "outlinewidth": 0,
             "ticks": ""
            },
            "colorscale": [
             [
              0.0,
              "#0d0887"
             ],
             [
              0.1111111111111111,
              "#46039f"
             ],
             [
              0.2222222222222222,
              "#7201a8"
             ],
             [
              0.3333333333333333,
              "#9c179e"
             ],
             [
              0.4444444444444444,
              "#bd3786"
             ],
             [
              0.5555555555555556,
              "#d8576b"
             ],
             [
              0.6666666666666666,
              "#ed7953"
             ],
             [
              0.7777777777777778,
              "#fb9f3a"
             ],
             [
              0.8888888888888888,
              "#fdca26"
             ],
             [
              1.0,
              "#f0f921"
             ]
            ]
           }
          ],
          "mesh3d": [
           {
            "type": "mesh3d",
            "colorbar": {
             "outlinewidth": 0,
             "ticks": ""
            }
           }
          ],
          "scatter": [
           {
            "fillpattern": {
             "fillmode": "overlay",
             "size": 10,
             "solidity": 0.2
            },
            "type": "scatter"
           }
          ],
          "parcoords": [
           {
            "type": "parcoords",
            "line": {
             "colorbar": {
              "outlinewidth": 0,
              "ticks": ""
             }
            }
           }
          ],
          "scatterpolargl": [
           {
            "type": "scatterpolargl",
            "marker": {
             "colorbar": {
              "outlinewidth": 0,
              "ticks": ""
             }
            }
           }
          ],
          "bar": [
           {
            "error_x": {
             "color": "#2a3f5f"
            },
            "error_y": {
             "color": "#2a3f5f"
            },
            "marker": {
             "line": {
              "color": "#E5ECF6",
              "width": 0.5
             },
             "pattern": {
              "fillmode": "overlay",
              "size": 10,
              "solidity": 0.2
             }
            },
            "type": "bar"
           }
          ],
          "scattergeo": [
           {
            "type": "scattergeo",
            "marker": {
             "colorbar": {
              "outlinewidth": 0,
              "ticks": ""
             }
            }
           }
          ],
          "scatterpolar": [
           {
            "type": "scatterpolar",
            "marker": {
             "colorbar": {
              "outlinewidth": 0,
              "ticks": ""
             }
            }
           }
          ],
          "histogram": [
           {
            "marker": {
             "pattern": {
              "fillmode": "overlay",
              "size": 10,
              "solidity": 0.2
             }
            },
            "type": "histogram"
           }
          ],
          "scattergl": [
           {
            "type": "scattergl",
            "marker": {
             "colorbar": {
              "outlinewidth": 0,
              "ticks": ""
             }
            }
           }
          ],
          "scatter3d": [
           {
            "type": "scatter3d",
            "line": {
             "colorbar": {
              "outlinewidth": 0,
              "ticks": ""
             }
            },
            "marker": {
             "colorbar": {
              "outlinewidth": 0,
              "ticks": ""
             }
            }
           }
          ],
          "scattermapbox": [
           {
            "type": "scattermapbox",
            "marker": {
             "colorbar": {
              "outlinewidth": 0,
              "ticks": ""
             }
            }
           }
          ],
          "scatterternary": [
           {
            "type": "scatterternary",
            "marker": {
             "colorbar": {
              "outlinewidth": 0,
              "ticks": ""
             }
            }
           }
          ],
          "scattercarpet": [
           {
            "type": "scattercarpet",
            "marker": {
             "colorbar": {
              "outlinewidth": 0,
              "ticks": ""
             }
            }
           }
          ],
          "carpet": [
           {
            "aaxis": {
             "endlinecolor": "#2a3f5f",
             "gridcolor": "white",
             "linecolor": "white",
             "minorgridcolor": "white",
             "startlinecolor": "#2a3f5f"
            },
            "baxis": {
             "endlinecolor": "#2a3f5f",
             "gridcolor": "white",
             "linecolor": "white",
             "minorgridcolor": "white",
             "startlinecolor": "#2a3f5f"
            },
            "type": "carpet"
           }
          ],
          "table": [
           {
            "cells": {
             "fill": {
              "color": "#EBF0F8"
             },
             "line": {
              "color": "white"
             }
            },
            "header": {
             "fill": {
              "color": "#C8D4E3"
             },
             "line": {
              "color": "white"
             }
            },
            "type": "table"
           }
          ],
          "barpolar": [
           {
            "marker": {
             "line": {
              "color": "#E5ECF6",
              "width": 0.5
             },
             "pattern": {
              "fillmode": "overlay",
              "size": 10,
              "solidity": 0.2
             }
            },
            "type": "barpolar"
           }
          ],
          "pie": [
           {
            "automargin": true,
            "type": "pie"
           }
          ]
         },
         "layout": {
          "autotypenumbers": "strict",
          "colorway": [
           "#636efa",
           "#EF553B",
           "#00cc96",
           "#ab63fa",
           "#FFA15A",
           "#19d3f3",
           "#FF6692",
           "#B6E880",
           "#FF97FF",
           "#FECB52"
          ],
          "font": {
           "color": "#2a3f5f"
          },
          "hovermode": "closest",
          "hoverlabel": {
           "align": "left"
          },
          "paper_bgcolor": "white",
          "plot_bgcolor": "#E5ECF6",
          "polar": {
           "bgcolor": "#E5ECF6",
           "angularaxis": {
            "gridcolor": "white",
            "linecolor": "white",
            "ticks": ""
           },
           "radialaxis": {
            "gridcolor": "white",
            "linecolor": "white",
            "ticks": ""
           }
          },
          "ternary": {
           "bgcolor": "#E5ECF6",
           "aaxis": {
            "gridcolor": "white",
            "linecolor": "white",
            "ticks": ""
           },
           "baxis": {
            "gridcolor": "white",
            "linecolor": "white",
            "ticks": ""
           },
           "caxis": {
            "gridcolor": "white",
            "linecolor": "white",
            "ticks": ""
           }
          },
          "coloraxis": {
           "colorbar": {
            "outlinewidth": 0,
            "ticks": ""
           }
          },
          "colorscale": {
           "sequential": [
            [
             0.0,
             "#0d0887"
            ],
            [
             0.1111111111111111,
             "#46039f"
            ],
            [
             0.2222222222222222,
             "#7201a8"
            ],
            [
             0.3333333333333333,
             "#9c179e"
            ],
            [
             0.4444444444444444,
             "#bd3786"
            ],
            [
             0.5555555555555556,
             "#d8576b"
            ],
            [
             0.6666666666666666,
             "#ed7953"
            ],
            [
             0.7777777777777778,
             "#fb9f3a"
            ],
            [
             0.8888888888888888,
             "#fdca26"
            ],
            [
             1.0,
             "#f0f921"
            ]
           ],
           "sequentialminus": [
            [
             0.0,
             "#0d0887"
            ],
            [
             0.1111111111111111,
             "#46039f"
            ],
            [
             0.2222222222222222,
             "#7201a8"
            ],
            [
             0.3333333333333333,
             "#9c179e"
            ],
            [
             0.4444444444444444,
             "#bd3786"
            ],
            [
             0.5555555555555556,
             "#d8576b"
            ],
            [
             0.6666666666666666,
             "#ed7953"
            ],
            [
             0.7777777777777778,
             "#fb9f3a"
            ],
            [
             0.8888888888888888,
             "#fdca26"
            ],
            [
             1.0,
             "#f0f921"
            ]
           ],
           "diverging": [
            [
             0,
             "#8e0152"
            ],
            [
             0.1,
             "#c51b7d"
            ],
            [
             0.2,
             "#de77ae"
            ],
            [
             0.3,
             "#f1b6da"
            ],
            [
             0.4,
             "#fde0ef"
            ],
            [
             0.5,
             "#f7f7f7"
            ],
            [
             0.6,
             "#e6f5d0"
            ],
            [
             0.7,
             "#b8e186"
            ],
            [
             0.8,
             "#7fbc41"
            ],
            [
             0.9,
             "#4d9221"
            ],
            [
             1,
             "#276419"
            ]
           ]
          },
          "xaxis": {
           "gridcolor": "white",
           "linecolor": "white",
           "ticks": "",
           "title": {
            "standoff": 15
           },
           "zerolinecolor": "white",
           "automargin": true,
           "zerolinewidth": 2
          },
          "yaxis": {
           "gridcolor": "white",
           "linecolor": "white",
           "ticks": "",
           "title": {
            "standoff": 15
           },
           "zerolinecolor": "white",
           "automargin": true,
           "zerolinewidth": 2
          },
          "scene": {
           "xaxis": {
            "backgroundcolor": "#E5ECF6",
            "gridcolor": "white",
            "linecolor": "white",
            "showbackground": true,
            "ticks": "",
            "zerolinecolor": "white",
            "gridwidth": 2
           },
           "yaxis": {
            "backgroundcolor": "#E5ECF6",
            "gridcolor": "white",
            "linecolor": "white",
            "showbackground": true,
            "ticks": "",
            "zerolinecolor": "white",
            "gridwidth": 2
           },
           "zaxis": {
            "backgroundcolor": "#E5ECF6",
            "gridcolor": "white",
            "linecolor": "white",
            "showbackground": true,
            "ticks": "",
            "zerolinecolor": "white",
            "gridwidth": 2
           }
          },
          "shapedefaults": {
           "line": {
            "color": "#2a3f5f"
           }
          },
          "annotationdefaults": {
           "arrowcolor": "#2a3f5f",
           "arrowhead": 0,
           "arrowwidth": 1
          },
          "geo": {
           "bgcolor": "white",
           "landcolor": "#E5ECF6",
           "subunitcolor": "white",
           "showland": true,
           "showlakes": true,
           "lakecolor": "white"
          },
          "title": {
           "x": 0.05
          },
          "mapbox": {
           "style": "light"
          }
         }
        }
       },
       "config": {
        "plotlyServerURL": "https://plot.ly"
       }
      },
      "text/html": "<div>                            <div id=\"685e5770-a6fe-4afd-887c-83198a197bdb\" class=\"plotly-graph-div\" style=\"height:525px; width:100%;\"></div>            <script type=\"text/javascript\">                require([\"plotly\"], function(Plotly) {                    window.PLOTLYENV=window.PLOTLYENV || {};                                    if (document.getElementById(\"685e5770-a6fe-4afd-887c-83198a197bdb\")) {                    Plotly.newPlot(                        \"685e5770-a6fe-4afd-887c-83198a197bdb\",                        [{\"cliponaxis\":false,\"hovertemplate\":[\"lambda_l1 (FloatDistribution): 0.00023800073319757786<extra></extra>\",\"max_bin (IntDistribution): 0.0014086178148205886<extra></extra>\",\"bagging_freq (IntDistribution): 0.0014757246971956156<extra></extra>\",\"lambda_l2 (FloatDistribution): 0.0016403859887127966<extra></extra>\",\"boosting_type (CategoricalDistribution): 0.004994426764307713<extra></extra>\",\"bagging_fraction (FloatDistribution): 0.02824005365312548<extra></extra>\",\"min_child_samples (IntDistribution): 0.04433387838313496<extra></extra>\",\"feature_fraction (FloatDistribution): 0.0450933927778852<extra></extra>\",\"n_estimators (IntDistribution): 0.04849231597300969<extra></extra>\",\"num_leaves (IntDistribution): 0.08554820153027676<extra></extra>\",\"learning_rate (FloatDistribution): 0.7385350016843338<extra></extra>\"],\"marker\":{\"color\":\"rgb(66,146,198)\"},\"orientation\":\"h\",\"text\":[\"<0.01\",\"<0.01\",\"<0.01\",\"<0.01\",\"<0.01\",\"0.03\",\"0.04\",\"0.05\",\"0.05\",\"0.09\",\"0.74\"],\"textposition\":\"outside\",\"x\":[0.00023800073319757786,0.0014086178148205886,0.0014757246971956156,0.0016403859887127966,0.004994426764307713,0.02824005365312548,0.04433387838313496,0.0450933927778852,0.04849231597300969,0.08554820153027676,0.7385350016843338],\"y\":[\"lambda_l1\",\"max_bin\",\"bagging_freq\",\"lambda_l2\",\"boosting_type\",\"bagging_fraction\",\"min_child_samples\",\"feature_fraction\",\"n_estimators\",\"num_leaves\",\"learning_rate\"],\"type\":\"bar\"}],                        {\"showlegend\":false,\"title\":{\"text\":\"Hyperparameter Importances\"},\"xaxis\":{\"title\":{\"text\":\"Importance for Objective Value\"}},\"yaxis\":{\"title\":{\"text\":\"Hyperparameter\"}},\"template\":{\"data\":{\"histogram2dcontour\":[{\"type\":\"histogram2dcontour\",\"colorbar\":{\"outlinewidth\":0,\"ticks\":\"\"},\"colorscale\":[[0.0,\"#0d0887\"],[0.1111111111111111,\"#46039f\"],[0.2222222222222222,\"#7201a8\"],[0.3333333333333333,\"#9c179e\"],[0.4444444444444444,\"#bd3786\"],[0.5555555555555556,\"#d8576b\"],[0.6666666666666666,\"#ed7953\"],[0.7777777777777778,\"#fb9f3a\"],[0.8888888888888888,\"#fdca26\"],[1.0,\"#f0f921\"]]}],\"choropleth\":[{\"type\":\"choropleth\",\"colorbar\":{\"outlinewidth\":0,\"ticks\":\"\"}}],\"histogram2d\":[{\"type\":\"histogram2d\",\"colorbar\":{\"outlinewidth\":0,\"ticks\":\"\"},\"colorscale\":[[0.0,\"#0d0887\"],[0.1111111111111111,\"#46039f\"],[0.2222222222222222,\"#7201a8\"],[0.3333333333333333,\"#9c179e\"],[0.4444444444444444,\"#bd3786\"],[0.5555555555555556,\"#d8576b\"],[0.6666666666666666,\"#ed7953\"],[0.7777777777777778,\"#fb9f3a\"],[0.8888888888888888,\"#fdca26\"],[1.0,\"#f0f921\"]]}],\"heatmap\":[{\"type\":\"heatmap\",\"colorbar\":{\"outlinewidth\":0,\"ticks\":\"\"},\"colorscale\":[[0.0,\"#0d0887\"],[0.1111111111111111,\"#46039f\"],[0.2222222222222222,\"#7201a8\"],[0.3333333333333333,\"#9c179e\"],[0.4444444444444444,\"#bd3786\"],[0.5555555555555556,\"#d8576b\"],[0.6666666666666666,\"#ed7953\"],[0.7777777777777778,\"#fb9f3a\"],[0.8888888888888888,\"#fdca26\"],[1.0,\"#f0f921\"]]}],\"heatmapgl\":[{\"type\":\"heatmapgl\",\"colorbar\":{\"outlinewidth\":0,\"ticks\":\"\"},\"colorscale\":[[0.0,\"#0d0887\"],[0.1111111111111111,\"#46039f\"],[0.2222222222222222,\"#7201a8\"],[0.3333333333333333,\"#9c179e\"],[0.4444444444444444,\"#bd3786\"],[0.5555555555555556,\"#d8576b\"],[0.6666666666666666,\"#ed7953\"],[0.7777777777777778,\"#fb9f3a\"],[0.8888888888888888,\"#fdca26\"],[1.0,\"#f0f921\"]]}],\"contourcarpet\":[{\"type\":\"contourcarpet\",\"colorbar\":{\"outlinewidth\":0,\"ticks\":\"\"}}],\"contour\":[{\"type\":\"contour\",\"colorbar\":{\"outlinewidth\":0,\"ticks\":\"\"},\"colorscale\":[[0.0,\"#0d0887\"],[0.1111111111111111,\"#46039f\"],[0.2222222222222222,\"#7201a8\"],[0.3333333333333333,\"#9c179e\"],[0.4444444444444444,\"#bd3786\"],[0.5555555555555556,\"#d8576b\"],[0.6666666666666666,\"#ed7953\"],[0.7777777777777778,\"#fb9f3a\"],[0.8888888888888888,\"#fdca26\"],[1.0,\"#f0f921\"]]}],\"surface\":[{\"type\":\"surface\",\"colorbar\":{\"outlinewidth\":0,\"ticks\":\"\"},\"colorscale\":[[0.0,\"#0d0887\"],[0.1111111111111111,\"#46039f\"],[0.2222222222222222,\"#7201a8\"],[0.3333333333333333,\"#9c179e\"],[0.4444444444444444,\"#bd3786\"],[0.5555555555555556,\"#d8576b\"],[0.6666666666666666,\"#ed7953\"],[0.7777777777777778,\"#fb9f3a\"],[0.8888888888888888,\"#fdca26\"],[1.0,\"#f0f921\"]]}],\"mesh3d\":[{\"type\":\"mesh3d\",\"colorbar\":{\"outlinewidth\":0,\"ticks\":\"\"}}],\"scatter\":[{\"fillpattern\":{\"fillmode\":\"overlay\",\"size\":10,\"solidity\":0.2},\"type\":\"scatter\"}],\"parcoords\":[{\"type\":\"parcoords\",\"line\":{\"colorbar\":{\"outlinewidth\":0,\"ticks\":\"\"}}}],\"scatterpolargl\":[{\"type\":\"scatterpolargl\",\"marker\":{\"colorbar\":{\"outlinewidth\":0,\"ticks\":\"\"}}}],\"bar\":[{\"error_x\":{\"color\":\"#2a3f5f\"},\"error_y\":{\"color\":\"#2a3f5f\"},\"marker\":{\"line\":{\"color\":\"#E5ECF6\",\"width\":0.5},\"pattern\":{\"fillmode\":\"overlay\",\"size\":10,\"solidity\":0.2}},\"type\":\"bar\"}],\"scattergeo\":[{\"type\":\"scattergeo\",\"marker\":{\"colorbar\":{\"outlinewidth\":0,\"ticks\":\"\"}}}],\"scatterpolar\":[{\"type\":\"scatterpolar\",\"marker\":{\"colorbar\":{\"outlinewidth\":0,\"ticks\":\"\"}}}],\"histogram\":[{\"marker\":{\"pattern\":{\"fillmode\":\"overlay\",\"size\":10,\"solidity\":0.2}},\"type\":\"histogram\"}],\"scattergl\":[{\"type\":\"scattergl\",\"marker\":{\"colorbar\":{\"outlinewidth\":0,\"ticks\":\"\"}}}],\"scatter3d\":[{\"type\":\"scatter3d\",\"line\":{\"colorbar\":{\"outlinewidth\":0,\"ticks\":\"\"}},\"marker\":{\"colorbar\":{\"outlinewidth\":0,\"ticks\":\"\"}}}],\"scattermapbox\":[{\"type\":\"scattermapbox\",\"marker\":{\"colorbar\":{\"outlinewidth\":0,\"ticks\":\"\"}}}],\"scatterternary\":[{\"type\":\"scatterternary\",\"marker\":{\"colorbar\":{\"outlinewidth\":0,\"ticks\":\"\"}}}],\"scattercarpet\":[{\"type\":\"scattercarpet\",\"marker\":{\"colorbar\":{\"outlinewidth\":0,\"ticks\":\"\"}}}],\"carpet\":[{\"aaxis\":{\"endlinecolor\":\"#2a3f5f\",\"gridcolor\":\"white\",\"linecolor\":\"white\",\"minorgridcolor\":\"white\",\"startlinecolor\":\"#2a3f5f\"},\"baxis\":{\"endlinecolor\":\"#2a3f5f\",\"gridcolor\":\"white\",\"linecolor\":\"white\",\"minorgridcolor\":\"white\",\"startlinecolor\":\"#2a3f5f\"},\"type\":\"carpet\"}],\"table\":[{\"cells\":{\"fill\":{\"color\":\"#EBF0F8\"},\"line\":{\"color\":\"white\"}},\"header\":{\"fill\":{\"color\":\"#C8D4E3\"},\"line\":{\"color\":\"white\"}},\"type\":\"table\"}],\"barpolar\":[{\"marker\":{\"line\":{\"color\":\"#E5ECF6\",\"width\":0.5},\"pattern\":{\"fillmode\":\"overlay\",\"size\":10,\"solidity\":0.2}},\"type\":\"barpolar\"}],\"pie\":[{\"automargin\":true,\"type\":\"pie\"}]},\"layout\":{\"autotypenumbers\":\"strict\",\"colorway\":[\"#636efa\",\"#EF553B\",\"#00cc96\",\"#ab63fa\",\"#FFA15A\",\"#19d3f3\",\"#FF6692\",\"#B6E880\",\"#FF97FF\",\"#FECB52\"],\"font\":{\"color\":\"#2a3f5f\"},\"hovermode\":\"closest\",\"hoverlabel\":{\"align\":\"left\"},\"paper_bgcolor\":\"white\",\"plot_bgcolor\":\"#E5ECF6\",\"polar\":{\"bgcolor\":\"#E5ECF6\",\"angularaxis\":{\"gridcolor\":\"white\",\"linecolor\":\"white\",\"ticks\":\"\"},\"radialaxis\":{\"gridcolor\":\"white\",\"linecolor\":\"white\",\"ticks\":\"\"}},\"ternary\":{\"bgcolor\":\"#E5ECF6\",\"aaxis\":{\"gridcolor\":\"white\",\"linecolor\":\"white\",\"ticks\":\"\"},\"baxis\":{\"gridcolor\":\"white\",\"linecolor\":\"white\",\"ticks\":\"\"},\"caxis\":{\"gridcolor\":\"white\",\"linecolor\":\"white\",\"ticks\":\"\"}},\"coloraxis\":{\"colorbar\":{\"outlinewidth\":0,\"ticks\":\"\"}},\"colorscale\":{\"sequential\":[[0.0,\"#0d0887\"],[0.1111111111111111,\"#46039f\"],[0.2222222222222222,\"#7201a8\"],[0.3333333333333333,\"#9c179e\"],[0.4444444444444444,\"#bd3786\"],[0.5555555555555556,\"#d8576b\"],[0.6666666666666666,\"#ed7953\"],[0.7777777777777778,\"#fb9f3a\"],[0.8888888888888888,\"#fdca26\"],[1.0,\"#f0f921\"]],\"sequentialminus\":[[0.0,\"#0d0887\"],[0.1111111111111111,\"#46039f\"],[0.2222222222222222,\"#7201a8\"],[0.3333333333333333,\"#9c179e\"],[0.4444444444444444,\"#bd3786\"],[0.5555555555555556,\"#d8576b\"],[0.6666666666666666,\"#ed7953\"],[0.7777777777777778,\"#fb9f3a\"],[0.8888888888888888,\"#fdca26\"],[1.0,\"#f0f921\"]],\"diverging\":[[0,\"#8e0152\"],[0.1,\"#c51b7d\"],[0.2,\"#de77ae\"],[0.3,\"#f1b6da\"],[0.4,\"#fde0ef\"],[0.5,\"#f7f7f7\"],[0.6,\"#e6f5d0\"],[0.7,\"#b8e186\"],[0.8,\"#7fbc41\"],[0.9,\"#4d9221\"],[1,\"#276419\"]]},\"xaxis\":{\"gridcolor\":\"white\",\"linecolor\":\"white\",\"ticks\":\"\",\"title\":{\"standoff\":15},\"zerolinecolor\":\"white\",\"automargin\":true,\"zerolinewidth\":2},\"yaxis\":{\"gridcolor\":\"white\",\"linecolor\":\"white\",\"ticks\":\"\",\"title\":{\"standoff\":15},\"zerolinecolor\":\"white\",\"automargin\":true,\"zerolinewidth\":2},\"scene\":{\"xaxis\":{\"backgroundcolor\":\"#E5ECF6\",\"gridcolor\":\"white\",\"linecolor\":\"white\",\"showbackground\":true,\"ticks\":\"\",\"zerolinecolor\":\"white\",\"gridwidth\":2},\"yaxis\":{\"backgroundcolor\":\"#E5ECF6\",\"gridcolor\":\"white\",\"linecolor\":\"white\",\"showbackground\":true,\"ticks\":\"\",\"zerolinecolor\":\"white\",\"gridwidth\":2},\"zaxis\":{\"backgroundcolor\":\"#E5ECF6\",\"gridcolor\":\"white\",\"linecolor\":\"white\",\"showbackground\":true,\"ticks\":\"\",\"zerolinecolor\":\"white\",\"gridwidth\":2}},\"shapedefaults\":{\"line\":{\"color\":\"#2a3f5f\"}},\"annotationdefaults\":{\"arrowcolor\":\"#2a3f5f\",\"arrowhead\":0,\"arrowwidth\":1},\"geo\":{\"bgcolor\":\"white\",\"landcolor\":\"#E5ECF6\",\"subunitcolor\":\"white\",\"showland\":true,\"showlakes\":true,\"lakecolor\":\"white\"},\"title\":{\"x\":0.05},\"mapbox\":{\"style\":\"light\"}}}},                        {\"responsive\": true}                    ).then(function(){\n                            \nvar gd = document.getElementById('685e5770-a6fe-4afd-887c-83198a197bdb');\nvar x = new MutationObserver(function (mutations, observer) {{\n        var display = window.getComputedStyle(gd).display;\n        if (!display || display === 'none') {{\n            console.log([gd, 'removed!']);\n            Plotly.purge(gd);\n            observer.disconnect();\n        }}\n}});\n\n// Listen for the removal of the full notebook cells\nvar notebookContainer = gd.closest('#notebook-container');\nif (notebookContainer) {{\n    x.observe(notebookContainer, {childList: true});\n}}\n\n// Listen for the clearing of the current output cell\nvar outputEl = gd.closest('.output');\nif (outputEl) {{\n    x.observe(outputEl, {childList: true});\n}}\n\n                        })                };                });            </script>        </div>"
     },
     "metadata": {},
     "output_type": "display_data"
    }
   ],
   "source": [
    "fig = optuna.visualization.plot_param_importances(study)\n",
    "fig.write_image(file=\"figures/ch5_importances.png\", format=\"png\", scale=6)\n",
    "fig.show()"
   ],
   "metadata": {
    "collapsed": false,
    "ExecuteTime": {
     "start_time": "2023-04-27T12:44:57.634931Z",
     "end_time": "2023-04-27T12:44:59.987744Z"
    }
   }
  },
  {
   "cell_type": "markdown",
   "source": [
    "## Save and Resume a Study"
   ],
   "metadata": {
    "collapsed": false
   }
  },
  {
   "cell_type": "code",
   "execution_count": 19,
   "outputs": [
    {
     "data": {
      "text/plain": "['lgbm-optuna-study.pkl']"
     },
     "execution_count": 19,
     "metadata": {},
     "output_type": "execute_result"
    }
   ],
   "source": [
    "joblib.dump(study, \"lgbm-optuna-study.pkl\")"
   ],
   "metadata": {
    "collapsed": false,
    "ExecuteTime": {
     "start_time": "2023-04-27T12:46:03.326566Z",
     "end_time": "2023-04-27T12:46:03.381646Z"
    }
   }
  },
  {
   "cell_type": "code",
   "execution_count": 26,
   "outputs": [],
   "source": [
    "study = joblib.load(\"lgbm-optuna-study.pkl\")\n",
    "study.optimize(objective(), n_trials=20, gc_after_trial=True, n_jobs=-1)"
   ],
   "metadata": {
    "collapsed": false,
    "ExecuteTime": {
     "start_time": "2023-04-27T13:09:55.463873Z",
     "end_time": "2023-04-27T13:09:55.488271Z"
    }
   }
  },
  {
   "cell_type": "code",
   "execution_count": 13,
   "outputs": [
    {
     "name": "stdout",
     "output_type": "stream",
     "text": [
      "FrozenTrial(number=113, state=TrialState.COMPLETE, values=[0.7325947131542604], datetime_start=datetime.datetime(2023, 4, 26, 21, 51, 41, 700790), datetime_complete=datetime.datetime(2023, 4, 26, 21, 51, 58, 269510), params={'boosting_type': 'gbdt', 'lambda_l1': 8.761930063313846e-06, 'lambda_l2': 3.674098080906251e-06, 'num_leaves': 2, 'feature_fraction': 0.8013834287179691, 'bagging_fraction': 0.8930729866672722, 'bagging_freq': 1, 'min_child_samples': 68, 'learning_rate': 0.14747560109267427, 'max_bin': 416, 'n_estimators': 140}, user_attrs={}, system_attrs={}, intermediate_values={}, distributions={'boosting_type': CategoricalDistribution(choices=('dart', 'gbdt')), 'lambda_l1': FloatDistribution(high=10.0, log=True, low=1e-08, step=None), 'lambda_l2': FloatDistribution(high=10.0, log=True, low=1e-08, step=None), 'num_leaves': IntDistribution(high=256, log=False, low=2, step=1), 'feature_fraction': FloatDistribution(high=1.0, log=False, low=0.4, step=None), 'bagging_fraction': FloatDistribution(high=1.0, log=False, low=0.4, step=None), 'bagging_freq': IntDistribution(high=7, log=False, low=1, step=1), 'min_child_samples': IntDistribution(high=100, log=False, low=5, step=1), 'learning_rate': FloatDistribution(high=0.5, log=True, low=0.0001, step=None), 'max_bin': IntDistribution(high=512, log=False, low=128, step=32), 'n_estimators': IntDistribution(high=400, log=False, low=40, step=20)}, trial_id=113, value=None)\n"
     ]
    }
   ],
   "source": [
    "print(study.best_trial)"
   ],
   "metadata": {
    "collapsed": false,
    "ExecuteTime": {
     "start_time": "2023-04-26T23:52:19.665936Z",
     "end_time": "2023-04-26T23:52:19.672471Z"
    }
   }
  },
  {
   "cell_type": "markdown",
   "source": [
    "## Save and Resume on a remote DB"
   ],
   "metadata": {
    "collapsed": false
   }
  },
  {
   "cell_type": "code",
   "execution_count": 21,
   "outputs": [
    {
     "name": "stderr",
     "output_type": "stream",
     "text": [
      "\u001B[32m[I 2023-04-26 21:55:54,747]\u001B[0m A new study created in RDB with name: lgbm-cma-es-rdb-study\u001B[0m\n"
     ]
    },
    {
     "name": "stdout",
     "output_type": "stream",
     "text": [
      "A new study created in RDB with name: lgbm-cma-es-rdb-study\n"
     ]
    },
    {
     "name": "stderr",
     "output_type": "stream",
     "text": [
      "\u001B[32m[I 2023-04-26 21:56:33,779]\u001B[0m Trial 3 finished with value: 0.7132657507447453 and parameters: {'lambda_l1': 2.2532403757797748e-05, 'lambda_l2': 0.05662631493366982, 'num_leaves': 91, 'feature_fraction': 0.8673704694022113, 'bagging_fraction': 0.7408227257890989, 'bagging_freq': 3, 'min_child_samples': 69, 'learning_rate': 0.20682759099882317, 'max_bin': 512, 'n_estimators': 60}. Best is trial 3 with value: 0.7132657507447453.\u001B[0m\n"
     ]
    },
    {
     "name": "stdout",
     "output_type": "stream",
     "text": [
      "Trial 3 finished with value: 0.7132657507447453 and parameters: {'lambda_l1': 2.2532403757797748e-05, 'lambda_l2': 0.05662631493366982, 'num_leaves': 91, 'feature_fraction': 0.8673704694022113, 'bagging_fraction': 0.7408227257890989, 'bagging_freq': 3, 'min_child_samples': 69, 'learning_rate': 0.20682759099882317, 'max_bin': 512, 'n_estimators': 60}. Best is trial 3 with value: 0.7132657507447453.\n"
     ]
    },
    {
     "name": "stderr",
     "output_type": "stream",
     "text": [
      "\u001B[32m[I 2023-04-26 21:56:34,880]\u001B[0m Trial 4 finished with value: 0.7226552433871103 and parameters: {'lambda_l1': 0.006182106804178753, 'lambda_l2': 6.160625321836477, 'num_leaves': 77, 'feature_fraction': 0.941323475749757, 'bagging_fraction': 0.4142484304524909, 'bagging_freq': 6, 'min_child_samples': 94, 'learning_rate': 0.017326662146954618, 'max_bin': 512, 'n_estimators': 180}. Best is trial 3 with value: 0.7132657507447453.\u001B[0m\n"
     ]
    },
    {
     "name": "stdout",
     "output_type": "stream",
     "text": [
      "Trial 4 finished with value: 0.7226552433871103 and parameters: {'lambda_l1': 0.006182106804178753, 'lambda_l2': 6.160625321836477, 'num_leaves': 77, 'feature_fraction': 0.941323475749757, 'bagging_fraction': 0.4142484304524909, 'bagging_freq': 6, 'min_child_samples': 94, 'learning_rate': 0.017326662146954618, 'max_bin': 512, 'n_estimators': 180}. Best is trial 3 with value: 0.7132657507447453.\n"
     ]
    },
    {
     "name": "stderr",
     "output_type": "stream",
     "text": [
      "\u001B[32m[I 2023-04-26 21:56:38,409]\u001B[0m Trial 5 finished with value: 0.4235082247366586 and parameters: {'lambda_l1': 4.496791174062579, 'lambda_l2': 0.000612013760106219, 'num_leaves': 100, 'feature_fraction': 0.6565211338929926, 'bagging_fraction': 0.9277029430467971, 'bagging_freq': 3, 'min_child_samples': 97, 'learning_rate': 0.00011283703507767392, 'max_bin': 288, 'n_estimators': 180}. Best is trial 5 with value: 0.4235082247366586.\u001B[0m\n"
     ]
    },
    {
     "name": "stdout",
     "output_type": "stream",
     "text": [
      "Trial 5 finished with value: 0.4235082247366586 and parameters: {'lambda_l1': 4.496791174062579, 'lambda_l2': 0.000612013760106219, 'num_leaves': 100, 'feature_fraction': 0.6565211338929926, 'bagging_fraction': 0.9277029430467971, 'bagging_freq': 3, 'min_child_samples': 97, 'learning_rate': 0.00011283703507767392, 'max_bin': 288, 'n_estimators': 180}. Best is trial 5 with value: 0.4235082247366586.\n"
     ]
    },
    {
     "name": "stderr",
     "output_type": "stream",
     "text": [
      "\u001B[32m[I 2023-04-26 21:56:39,264]\u001B[0m Trial 7 finished with value: 0.4235082247366586 and parameters: {'lambda_l1': 1.8793157986706806e-08, 'lambda_l2': 7.03746696021021e-08, 'num_leaves': 118, 'feature_fraction': 0.7014529641391991, 'bagging_fraction': 0.5633518746744183, 'bagging_freq': 3, 'min_child_samples': 73, 'learning_rate': 0.0002478952959356982, 'max_bin': 256, 'n_estimators': 120}. Best is trial 5 with value: 0.4235082247366586.\u001B[0m\n"
     ]
    },
    {
     "name": "stdout",
     "output_type": "stream",
     "text": [
      "Trial 7 finished with value: 0.4235082247366586 and parameters: {'lambda_l1': 1.8793157986706806e-08, 'lambda_l2': 7.03746696021021e-08, 'num_leaves': 118, 'feature_fraction': 0.7014529641391991, 'bagging_fraction': 0.5633518746744183, 'bagging_freq': 3, 'min_child_samples': 73, 'learning_rate': 0.0002478952959356982, 'max_bin': 256, 'n_estimators': 120}. Best is trial 5 with value: 0.4235082247366586.\n"
     ]
    },
    {
     "name": "stderr",
     "output_type": "stream",
     "text": [
      "\u001B[32m[I 2023-04-26 21:56:40,294]\u001B[0m Trial 0 finished with value: 0.4235082247366586 and parameters: {'lambda_l1': 0.003794559193304904, 'lambda_l2': 0.6154894043457899, 'num_leaves': 105, 'feature_fraction': 0.601774324878128, 'bagging_fraction': 0.6786749272058372, 'bagging_freq': 6, 'min_child_samples': 94, 'learning_rate': 0.0023161976651961303, 'max_bin': 416, 'n_estimators': 160}. Best is trial 5 with value: 0.4235082247366586.\u001B[0m\n"
     ]
    },
    {
     "name": "stdout",
     "output_type": "stream",
     "text": [
      "Trial 0 finished with value: 0.4235082247366586 and parameters: {'lambda_l1': 0.003794559193304904, 'lambda_l2': 0.6154894043457899, 'num_leaves': 105, 'feature_fraction': 0.601774324878128, 'bagging_fraction': 0.6786749272058372, 'bagging_freq': 6, 'min_child_samples': 94, 'learning_rate': 0.0023161976651961303, 'max_bin': 416, 'n_estimators': 160}. Best is trial 5 with value: 0.4235082247366586.\n"
     ]
    },
    {
     "name": "stderr",
     "output_type": "stream",
     "text": [
      "\u001B[32m[I 2023-04-26 21:56:58,578]\u001B[0m Trial 6 finished with value: 0.7265285387632892 and parameters: {'lambda_l1': 4.42522248721259, 'lambda_l2': 1.8767849186266793e-06, 'num_leaves': 230, 'feature_fraction': 0.508861183839956, 'bagging_fraction': 0.7815656077283852, 'bagging_freq': 7, 'min_child_samples': 68, 'learning_rate': 0.03895272788271125, 'max_bin': 320, 'n_estimators': 380}. Best is trial 5 with value: 0.4235082247366586.\u001B[0m\n"
     ]
    },
    {
     "name": "stdout",
     "output_type": "stream",
     "text": [
      "Trial 6 finished with value: 0.7265285387632892 and parameters: {'lambda_l1': 4.42522248721259, 'lambda_l2': 1.8767849186266793e-06, 'num_leaves': 230, 'feature_fraction': 0.508861183839956, 'bagging_fraction': 0.7815656077283852, 'bagging_freq': 7, 'min_child_samples': 68, 'learning_rate': 0.03895272788271125, 'max_bin': 320, 'n_estimators': 380}. Best is trial 5 with value: 0.4235082247366586.\n"
     ]
    },
    {
     "name": "stderr",
     "output_type": "stream",
     "text": [
      "\u001B[32m[I 2023-04-26 21:57:16,697]\u001B[0m Trial 2 finished with value: 0.7082282316547065 and parameters: {'lambda_l1': 0.003910737289204815, 'lambda_l2': 0.01513734244260219, 'num_leaves': 98, 'feature_fraction': 0.4346112851629354, 'bagging_fraction': 0.9593137033273504, 'bagging_freq': 6, 'min_child_samples': 72, 'learning_rate': 0.09214666406828496, 'max_bin': 320, 'n_estimators': 260}. Best is trial 5 with value: 0.4235082247366586.\u001B[0m\n"
     ]
    },
    {
     "name": "stdout",
     "output_type": "stream",
     "text": [
      "Trial 2 finished with value: 0.7082282316547065 and parameters: {'lambda_l1': 0.003910737289204815, 'lambda_l2': 0.01513734244260219, 'num_leaves': 98, 'feature_fraction': 0.4346112851629354, 'bagging_fraction': 0.9593137033273504, 'bagging_freq': 6, 'min_child_samples': 72, 'learning_rate': 0.09214666406828496, 'max_bin': 320, 'n_estimators': 260}. Best is trial 5 with value: 0.4235082247366586.\n"
     ]
    },
    {
     "name": "stderr",
     "output_type": "stream",
     "text": [
      "\u001B[32m[I 2023-04-26 21:57:32,511]\u001B[0m Trial 12 finished with value: 0.7236188177590547 and parameters: {'lambda_l1': 0.0005117057428555102, 'lambda_l2': 0.006965829987933876, 'num_leaves': 133, 'feature_fraction': 0.5955227407774499, 'bagging_fraction': 0.6826385809764808, 'bagging_freq': 5, 'min_child_samples': 62, 'learning_rate': 0.03517532930344647, 'max_bin': 320, 'n_estimators': 180}. Best is trial 5 with value: 0.4235082247366586.\u001B[0m\n"
     ]
    },
    {
     "name": "stdout",
     "output_type": "stream",
     "text": [
      "Trial 12 finished with value: 0.7236188177590547 and parameters: {'lambda_l1': 0.0005117057428555102, 'lambda_l2': 0.006965829987933876, 'num_leaves': 133, 'feature_fraction': 0.5955227407774499, 'bagging_fraction': 0.6826385809764808, 'bagging_freq': 5, 'min_child_samples': 62, 'learning_rate': 0.03517532930344647, 'max_bin': 320, 'n_estimators': 180}. Best is trial 5 with value: 0.4235082247366586.\n"
     ]
    },
    {
     "name": "stderr",
     "output_type": "stream",
     "text": [
      "\u001B[32m[I 2023-04-26 21:57:39,632]\u001B[0m Trial 13 finished with value: 0.7221821556240089 and parameters: {'lambda_l1': 3.068539523780704e-05, 'lambda_l2': 0.002511418991062922, 'num_leaves': 37, 'feature_fraction': 0.6044469660506546, 'bagging_fraction': 0.8131381633496206, 'bagging_freq': 5, 'min_child_samples': 54, 'learning_rate': 0.02744326259000487, 'max_bin': 384, 'n_estimators': 140}. Best is trial 5 with value: 0.4235082247366586.\u001B[0m\n"
     ]
    },
    {
     "name": "stdout",
     "output_type": "stream",
     "text": [
      "Trial 13 finished with value: 0.7221821556240089 and parameters: {'lambda_l1': 3.068539523780704e-05, 'lambda_l2': 0.002511418991062922, 'num_leaves': 37, 'feature_fraction': 0.6044469660506546, 'bagging_fraction': 0.8131381633496206, 'bagging_freq': 5, 'min_child_samples': 54, 'learning_rate': 0.02744326259000487, 'max_bin': 384, 'n_estimators': 140}. Best is trial 5 with value: 0.4235082247366586.\n"
     ]
    },
    {
     "name": "stderr",
     "output_type": "stream",
     "text": [
      "\u001B[32m[I 2023-04-26 21:57:42,290]\u001B[0m Trial 9 finished with value: 0.7127814694230292 and parameters: {'lambda_l1': 1.0294972624490543e-05, 'lambda_l2': 0.0017009778095421122, 'num_leaves': 125, 'feature_fraction': 0.7398171792302985, 'bagging_fraction': 0.8501549490306263, 'bagging_freq': 3, 'min_child_samples': 80, 'learning_rate': 0.007284164952600397, 'max_bin': 384, 'n_estimators': 300}. Best is trial 5 with value: 0.4235082247366586.\u001B[0m\n"
     ]
    },
    {
     "name": "stdout",
     "output_type": "stream",
     "text": [
      "Trial 9 finished with value: 0.7127814694230292 and parameters: {'lambda_l1': 1.0294972624490543e-05, 'lambda_l2': 0.0017009778095421122, 'num_leaves': 125, 'feature_fraction': 0.7398171792302985, 'bagging_fraction': 0.8501549490306263, 'bagging_freq': 3, 'min_child_samples': 80, 'learning_rate': 0.007284164952600397, 'max_bin': 384, 'n_estimators': 300}. Best is trial 5 with value: 0.4235082247366586.\n"
     ]
    },
    {
     "name": "stderr",
     "output_type": "stream",
     "text": [
      "\u001B[32m[I 2023-04-26 21:57:49,691]\u001B[0m Trial 11 finished with value: 0.4963819785413051 and parameters: {'lambda_l1': 2.950780129711847e-05, 'lambda_l2': 0.00016127882839972024, 'num_leaves': 164, 'feature_fraction': 0.6169654894572002, 'bagging_fraction': 0.6315885806772508, 'bagging_freq': 4, 'min_child_samples': 41, 'learning_rate': 0.0025651137810712133, 'max_bin': 352, 'n_estimators': 240}. Best is trial 5 with value: 0.4235082247366586.\u001B[0m\n"
     ]
    },
    {
     "name": "stdout",
     "output_type": "stream",
     "text": [
      "Trial 11 finished with value: 0.4963819785413051 and parameters: {'lambda_l1': 2.950780129711847e-05, 'lambda_l2': 0.00016127882839972024, 'num_leaves': 164, 'feature_fraction': 0.6169654894572002, 'bagging_fraction': 0.6315885806772508, 'bagging_freq': 4, 'min_child_samples': 41, 'learning_rate': 0.0025651137810712133, 'max_bin': 352, 'n_estimators': 240}. Best is trial 5 with value: 0.4235082247366586.\n"
     ]
    },
    {
     "name": "stderr",
     "output_type": "stream",
     "text": [
      "\u001B[32m[I 2023-04-26 21:58:00,491]\u001B[0m Trial 10 finished with value: 0.7191344808590985 and parameters: {'lambda_l1': 0.0004862215793549142, 'lambda_l2': 0.015169826554356678, 'num_leaves': 118, 'feature_fraction': 0.7233968292849686, 'bagging_fraction': 0.7910776767009089, 'bagging_freq': 5, 'min_child_samples': 41, 'learning_rate': 0.02350563367779821, 'max_bin': 352, 'n_estimators': 240}. Best is trial 5 with value: 0.4235082247366586.\u001B[0m\n"
     ]
    },
    {
     "name": "stdout",
     "output_type": "stream",
     "text": [
      "Trial 10 finished with value: 0.7191344808590985 and parameters: {'lambda_l1': 0.0004862215793549142, 'lambda_l2': 0.015169826554356678, 'num_leaves': 118, 'feature_fraction': 0.7233968292849686, 'bagging_fraction': 0.7910776767009089, 'bagging_freq': 5, 'min_child_samples': 41, 'learning_rate': 0.02350563367779821, 'max_bin': 352, 'n_estimators': 240}. Best is trial 5 with value: 0.4235082247366586.\n"
     ]
    },
    {
     "name": "stderr",
     "output_type": "stream",
     "text": [
      "\u001B[32m[I 2023-04-26 21:58:04,613]\u001B[0m Trial 8 finished with value: 0.7204496062097221 and parameters: {'lambda_l1': 0.0001085177632369296, 'lambda_l2': 0.00033481905806464763, 'num_leaves': 198, 'feature_fraction': 0.7381311911506477, 'bagging_fraction': 0.5934634962331308, 'bagging_freq': 2, 'min_child_samples': 33, 'learning_rate': 0.00984674505152094, 'max_bin': 352, 'n_estimators': 280}. Best is trial 5 with value: 0.4235082247366586.\u001B[0m\n"
     ]
    },
    {
     "name": "stdout",
     "output_type": "stream",
     "text": [
      "Trial 8 finished with value: 0.7204496062097221 and parameters: {'lambda_l1': 0.0001085177632369296, 'lambda_l2': 0.00033481905806464763, 'num_leaves': 198, 'feature_fraction': 0.7381311911506477, 'bagging_fraction': 0.5934634962331308, 'bagging_freq': 2, 'min_child_samples': 33, 'learning_rate': 0.00984674505152094, 'max_bin': 352, 'n_estimators': 280}. Best is trial 5 with value: 0.4235082247366586.\n"
     ]
    },
    {
     "name": "stderr",
     "output_type": "stream",
     "text": [
      "\u001B[32m[I 2023-04-26 21:58:13,438]\u001B[0m Trial 16 finished with value: 0.4235082247366586 and parameters: {'lambda_l1': 0.002133585621237185, 'lambda_l2': 0.0008577438527117182, 'num_leaves': 175, 'feature_fraction': 0.7131261268522244, 'bagging_fraction': 0.6181159833020071, 'bagging_freq': 5, 'min_child_samples': 78, 'learning_rate': 0.0005688423061920447, 'max_bin': 352, 'n_estimators': 100}. Best is trial 5 with value: 0.4235082247366586.\u001B[0m\n"
     ]
    },
    {
     "name": "stdout",
     "output_type": "stream",
     "text": [
      "Trial 16 finished with value: 0.4235082247366586 and parameters: {'lambda_l1': 0.002133585621237185, 'lambda_l2': 0.0008577438527117182, 'num_leaves': 175, 'feature_fraction': 0.7131261268522244, 'bagging_fraction': 0.6181159833020071, 'bagging_freq': 5, 'min_child_samples': 78, 'learning_rate': 0.0005688423061920447, 'max_bin': 352, 'n_estimators': 100}. Best is trial 5 with value: 0.4235082247366586.\n"
     ]
    },
    {
     "name": "stderr",
     "output_type": "stream",
     "text": [
      "\u001B[32m[I 2023-04-26 21:58:24,471]\u001B[0m Trial 14 finished with value: 0.5701266383224441 and parameters: {'lambda_l1': 1.1739563543832058e-05, 'lambda_l2': 0.005079754110321929, 'num_leaves': 97, 'feature_fraction': 0.7441914436821913, 'bagging_fraction': 0.719954642786498, 'bagging_freq': 2, 'min_child_samples': 71, 'learning_rate': 0.0024723695006481586, 'max_bin': 384, 'n_estimators': 300}. Best is trial 5 with value: 0.4235082247366586.\u001B[0m\n"
     ]
    },
    {
     "name": "stdout",
     "output_type": "stream",
     "text": [
      "Trial 14 finished with value: 0.5701266383224441 and parameters: {'lambda_l1': 1.1739563543832058e-05, 'lambda_l2': 0.005079754110321929, 'num_leaves': 97, 'feature_fraction': 0.7441914436821913, 'bagging_fraction': 0.719954642786498, 'bagging_freq': 2, 'min_child_samples': 71, 'learning_rate': 0.0024723695006481586, 'max_bin': 384, 'n_estimators': 300}. Best is trial 5 with value: 0.4235082247366586.\n"
     ]
    },
    {
     "name": "stderr",
     "output_type": "stream",
     "text": [
      "\u001B[32m[I 2023-04-26 21:58:30,194]\u001B[0m Trial 15 finished with value: 0.7295286246988901 and parameters: {'lambda_l1': 0.006077299646654025, 'lambda_l2': 0.00012549609648231772, 'num_leaves': 144, 'feature_fraction': 0.7638370598473596, 'bagging_fraction': 0.4957898953100847, 'bagging_freq': 3, 'min_child_samples': 69, 'learning_rate': 0.022664911890791724, 'max_bin': 480, 'n_estimators': 280}. Best is trial 5 with value: 0.4235082247366586.\u001B[0m\n"
     ]
    },
    {
     "name": "stdout",
     "output_type": "stream",
     "text": [
      "Trial 15 finished with value: 0.7295286246988901 and parameters: {'lambda_l1': 0.006077299646654025, 'lambda_l2': 0.00012549609648231772, 'num_leaves': 144, 'feature_fraction': 0.7638370598473596, 'bagging_fraction': 0.4957898953100847, 'bagging_freq': 3, 'min_child_samples': 69, 'learning_rate': 0.022664911890791724, 'max_bin': 480, 'n_estimators': 280}. Best is trial 5 with value: 0.4235082247366586.\n"
     ]
    },
    {
     "name": "stderr",
     "output_type": "stream",
     "text": [
      "\u001B[32m[I 2023-04-26 21:58:46,840]\u001B[0m Trial 17 finished with value: 0.4235082247366586 and parameters: {'lambda_l1': 0.026473371893423768, 'lambda_l2': 7.46087577455392e-05, 'num_leaves': 147, 'feature_fraction': 0.4942943667947235, 'bagging_fraction': 0.7985930362163047, 'bagging_freq': 2, 'min_child_samples': 46, 'learning_rate': 0.002095386140872213, 'max_bin': 352, 'n_estimators': 160}. Best is trial 5 with value: 0.4235082247366586.\u001B[0m\n"
     ]
    },
    {
     "name": "stdout",
     "output_type": "stream",
     "text": [
      "Trial 17 finished with value: 0.4235082247366586 and parameters: {'lambda_l1': 0.026473371893423768, 'lambda_l2': 7.46087577455392e-05, 'num_leaves': 147, 'feature_fraction': 0.4942943667947235, 'bagging_fraction': 0.7985930362163047, 'bagging_freq': 2, 'min_child_samples': 46, 'learning_rate': 0.002095386140872213, 'max_bin': 352, 'n_estimators': 160}. Best is trial 5 with value: 0.4235082247366586.\n"
     ]
    },
    {
     "name": "stderr",
     "output_type": "stream",
     "text": [
      "\u001B[32m[I 2023-04-26 21:59:11,713]\u001B[0m Trial 19 finished with value: 0.7245230543069855 and parameters: {'lambda_l1': 1.2259013764341677, 'lambda_l2': 0.0002955341964778695, 'num_leaves': 123, 'feature_fraction': 0.9380508644552307, 'bagging_fraction': 0.884410118282574, 'bagging_freq': 4, 'min_child_samples': 45, 'learning_rate': 0.011587723254757966, 'max_bin': 352, 'n_estimators': 260}. Best is trial 5 with value: 0.4235082247366586.\u001B[0m\n"
     ]
    },
    {
     "name": "stdout",
     "output_type": "stream",
     "text": [
      "Trial 19 finished with value: 0.7245230543069855 and parameters: {'lambda_l1': 1.2259013764341677, 'lambda_l2': 0.0002955341964778695, 'num_leaves': 123, 'feature_fraction': 0.9380508644552307, 'bagging_fraction': 0.884410118282574, 'bagging_freq': 4, 'min_child_samples': 45, 'learning_rate': 0.011587723254757966, 'max_bin': 352, 'n_estimators': 260}. Best is trial 5 with value: 0.4235082247366586.\n"
     ]
    },
    {
     "name": "stderr",
     "output_type": "stream",
     "text": [
      "\u001B[32m[I 2023-04-26 21:59:12,454]\u001B[0m Trial 20 finished with value: 0.4235082247366586 and parameters: {'lambda_l1': 0.0001987016505609363, 'lambda_l2': 0.0936360528661082, 'num_leaves': 129, 'feature_fraction': 0.5772837420879483, 'bagging_fraction': 0.7762392207404161, 'bagging_freq': 2, 'min_child_samples': 57, 'learning_rate': 0.001501615837328021, 'max_bin': 512, 'n_estimators': 260}. Best is trial 5 with value: 0.4235082247366586.\u001B[0m\n"
     ]
    },
    {
     "name": "stdout",
     "output_type": "stream",
     "text": [
      "Trial 20 finished with value: 0.4235082247366586 and parameters: {'lambda_l1': 0.0001987016505609363, 'lambda_l2': 0.0936360528661082, 'num_leaves': 129, 'feature_fraction': 0.5772837420879483, 'bagging_fraction': 0.7762392207404161, 'bagging_freq': 2, 'min_child_samples': 57, 'learning_rate': 0.001501615837328021, 'max_bin': 512, 'n_estimators': 260}. Best is trial 5 with value: 0.4235082247366586.\n"
     ]
    },
    {
     "name": "stderr",
     "output_type": "stream",
     "text": [
      "\u001B[32m[I 2023-04-26 21:59:14,445]\u001B[0m Trial 21 finished with value: 0.7247177859885826 and parameters: {'lambda_l1': 0.03353200156665507, 'lambda_l2': 7.584991190458851e-05, 'num_leaves': 179, 'feature_fraction': 0.6842407028760097, 'bagging_fraction': 0.7009988707049546, 'bagging_freq': 1, 'min_child_samples': 54, 'learning_rate': 0.020798374920210486, 'max_bin': 288, 'n_estimators': 220}. Best is trial 5 with value: 0.4235082247366586.\u001B[0m\n"
     ]
    },
    {
     "name": "stdout",
     "output_type": "stream",
     "text": [
      "Trial 21 finished with value: 0.7247177859885826 and parameters: {'lambda_l1': 0.03353200156665507, 'lambda_l2': 7.584991190458851e-05, 'num_leaves': 179, 'feature_fraction': 0.6842407028760097, 'bagging_fraction': 0.7009988707049546, 'bagging_freq': 1, 'min_child_samples': 54, 'learning_rate': 0.020798374920210486, 'max_bin': 288, 'n_estimators': 220}. Best is trial 5 with value: 0.4235082247366586.\n"
     ]
    },
    {
     "name": "stderr",
     "output_type": "stream",
     "text": [
      "\u001B[32m[I 2023-04-26 21:59:21,830]\u001B[0m Trial 18 finished with value: 0.7200009039713511 and parameters: {'lambda_l1': 1.6309127005373238e-05, 'lambda_l2': 2.24686161663669e-05, 'num_leaves': 229, 'feature_fraction': 0.680163555357137, 'bagging_fraction': 0.783179371203975, 'bagging_freq': 4, 'min_child_samples': 31, 'learning_rate': 0.013271590617105755, 'max_bin': 288, 'n_estimators': 200}. Best is trial 5 with value: 0.4235082247366586.\u001B[0m\n"
     ]
    },
    {
     "name": "stdout",
     "output_type": "stream",
     "text": [
      "Trial 18 finished with value: 0.7200009039713511 and parameters: {'lambda_l1': 1.6309127005373238e-05, 'lambda_l2': 2.24686161663669e-05, 'num_leaves': 229, 'feature_fraction': 0.680163555357137, 'bagging_fraction': 0.783179371203975, 'bagging_freq': 4, 'min_child_samples': 31, 'learning_rate': 0.013271590617105755, 'max_bin': 288, 'n_estimators': 200}. Best is trial 5 with value: 0.4235082247366586.\n"
     ]
    },
    {
     "name": "stderr",
     "output_type": "stream",
     "text": [
      "\u001B[32m[I 2023-04-26 21:59:25,157]\u001B[0m Trial 23 finished with value: 0.7052974538768557 and parameters: {'lambda_l1': 4.7041902852272645e-05, 'lambda_l2': 1.1153870570307009e-05, 'num_leaves': 107, 'feature_fraction': 0.7263698263213738, 'bagging_fraction': 0.7017138477267462, 'bagging_freq': 5, 'min_child_samples': 76, 'learning_rate': 0.00741000677035772, 'max_bin': 224, 'n_estimators': 240}. Best is trial 5 with value: 0.4235082247366586.\u001B[0m\n"
     ]
    },
    {
     "name": "stdout",
     "output_type": "stream",
     "text": [
      "Trial 23 finished with value: 0.7052974538768557 and parameters: {'lambda_l1': 4.7041902852272645e-05, 'lambda_l2': 1.1153870570307009e-05, 'num_leaves': 107, 'feature_fraction': 0.7263698263213738, 'bagging_fraction': 0.7017138477267462, 'bagging_freq': 5, 'min_child_samples': 76, 'learning_rate': 0.00741000677035772, 'max_bin': 224, 'n_estimators': 240}. Best is trial 5 with value: 0.4235082247366586.\n"
     ]
    },
    {
     "name": "stderr",
     "output_type": "stream",
     "text": [
      "\u001B[32m[I 2023-04-26 21:59:42,337]\u001B[0m Trial 24 finished with value: 0.4647921718693221 and parameters: {'lambda_l1': 0.0005333052153570391, 'lambda_l2': 1.561244892589828e-05, 'num_leaves': 157, 'feature_fraction': 0.5779016751238185, 'bagging_fraction': 0.7435798523082545, 'bagging_freq': 2, 'min_child_samples': 71, 'learning_rate': 0.0027554807118625904, 'max_bin': 480, 'n_estimators': 220}. Best is trial 5 with value: 0.4235082247366586.\u001B[0m\n"
     ]
    },
    {
     "name": "stdout",
     "output_type": "stream",
     "text": [
      "Trial 24 finished with value: 0.4647921718693221 and parameters: {'lambda_l1': 0.0005333052153570391, 'lambda_l2': 1.561244892589828e-05, 'num_leaves': 157, 'feature_fraction': 0.5779016751238185, 'bagging_fraction': 0.7435798523082545, 'bagging_freq': 2, 'min_child_samples': 71, 'learning_rate': 0.0027554807118625904, 'max_bin': 480, 'n_estimators': 220}. Best is trial 5 with value: 0.4235082247366586.\n"
     ]
    },
    {
     "name": "stderr",
     "output_type": "stream",
     "text": [
      "\u001B[32m[I 2023-04-26 21:59:54,121]\u001B[0m Trial 25 finished with value: 0.4235082247366586 and parameters: {'lambda_l1': 0.1343773329137853, 'lambda_l2': 0.00015339668612022298, 'num_leaves': 123, 'feature_fraction': 0.6693977078691773, 'bagging_fraction': 0.7293398441718523, 'bagging_freq': 3, 'min_child_samples': 65, 'learning_rate': 0.0005663109578118587, 'max_bin': 352, 'n_estimators': 140}. Best is trial 5 with value: 0.4235082247366586.\u001B[0m\n"
     ]
    },
    {
     "name": "stdout",
     "output_type": "stream",
     "text": [
      "Trial 25 finished with value: 0.4235082247366586 and parameters: {'lambda_l1': 0.1343773329137853, 'lambda_l2': 0.00015339668612022298, 'num_leaves': 123, 'feature_fraction': 0.6693977078691773, 'bagging_fraction': 0.7293398441718523, 'bagging_freq': 3, 'min_child_samples': 65, 'learning_rate': 0.0005663109578118587, 'max_bin': 352, 'n_estimators': 140}. Best is trial 5 with value: 0.4235082247366586.\n"
     ]
    },
    {
     "name": "stderr",
     "output_type": "stream",
     "text": [
      "\u001B[32m[I 2023-04-26 22:00:00,007]\u001B[0m Trial 22 finished with value: 0.7059193262326448 and parameters: {'lambda_l1': 3.05518403567864e-06, 'lambda_l2': 0.003430942902730991, 'num_leaves': 130, 'feature_fraction': 0.7010102387035586, 'bagging_fraction': 0.757387919062724, 'bagging_freq': 4, 'min_child_samples': 47, 'learning_rate': 0.05818911042675295, 'max_bin': 320, 'n_estimators': 300}. Best is trial 5 with value: 0.4235082247366586.\u001B[0m\n"
     ]
    },
    {
     "name": "stdout",
     "output_type": "stream",
     "text": [
      "Trial 22 finished with value: 0.7059193262326448 and parameters: {'lambda_l1': 3.05518403567864e-06, 'lambda_l2': 0.003430942902730991, 'num_leaves': 130, 'feature_fraction': 0.7010102387035586, 'bagging_fraction': 0.757387919062724, 'bagging_freq': 4, 'min_child_samples': 47, 'learning_rate': 0.05818911042675295, 'max_bin': 320, 'n_estimators': 300}. Best is trial 5 with value: 0.4235082247366586.\n"
     ]
    },
    {
     "name": "stderr",
     "output_type": "stream",
     "text": [
      "\u001B[32m[I 2023-04-26 22:00:01,708]\u001B[0m Trial 1 finished with value: 0.4296022167760862 and parameters: {'lambda_l1': 2.057220960414258e-05, 'lambda_l2': 1.226134414057479e-08, 'num_leaves': 183, 'feature_fraction': 0.777945633563689, 'bagging_fraction': 0.7668364742005638, 'bagging_freq': 4, 'min_child_samples': 9, 'learning_rate': 0.0012478782244765272, 'max_bin': 416, 'n_estimators': 360}. Best is trial 5 with value: 0.4235082247366586.\u001B[0m\n"
     ]
    },
    {
     "name": "stdout",
     "output_type": "stream",
     "text": [
      "Trial 1 finished with value: 0.4296022167760862 and parameters: {'lambda_l1': 2.057220960414258e-05, 'lambda_l2': 1.226134414057479e-08, 'num_leaves': 183, 'feature_fraction': 0.777945633563689, 'bagging_fraction': 0.7668364742005638, 'bagging_freq': 4, 'min_child_samples': 9, 'learning_rate': 0.0012478782244765272, 'max_bin': 416, 'n_estimators': 360}. Best is trial 5 with value: 0.4235082247366586.\n"
     ]
    },
    {
     "name": "stderr",
     "output_type": "stream",
     "text": [
      "\u001B[32m[I 2023-04-26 22:00:06,677]\u001B[0m Trial 26 finished with value: 0.7252039878648813 and parameters: {'lambda_l1': 0.0001584722729397901, 'lambda_l2': 0.009021078757985114, 'num_leaves': 195, 'feature_fraction': 0.6200355250139156, 'bagging_fraction': 0.6735427010317007, 'bagging_freq': 3, 'min_child_samples': 83, 'learning_rate': 0.027365852833081364, 'max_bin': 416, 'n_estimators': 220}. Best is trial 5 with value: 0.4235082247366586.\u001B[0m\n"
     ]
    },
    {
     "name": "stdout",
     "output_type": "stream",
     "text": [
      "Trial 26 finished with value: 0.7252039878648813 and parameters: {'lambda_l1': 0.0001584722729397901, 'lambda_l2': 0.009021078757985114, 'num_leaves': 195, 'feature_fraction': 0.6200355250139156, 'bagging_fraction': 0.6735427010317007, 'bagging_freq': 3, 'min_child_samples': 83, 'learning_rate': 0.027365852833081364, 'max_bin': 416, 'n_estimators': 220}. Best is trial 5 with value: 0.4235082247366586.\n"
     ]
    },
    {
     "name": "stderr",
     "output_type": "stream",
     "text": [
      "\u001B[32m[I 2023-04-26 22:00:22,202]\u001B[0m Trial 30 finished with value: 0.4235082247366586 and parameters: {'lambda_l1': 0.0009717121402260743, 'lambda_l2': 0.00014832554914101498, 'num_leaves': 149, 'feature_fraction': 0.5077094043475243, 'bagging_fraction': 0.7538583499956746, 'bagging_freq': 3, 'min_child_samples': 77, 'learning_rate': 0.0005104077393763588, 'max_bin': 384, 'n_estimators': 100}. Best is trial 5 with value: 0.4235082247366586.\u001B[0m\n"
     ]
    },
    {
     "name": "stdout",
     "output_type": "stream",
     "text": [
      "Trial 30 finished with value: 0.4235082247366586 and parameters: {'lambda_l1': 0.0009717121402260743, 'lambda_l2': 0.00014832554914101498, 'num_leaves': 149, 'feature_fraction': 0.5077094043475243, 'bagging_fraction': 0.7538583499956746, 'bagging_freq': 3, 'min_child_samples': 77, 'learning_rate': 0.0005104077393763588, 'max_bin': 384, 'n_estimators': 100}. Best is trial 5 with value: 0.4235082247366586.\n"
     ]
    },
    {
     "name": "stderr",
     "output_type": "stream",
     "text": [
      "\u001B[32m[I 2023-04-26 22:00:32,017]\u001B[0m Trial 28 finished with value: 0.4235082247366586 and parameters: {'lambda_l1': 0.0006848985059261791, 'lambda_l2': 9.830835918906725e-05, 'num_leaves': 214, 'feature_fraction': 0.6516779534344779, 'bagging_fraction': 0.6955263254940055, 'bagging_freq': 4, 'min_child_samples': 47, 'learning_rate': 0.0013445226953895679, 'max_bin': 512, 'n_estimators': 220}. Best is trial 5 with value: 0.4235082247366586.\u001B[0m\n"
     ]
    },
    {
     "name": "stdout",
     "output_type": "stream",
     "text": [
      "Trial 28 finished with value: 0.4235082247366586 and parameters: {'lambda_l1': 0.0006848985059261791, 'lambda_l2': 9.830835918906725e-05, 'num_leaves': 214, 'feature_fraction': 0.6516779534344779, 'bagging_fraction': 0.6955263254940055, 'bagging_freq': 4, 'min_child_samples': 47, 'learning_rate': 0.0013445226953895679, 'max_bin': 512, 'n_estimators': 220}. Best is trial 5 with value: 0.4235082247366586.\n"
     ]
    },
    {
     "name": "stderr",
     "output_type": "stream",
     "text": [
      "\u001B[32m[I 2023-04-26 22:00:50,610]\u001B[0m Trial 32 finished with value: 0.4235082247366586 and parameters: {'lambda_l1': 0.0023504131832336426, 'lambda_l2': 0.0003345648060106819, 'num_leaves': 116, 'feature_fraction': 0.7084233885069295, 'bagging_fraction': 0.6117956700320719, 'bagging_freq': 3, 'min_child_samples': 61, 'learning_rate': 0.0015100891154366928, 'max_bin': 352, 'n_estimators': 200}. Best is trial 5 with value: 0.4235082247366586.\u001B[0m\n"
     ]
    },
    {
     "name": "stdout",
     "output_type": "stream",
     "text": [
      "Trial 32 finished with value: 0.4235082247366586 and parameters: {'lambda_l1': 0.0023504131832336426, 'lambda_l2': 0.0003345648060106819, 'num_leaves': 116, 'feature_fraction': 0.7084233885069295, 'bagging_fraction': 0.6117956700320719, 'bagging_freq': 3, 'min_child_samples': 61, 'learning_rate': 0.0015100891154366928, 'max_bin': 352, 'n_estimators': 200}. Best is trial 5 with value: 0.4235082247366586.\n"
     ]
    },
    {
     "name": "stderr",
     "output_type": "stream",
     "text": [
      "\u001B[32m[I 2023-04-26 22:00:51,220]\u001B[0m Trial 31 finished with value: 0.4235082247366586 and parameters: {'lambda_l1': 0.0017257527882981283, 'lambda_l2': 0.0003919601374562326, 'num_leaves': 220, 'feature_fraction': 0.864407243207137, 'bagging_fraction': 0.9106298293889803, 'bagging_freq': 4, 'min_child_samples': 81, 'learning_rate': 0.00047577823768574375, 'max_bin': 288, 'n_estimators': 200}. Best is trial 5 with value: 0.4235082247366586.\u001B[0m\n"
     ]
    },
    {
     "name": "stdout",
     "output_type": "stream",
     "text": [
      "Trial 31 finished with value: 0.4235082247366586 and parameters: {'lambda_l1': 0.0017257527882981283, 'lambda_l2': 0.0003919601374562326, 'num_leaves': 220, 'feature_fraction': 0.864407243207137, 'bagging_fraction': 0.9106298293889803, 'bagging_freq': 4, 'min_child_samples': 81, 'learning_rate': 0.00047577823768574375, 'max_bin': 288, 'n_estimators': 200}. Best is trial 5 with value: 0.4235082247366586.\n"
     ]
    },
    {
     "name": "stderr",
     "output_type": "stream",
     "text": [
      "\u001B[32m[I 2023-04-26 22:00:52,768]\u001B[0m Trial 29 finished with value: 0.4235082247366586 and parameters: {'lambda_l1': 0.0020829506830174743, 'lambda_l2': 0.00021136341853158922, 'num_leaves': 119, 'feature_fraction': 0.5411655729242193, 'bagging_fraction': 0.8725154208870947, 'bagging_freq': 2, 'min_child_samples': 31, 'learning_rate': 0.001326674080280392, 'max_bin': 352, 'n_estimators': 160}. Best is trial 5 with value: 0.4235082247366586.\u001B[0m\n"
     ]
    },
    {
     "name": "stdout",
     "output_type": "stream",
     "text": [
      "Trial 29 finished with value: 0.4235082247366586 and parameters: {'lambda_l1': 0.0020829506830174743, 'lambda_l2': 0.00021136341853158922, 'num_leaves': 119, 'feature_fraction': 0.5411655729242193, 'bagging_fraction': 0.8725154208870947, 'bagging_freq': 2, 'min_child_samples': 31, 'learning_rate': 0.001326674080280392, 'max_bin': 352, 'n_estimators': 160}. Best is trial 5 with value: 0.4235082247366586.\n"
     ]
    },
    {
     "name": "stderr",
     "output_type": "stream",
     "text": [
      "\u001B[32m[I 2023-04-26 22:00:55,964]\u001B[0m Trial 33 finished with value: 0.4235082247366586 and parameters: {'lambda_l1': 1.8357536175676748e-05, 'lambda_l2': 0.0023338729936500284, 'num_leaves': 180, 'feature_fraction': 0.6075217738030629, 'bagging_fraction': 0.7128874412919011, 'bagging_freq': 5, 'min_child_samples': 42, 'learning_rate': 0.0006076830989775877, 'max_bin': 448, 'n_estimators': 140}. Best is trial 5 with value: 0.4235082247366586.\u001B[0m\n"
     ]
    },
    {
     "name": "stdout",
     "output_type": "stream",
     "text": [
      "Trial 33 finished with value: 0.4235082247366586 and parameters: {'lambda_l1': 1.8357536175676748e-05, 'lambda_l2': 0.0023338729936500284, 'num_leaves': 180, 'feature_fraction': 0.6075217738030629, 'bagging_fraction': 0.7128874412919011, 'bagging_freq': 5, 'min_child_samples': 42, 'learning_rate': 0.0006076830989775877, 'max_bin': 448, 'n_estimators': 140}. Best is trial 5 with value: 0.4235082247366586.\n"
     ]
    },
    {
     "name": "stderr",
     "output_type": "stream",
     "text": [
      "\u001B[32m[I 2023-04-26 22:00:57,222]\u001B[0m Trial 27 finished with value: 0.6668835851350419 and parameters: {'lambda_l1': 0.0004841156671159634, 'lambda_l2': 0.0001633633292214134, 'num_leaves': 106, 'feature_fraction': 0.5495030257592295, 'bagging_fraction': 0.7310362250273497, 'bagging_freq': 4, 'min_child_samples': 23, 'learning_rate': 0.006510839307992801, 'max_bin': 448, 'n_estimators': 200}. Best is trial 5 with value: 0.4235082247366586.\u001B[0m\n"
     ]
    },
    {
     "name": "stdout",
     "output_type": "stream",
     "text": [
      "Trial 27 finished with value: 0.6668835851350419 and parameters: {'lambda_l1': 0.0004841156671159634, 'lambda_l2': 0.0001633633292214134, 'num_leaves': 106, 'feature_fraction': 0.5495030257592295, 'bagging_fraction': 0.7310362250273497, 'bagging_freq': 4, 'min_child_samples': 23, 'learning_rate': 0.006510839307992801, 'max_bin': 448, 'n_estimators': 200}. Best is trial 5 with value: 0.4235082247366586.\n"
     ]
    },
    {
     "name": "stderr",
     "output_type": "stream",
     "text": [
      "\u001B[32m[I 2023-04-26 22:01:04,573]\u001B[0m Trial 34 finished with value: 0.4235082247366586 and parameters: {'lambda_l1': 0.00037977111511818527, 'lambda_l2': 1.2100202799020918e-05, 'num_leaves': 94, 'feature_fraction': 0.7994716940013217, 'bagging_fraction': 0.6482056850753264, 'bagging_freq': 4, 'min_child_samples': 39, 'learning_rate': 0.0020216943024731373, 'max_bin': 256, 'n_estimators': 160}. Best is trial 5 with value: 0.4235082247366586.\u001B[0m\n"
     ]
    },
    {
     "name": "stdout",
     "output_type": "stream",
     "text": [
      "Trial 34 finished with value: 0.4235082247366586 and parameters: {'lambda_l1': 0.00037977111511818527, 'lambda_l2': 1.2100202799020918e-05, 'num_leaves': 94, 'feature_fraction': 0.7994716940013217, 'bagging_fraction': 0.6482056850753264, 'bagging_freq': 4, 'min_child_samples': 39, 'learning_rate': 0.0020216943024731373, 'max_bin': 256, 'n_estimators': 160}. Best is trial 5 with value: 0.4235082247366586.\n"
     ]
    },
    {
     "name": "stderr",
     "output_type": "stream",
     "text": [
      "\u001B[32m[I 2023-04-26 22:01:06,683]\u001B[0m Trial 35 finished with value: 0.4235082247366586 and parameters: {'lambda_l1': 0.09078765870412851, 'lambda_l2': 6.2836089616779585e-06, 'num_leaves': 167, 'feature_fraction': 0.7052190420761504, 'bagging_fraction': 0.6972375699162854, 'bagging_freq': 3, 'min_child_samples': 87, 'learning_rate': 0.0005167184619640648, 'max_bin': 320, 'n_estimators': 180}. Best is trial 5 with value: 0.4235082247366586.\u001B[0m\n"
     ]
    },
    {
     "name": "stdout",
     "output_type": "stream",
     "text": [
      "Trial 35 finished with value: 0.4235082247366586 and parameters: {'lambda_l1': 0.09078765870412851, 'lambda_l2': 6.2836089616779585e-06, 'num_leaves': 167, 'feature_fraction': 0.7052190420761504, 'bagging_fraction': 0.6972375699162854, 'bagging_freq': 3, 'min_child_samples': 87, 'learning_rate': 0.0005167184619640648, 'max_bin': 320, 'n_estimators': 180}. Best is trial 5 with value: 0.4235082247366586.\n"
     ]
    },
    {
     "name": "stderr",
     "output_type": "stream",
     "text": [
      "\u001B[32m[I 2023-04-26 22:01:35,029]\u001B[0m Trial 40 finished with value: 0.4235082247366586 and parameters: {'lambda_l1': 0.0001252751791138023, 'lambda_l2': 4.0046568772850896e-05, 'num_leaves': 167, 'feature_fraction': 0.6483357126658088, 'bagging_fraction': 0.4573138150286857, 'bagging_freq': 4, 'min_child_samples': 41, 'learning_rate': 0.00034534621616028575, 'max_bin': 416, 'n_estimators': 80}. Best is trial 5 with value: 0.4235082247366586.\u001B[0m\n"
     ]
    },
    {
     "name": "stdout",
     "output_type": "stream",
     "text": [
      "Trial 40 finished with value: 0.4235082247366586 and parameters: {'lambda_l1': 0.0001252751791138023, 'lambda_l2': 4.0046568772850896e-05, 'num_leaves': 167, 'feature_fraction': 0.6483357126658088, 'bagging_fraction': 0.4573138150286857, 'bagging_freq': 4, 'min_child_samples': 41, 'learning_rate': 0.00034534621616028575, 'max_bin': 416, 'n_estimators': 80}. Best is trial 5 with value: 0.4235082247366586.\n"
     ]
    },
    {
     "name": "stderr",
     "output_type": "stream",
     "text": [
      "\u001B[32m[I 2023-04-26 22:01:36,607]\u001B[0m Trial 37 finished with value: 0.6015372283444924 and parameters: {'lambda_l1': 0.00017786200186397356, 'lambda_l2': 0.00567144939429214, 'num_leaves': 188, 'feature_fraction': 0.724872904474686, 'bagging_fraction': 0.5722354600733452, 'bagging_freq': 4, 'min_child_samples': 63, 'learning_rate': 0.0060709357021840995, 'max_bin': 224, 'n_estimators': 140}. Best is trial 5 with value: 0.4235082247366586.\u001B[0m\n"
     ]
    },
    {
     "name": "stdout",
     "output_type": "stream",
     "text": [
      "Trial 37 finished with value: 0.6015372283444924 and parameters: {'lambda_l1': 0.00017786200186397356, 'lambda_l2': 0.00567144939429214, 'num_leaves': 188, 'feature_fraction': 0.724872904474686, 'bagging_fraction': 0.5722354600733452, 'bagging_freq': 4, 'min_child_samples': 63, 'learning_rate': 0.0060709357021840995, 'max_bin': 224, 'n_estimators': 140}. Best is trial 5 with value: 0.4235082247366586.\n"
     ]
    },
    {
     "name": "stderr",
     "output_type": "stream",
     "text": [
      "\u001B[32m[I 2023-04-26 22:01:40,481]\u001B[0m Trial 36 finished with value: 0.4235082247366586 and parameters: {'lambda_l1': 0.0005060949185683066, 'lambda_l2': 0.0065110566908324246, 'num_leaves': 169, 'feature_fraction': 0.8271724095124457, 'bagging_fraction': 0.6982274725595286, 'bagging_freq': 4, 'min_child_samples': 58, 'learning_rate': 0.0004636712686556871, 'max_bin': 352, 'n_estimators': 260}. Best is trial 5 with value: 0.4235082247366586.\u001B[0m\n"
     ]
    },
    {
     "name": "stdout",
     "output_type": "stream",
     "text": [
      "Trial 36 finished with value: 0.4235082247366586 and parameters: {'lambda_l1': 0.0005060949185683066, 'lambda_l2': 0.0065110566908324246, 'num_leaves': 169, 'feature_fraction': 0.8271724095124457, 'bagging_fraction': 0.6982274725595286, 'bagging_freq': 4, 'min_child_samples': 58, 'learning_rate': 0.0004636712686556871, 'max_bin': 352, 'n_estimators': 260}. Best is trial 5 with value: 0.4235082247366586.\n"
     ]
    },
    {
     "name": "stderr",
     "output_type": "stream",
     "text": [
      "\u001B[32m[I 2023-04-26 22:01:46,654]\u001B[0m Trial 38 finished with value: 0.4235082247366586 and parameters: {'lambda_l1': 0.0018130860175022369, 'lambda_l2': 0.00010063277134507422, 'num_leaves': 198, 'feature_fraction': 0.5796203779136433, 'bagging_fraction': 0.7043487973024416, 'bagging_freq': 2, 'min_child_samples': 42, 'learning_rate': 0.0018067678883908298, 'max_bin': 416, 'n_estimators': 120}. Best is trial 5 with value: 0.4235082247366586.\u001B[0m\n"
     ]
    },
    {
     "name": "stdout",
     "output_type": "stream",
     "text": [
      "Trial 38 finished with value: 0.4235082247366586 and parameters: {'lambda_l1': 0.0018130860175022369, 'lambda_l2': 0.00010063277134507422, 'num_leaves': 198, 'feature_fraction': 0.5796203779136433, 'bagging_fraction': 0.7043487973024416, 'bagging_freq': 2, 'min_child_samples': 42, 'learning_rate': 0.0018067678883908298, 'max_bin': 416, 'n_estimators': 120}. Best is trial 5 with value: 0.4235082247366586.\n"
     ]
    },
    {
     "name": "stderr",
     "output_type": "stream",
     "text": [
      "\u001B[32m[I 2023-04-26 22:02:05,808]\u001B[0m Trial 42 finished with value: 0.4235082247366586 and parameters: {'lambda_l1': 0.0060359243771772155, 'lambda_l2': 0.0007583050355678974, 'num_leaves': 140, 'feature_fraction': 0.7050572029682485, 'bagging_fraction': 0.8046552165209491, 'bagging_freq': 4, 'min_child_samples': 87, 'learning_rate': 0.0016810573121454695, 'max_bin': 320, 'n_estimators': 260}. Best is trial 5 with value: 0.4235082247366586.\u001B[0m\n"
     ]
    },
    {
     "name": "stdout",
     "output_type": "stream",
     "text": [
      "Trial 42 finished with value: 0.4235082247366586 and parameters: {'lambda_l1': 0.0060359243771772155, 'lambda_l2': 0.0007583050355678974, 'num_leaves': 140, 'feature_fraction': 0.7050572029682485, 'bagging_fraction': 0.8046552165209491, 'bagging_freq': 4, 'min_child_samples': 87, 'learning_rate': 0.0016810573121454695, 'max_bin': 320, 'n_estimators': 260}. Best is trial 5 with value: 0.4235082247366586.\n"
     ]
    },
    {
     "name": "stderr",
     "output_type": "stream",
     "text": [
      "\u001B[32m[I 2023-04-26 22:02:07,274]\u001B[0m Trial 39 finished with value: 0.4235082247366586 and parameters: {'lambda_l1': 0.00011111970614684665, 'lambda_l2': 7.801208965191916e-05, 'num_leaves': 156, 'feature_fraction': 0.5975236701233376, 'bagging_fraction': 0.8134524616867093, 'bagging_freq': 4, 'min_child_samples': 68, 'learning_rate': 0.001628843130231351, 'max_bin': 384, 'n_estimators': 280}. Best is trial 5 with value: 0.4235082247366586.\u001B[0m\n"
     ]
    },
    {
     "name": "stdout",
     "output_type": "stream",
     "text": [
      "Trial 39 finished with value: 0.4235082247366586 and parameters: {'lambda_l1': 0.00011111970614684665, 'lambda_l2': 7.801208965191916e-05, 'num_leaves': 156, 'feature_fraction': 0.5975236701233376, 'bagging_fraction': 0.8134524616867093, 'bagging_freq': 4, 'min_child_samples': 68, 'learning_rate': 0.001628843130231351, 'max_bin': 384, 'n_estimators': 280}. Best is trial 5 with value: 0.4235082247366586.\n"
     ]
    },
    {
     "name": "stderr",
     "output_type": "stream",
     "text": [
      "\u001B[32m[I 2023-04-26 22:02:12,665]\u001B[0m Trial 43 finished with value: 0.4235082247366586 and parameters: {'lambda_l1': 0.010890140327468276, 'lambda_l2': 0.0004392301688578328, 'num_leaves': 180, 'feature_fraction': 0.5876685162650634, 'bagging_fraction': 0.6713466676101436, 'bagging_freq': 2, 'min_child_samples': 35, 'learning_rate': 0.0009290045519488492, 'max_bin': 352, 'n_estimators': 160}. Best is trial 5 with value: 0.4235082247366586.\u001B[0m\n"
     ]
    },
    {
     "name": "stdout",
     "output_type": "stream",
     "text": [
      "Trial 43 finished with value: 0.4235082247366586 and parameters: {'lambda_l1': 0.010890140327468276, 'lambda_l2': 0.0004392301688578328, 'num_leaves': 180, 'feature_fraction': 0.5876685162650634, 'bagging_fraction': 0.6713466676101436, 'bagging_freq': 2, 'min_child_samples': 35, 'learning_rate': 0.0009290045519488492, 'max_bin': 352, 'n_estimators': 160}. Best is trial 5 with value: 0.4235082247366586.\n"
     ]
    },
    {
     "name": "stderr",
     "output_type": "stream",
     "text": [
      "\u001B[32m[I 2023-04-26 22:02:13,941]\u001B[0m Trial 41 finished with value: 0.4235082247366586 and parameters: {'lambda_l1': 0.0008071823275351634, 'lambda_l2': 0.0027536217976923665, 'num_leaves': 145, 'feature_fraction': 0.7749515744276264, 'bagging_fraction': 0.8958005030541605, 'bagging_freq': 4, 'min_child_samples': 63, 'learning_rate': 0.0014206810743736262, 'max_bin': 480, 'n_estimators': 260}. Best is trial 5 with value: 0.4235082247366586.\u001B[0m\n"
     ]
    },
    {
     "name": "stdout",
     "output_type": "stream",
     "text": [
      "Trial 41 finished with value: 0.4235082247366586 and parameters: {'lambda_l1': 0.0008071823275351634, 'lambda_l2': 0.0027536217976923665, 'num_leaves': 145, 'feature_fraction': 0.7749515744276264, 'bagging_fraction': 0.8958005030541605, 'bagging_freq': 4, 'min_child_samples': 63, 'learning_rate': 0.0014206810743736262, 'max_bin': 480, 'n_estimators': 260}. Best is trial 5 with value: 0.4235082247366586.\n"
     ]
    },
    {
     "name": "stderr",
     "output_type": "stream",
     "text": [
      "\u001B[32m[I 2023-04-26 22:02:25,590]\u001B[0m Trial 44 finished with value: 0.4235082247366586 and parameters: {'lambda_l1': 0.003581640325352662, 'lambda_l2': 3.577127253008481e-05, 'num_leaves': 136, 'feature_fraction': 0.7037555621902205, 'bagging_fraction': 0.7534808195249656, 'bagging_freq': 2, 'min_child_samples': 37, 'learning_rate': 0.0008889426614970405, 'max_bin': 416, 'n_estimators': 80}. Best is trial 5 with value: 0.4235082247366586.\u001B[0m\n"
     ]
    },
    {
     "name": "stdout",
     "output_type": "stream",
     "text": [
      "Trial 44 finished with value: 0.4235082247366586 and parameters: {'lambda_l1': 0.003581640325352662, 'lambda_l2': 3.577127253008481e-05, 'num_leaves': 136, 'feature_fraction': 0.7037555621902205, 'bagging_fraction': 0.7534808195249656, 'bagging_freq': 2, 'min_child_samples': 37, 'learning_rate': 0.0008889426614970405, 'max_bin': 416, 'n_estimators': 80}. Best is trial 5 with value: 0.4235082247366586.\n"
     ]
    },
    {
     "name": "stderr",
     "output_type": "stream",
     "text": [
      "\u001B[33m[W 2023-04-26 22:02:26,148]\u001B[0m Trial 46 failed with parameters: {'lambda_l1': 0.0005358485552091732, 'lambda_l2': 4.491911363327979e-05, 'num_leaves': 153, 'feature_fraction': 0.6049899928711149, 'bagging_fraction': 0.757552463041655, 'bagging_freq': 2, 'min_child_samples': 46, 'learning_rate': 0.0004935226574522204, 'max_bin': 384, 'n_estimators': 120} because of the following error: RuntimeError('dictionary changed size during iteration').\u001B[0m\n",
      "Traceback (most recent call last):\n",
      "  File \"/usr/local/lib/python3.9/dist-packages/joblib/parallel.py\", line 822, in dispatch_one_batch\n",
      "    tasks = self._ready_batches.get(block=False)\n",
      "  File \"/usr/lib/python3.9/queue.py\", line 168, in get\n",
      "    raise Empty\n",
      "_queue.Empty\n",
      "\n",
      "During handling of the above exception, another exception occurred:\n",
      "\n",
      "Traceback (most recent call last):\n",
      "  File \"/usr/local/lib/python3.9/dist-packages/optuna/study/_optimize.py\", line 200, in _run_trial\n",
      "    value_or_values = func(trial)\n",
      "  File \"/tmp/ipykernel_1151/2289925561.py\", line 34, in _objective\n",
      "    scores = cross_val_score(model, X, y, scoring=\"f1_macro\")\n",
      "  File \"/usr/local/lib/python3.9/dist-packages/sklearn/model_selection/_validation.py\", line 515, in cross_val_score\n",
      "    cv_results = cross_validate(\n",
      "  File \"/usr/local/lib/python3.9/dist-packages/sklearn/model_selection/_validation.py\", line 266, in cross_validate\n",
      "    results = parallel(\n",
      "  File \"/usr/local/lib/python3.9/dist-packages/joblib/parallel.py\", line 1046, in __call__\n",
      "    while self.dispatch_one_batch(iterator):\n",
      "  File \"/usr/local/lib/python3.9/dist-packages/joblib/parallel.py\", line 833, in dispatch_one_batch\n",
      "    islice = list(itertools.islice(iterator, big_batch_size))\n",
      "  File \"/usr/local/lib/python3.9/dist-packages/sklearn/model_selection/_validation.py\", line 268, in <genexpr>\n",
      "    clone(estimator),\n",
      "  File \"/usr/local/lib/python3.9/dist-packages/sklearn/base.py\", line 87, in clone\n",
      "    new_object_params[name] = clone(param, safe=False)\n",
      "  File \"/usr/local/lib/python3.9/dist-packages/sklearn/base.py\", line 65, in clone\n",
      "    return estimator_type([clone(e, safe=safe) for e in estimator])\n",
      "  File \"/usr/local/lib/python3.9/dist-packages/sklearn/base.py\", line 65, in <listcomp>\n",
      "    return estimator_type([clone(e, safe=safe) for e in estimator])\n",
      "  File \"/usr/local/lib/python3.9/dist-packages/sklearn/base.py\", line 68, in clone\n",
      "    return copy.deepcopy(estimator)\n",
      "  File \"/usr/lib/python3.9/copy.py\", line 172, in deepcopy\n",
      "    y = _reconstruct(x, memo, *rv)\n",
      "  File \"/usr/lib/python3.9/copy.py\", line 270, in _reconstruct\n",
      "    state = deepcopy(state, memo)\n",
      "  File \"/usr/lib/python3.9/copy.py\", line 146, in deepcopy\n",
      "    y = copier(x, memo)\n",
      "  File \"/usr/lib/python3.9/copy.py\", line 230, in _deepcopy_dict\n",
      "    y[deepcopy(key, memo)] = deepcopy(value, memo)\n",
      "  File \"/usr/lib/python3.9/copy.py\", line 172, in deepcopy\n",
      "    y = _reconstruct(x, memo, *rv)\n",
      "  File \"/usr/lib/python3.9/copy.py\", line 270, in _reconstruct\n",
      "    state = deepcopy(state, memo)\n",
      "  File \"/usr/lib/python3.9/copy.py\", line 146, in deepcopy\n",
      "    y = copier(x, memo)\n",
      "  File \"/usr/lib/python3.9/copy.py\", line 230, in _deepcopy_dict\n",
      "    y[deepcopy(key, memo)] = deepcopy(value, memo)\n",
      "  File \"/usr/lib/python3.9/copy.py\", line 172, in deepcopy\n",
      "    y = _reconstruct(x, memo, *rv)\n",
      "  File \"/usr/lib/python3.9/copy.py\", line 270, in _reconstruct\n",
      "    state = deepcopy(state, memo)\n",
      "  File \"/usr/lib/python3.9/copy.py\", line 146, in deepcopy\n",
      "    y = copier(x, memo)\n",
      "  File \"/usr/lib/python3.9/copy.py\", line 230, in _deepcopy_dict\n",
      "    y[deepcopy(key, memo)] = deepcopy(value, memo)\n",
      "  File \"/usr/lib/python3.9/copy.py\", line 172, in deepcopy\n",
      "    y = _reconstruct(x, memo, *rv)\n",
      "  File \"/usr/lib/python3.9/copy.py\", line 270, in _reconstruct\n",
      "    state = deepcopy(state, memo)\n",
      "  File \"/usr/lib/python3.9/copy.py\", line 146, in deepcopy\n",
      "    y = copier(x, memo)\n",
      "  File \"/usr/lib/python3.9/copy.py\", line 230, in _deepcopy_dict\n",
      "    y[deepcopy(key, memo)] = deepcopy(value, memo)\n",
      "  File \"/usr/lib/python3.9/copy.py\", line 146, in deepcopy\n",
      "    y = copier(x, memo)\n",
      "  File \"/usr/lib/python3.9/copy.py\", line 230, in _deepcopy_dict\n",
      "    y[deepcopy(key, memo)] = deepcopy(value, memo)\n",
      "  File \"/usr/lib/python3.9/copy.py\", line 172, in deepcopy\n",
      "    y = _reconstruct(x, memo, *rv)\n",
      "  File \"/usr/lib/python3.9/copy.py\", line 270, in _reconstruct\n",
      "    state = deepcopy(state, memo)\n",
      "  File \"/usr/lib/python3.9/copy.py\", line 146, in deepcopy\n",
      "    y = copier(x, memo)\n",
      "  File \"/usr/lib/python3.9/copy.py\", line 230, in _deepcopy_dict\n",
      "    y[deepcopy(key, memo)] = deepcopy(value, memo)\n",
      "  File \"/usr/lib/python3.9/copy.py\", line 146, in deepcopy\n",
      "    y = copier(x, memo)\n",
      "  File \"/usr/lib/python3.9/copy.py\", line 229, in _deepcopy_dict\n",
      "    for key, value in x.items():\n",
      "RuntimeError: dictionary changed size during iteration\n"
     ]
    },
    {
     "name": "stdout",
     "output_type": "stream",
     "text": [
      "Trial 46 failed with parameters: {'lambda_l1': 0.0005358485552091732, 'lambda_l2': 4.491911363327979e-05, 'num_leaves': 153, 'feature_fraction': 0.6049899928711149, 'bagging_fraction': 0.757552463041655, 'bagging_freq': 2, 'min_child_samples': 46, 'learning_rate': 0.0004935226574522204, 'max_bin': 384, 'n_estimators': 120} because of the following error: RuntimeError('dictionary changed size during iteration').\n",
      "Traceback (most recent call last):\n",
      "  File \"/usr/local/lib/python3.9/dist-packages/joblib/parallel.py\", line 822, in dispatch_one_batch\n",
      "    tasks = self._ready_batches.get(block=False)\n",
      "  File \"/usr/lib/python3.9/queue.py\", line 168, in get\n",
      "    raise Empty\n",
      "_queue.Empty\n",
      "\n",
      "During handling of the above exception, another exception occurred:\n",
      "\n",
      "Traceback (most recent call last):\n",
      "  File \"/usr/local/lib/python3.9/dist-packages/optuna/study/_optimize.py\", line 200, in _run_trial\n",
      "    value_or_values = func(trial)\n",
      "  File \"/tmp/ipykernel_1151/2289925561.py\", line 34, in _objective\n",
      "    scores = cross_val_score(model, X, y, scoring=\"f1_macro\")\n",
      "  File \"/usr/local/lib/python3.9/dist-packages/sklearn/model_selection/_validation.py\", line 515, in cross_val_score\n",
      "    cv_results = cross_validate(\n",
      "  File \"/usr/local/lib/python3.9/dist-packages/sklearn/model_selection/_validation.py\", line 266, in cross_validate\n",
      "    results = parallel(\n",
      "  File \"/usr/local/lib/python3.9/dist-packages/joblib/parallel.py\", line 1046, in __call__\n",
      "    while self.dispatch_one_batch(iterator):\n",
      "  File \"/usr/local/lib/python3.9/dist-packages/joblib/parallel.py\", line 833, in dispatch_one_batch\n",
      "    islice = list(itertools.islice(iterator, big_batch_size))\n",
      "  File \"/usr/local/lib/python3.9/dist-packages/sklearn/model_selection/_validation.py\", line 268, in <genexpr>\n",
      "    clone(estimator),\n",
      "  File \"/usr/local/lib/python3.9/dist-packages/sklearn/base.py\", line 87, in clone\n",
      "    new_object_params[name] = clone(param, safe=False)\n",
      "  File \"/usr/local/lib/python3.9/dist-packages/sklearn/base.py\", line 65, in clone\n",
      "    return estimator_type([clone(e, safe=safe) for e in estimator])\n",
      "  File \"/usr/local/lib/python3.9/dist-packages/sklearn/base.py\", line 65, in <listcomp>\n",
      "    return estimator_type([clone(e, safe=safe) for e in estimator])\n",
      "  File \"/usr/local/lib/python3.9/dist-packages/sklearn/base.py\", line 68, in clone\n",
      "    return copy.deepcopy(estimator)\n",
      "  File \"/usr/lib/python3.9/copy.py\", line 172, in deepcopy\n",
      "    y = _reconstruct(x, memo, *rv)\n",
      "  File \"/usr/lib/python3.9/copy.py\", line 270, in _reconstruct\n",
      "    state = deepcopy(state, memo)\n",
      "  File \"/usr/lib/python3.9/copy.py\", line 146, in deepcopy\n",
      "    y = copier(x, memo)\n",
      "  File \"/usr/lib/python3.9/copy.py\", line 230, in _deepcopy_dict\n",
      "    y[deepcopy(key, memo)] = deepcopy(value, memo)\n",
      "  File \"/usr/lib/python3.9/copy.py\", line 172, in deepcopy\n",
      "    y = _reconstruct(x, memo, *rv)\n",
      "  File \"/usr/lib/python3.9/copy.py\", line 270, in _reconstruct\n",
      "    state = deepcopy(state, memo)\n",
      "  File \"/usr/lib/python3.9/copy.py\", line 146, in deepcopy\n",
      "    y = copier(x, memo)\n",
      "  File \"/usr/lib/python3.9/copy.py\", line 230, in _deepcopy_dict\n",
      "    y[deepcopy(key, memo)] = deepcopy(value, memo)\n",
      "  File \"/usr/lib/python3.9/copy.py\", line 172, in deepcopy\n",
      "    y = _reconstruct(x, memo, *rv)\n",
      "  File \"/usr/lib/python3.9/copy.py\", line 270, in _reconstruct\n",
      "    state = deepcopy(state, memo)\n",
      "  File \"/usr/lib/python3.9/copy.py\", line 146, in deepcopy\n",
      "    y = copier(x, memo)\n",
      "  File \"/usr/lib/python3.9/copy.py\", line 230, in _deepcopy_dict\n",
      "    y[deepcopy(key, memo)] = deepcopy(value, memo)\n",
      "  File \"/usr/lib/python3.9/copy.py\", line 172, in deepcopy\n",
      "    y = _reconstruct(x, memo, *rv)\n",
      "  File \"/usr/lib/python3.9/copy.py\", line 270, in _reconstruct\n",
      "    state = deepcopy(state, memo)\n",
      "  File \"/usr/lib/python3.9/copy.py\", line 146, in deepcopy\n",
      "    y = copier(x, memo)\n",
      "  File \"/usr/lib/python3.9/copy.py\", line 230, in _deepcopy_dict\n",
      "    y[deepcopy(key, memo)] = deepcopy(value, memo)\n",
      "  File \"/usr/lib/python3.9/copy.py\", line 146, in deepcopy\n",
      "    y = copier(x, memo)\n",
      "  File \"/usr/lib/python3.9/copy.py\", line 230, in _deepcopy_dict\n",
      "    y[deepcopy(key, memo)] = deepcopy(value, memo)\n",
      "  File \"/usr/lib/python3.9/copy.py\", line 172, in deepcopy\n",
      "    y = _reconstruct(x, memo, *rv)\n",
      "  File \"/usr/lib/python3.9/copy.py\", line 270, in _reconstruct\n",
      "    state = deepcopy(state, memo)\n",
      "  File \"/usr/lib/python3.9/copy.py\", line 146, in deepcopy\n",
      "    y = copier(x, memo)\n",
      "  File \"/usr/lib/python3.9/copy.py\", line 230, in _deepcopy_dict\n",
      "    y[deepcopy(key, memo)] = deepcopy(value, memo)\n",
      "  File \"/usr/lib/python3.9/copy.py\", line 146, in deepcopy\n",
      "    y = copier(x, memo)\n",
      "  File \"/usr/lib/python3.9/copy.py\", line 229, in _deepcopy_dict\n",
      "    for key, value in x.items():\n",
      "RuntimeError: dictionary changed size during iteration\n"
     ]
    },
    {
     "name": "stderr",
     "output_type": "stream",
     "text": [
      "\u001B[33m[W 2023-04-26 22:02:26,191]\u001B[0m Trial 46 failed with value None.\u001B[0m\n"
     ]
    },
    {
     "name": "stdout",
     "output_type": "stream",
     "text": [
      "Trial 46 failed with value None.\n"
     ]
    },
    {
     "name": "stderr",
     "output_type": "stream",
     "text": [
      "\u001B[32m[I 2023-04-26 22:02:27,479]\u001B[0m Trial 47 finished with value: 0.4235082247366586 and parameters: {'lambda_l1': 0.2231573308890992, 'lambda_l2': 0.00023531586400224125, 'num_leaves': 125, 'feature_fraction': 0.6909915157100837, 'bagging_fraction': 0.7146409667988023, 'bagging_freq': 4, 'min_child_samples': 64, 'learning_rate': 0.001263837068938151, 'max_bin': 416, 'n_estimators': 100}. Best is trial 5 with value: 0.4235082247366586.\u001B[0m\n"
     ]
    },
    {
     "name": "stdout",
     "output_type": "stream",
     "text": [
      "Trial 47 finished with value: 0.4235082247366586 and parameters: {'lambda_l1': 0.2231573308890992, 'lambda_l2': 0.00023531586400224125, 'num_leaves': 125, 'feature_fraction': 0.6909915157100837, 'bagging_fraction': 0.7146409667988023, 'bagging_freq': 4, 'min_child_samples': 64, 'learning_rate': 0.001263837068938151, 'max_bin': 416, 'n_estimators': 100}. Best is trial 5 with value: 0.4235082247366586.\n"
     ]
    },
    {
     "name": "stderr",
     "output_type": "stream",
     "text": [
      "\u001B[32m[I 2023-04-26 22:02:31,770]\u001B[0m Trial 45 finished with value: 0.4235082247366586 and parameters: {'lambda_l1': 0.23952660621892627, 'lambda_l2': 0.0009821538500136727, 'num_leaves': 123, 'feature_fraction': 0.6736663519514008, 'bagging_fraction': 0.689695325082097, 'bagging_freq': 3, 'min_child_samples': 59, 'learning_rate': 0.0006441154827444114, 'max_bin': 384, 'n_estimators': 200}. Best is trial 5 with value: 0.4235082247366586.\u001B[0m\n"
     ]
    },
    {
     "name": "stdout",
     "output_type": "stream",
     "text": [
      "Trial 45 finished with value: 0.4235082247366586 and parameters: {'lambda_l1': 0.23952660621892627, 'lambda_l2': 0.0009821538500136727, 'num_leaves': 123, 'feature_fraction': 0.6736663519514008, 'bagging_fraction': 0.689695325082097, 'bagging_freq': 3, 'min_child_samples': 59, 'learning_rate': 0.0006441154827444114, 'max_bin': 384, 'n_estimators': 200}. Best is trial 5 with value: 0.4235082247366586.\n"
     ]
    },
    {
     "name": "stderr",
     "output_type": "stream",
     "text": [
      "\u001B[32m[I 2023-04-26 22:02:46,922]\u001B[0m Trial 51 finished with value: 0.4235082247366586 and parameters: {'lambda_l1': 0.15637897793650152, 'lambda_l2': 0.08964543306822373, 'num_leaves': 160, 'feature_fraction': 0.6311818981442667, 'bagging_fraction': 0.7550482593385656, 'bagging_freq': 4, 'min_child_samples': 67, 'learning_rate': 0.0007838454033215808, 'max_bin': 288, 'n_estimators': 120}. Best is trial 5 with value: 0.4235082247366586.\u001B[0m\n"
     ]
    },
    {
     "name": "stdout",
     "output_type": "stream",
     "text": [
      "Trial 51 finished with value: 0.4235082247366586 and parameters: {'lambda_l1': 0.15637897793650152, 'lambda_l2': 0.08964543306822373, 'num_leaves': 160, 'feature_fraction': 0.6311818981442667, 'bagging_fraction': 0.7550482593385656, 'bagging_freq': 4, 'min_child_samples': 67, 'learning_rate': 0.0007838454033215808, 'max_bin': 288, 'n_estimators': 120}. Best is trial 5 with value: 0.4235082247366586.\n"
     ]
    },
    {
     "name": "stderr",
     "output_type": "stream",
     "text": [
      "\u001B[32m[I 2023-04-26 22:02:52,395]\u001B[0m Trial 48 finished with value: 0.4235082247366586 and parameters: {'lambda_l1': 0.006245141148919911, 'lambda_l2': 7.452079101712789e-06, 'num_leaves': 134, 'feature_fraction': 0.7000486954239561, 'bagging_fraction': 0.6291941771651506, 'bagging_freq': 4, 'min_child_samples': 71, 'learning_rate': 0.0013921748948393766, 'max_bin': 320, 'n_estimators': 220}. Best is trial 5 with value: 0.4235082247366586.\u001B[0m\n"
     ]
    },
    {
     "name": "stdout",
     "output_type": "stream",
     "text": [
      "Trial 48 finished with value: 0.4235082247366586 and parameters: {'lambda_l1': 0.006245141148919911, 'lambda_l2': 7.452079101712789e-06, 'num_leaves': 134, 'feature_fraction': 0.7000486954239561, 'bagging_fraction': 0.6291941771651506, 'bagging_freq': 4, 'min_child_samples': 71, 'learning_rate': 0.0013921748948393766, 'max_bin': 320, 'n_estimators': 220}. Best is trial 5 with value: 0.4235082247366586.\n"
     ]
    },
    {
     "name": "stderr",
     "output_type": "stream",
     "text": [
      "\u001B[32m[I 2023-04-26 22:02:56,298]\u001B[0m Trial 52 finished with value: 0.4235082247366586 and parameters: {'lambda_l1': 0.22435531025089386, 'lambda_l2': 8.204890999999079e-05, 'num_leaves': 102, 'feature_fraction': 0.6266607830791726, 'bagging_fraction': 0.8001261340703905, 'bagging_freq': 1, 'min_child_samples': 48, 'learning_rate': 0.0012568932874834399, 'max_bin': 416, 'n_estimators': 120}. Best is trial 5 with value: 0.4235082247366586.\u001B[0m\n"
     ]
    },
    {
     "name": "stdout",
     "output_type": "stream",
     "text": [
      "Trial 52 finished with value: 0.4235082247366586 and parameters: {'lambda_l1': 0.22435531025089386, 'lambda_l2': 8.204890999999079e-05, 'num_leaves': 102, 'feature_fraction': 0.6266607830791726, 'bagging_fraction': 0.8001261340703905, 'bagging_freq': 1, 'min_child_samples': 48, 'learning_rate': 0.0012568932874834399, 'max_bin': 416, 'n_estimators': 120}. Best is trial 5 with value: 0.4235082247366586.\n"
     ]
    },
    {
     "name": "stderr",
     "output_type": "stream",
     "text": [
      "\u001B[32m[I 2023-04-26 22:02:59,748]\u001B[0m Trial 50 finished with value: 0.4235082247366586 and parameters: {'lambda_l1': 0.0012739682245968972, 'lambda_l2': 9.842818164648099e-05, 'num_leaves': 147, 'feature_fraction': 0.5631666822474554, 'bagging_fraction': 0.7274109201998455, 'bagging_freq': 5, 'min_child_samples': 53, 'learning_rate': 0.0022965647473676305, 'max_bin': 416, 'n_estimators': 180}. Best is trial 5 with value: 0.4235082247366586.\u001B[0m\n"
     ]
    },
    {
     "name": "stdout",
     "output_type": "stream",
     "text": [
      "Trial 50 finished with value: 0.4235082247366586 and parameters: {'lambda_l1': 0.0012739682245968972, 'lambda_l2': 9.842818164648099e-05, 'num_leaves': 147, 'feature_fraction': 0.5631666822474554, 'bagging_fraction': 0.7274109201998455, 'bagging_freq': 5, 'min_child_samples': 53, 'learning_rate': 0.0022965647473676305, 'max_bin': 416, 'n_estimators': 180}. Best is trial 5 with value: 0.4235082247366586.\n"
     ]
    },
    {
     "name": "stderr",
     "output_type": "stream",
     "text": [
      "\u001B[32m[I 2023-04-26 22:03:00,457]\u001B[0m Trial 49 finished with value: 0.4235082247366586 and parameters: {'lambda_l1': 0.0050038474922444315, 'lambda_l2': 5.162993438119722e-06, 'num_leaves': 103, 'feature_fraction': 0.5098782589132528, 'bagging_fraction': 0.677029585535416, 'bagging_freq': 3, 'min_child_samples': 52, 'learning_rate': 0.00020630631963538095, 'max_bin': 448, 'n_estimators': 220}. Best is trial 5 with value: 0.4235082247366586.\u001B[0m\n"
     ]
    },
    {
     "name": "stdout",
     "output_type": "stream",
     "text": [
      "Trial 49 finished with value: 0.4235082247366586 and parameters: {'lambda_l1': 0.0050038474922444315, 'lambda_l2': 5.162993438119722e-06, 'num_leaves': 103, 'feature_fraction': 0.5098782589132528, 'bagging_fraction': 0.677029585535416, 'bagging_freq': 3, 'min_child_samples': 52, 'learning_rate': 0.00020630631963538095, 'max_bin': 448, 'n_estimators': 220}. Best is trial 5 with value: 0.4235082247366586.\n"
     ]
    },
    {
     "ename": "RuntimeError",
     "evalue": "dictionary changed size during iteration",
     "output_type": "error",
     "traceback": [
      "\u001B[0;31m---------------------------------------------------------------------------\u001B[0m",
      "\u001B[0;31mEmpty\u001B[0m                                     Traceback (most recent call last)",
      "File \u001B[0;32m/usr/local/lib/python3.9/dist-packages/joblib/parallel.py:822\u001B[0m, in \u001B[0;36mParallel.dispatch_one_batch\u001B[0;34m(self, iterator)\u001B[0m\n\u001B[1;32m    821\u001B[0m \u001B[38;5;28;01mtry\u001B[39;00m:\n\u001B[0;32m--> 822\u001B[0m     tasks \u001B[38;5;241m=\u001B[39m \u001B[38;5;28;43mself\u001B[39;49m\u001B[38;5;241;43m.\u001B[39;49m\u001B[43m_ready_batches\u001B[49m\u001B[38;5;241;43m.\u001B[39;49m\u001B[43mget\u001B[49m\u001B[43m(\u001B[49m\u001B[43mblock\u001B[49m\u001B[38;5;241;43m=\u001B[39;49m\u001B[38;5;28;43;01mFalse\u001B[39;49;00m\u001B[43m)\u001B[49m\n\u001B[1;32m    823\u001B[0m \u001B[38;5;28;01mexcept\u001B[39;00m queue\u001B[38;5;241m.\u001B[39mEmpty:\n\u001B[1;32m    824\u001B[0m     \u001B[38;5;66;03m# slice the iterator n_jobs * batchsize items at a time. If the\u001B[39;00m\n\u001B[1;32m    825\u001B[0m     \u001B[38;5;66;03m# slice returns less than that, then the current batchsize puts\u001B[39;00m\n\u001B[0;32m   (...)\u001B[0m\n\u001B[1;32m    828\u001B[0m     \u001B[38;5;66;03m# accordingly to distribute evenly the last items between all\u001B[39;00m\n\u001B[1;32m    829\u001B[0m     \u001B[38;5;66;03m# workers.\u001B[39;00m\n",
      "File \u001B[0;32m/usr/lib/python3.9/queue.py:168\u001B[0m, in \u001B[0;36mQueue.get\u001B[0;34m(self, block, timeout)\u001B[0m\n\u001B[1;32m    167\u001B[0m     \u001B[38;5;28;01mif\u001B[39;00m \u001B[38;5;129;01mnot\u001B[39;00m \u001B[38;5;28mself\u001B[39m\u001B[38;5;241m.\u001B[39m_qsize():\n\u001B[0;32m--> 168\u001B[0m         \u001B[38;5;28;01mraise\u001B[39;00m Empty\n\u001B[1;32m    169\u001B[0m \u001B[38;5;28;01melif\u001B[39;00m timeout \u001B[38;5;129;01mis\u001B[39;00m \u001B[38;5;28;01mNone\u001B[39;00m:\n",
      "\u001B[0;31mEmpty\u001B[0m: ",
      "\nDuring handling of the above exception, another exception occurred:\n",
      "\u001B[0;31mRuntimeError\u001B[0m                              Traceback (most recent call last)",
      "Input \u001B[0;32mIn [21]\u001B[0m, in \u001B[0;36m<cell line: 5>\u001B[0;34m()\u001B[0m\n\u001B[1;32m      3\u001B[0m storage_name \u001B[38;5;241m=\u001B[39m \u001B[38;5;124mf\u001B[39m\u001B[38;5;124m\"\u001B[39m\u001B[38;5;124msqlite:///\u001B[39m\u001B[38;5;132;01m{\u001B[39;00mstudy_name\u001B[38;5;132;01m}\u001B[39;00m\u001B[38;5;124m.db\u001B[39m\u001B[38;5;124m\"\u001B[39m\n\u001B[1;32m      4\u001B[0m study \u001B[38;5;241m=\u001B[39m optuna\u001B[38;5;241m.\u001B[39mcreate_study(study_name\u001B[38;5;241m=\u001B[39mstudy_name, storage\u001B[38;5;241m=\u001B[39mstorage_name, load_if_exists\u001B[38;5;241m=\u001B[39m\u001B[38;5;28;01mFalse\u001B[39;00m, sampler\u001B[38;5;241m=\u001B[39moptuna\u001B[38;5;241m.\u001B[39msamplers\u001B[38;5;241m.\u001B[39mCmaEsSampler(), pruner\u001B[38;5;241m=\u001B[39moptuna\u001B[38;5;241m.\u001B[39mpruners\u001B[38;5;241m.\u001B[39mHyperbandPruner(min_resource\u001B[38;5;241m=\u001B[39m\u001B[38;5;241m10\u001B[39m, max_resource\u001B[38;5;241m=\u001B[39m\u001B[38;5;241m400\u001B[39m, reduction_factor\u001B[38;5;241m=\u001B[39m\u001B[38;5;241m3\u001B[39m))\n\u001B[0;32m----> 5\u001B[0m \u001B[43mstudy\u001B[49m\u001B[38;5;241;43m.\u001B[39;49m\u001B[43moptimize\u001B[49m\u001B[43m(\u001B[49m\u001B[43mobjective\u001B[49m\u001B[43m(\u001B[49m\u001B[38;5;28;43;01mFalse\u001B[39;49;00m\u001B[43m)\u001B[49m\u001B[43m,\u001B[49m\u001B[43m \u001B[49m\u001B[43mn_trials\u001B[49m\u001B[38;5;241;43m=\u001B[39;49m\u001B[38;5;241;43m100\u001B[39;49m\u001B[43m,\u001B[49m\u001B[43m \u001B[49m\u001B[43mgc_after_trial\u001B[49m\u001B[38;5;241;43m=\u001B[39;49m\u001B[38;5;28;43;01mTrue\u001B[39;49;00m\u001B[43m,\u001B[49m\u001B[43m \u001B[49m\u001B[43mn_jobs\u001B[49m\u001B[38;5;241;43m=\u001B[39;49m\u001B[38;5;241;43m-\u001B[39;49m\u001B[38;5;241;43m1\u001B[39;49m\u001B[43m)\u001B[49m\n",
      "File \u001B[0;32m/usr/local/lib/python3.9/dist-packages/optuna/study/study.py:425\u001B[0m, in \u001B[0;36mStudy.optimize\u001B[0;34m(self, func, n_trials, timeout, n_jobs, catch, callbacks, gc_after_trial, show_progress_bar)\u001B[0m\n\u001B[1;32m    321\u001B[0m \u001B[38;5;28;01mdef\u001B[39;00m \u001B[38;5;21moptimize\u001B[39m(\n\u001B[1;32m    322\u001B[0m     \u001B[38;5;28mself\u001B[39m,\n\u001B[1;32m    323\u001B[0m     func: ObjectiveFuncType,\n\u001B[0;32m   (...)\u001B[0m\n\u001B[1;32m    330\u001B[0m     show_progress_bar: \u001B[38;5;28mbool\u001B[39m \u001B[38;5;241m=\u001B[39m \u001B[38;5;28;01mFalse\u001B[39;00m,\n\u001B[1;32m    331\u001B[0m ) \u001B[38;5;241m-\u001B[39m\u001B[38;5;241m>\u001B[39m \u001B[38;5;28;01mNone\u001B[39;00m:\n\u001B[1;32m    332\u001B[0m     \u001B[38;5;124;03m\"\"\"Optimize an objective function.\u001B[39;00m\n\u001B[1;32m    333\u001B[0m \n\u001B[1;32m    334\u001B[0m \u001B[38;5;124;03m    Optimization is done by choosing a suitable set of hyperparameter values from a given\u001B[39;00m\n\u001B[0;32m   (...)\u001B[0m\n\u001B[1;32m    422\u001B[0m \u001B[38;5;124;03m            If nested invocation of this method occurs.\u001B[39;00m\n\u001B[1;32m    423\u001B[0m \u001B[38;5;124;03m    \"\"\"\u001B[39;00m\n\u001B[0;32m--> 425\u001B[0m     \u001B[43m_optimize\u001B[49m\u001B[43m(\u001B[49m\n\u001B[1;32m    426\u001B[0m \u001B[43m        \u001B[49m\u001B[43mstudy\u001B[49m\u001B[38;5;241;43m=\u001B[39;49m\u001B[38;5;28;43mself\u001B[39;49m\u001B[43m,\u001B[49m\n\u001B[1;32m    427\u001B[0m \u001B[43m        \u001B[49m\u001B[43mfunc\u001B[49m\u001B[38;5;241;43m=\u001B[39;49m\u001B[43mfunc\u001B[49m\u001B[43m,\u001B[49m\n\u001B[1;32m    428\u001B[0m \u001B[43m        \u001B[49m\u001B[43mn_trials\u001B[49m\u001B[38;5;241;43m=\u001B[39;49m\u001B[43mn_trials\u001B[49m\u001B[43m,\u001B[49m\n\u001B[1;32m    429\u001B[0m \u001B[43m        \u001B[49m\u001B[43mtimeout\u001B[49m\u001B[38;5;241;43m=\u001B[39;49m\u001B[43mtimeout\u001B[49m\u001B[43m,\u001B[49m\n\u001B[1;32m    430\u001B[0m \u001B[43m        \u001B[49m\u001B[43mn_jobs\u001B[49m\u001B[38;5;241;43m=\u001B[39;49m\u001B[43mn_jobs\u001B[49m\u001B[43m,\u001B[49m\n\u001B[1;32m    431\u001B[0m \u001B[43m        \u001B[49m\u001B[43mcatch\u001B[49m\u001B[38;5;241;43m=\u001B[39;49m\u001B[38;5;28;43mtuple\u001B[39;49m\u001B[43m(\u001B[49m\u001B[43mcatch\u001B[49m\u001B[43m)\u001B[49m\u001B[43m \u001B[49m\u001B[38;5;28;43;01mif\u001B[39;49;00m\u001B[43m \u001B[49m\u001B[38;5;28;43misinstance\u001B[39;49m\u001B[43m(\u001B[49m\u001B[43mcatch\u001B[49m\u001B[43m,\u001B[49m\u001B[43m \u001B[49m\u001B[43mIterable\u001B[49m\u001B[43m)\u001B[49m\u001B[43m \u001B[49m\u001B[38;5;28;43;01melse\u001B[39;49;00m\u001B[43m \u001B[49m\u001B[43m(\u001B[49m\u001B[43mcatch\u001B[49m\u001B[43m,\u001B[49m\u001B[43m)\u001B[49m\u001B[43m,\u001B[49m\n\u001B[1;32m    432\u001B[0m \u001B[43m        \u001B[49m\u001B[43mcallbacks\u001B[49m\u001B[38;5;241;43m=\u001B[39;49m\u001B[43mcallbacks\u001B[49m\u001B[43m,\u001B[49m\n\u001B[1;32m    433\u001B[0m \u001B[43m        \u001B[49m\u001B[43mgc_after_trial\u001B[49m\u001B[38;5;241;43m=\u001B[39;49m\u001B[43mgc_after_trial\u001B[49m\u001B[43m,\u001B[49m\n\u001B[1;32m    434\u001B[0m \u001B[43m        \u001B[49m\u001B[43mshow_progress_bar\u001B[49m\u001B[38;5;241;43m=\u001B[39;49m\u001B[43mshow_progress_bar\u001B[49m\u001B[43m,\u001B[49m\n\u001B[1;32m    435\u001B[0m \u001B[43m    \u001B[49m\u001B[43m)\u001B[49m\n",
      "File \u001B[0;32m/usr/local/lib/python3.9/dist-packages/optuna/study/_optimize.py:103\u001B[0m, in \u001B[0;36m_optimize\u001B[0;34m(study, func, n_trials, timeout, n_jobs, catch, callbacks, gc_after_trial, show_progress_bar)\u001B[0m\n\u001B[1;32m    101\u001B[0m                     \u001B[38;5;66;03m# Raise if exception occurred in executing the completed futures.\u001B[39;00m\n\u001B[1;32m    102\u001B[0m                     \u001B[38;5;28;01mfor\u001B[39;00m f \u001B[38;5;129;01min\u001B[39;00m completed:\n\u001B[0;32m--> 103\u001B[0m                         \u001B[43mf\u001B[49m\u001B[38;5;241;43m.\u001B[39;49m\u001B[43mresult\u001B[49m\u001B[43m(\u001B[49m\u001B[43m)\u001B[49m\n\u001B[1;32m    105\u001B[0m                 futures\u001B[38;5;241m.\u001B[39madd(\n\u001B[1;32m    106\u001B[0m                     executor\u001B[38;5;241m.\u001B[39msubmit(\n\u001B[1;32m    107\u001B[0m                         _optimize_sequential,\n\u001B[0;32m   (...)\u001B[0m\n\u001B[1;32m    118\u001B[0m                     )\n\u001B[1;32m    119\u001B[0m                 )\n\u001B[1;32m    120\u001B[0m \u001B[38;5;28;01mfinally\u001B[39;00m:\n",
      "File \u001B[0;32m/usr/lib/python3.9/concurrent/futures/_base.py:439\u001B[0m, in \u001B[0;36mFuture.result\u001B[0;34m(self, timeout)\u001B[0m\n\u001B[1;32m    437\u001B[0m     \u001B[38;5;28;01mraise\u001B[39;00m CancelledError()\n\u001B[1;32m    438\u001B[0m \u001B[38;5;28;01melif\u001B[39;00m \u001B[38;5;28mself\u001B[39m\u001B[38;5;241m.\u001B[39m_state \u001B[38;5;241m==\u001B[39m FINISHED:\n\u001B[0;32m--> 439\u001B[0m     \u001B[38;5;28;01mreturn\u001B[39;00m \u001B[38;5;28;43mself\u001B[39;49m\u001B[38;5;241;43m.\u001B[39;49m\u001B[43m__get_result\u001B[49m\u001B[43m(\u001B[49m\u001B[43m)\u001B[49m\n\u001B[1;32m    441\u001B[0m \u001B[38;5;28mself\u001B[39m\u001B[38;5;241m.\u001B[39m_condition\u001B[38;5;241m.\u001B[39mwait(timeout)\n\u001B[1;32m    443\u001B[0m \u001B[38;5;28;01mif\u001B[39;00m \u001B[38;5;28mself\u001B[39m\u001B[38;5;241m.\u001B[39m_state \u001B[38;5;129;01min\u001B[39;00m [CANCELLED, CANCELLED_AND_NOTIFIED]:\n",
      "File \u001B[0;32m/usr/lib/python3.9/concurrent/futures/_base.py:391\u001B[0m, in \u001B[0;36mFuture.__get_result\u001B[0;34m(self)\u001B[0m\n\u001B[1;32m    389\u001B[0m \u001B[38;5;28;01mif\u001B[39;00m \u001B[38;5;28mself\u001B[39m\u001B[38;5;241m.\u001B[39m_exception:\n\u001B[1;32m    390\u001B[0m     \u001B[38;5;28;01mtry\u001B[39;00m:\n\u001B[0;32m--> 391\u001B[0m         \u001B[38;5;28;01mraise\u001B[39;00m \u001B[38;5;28mself\u001B[39m\u001B[38;5;241m.\u001B[39m_exception\n\u001B[1;32m    392\u001B[0m     \u001B[38;5;28;01mfinally\u001B[39;00m:\n\u001B[1;32m    393\u001B[0m         \u001B[38;5;66;03m# Break a reference cycle with the exception in self._exception\u001B[39;00m\n\u001B[1;32m    394\u001B[0m         \u001B[38;5;28mself\u001B[39m \u001B[38;5;241m=\u001B[39m \u001B[38;5;28;01mNone\u001B[39;00m\n",
      "File \u001B[0;32m/usr/lib/python3.9/concurrent/futures/thread.py:58\u001B[0m, in \u001B[0;36m_WorkItem.run\u001B[0;34m(self)\u001B[0m\n\u001B[1;32m     55\u001B[0m     \u001B[38;5;28;01mreturn\u001B[39;00m\n\u001B[1;32m     57\u001B[0m \u001B[38;5;28;01mtry\u001B[39;00m:\n\u001B[0;32m---> 58\u001B[0m     result \u001B[38;5;241m=\u001B[39m \u001B[38;5;28;43mself\u001B[39;49m\u001B[38;5;241;43m.\u001B[39;49m\u001B[43mfn\u001B[49m\u001B[43m(\u001B[49m\u001B[38;5;241;43m*\u001B[39;49m\u001B[38;5;28;43mself\u001B[39;49m\u001B[38;5;241;43m.\u001B[39;49m\u001B[43margs\u001B[49m\u001B[43m,\u001B[49m\u001B[43m \u001B[49m\u001B[38;5;241;43m*\u001B[39;49m\u001B[38;5;241;43m*\u001B[39;49m\u001B[38;5;28;43mself\u001B[39;49m\u001B[38;5;241;43m.\u001B[39;49m\u001B[43mkwargs\u001B[49m\u001B[43m)\u001B[49m\n\u001B[1;32m     59\u001B[0m \u001B[38;5;28;01mexcept\u001B[39;00m \u001B[38;5;167;01mBaseException\u001B[39;00m \u001B[38;5;28;01mas\u001B[39;00m exc:\n\u001B[1;32m     60\u001B[0m     \u001B[38;5;28mself\u001B[39m\u001B[38;5;241m.\u001B[39mfuture\u001B[38;5;241m.\u001B[39mset_exception(exc)\n",
      "File \u001B[0;32m/usr/local/lib/python3.9/dist-packages/optuna/study/_optimize.py:163\u001B[0m, in \u001B[0;36m_optimize_sequential\u001B[0;34m(study, func, n_trials, timeout, catch, callbacks, gc_after_trial, reseed_sampler_rng, time_start, progress_bar)\u001B[0m\n\u001B[1;32m    160\u001B[0m         \u001B[38;5;28;01mbreak\u001B[39;00m\n\u001B[1;32m    162\u001B[0m \u001B[38;5;28;01mtry\u001B[39;00m:\n\u001B[0;32m--> 163\u001B[0m     frozen_trial \u001B[38;5;241m=\u001B[39m \u001B[43m_run_trial\u001B[49m\u001B[43m(\u001B[49m\u001B[43mstudy\u001B[49m\u001B[43m,\u001B[49m\u001B[43m \u001B[49m\u001B[43mfunc\u001B[49m\u001B[43m,\u001B[49m\u001B[43m \u001B[49m\u001B[43mcatch\u001B[49m\u001B[43m)\u001B[49m\n\u001B[1;32m    164\u001B[0m \u001B[38;5;28;01mfinally\u001B[39;00m:\n\u001B[1;32m    165\u001B[0m     \u001B[38;5;66;03m# The following line mitigates memory problems that can be occurred in some\u001B[39;00m\n\u001B[1;32m    166\u001B[0m     \u001B[38;5;66;03m# environments (e.g., services that use computing containers such as GitHub Actions).\u001B[39;00m\n\u001B[1;32m    167\u001B[0m     \u001B[38;5;66;03m# Please refer to the following PR for further details:\u001B[39;00m\n\u001B[1;32m    168\u001B[0m     \u001B[38;5;66;03m# https://github.com/optuna/optuna/pull/325.\u001B[39;00m\n\u001B[1;32m    169\u001B[0m     \u001B[38;5;28;01mif\u001B[39;00m gc_after_trial:\n",
      "File \u001B[0;32m/usr/local/lib/python3.9/dist-packages/optuna/study/_optimize.py:251\u001B[0m, in \u001B[0;36m_run_trial\u001B[0;34m(study, func, catch)\u001B[0m\n\u001B[1;32m    244\u001B[0m         \u001B[38;5;28;01massert\u001B[39;00m \u001B[38;5;28;01mFalse\u001B[39;00m, \u001B[38;5;124m\"\u001B[39m\u001B[38;5;124mShould not reach.\u001B[39m\u001B[38;5;124m\"\u001B[39m\n\u001B[1;32m    246\u001B[0m \u001B[38;5;28;01mif\u001B[39;00m (\n\u001B[1;32m    247\u001B[0m     frozen_trial\u001B[38;5;241m.\u001B[39mstate \u001B[38;5;241m==\u001B[39m TrialState\u001B[38;5;241m.\u001B[39mFAIL\n\u001B[1;32m    248\u001B[0m     \u001B[38;5;129;01mand\u001B[39;00m func_err \u001B[38;5;129;01mis\u001B[39;00m \u001B[38;5;129;01mnot\u001B[39;00m \u001B[38;5;28;01mNone\u001B[39;00m\n\u001B[1;32m    249\u001B[0m     \u001B[38;5;129;01mand\u001B[39;00m \u001B[38;5;129;01mnot\u001B[39;00m \u001B[38;5;28misinstance\u001B[39m(func_err, catch)\n\u001B[1;32m    250\u001B[0m ):\n\u001B[0;32m--> 251\u001B[0m     \u001B[38;5;28;01mraise\u001B[39;00m func_err\n\u001B[1;32m    252\u001B[0m \u001B[38;5;28;01mreturn\u001B[39;00m frozen_trial\n",
      "File \u001B[0;32m/usr/local/lib/python3.9/dist-packages/optuna/study/_optimize.py:200\u001B[0m, in \u001B[0;36m_run_trial\u001B[0;34m(study, func, catch)\u001B[0m\n\u001B[1;32m    198\u001B[0m \u001B[38;5;28;01mwith\u001B[39;00m get_heartbeat_thread(trial\u001B[38;5;241m.\u001B[39m_trial_id, study\u001B[38;5;241m.\u001B[39m_storage):\n\u001B[1;32m    199\u001B[0m     \u001B[38;5;28;01mtry\u001B[39;00m:\n\u001B[0;32m--> 200\u001B[0m         value_or_values \u001B[38;5;241m=\u001B[39m \u001B[43mfunc\u001B[49m\u001B[43m(\u001B[49m\u001B[43mtrial\u001B[49m\u001B[43m)\u001B[49m\n\u001B[1;32m    201\u001B[0m     \u001B[38;5;28;01mexcept\u001B[39;00m exceptions\u001B[38;5;241m.\u001B[39mTrialPruned \u001B[38;5;28;01mas\u001B[39;00m e:\n\u001B[1;32m    202\u001B[0m         \u001B[38;5;66;03m# TODO(mamu): Handle multi-objective cases.\u001B[39;00m\n\u001B[1;32m    203\u001B[0m         state \u001B[38;5;241m=\u001B[39m TrialState\u001B[38;5;241m.\u001B[39mPRUNED\n",
      "Input \u001B[0;32mIn [6]\u001B[0m, in \u001B[0;36mobjective.<locals>._objective\u001B[0;34m(trial)\u001B[0m\n\u001B[1;32m     18\u001B[0m pruning_callback \u001B[38;5;241m=\u001B[39m optuna\u001B[38;5;241m.\u001B[39mintegration\u001B[38;5;241m.\u001B[39mLightGBMPruningCallback(trial, \u001B[38;5;124m\"\u001B[39m\u001B[38;5;124mbinary_logloss\u001B[39m\u001B[38;5;124m\"\u001B[39m)\n\u001B[1;32m     20\u001B[0m model \u001B[38;5;241m=\u001B[39m lgb\u001B[38;5;241m.\u001B[39mLGBMClassifier(force_row_wise\u001B[38;5;241m=\u001B[39m\u001B[38;5;28;01mTrue\u001B[39;00m,\n\u001B[1;32m     21\u001B[0m                            boosting_type\u001B[38;5;241m=\u001B[39mboosting_type,\n\u001B[1;32m     22\u001B[0m                            n_estimators\u001B[38;5;241m=\u001B[39mn_estimators,\n\u001B[0;32m   (...)\u001B[0m\n\u001B[1;32m     32\u001B[0m                            callbacks\u001B[38;5;241m=\u001B[39m[pruning_callback],\n\u001B[1;32m     33\u001B[0m                            verbose\u001B[38;5;241m=\u001B[39m\u001B[38;5;241m-\u001B[39m\u001B[38;5;241m1\u001B[39m)\n\u001B[0;32m---> 34\u001B[0m scores \u001B[38;5;241m=\u001B[39m \u001B[43mcross_val_score\u001B[49m\u001B[43m(\u001B[49m\u001B[43mmodel\u001B[49m\u001B[43m,\u001B[49m\u001B[43m \u001B[49m\u001B[43mX\u001B[49m\u001B[43m,\u001B[49m\u001B[43m \u001B[49m\u001B[43my\u001B[49m\u001B[43m,\u001B[49m\u001B[43m \u001B[49m\u001B[43mscoring\u001B[49m\u001B[38;5;241;43m=\u001B[39;49m\u001B[38;5;124;43m\"\u001B[39;49m\u001B[38;5;124;43mf1_macro\u001B[39;49m\u001B[38;5;124;43m\"\u001B[39;49m\u001B[43m)\u001B[49m\n\u001B[1;32m     35\u001B[0m \u001B[38;5;28;01mreturn\u001B[39;00m scores\u001B[38;5;241m.\u001B[39mmean()\n",
      "File \u001B[0;32m/usr/local/lib/python3.9/dist-packages/sklearn/model_selection/_validation.py:515\u001B[0m, in \u001B[0;36mcross_val_score\u001B[0;34m(estimator, X, y, groups, scoring, cv, n_jobs, verbose, fit_params, pre_dispatch, error_score)\u001B[0m\n\u001B[1;32m    512\u001B[0m \u001B[38;5;66;03m# To ensure multimetric format is not supported\u001B[39;00m\n\u001B[1;32m    513\u001B[0m scorer \u001B[38;5;241m=\u001B[39m check_scoring(estimator, scoring\u001B[38;5;241m=\u001B[39mscoring)\n\u001B[0;32m--> 515\u001B[0m cv_results \u001B[38;5;241m=\u001B[39m \u001B[43mcross_validate\u001B[49m\u001B[43m(\u001B[49m\n\u001B[1;32m    516\u001B[0m \u001B[43m    \u001B[49m\u001B[43mestimator\u001B[49m\u001B[38;5;241;43m=\u001B[39;49m\u001B[43mestimator\u001B[49m\u001B[43m,\u001B[49m\n\u001B[1;32m    517\u001B[0m \u001B[43m    \u001B[49m\u001B[43mX\u001B[49m\u001B[38;5;241;43m=\u001B[39;49m\u001B[43mX\u001B[49m\u001B[43m,\u001B[49m\n\u001B[1;32m    518\u001B[0m \u001B[43m    \u001B[49m\u001B[43my\u001B[49m\u001B[38;5;241;43m=\u001B[39;49m\u001B[43my\u001B[49m\u001B[43m,\u001B[49m\n\u001B[1;32m    519\u001B[0m \u001B[43m    \u001B[49m\u001B[43mgroups\u001B[49m\u001B[38;5;241;43m=\u001B[39;49m\u001B[43mgroups\u001B[49m\u001B[43m,\u001B[49m\n\u001B[1;32m    520\u001B[0m \u001B[43m    \u001B[49m\u001B[43mscoring\u001B[49m\u001B[38;5;241;43m=\u001B[39;49m\u001B[43m{\u001B[49m\u001B[38;5;124;43m\"\u001B[39;49m\u001B[38;5;124;43mscore\u001B[39;49m\u001B[38;5;124;43m\"\u001B[39;49m\u001B[43m:\u001B[49m\u001B[43m \u001B[49m\u001B[43mscorer\u001B[49m\u001B[43m}\u001B[49m\u001B[43m,\u001B[49m\n\u001B[1;32m    521\u001B[0m \u001B[43m    \u001B[49m\u001B[43mcv\u001B[49m\u001B[38;5;241;43m=\u001B[39;49m\u001B[43mcv\u001B[49m\u001B[43m,\u001B[49m\n\u001B[1;32m    522\u001B[0m \u001B[43m    \u001B[49m\u001B[43mn_jobs\u001B[49m\u001B[38;5;241;43m=\u001B[39;49m\u001B[43mn_jobs\u001B[49m\u001B[43m,\u001B[49m\n\u001B[1;32m    523\u001B[0m \u001B[43m    \u001B[49m\u001B[43mverbose\u001B[49m\u001B[38;5;241;43m=\u001B[39;49m\u001B[43mverbose\u001B[49m\u001B[43m,\u001B[49m\n\u001B[1;32m    524\u001B[0m \u001B[43m    \u001B[49m\u001B[43mfit_params\u001B[49m\u001B[38;5;241;43m=\u001B[39;49m\u001B[43mfit_params\u001B[49m\u001B[43m,\u001B[49m\n\u001B[1;32m    525\u001B[0m \u001B[43m    \u001B[49m\u001B[43mpre_dispatch\u001B[49m\u001B[38;5;241;43m=\u001B[39;49m\u001B[43mpre_dispatch\u001B[49m\u001B[43m,\u001B[49m\n\u001B[1;32m    526\u001B[0m \u001B[43m    \u001B[49m\u001B[43merror_score\u001B[49m\u001B[38;5;241;43m=\u001B[39;49m\u001B[43merror_score\u001B[49m\u001B[43m,\u001B[49m\n\u001B[1;32m    527\u001B[0m \u001B[43m\u001B[49m\u001B[43m)\u001B[49m\n\u001B[1;32m    528\u001B[0m \u001B[38;5;28;01mreturn\u001B[39;00m cv_results[\u001B[38;5;124m\"\u001B[39m\u001B[38;5;124mtest_score\u001B[39m\u001B[38;5;124m\"\u001B[39m]\n",
      "File \u001B[0;32m/usr/local/lib/python3.9/dist-packages/sklearn/model_selection/_validation.py:266\u001B[0m, in \u001B[0;36mcross_validate\u001B[0;34m(estimator, X, y, groups, scoring, cv, n_jobs, verbose, fit_params, pre_dispatch, return_train_score, return_estimator, error_score)\u001B[0m\n\u001B[1;32m    263\u001B[0m \u001B[38;5;66;03m# We clone the estimator to make sure that all the folds are\u001B[39;00m\n\u001B[1;32m    264\u001B[0m \u001B[38;5;66;03m# independent, and that it is pickle-able.\u001B[39;00m\n\u001B[1;32m    265\u001B[0m parallel \u001B[38;5;241m=\u001B[39m Parallel(n_jobs\u001B[38;5;241m=\u001B[39mn_jobs, verbose\u001B[38;5;241m=\u001B[39mverbose, pre_dispatch\u001B[38;5;241m=\u001B[39mpre_dispatch)\n\u001B[0;32m--> 266\u001B[0m results \u001B[38;5;241m=\u001B[39m \u001B[43mparallel\u001B[49m\u001B[43m(\u001B[49m\n\u001B[1;32m    267\u001B[0m \u001B[43m    \u001B[49m\u001B[43mdelayed\u001B[49m\u001B[43m(\u001B[49m\u001B[43m_fit_and_score\u001B[49m\u001B[43m)\u001B[49m\u001B[43m(\u001B[49m\n\u001B[1;32m    268\u001B[0m \u001B[43m        \u001B[49m\u001B[43mclone\u001B[49m\u001B[43m(\u001B[49m\u001B[43mestimator\u001B[49m\u001B[43m)\u001B[49m\u001B[43m,\u001B[49m\n\u001B[1;32m    269\u001B[0m \u001B[43m        \u001B[49m\u001B[43mX\u001B[49m\u001B[43m,\u001B[49m\n\u001B[1;32m    270\u001B[0m \u001B[43m        \u001B[49m\u001B[43my\u001B[49m\u001B[43m,\u001B[49m\n\u001B[1;32m    271\u001B[0m \u001B[43m        \u001B[49m\u001B[43mscorers\u001B[49m\u001B[43m,\u001B[49m\n\u001B[1;32m    272\u001B[0m \u001B[43m        \u001B[49m\u001B[43mtrain\u001B[49m\u001B[43m,\u001B[49m\n\u001B[1;32m    273\u001B[0m \u001B[43m        \u001B[49m\u001B[43mtest\u001B[49m\u001B[43m,\u001B[49m\n\u001B[1;32m    274\u001B[0m \u001B[43m        \u001B[49m\u001B[43mverbose\u001B[49m\u001B[43m,\u001B[49m\n\u001B[1;32m    275\u001B[0m \u001B[43m        \u001B[49m\u001B[38;5;28;43;01mNone\u001B[39;49;00m\u001B[43m,\u001B[49m\n\u001B[1;32m    276\u001B[0m \u001B[43m        \u001B[49m\u001B[43mfit_params\u001B[49m\u001B[43m,\u001B[49m\n\u001B[1;32m    277\u001B[0m \u001B[43m        \u001B[49m\u001B[43mreturn_train_score\u001B[49m\u001B[38;5;241;43m=\u001B[39;49m\u001B[43mreturn_train_score\u001B[49m\u001B[43m,\u001B[49m\n\u001B[1;32m    278\u001B[0m \u001B[43m        \u001B[49m\u001B[43mreturn_times\u001B[49m\u001B[38;5;241;43m=\u001B[39;49m\u001B[38;5;28;43;01mTrue\u001B[39;49;00m\u001B[43m,\u001B[49m\n\u001B[1;32m    279\u001B[0m \u001B[43m        \u001B[49m\u001B[43mreturn_estimator\u001B[49m\u001B[38;5;241;43m=\u001B[39;49m\u001B[43mreturn_estimator\u001B[49m\u001B[43m,\u001B[49m\n\u001B[1;32m    280\u001B[0m \u001B[43m        \u001B[49m\u001B[43merror_score\u001B[49m\u001B[38;5;241;43m=\u001B[39;49m\u001B[43merror_score\u001B[49m\u001B[43m,\u001B[49m\n\u001B[1;32m    281\u001B[0m \u001B[43m    \u001B[49m\u001B[43m)\u001B[49m\n\u001B[1;32m    282\u001B[0m \u001B[43m    \u001B[49m\u001B[38;5;28;43;01mfor\u001B[39;49;00m\u001B[43m \u001B[49m\u001B[43mtrain\u001B[49m\u001B[43m,\u001B[49m\u001B[43m \u001B[49m\u001B[43mtest\u001B[49m\u001B[43m \u001B[49m\u001B[38;5;129;43;01min\u001B[39;49;00m\u001B[43m \u001B[49m\u001B[43mcv\u001B[49m\u001B[38;5;241;43m.\u001B[39;49m\u001B[43msplit\u001B[49m\u001B[43m(\u001B[49m\u001B[43mX\u001B[49m\u001B[43m,\u001B[49m\u001B[43m \u001B[49m\u001B[43my\u001B[49m\u001B[43m,\u001B[49m\u001B[43m \u001B[49m\u001B[43mgroups\u001B[49m\u001B[43m)\u001B[49m\n\u001B[1;32m    283\u001B[0m \u001B[43m\u001B[49m\u001B[43m)\u001B[49m\n\u001B[1;32m    285\u001B[0m _warn_or_raise_about_fit_failures(results, error_score)\n\u001B[1;32m    287\u001B[0m \u001B[38;5;66;03m# For callabe scoring, the return type is only know after calling. If the\u001B[39;00m\n\u001B[1;32m    288\u001B[0m \u001B[38;5;66;03m# return type is a dictionary, the error scores can now be inserted with\u001B[39;00m\n\u001B[1;32m    289\u001B[0m \u001B[38;5;66;03m# the correct key.\u001B[39;00m\n",
      "File \u001B[0;32m/usr/local/lib/python3.9/dist-packages/joblib/parallel.py:1046\u001B[0m, in \u001B[0;36mParallel.__call__\u001B[0;34m(self, iterable)\u001B[0m\n\u001B[1;32m   1043\u001B[0m \u001B[38;5;28;01mif\u001B[39;00m \u001B[38;5;28mself\u001B[39m\u001B[38;5;241m.\u001B[39mdispatch_one_batch(iterator):\n\u001B[1;32m   1044\u001B[0m     \u001B[38;5;28mself\u001B[39m\u001B[38;5;241m.\u001B[39m_iterating \u001B[38;5;241m=\u001B[39m \u001B[38;5;28mself\u001B[39m\u001B[38;5;241m.\u001B[39m_original_iterator \u001B[38;5;129;01mis\u001B[39;00m \u001B[38;5;129;01mnot\u001B[39;00m \u001B[38;5;28;01mNone\u001B[39;00m\n\u001B[0;32m-> 1046\u001B[0m \u001B[38;5;28;01mwhile\u001B[39;00m \u001B[38;5;28;43mself\u001B[39;49m\u001B[38;5;241;43m.\u001B[39;49m\u001B[43mdispatch_one_batch\u001B[49m\u001B[43m(\u001B[49m\u001B[43miterator\u001B[49m\u001B[43m)\u001B[49m:\n\u001B[1;32m   1047\u001B[0m     \u001B[38;5;28;01mpass\u001B[39;00m\n\u001B[1;32m   1049\u001B[0m \u001B[38;5;28;01mif\u001B[39;00m pre_dispatch \u001B[38;5;241m==\u001B[39m \u001B[38;5;124m\"\u001B[39m\u001B[38;5;124mall\u001B[39m\u001B[38;5;124m\"\u001B[39m \u001B[38;5;129;01mor\u001B[39;00m n_jobs \u001B[38;5;241m==\u001B[39m \u001B[38;5;241m1\u001B[39m:\n\u001B[1;32m   1050\u001B[0m     \u001B[38;5;66;03m# The iterable was consumed all at once by the above for loop.\u001B[39;00m\n\u001B[1;32m   1051\u001B[0m     \u001B[38;5;66;03m# No need to wait for async callbacks to trigger to\u001B[39;00m\n\u001B[1;32m   1052\u001B[0m     \u001B[38;5;66;03m# consumption.\u001B[39;00m\n",
      "File \u001B[0;32m/usr/local/lib/python3.9/dist-packages/joblib/parallel.py:833\u001B[0m, in \u001B[0;36mParallel.dispatch_one_batch\u001B[0;34m(self, iterator)\u001B[0m\n\u001B[1;32m    830\u001B[0m n_jobs \u001B[38;5;241m=\u001B[39m \u001B[38;5;28mself\u001B[39m\u001B[38;5;241m.\u001B[39m_cached_effective_n_jobs\n\u001B[1;32m    831\u001B[0m big_batch_size \u001B[38;5;241m=\u001B[39m batch_size \u001B[38;5;241m*\u001B[39m n_jobs\n\u001B[0;32m--> 833\u001B[0m islice \u001B[38;5;241m=\u001B[39m \u001B[38;5;28;43mlist\u001B[39;49m\u001B[43m(\u001B[49m\u001B[43mitertools\u001B[49m\u001B[38;5;241;43m.\u001B[39;49m\u001B[43mislice\u001B[49m\u001B[43m(\u001B[49m\u001B[43miterator\u001B[49m\u001B[43m,\u001B[49m\u001B[43m \u001B[49m\u001B[43mbig_batch_size\u001B[49m\u001B[43m)\u001B[49m\u001B[43m)\u001B[49m\n\u001B[1;32m    834\u001B[0m \u001B[38;5;28;01mif\u001B[39;00m \u001B[38;5;28mlen\u001B[39m(islice) \u001B[38;5;241m==\u001B[39m \u001B[38;5;241m0\u001B[39m:\n\u001B[1;32m    835\u001B[0m     \u001B[38;5;28;01mreturn\u001B[39;00m \u001B[38;5;28;01mFalse\u001B[39;00m\n",
      "File \u001B[0;32m/usr/local/lib/python3.9/dist-packages/sklearn/model_selection/_validation.py:268\u001B[0m, in \u001B[0;36m<genexpr>\u001B[0;34m(.0)\u001B[0m\n\u001B[1;32m    263\u001B[0m \u001B[38;5;66;03m# We clone the estimator to make sure that all the folds are\u001B[39;00m\n\u001B[1;32m    264\u001B[0m \u001B[38;5;66;03m# independent, and that it is pickle-able.\u001B[39;00m\n\u001B[1;32m    265\u001B[0m parallel \u001B[38;5;241m=\u001B[39m Parallel(n_jobs\u001B[38;5;241m=\u001B[39mn_jobs, verbose\u001B[38;5;241m=\u001B[39mverbose, pre_dispatch\u001B[38;5;241m=\u001B[39mpre_dispatch)\n\u001B[1;32m    266\u001B[0m results \u001B[38;5;241m=\u001B[39m parallel(\n\u001B[1;32m    267\u001B[0m     delayed(_fit_and_score)(\n\u001B[0;32m--> 268\u001B[0m         \u001B[43mclone\u001B[49m\u001B[43m(\u001B[49m\u001B[43mestimator\u001B[49m\u001B[43m)\u001B[49m,\n\u001B[1;32m    269\u001B[0m         X,\n\u001B[1;32m    270\u001B[0m         y,\n\u001B[1;32m    271\u001B[0m         scorers,\n\u001B[1;32m    272\u001B[0m         train,\n\u001B[1;32m    273\u001B[0m         test,\n\u001B[1;32m    274\u001B[0m         verbose,\n\u001B[1;32m    275\u001B[0m         \u001B[38;5;28;01mNone\u001B[39;00m,\n\u001B[1;32m    276\u001B[0m         fit_params,\n\u001B[1;32m    277\u001B[0m         return_train_score\u001B[38;5;241m=\u001B[39mreturn_train_score,\n\u001B[1;32m    278\u001B[0m         return_times\u001B[38;5;241m=\u001B[39m\u001B[38;5;28;01mTrue\u001B[39;00m,\n\u001B[1;32m    279\u001B[0m         return_estimator\u001B[38;5;241m=\u001B[39mreturn_estimator,\n\u001B[1;32m    280\u001B[0m         error_score\u001B[38;5;241m=\u001B[39merror_score,\n\u001B[1;32m    281\u001B[0m     )\n\u001B[1;32m    282\u001B[0m     \u001B[38;5;28;01mfor\u001B[39;00m train, test \u001B[38;5;129;01min\u001B[39;00m cv\u001B[38;5;241m.\u001B[39msplit(X, y, groups)\n\u001B[1;32m    283\u001B[0m )\n\u001B[1;32m    285\u001B[0m _warn_or_raise_about_fit_failures(results, error_score)\n\u001B[1;32m    287\u001B[0m \u001B[38;5;66;03m# For callabe scoring, the return type is only know after calling. If the\u001B[39;00m\n\u001B[1;32m    288\u001B[0m \u001B[38;5;66;03m# return type is a dictionary, the error scores can now be inserted with\u001B[39;00m\n\u001B[1;32m    289\u001B[0m \u001B[38;5;66;03m# the correct key.\u001B[39;00m\n",
      "File \u001B[0;32m/usr/local/lib/python3.9/dist-packages/sklearn/base.py:87\u001B[0m, in \u001B[0;36mclone\u001B[0;34m(estimator, safe)\u001B[0m\n\u001B[1;32m     85\u001B[0m new_object_params \u001B[38;5;241m=\u001B[39m estimator\u001B[38;5;241m.\u001B[39mget_params(deep\u001B[38;5;241m=\u001B[39m\u001B[38;5;28;01mFalse\u001B[39;00m)\n\u001B[1;32m     86\u001B[0m \u001B[38;5;28;01mfor\u001B[39;00m name, param \u001B[38;5;129;01min\u001B[39;00m new_object_params\u001B[38;5;241m.\u001B[39mitems():\n\u001B[0;32m---> 87\u001B[0m     new_object_params[name] \u001B[38;5;241m=\u001B[39m \u001B[43mclone\u001B[49m\u001B[43m(\u001B[49m\u001B[43mparam\u001B[49m\u001B[43m,\u001B[49m\u001B[43m \u001B[49m\u001B[43msafe\u001B[49m\u001B[38;5;241;43m=\u001B[39;49m\u001B[38;5;28;43;01mFalse\u001B[39;49;00m\u001B[43m)\u001B[49m\n\u001B[1;32m     88\u001B[0m new_object \u001B[38;5;241m=\u001B[39m klass(\u001B[38;5;241m*\u001B[39m\u001B[38;5;241m*\u001B[39mnew_object_params)\n\u001B[1;32m     89\u001B[0m params_set \u001B[38;5;241m=\u001B[39m new_object\u001B[38;5;241m.\u001B[39mget_params(deep\u001B[38;5;241m=\u001B[39m\u001B[38;5;28;01mFalse\u001B[39;00m)\n",
      "File \u001B[0;32m/usr/local/lib/python3.9/dist-packages/sklearn/base.py:65\u001B[0m, in \u001B[0;36mclone\u001B[0;34m(estimator, safe)\u001B[0m\n\u001B[1;32m     63\u001B[0m \u001B[38;5;66;03m# XXX: not handling dictionaries\u001B[39;00m\n\u001B[1;32m     64\u001B[0m \u001B[38;5;28;01mif\u001B[39;00m estimator_type \u001B[38;5;129;01min\u001B[39;00m (\u001B[38;5;28mlist\u001B[39m, \u001B[38;5;28mtuple\u001B[39m, \u001B[38;5;28mset\u001B[39m, \u001B[38;5;28mfrozenset\u001B[39m):\n\u001B[0;32m---> 65\u001B[0m     \u001B[38;5;28;01mreturn\u001B[39;00m estimator_type([clone(e, safe\u001B[38;5;241m=\u001B[39msafe) \u001B[38;5;28;01mfor\u001B[39;00m e \u001B[38;5;129;01min\u001B[39;00m estimator])\n\u001B[1;32m     66\u001B[0m \u001B[38;5;28;01melif\u001B[39;00m \u001B[38;5;129;01mnot\u001B[39;00m \u001B[38;5;28mhasattr\u001B[39m(estimator, \u001B[38;5;124m\"\u001B[39m\u001B[38;5;124mget_params\u001B[39m\u001B[38;5;124m\"\u001B[39m) \u001B[38;5;129;01mor\u001B[39;00m \u001B[38;5;28misinstance\u001B[39m(estimator, \u001B[38;5;28mtype\u001B[39m):\n\u001B[1;32m     67\u001B[0m     \u001B[38;5;28;01mif\u001B[39;00m \u001B[38;5;129;01mnot\u001B[39;00m safe:\n",
      "File \u001B[0;32m/usr/local/lib/python3.9/dist-packages/sklearn/base.py:65\u001B[0m, in \u001B[0;36m<listcomp>\u001B[0;34m(.0)\u001B[0m\n\u001B[1;32m     63\u001B[0m \u001B[38;5;66;03m# XXX: not handling dictionaries\u001B[39;00m\n\u001B[1;32m     64\u001B[0m \u001B[38;5;28;01mif\u001B[39;00m estimator_type \u001B[38;5;129;01min\u001B[39;00m (\u001B[38;5;28mlist\u001B[39m, \u001B[38;5;28mtuple\u001B[39m, \u001B[38;5;28mset\u001B[39m, \u001B[38;5;28mfrozenset\u001B[39m):\n\u001B[0;32m---> 65\u001B[0m     \u001B[38;5;28;01mreturn\u001B[39;00m estimator_type([\u001B[43mclone\u001B[49m\u001B[43m(\u001B[49m\u001B[43me\u001B[49m\u001B[43m,\u001B[49m\u001B[43m \u001B[49m\u001B[43msafe\u001B[49m\u001B[38;5;241;43m=\u001B[39;49m\u001B[43msafe\u001B[49m\u001B[43m)\u001B[49m \u001B[38;5;28;01mfor\u001B[39;00m e \u001B[38;5;129;01min\u001B[39;00m estimator])\n\u001B[1;32m     66\u001B[0m \u001B[38;5;28;01melif\u001B[39;00m \u001B[38;5;129;01mnot\u001B[39;00m \u001B[38;5;28mhasattr\u001B[39m(estimator, \u001B[38;5;124m\"\u001B[39m\u001B[38;5;124mget_params\u001B[39m\u001B[38;5;124m\"\u001B[39m) \u001B[38;5;129;01mor\u001B[39;00m \u001B[38;5;28misinstance\u001B[39m(estimator, \u001B[38;5;28mtype\u001B[39m):\n\u001B[1;32m     67\u001B[0m     \u001B[38;5;28;01mif\u001B[39;00m \u001B[38;5;129;01mnot\u001B[39;00m safe:\n",
      "File \u001B[0;32m/usr/local/lib/python3.9/dist-packages/sklearn/base.py:68\u001B[0m, in \u001B[0;36mclone\u001B[0;34m(estimator, safe)\u001B[0m\n\u001B[1;32m     66\u001B[0m \u001B[38;5;28;01melif\u001B[39;00m \u001B[38;5;129;01mnot\u001B[39;00m \u001B[38;5;28mhasattr\u001B[39m(estimator, \u001B[38;5;124m\"\u001B[39m\u001B[38;5;124mget_params\u001B[39m\u001B[38;5;124m\"\u001B[39m) \u001B[38;5;129;01mor\u001B[39;00m \u001B[38;5;28misinstance\u001B[39m(estimator, \u001B[38;5;28mtype\u001B[39m):\n\u001B[1;32m     67\u001B[0m     \u001B[38;5;28;01mif\u001B[39;00m \u001B[38;5;129;01mnot\u001B[39;00m safe:\n\u001B[0;32m---> 68\u001B[0m         \u001B[38;5;28;01mreturn\u001B[39;00m \u001B[43mcopy\u001B[49m\u001B[38;5;241;43m.\u001B[39;49m\u001B[43mdeepcopy\u001B[49m\u001B[43m(\u001B[49m\u001B[43mestimator\u001B[49m\u001B[43m)\u001B[49m\n\u001B[1;32m     69\u001B[0m     \u001B[38;5;28;01melse\u001B[39;00m:\n\u001B[1;32m     70\u001B[0m         \u001B[38;5;28;01mif\u001B[39;00m \u001B[38;5;28misinstance\u001B[39m(estimator, \u001B[38;5;28mtype\u001B[39m):\n",
      "File \u001B[0;32m/usr/lib/python3.9/copy.py:172\u001B[0m, in \u001B[0;36mdeepcopy\u001B[0;34m(x, memo, _nil)\u001B[0m\n\u001B[1;32m    170\u001B[0m                 y \u001B[38;5;241m=\u001B[39m x\n\u001B[1;32m    171\u001B[0m             \u001B[38;5;28;01melse\u001B[39;00m:\n\u001B[0;32m--> 172\u001B[0m                 y \u001B[38;5;241m=\u001B[39m \u001B[43m_reconstruct\u001B[49m\u001B[43m(\u001B[49m\u001B[43mx\u001B[49m\u001B[43m,\u001B[49m\u001B[43m \u001B[49m\u001B[43mmemo\u001B[49m\u001B[43m,\u001B[49m\u001B[43m \u001B[49m\u001B[38;5;241;43m*\u001B[39;49m\u001B[43mrv\u001B[49m\u001B[43m)\u001B[49m\n\u001B[1;32m    174\u001B[0m \u001B[38;5;66;03m# If is its own copy, don't memoize.\u001B[39;00m\n\u001B[1;32m    175\u001B[0m \u001B[38;5;28;01mif\u001B[39;00m y \u001B[38;5;129;01mis\u001B[39;00m \u001B[38;5;129;01mnot\u001B[39;00m x:\n",
      "File \u001B[0;32m/usr/lib/python3.9/copy.py:270\u001B[0m, in \u001B[0;36m_reconstruct\u001B[0;34m(x, memo, func, args, state, listiter, dictiter, deepcopy)\u001B[0m\n\u001B[1;32m    268\u001B[0m \u001B[38;5;28;01mif\u001B[39;00m state \u001B[38;5;129;01mis\u001B[39;00m \u001B[38;5;129;01mnot\u001B[39;00m \u001B[38;5;28;01mNone\u001B[39;00m:\n\u001B[1;32m    269\u001B[0m     \u001B[38;5;28;01mif\u001B[39;00m deep:\n\u001B[0;32m--> 270\u001B[0m         state \u001B[38;5;241m=\u001B[39m \u001B[43mdeepcopy\u001B[49m\u001B[43m(\u001B[49m\u001B[43mstate\u001B[49m\u001B[43m,\u001B[49m\u001B[43m \u001B[49m\u001B[43mmemo\u001B[49m\u001B[43m)\u001B[49m\n\u001B[1;32m    271\u001B[0m     \u001B[38;5;28;01mif\u001B[39;00m \u001B[38;5;28mhasattr\u001B[39m(y, \u001B[38;5;124m'\u001B[39m\u001B[38;5;124m__setstate__\u001B[39m\u001B[38;5;124m'\u001B[39m):\n\u001B[1;32m    272\u001B[0m         y\u001B[38;5;241m.\u001B[39m__setstate__(state)\n",
      "File \u001B[0;32m/usr/lib/python3.9/copy.py:146\u001B[0m, in \u001B[0;36mdeepcopy\u001B[0;34m(x, memo, _nil)\u001B[0m\n\u001B[1;32m    144\u001B[0m copier \u001B[38;5;241m=\u001B[39m _deepcopy_dispatch\u001B[38;5;241m.\u001B[39mget(\u001B[38;5;28mcls\u001B[39m)\n\u001B[1;32m    145\u001B[0m \u001B[38;5;28;01mif\u001B[39;00m copier \u001B[38;5;129;01mis\u001B[39;00m \u001B[38;5;129;01mnot\u001B[39;00m \u001B[38;5;28;01mNone\u001B[39;00m:\n\u001B[0;32m--> 146\u001B[0m     y \u001B[38;5;241m=\u001B[39m \u001B[43mcopier\u001B[49m\u001B[43m(\u001B[49m\u001B[43mx\u001B[49m\u001B[43m,\u001B[49m\u001B[43m \u001B[49m\u001B[43mmemo\u001B[49m\u001B[43m)\u001B[49m\n\u001B[1;32m    147\u001B[0m \u001B[38;5;28;01melse\u001B[39;00m:\n\u001B[1;32m    148\u001B[0m     \u001B[38;5;28;01mif\u001B[39;00m \u001B[38;5;28missubclass\u001B[39m(\u001B[38;5;28mcls\u001B[39m, \u001B[38;5;28mtype\u001B[39m):\n",
      "File \u001B[0;32m/usr/lib/python3.9/copy.py:230\u001B[0m, in \u001B[0;36m_deepcopy_dict\u001B[0;34m(x, memo, deepcopy)\u001B[0m\n\u001B[1;32m    228\u001B[0m memo[\u001B[38;5;28mid\u001B[39m(x)] \u001B[38;5;241m=\u001B[39m y\n\u001B[1;32m    229\u001B[0m \u001B[38;5;28;01mfor\u001B[39;00m key, value \u001B[38;5;129;01min\u001B[39;00m x\u001B[38;5;241m.\u001B[39mitems():\n\u001B[0;32m--> 230\u001B[0m     y[deepcopy(key, memo)] \u001B[38;5;241m=\u001B[39m \u001B[43mdeepcopy\u001B[49m\u001B[43m(\u001B[49m\u001B[43mvalue\u001B[49m\u001B[43m,\u001B[49m\u001B[43m \u001B[49m\u001B[43mmemo\u001B[49m\u001B[43m)\u001B[49m\n\u001B[1;32m    231\u001B[0m \u001B[38;5;28;01mreturn\u001B[39;00m y\n",
      "File \u001B[0;32m/usr/lib/python3.9/copy.py:172\u001B[0m, in \u001B[0;36mdeepcopy\u001B[0;34m(x, memo, _nil)\u001B[0m\n\u001B[1;32m    170\u001B[0m                 y \u001B[38;5;241m=\u001B[39m x\n\u001B[1;32m    171\u001B[0m             \u001B[38;5;28;01melse\u001B[39;00m:\n\u001B[0;32m--> 172\u001B[0m                 y \u001B[38;5;241m=\u001B[39m \u001B[43m_reconstruct\u001B[49m\u001B[43m(\u001B[49m\u001B[43mx\u001B[49m\u001B[43m,\u001B[49m\u001B[43m \u001B[49m\u001B[43mmemo\u001B[49m\u001B[43m,\u001B[49m\u001B[43m \u001B[49m\u001B[38;5;241;43m*\u001B[39;49m\u001B[43mrv\u001B[49m\u001B[43m)\u001B[49m\n\u001B[1;32m    174\u001B[0m \u001B[38;5;66;03m# If is its own copy, don't memoize.\u001B[39;00m\n\u001B[1;32m    175\u001B[0m \u001B[38;5;28;01mif\u001B[39;00m y \u001B[38;5;129;01mis\u001B[39;00m \u001B[38;5;129;01mnot\u001B[39;00m x:\n",
      "File \u001B[0;32m/usr/lib/python3.9/copy.py:270\u001B[0m, in \u001B[0;36m_reconstruct\u001B[0;34m(x, memo, func, args, state, listiter, dictiter, deepcopy)\u001B[0m\n\u001B[1;32m    268\u001B[0m \u001B[38;5;28;01mif\u001B[39;00m state \u001B[38;5;129;01mis\u001B[39;00m \u001B[38;5;129;01mnot\u001B[39;00m \u001B[38;5;28;01mNone\u001B[39;00m:\n\u001B[1;32m    269\u001B[0m     \u001B[38;5;28;01mif\u001B[39;00m deep:\n\u001B[0;32m--> 270\u001B[0m         state \u001B[38;5;241m=\u001B[39m \u001B[43mdeepcopy\u001B[49m\u001B[43m(\u001B[49m\u001B[43mstate\u001B[49m\u001B[43m,\u001B[49m\u001B[43m \u001B[49m\u001B[43mmemo\u001B[49m\u001B[43m)\u001B[49m\n\u001B[1;32m    271\u001B[0m     \u001B[38;5;28;01mif\u001B[39;00m \u001B[38;5;28mhasattr\u001B[39m(y, \u001B[38;5;124m'\u001B[39m\u001B[38;5;124m__setstate__\u001B[39m\u001B[38;5;124m'\u001B[39m):\n\u001B[1;32m    272\u001B[0m         y\u001B[38;5;241m.\u001B[39m__setstate__(state)\n",
      "File \u001B[0;32m/usr/lib/python3.9/copy.py:146\u001B[0m, in \u001B[0;36mdeepcopy\u001B[0;34m(x, memo, _nil)\u001B[0m\n\u001B[1;32m    144\u001B[0m copier \u001B[38;5;241m=\u001B[39m _deepcopy_dispatch\u001B[38;5;241m.\u001B[39mget(\u001B[38;5;28mcls\u001B[39m)\n\u001B[1;32m    145\u001B[0m \u001B[38;5;28;01mif\u001B[39;00m copier \u001B[38;5;129;01mis\u001B[39;00m \u001B[38;5;129;01mnot\u001B[39;00m \u001B[38;5;28;01mNone\u001B[39;00m:\n\u001B[0;32m--> 146\u001B[0m     y \u001B[38;5;241m=\u001B[39m \u001B[43mcopier\u001B[49m\u001B[43m(\u001B[49m\u001B[43mx\u001B[49m\u001B[43m,\u001B[49m\u001B[43m \u001B[49m\u001B[43mmemo\u001B[49m\u001B[43m)\u001B[49m\n\u001B[1;32m    147\u001B[0m \u001B[38;5;28;01melse\u001B[39;00m:\n\u001B[1;32m    148\u001B[0m     \u001B[38;5;28;01mif\u001B[39;00m \u001B[38;5;28missubclass\u001B[39m(\u001B[38;5;28mcls\u001B[39m, \u001B[38;5;28mtype\u001B[39m):\n",
      "File \u001B[0;32m/usr/lib/python3.9/copy.py:230\u001B[0m, in \u001B[0;36m_deepcopy_dict\u001B[0;34m(x, memo, deepcopy)\u001B[0m\n\u001B[1;32m    228\u001B[0m memo[\u001B[38;5;28mid\u001B[39m(x)] \u001B[38;5;241m=\u001B[39m y\n\u001B[1;32m    229\u001B[0m \u001B[38;5;28;01mfor\u001B[39;00m key, value \u001B[38;5;129;01min\u001B[39;00m x\u001B[38;5;241m.\u001B[39mitems():\n\u001B[0;32m--> 230\u001B[0m     y[deepcopy(key, memo)] \u001B[38;5;241m=\u001B[39m \u001B[43mdeepcopy\u001B[49m\u001B[43m(\u001B[49m\u001B[43mvalue\u001B[49m\u001B[43m,\u001B[49m\u001B[43m \u001B[49m\u001B[43mmemo\u001B[49m\u001B[43m)\u001B[49m\n\u001B[1;32m    231\u001B[0m \u001B[38;5;28;01mreturn\u001B[39;00m y\n",
      "    \u001B[0;31m[... skipping similar frames: _deepcopy_dict at line 230 (3 times), deepcopy at line 146 (3 times), _reconstruct at line 270 (2 times), deepcopy at line 172 (2 times)]\u001B[0m\n",
      "File \u001B[0;32m/usr/lib/python3.9/copy.py:172\u001B[0m, in \u001B[0;36mdeepcopy\u001B[0;34m(x, memo, _nil)\u001B[0m\n\u001B[1;32m    170\u001B[0m                 y \u001B[38;5;241m=\u001B[39m x\n\u001B[1;32m    171\u001B[0m             \u001B[38;5;28;01melse\u001B[39;00m:\n\u001B[0;32m--> 172\u001B[0m                 y \u001B[38;5;241m=\u001B[39m \u001B[43m_reconstruct\u001B[49m\u001B[43m(\u001B[49m\u001B[43mx\u001B[49m\u001B[43m,\u001B[49m\u001B[43m \u001B[49m\u001B[43mmemo\u001B[49m\u001B[43m,\u001B[49m\u001B[43m \u001B[49m\u001B[38;5;241;43m*\u001B[39;49m\u001B[43mrv\u001B[49m\u001B[43m)\u001B[49m\n\u001B[1;32m    174\u001B[0m \u001B[38;5;66;03m# If is its own copy, don't memoize.\u001B[39;00m\n\u001B[1;32m    175\u001B[0m \u001B[38;5;28;01mif\u001B[39;00m y \u001B[38;5;129;01mis\u001B[39;00m \u001B[38;5;129;01mnot\u001B[39;00m x:\n",
      "File \u001B[0;32m/usr/lib/python3.9/copy.py:270\u001B[0m, in \u001B[0;36m_reconstruct\u001B[0;34m(x, memo, func, args, state, listiter, dictiter, deepcopy)\u001B[0m\n\u001B[1;32m    268\u001B[0m \u001B[38;5;28;01mif\u001B[39;00m state \u001B[38;5;129;01mis\u001B[39;00m \u001B[38;5;129;01mnot\u001B[39;00m \u001B[38;5;28;01mNone\u001B[39;00m:\n\u001B[1;32m    269\u001B[0m     \u001B[38;5;28;01mif\u001B[39;00m deep:\n\u001B[0;32m--> 270\u001B[0m         state \u001B[38;5;241m=\u001B[39m \u001B[43mdeepcopy\u001B[49m\u001B[43m(\u001B[49m\u001B[43mstate\u001B[49m\u001B[43m,\u001B[49m\u001B[43m \u001B[49m\u001B[43mmemo\u001B[49m\u001B[43m)\u001B[49m\n\u001B[1;32m    271\u001B[0m     \u001B[38;5;28;01mif\u001B[39;00m \u001B[38;5;28mhasattr\u001B[39m(y, \u001B[38;5;124m'\u001B[39m\u001B[38;5;124m__setstate__\u001B[39m\u001B[38;5;124m'\u001B[39m):\n\u001B[1;32m    272\u001B[0m         y\u001B[38;5;241m.\u001B[39m__setstate__(state)\n",
      "    \u001B[0;31m[... skipping similar frames: deepcopy at line 146 (1 times)]\u001B[0m\n",
      "File \u001B[0;32m/usr/lib/python3.9/copy.py:230\u001B[0m, in \u001B[0;36m_deepcopy_dict\u001B[0;34m(x, memo, deepcopy)\u001B[0m\n\u001B[1;32m    228\u001B[0m memo[\u001B[38;5;28mid\u001B[39m(x)] \u001B[38;5;241m=\u001B[39m y\n\u001B[1;32m    229\u001B[0m \u001B[38;5;28;01mfor\u001B[39;00m key, value \u001B[38;5;129;01min\u001B[39;00m x\u001B[38;5;241m.\u001B[39mitems():\n\u001B[0;32m--> 230\u001B[0m     y[deepcopy(key, memo)] \u001B[38;5;241m=\u001B[39m \u001B[43mdeepcopy\u001B[49m\u001B[43m(\u001B[49m\u001B[43mvalue\u001B[49m\u001B[43m,\u001B[49m\u001B[43m \u001B[49m\u001B[43mmemo\u001B[49m\u001B[43m)\u001B[49m\n\u001B[1;32m    231\u001B[0m \u001B[38;5;28;01mreturn\u001B[39;00m y\n",
      "File \u001B[0;32m/usr/lib/python3.9/copy.py:146\u001B[0m, in \u001B[0;36mdeepcopy\u001B[0;34m(x, memo, _nil)\u001B[0m\n\u001B[1;32m    144\u001B[0m copier \u001B[38;5;241m=\u001B[39m _deepcopy_dispatch\u001B[38;5;241m.\u001B[39mget(\u001B[38;5;28mcls\u001B[39m)\n\u001B[1;32m    145\u001B[0m \u001B[38;5;28;01mif\u001B[39;00m copier \u001B[38;5;129;01mis\u001B[39;00m \u001B[38;5;129;01mnot\u001B[39;00m \u001B[38;5;28;01mNone\u001B[39;00m:\n\u001B[0;32m--> 146\u001B[0m     y \u001B[38;5;241m=\u001B[39m \u001B[43mcopier\u001B[49m\u001B[43m(\u001B[49m\u001B[43mx\u001B[49m\u001B[43m,\u001B[49m\u001B[43m \u001B[49m\u001B[43mmemo\u001B[49m\u001B[43m)\u001B[49m\n\u001B[1;32m    147\u001B[0m \u001B[38;5;28;01melse\u001B[39;00m:\n\u001B[1;32m    148\u001B[0m     \u001B[38;5;28;01mif\u001B[39;00m \u001B[38;5;28missubclass\u001B[39m(\u001B[38;5;28mcls\u001B[39m, \u001B[38;5;28mtype\u001B[39m):\n",
      "File \u001B[0;32m/usr/lib/python3.9/copy.py:229\u001B[0m, in \u001B[0;36m_deepcopy_dict\u001B[0;34m(x, memo, deepcopy)\u001B[0m\n\u001B[1;32m    227\u001B[0m y \u001B[38;5;241m=\u001B[39m {}\n\u001B[1;32m    228\u001B[0m memo[\u001B[38;5;28mid\u001B[39m(x)] \u001B[38;5;241m=\u001B[39m y\n\u001B[0;32m--> 229\u001B[0m \u001B[38;5;28;01mfor\u001B[39;00m key, value \u001B[38;5;129;01min\u001B[39;00m x\u001B[38;5;241m.\u001B[39mitems():\n\u001B[1;32m    230\u001B[0m     y[deepcopy(key, memo)] \u001B[38;5;241m=\u001B[39m deepcopy(value, memo)\n\u001B[1;32m    231\u001B[0m \u001B[38;5;28;01mreturn\u001B[39;00m y\n",
      "\u001B[0;31mRuntimeError\u001B[0m: dictionary changed size during iteration"
     ]
    }
   ],
   "source": [
    "sampler = optuna.samplers.TPESampler()\n",
    "pruner = optuna.pruners.HyperbandPruner(min_resource=10, max_resource=400, reduction_factor=3)\n",
    "\n",
    "optuna.logging.get_logger(\"optuna\").addHandler(logging.StreamHandler(sys.stdout))\n",
    "study_name = \"lgbm-tpe-rdb-study\"\n",
    "storage_name = f\"sqlite:///{study_name}.db\"\n",
    "study = optuna.create_study(\n",
    "    study_name=study_name,\n",
    "    storage=storage_name,\n",
    "    load_if_exists=False,\n",
    "    sampler=sampler,\n",
    "    pruner=pruner)\n",
    "study.optimize(objective(False), n_trials=100, gc_after_trial=True, n_jobs=-1)"
   ],
   "metadata": {
    "collapsed": false,
    "ExecuteTime": {
     "start_time": "2023-04-21T10:23:58.669851Z",
     "end_time": "2023-04-21T10:25:32.522967Z"
    }
   }
  },
  {
   "cell_type": "code",
   "execution_count": 12,
   "outputs": [
    {
     "name": "stderr",
     "output_type": "stream",
     "text": [
      "\u001B[32m[I 2023-04-21 08:25:32,162]\u001B[0m Using an existing study with name 'lgbm-optuna-rdb-study' instead of creating a new one.\u001B[0m\n"
     ]
    },
    {
     "name": "stdout",
     "output_type": "stream",
     "text": [
      "Using an existing study with name 'lgbm-optuna-rdb-study' instead of creating a new one.\n"
     ]
    },
    {
     "name": "stderr",
     "output_type": "stream",
     "text": [
      "\u001B[32m[I 2023-04-21 08:26:17,345]\u001B[0m Trial 16 finished with value: 0.4235082247366586 and parameters: {'boosting_type': 'gbdt', 'lambda_l1': 1.0179602799796386e-08, 'lambda_l2': 9.349435489679461, 'num_leaves': 247, 'feature_fraction': 0.7460125770492829, 'bagging_fraction': 0.8227537764241121, 'bagging_freq': 7, 'min_child_samples': 98, 'learning_rate': 0.00020887902150769306, 'max_bin': 512, 'n_estimators': 140}. Best is trial 2 with value: 0.4235082247366586.\u001B[0m\n"
     ]
    },
    {
     "name": "stdout",
     "output_type": "stream",
     "text": [
      "Trial 16 finished with value: 0.4235082247366586 and parameters: {'boosting_type': 'gbdt', 'lambda_l1': 1.0179602799796386e-08, 'lambda_l2': 9.349435489679461, 'num_leaves': 247, 'feature_fraction': 0.7460125770492829, 'bagging_fraction': 0.8227537764241121, 'bagging_freq': 7, 'min_child_samples': 98, 'learning_rate': 0.00020887902150769306, 'max_bin': 512, 'n_estimators': 140}. Best is trial 2 with value: 0.4235082247366586.\n"
     ]
    },
    {
     "name": "stderr",
     "output_type": "stream",
     "text": [
      "\u001B[32m[I 2023-04-21 08:26:17,706]\u001B[0m Trial 10 finished with value: 0.4235082247366586 and parameters: {'boosting_type': 'gbdt', 'lambda_l1': 1.1909111890008977e-08, 'lambda_l2': 3.916792214730818, 'num_leaves': 252, 'feature_fraction': 0.7842462593069699, 'bagging_fraction': 0.8275752521380275, 'bagging_freq': 7, 'min_child_samples': 100, 'learning_rate': 0.00011984328761926979, 'max_bin': 512, 'n_estimators': 140}. Best is trial 2 with value: 0.4235082247366586.\u001B[0m\n"
     ]
    },
    {
     "name": "stdout",
     "output_type": "stream",
     "text": [
      "Trial 10 finished with value: 0.4235082247366586 and parameters: {'boosting_type': 'gbdt', 'lambda_l1': 1.1909111890008977e-08, 'lambda_l2': 3.916792214730818, 'num_leaves': 252, 'feature_fraction': 0.7842462593069699, 'bagging_fraction': 0.8275752521380275, 'bagging_freq': 7, 'min_child_samples': 100, 'learning_rate': 0.00011984328761926979, 'max_bin': 512, 'n_estimators': 140}. Best is trial 2 with value: 0.4235082247366586.\n"
     ]
    },
    {
     "name": "stderr",
     "output_type": "stream",
     "text": [
      "\u001B[32m[I 2023-04-21 08:26:19,453]\u001B[0m Trial 15 finished with value: 0.4235082247366586 and parameters: {'boosting_type': 'dart', 'lambda_l1': 2.45452431947837e-08, 'lambda_l2': 9.409711723147959, 'num_leaves': 240, 'feature_fraction': 0.7361874501422006, 'bagging_fraction': 0.8268982229824906, 'bagging_freq': 7, 'min_child_samples': 98, 'learning_rate': 0.00010252751490207828, 'max_bin': 128, 'n_estimators': 140}. Best is trial 2 with value: 0.4235082247366586.\u001B[0m\n"
     ]
    },
    {
     "name": "stdout",
     "output_type": "stream",
     "text": [
      "Trial 15 finished with value: 0.4235082247366586 and parameters: {'boosting_type': 'dart', 'lambda_l1': 2.45452431947837e-08, 'lambda_l2': 9.409711723147959, 'num_leaves': 240, 'feature_fraction': 0.7361874501422006, 'bagging_fraction': 0.8268982229824906, 'bagging_freq': 7, 'min_child_samples': 98, 'learning_rate': 0.00010252751490207828, 'max_bin': 128, 'n_estimators': 140}. Best is trial 2 with value: 0.4235082247366586.\n"
     ]
    },
    {
     "name": "stderr",
     "output_type": "stream",
     "text": [
      "\u001B[32m[I 2023-04-21 08:26:23,972]\u001B[0m Trial 13 finished with value: 0.4235082247366586 and parameters: {'boosting_type': 'dart', 'lambda_l1': 2.0777212047631954e-08, 'lambda_l2': 6.424628041959894, 'num_leaves': 215, 'feature_fraction': 0.7727133208837293, 'bagging_fraction': 0.8246055338792502, 'bagging_freq': 1, 'min_child_samples': 40, 'learning_rate': 0.00020485173235206778, 'max_bin': 512, 'n_estimators': 140}. Best is trial 2 with value: 0.4235082247366586.\u001B[0m\n"
     ]
    },
    {
     "name": "stdout",
     "output_type": "stream",
     "text": [
      "Trial 13 finished with value: 0.4235082247366586 and parameters: {'boosting_type': 'dart', 'lambda_l1': 2.0777212047631954e-08, 'lambda_l2': 6.424628041959894, 'num_leaves': 215, 'feature_fraction': 0.7727133208837293, 'bagging_fraction': 0.8246055338792502, 'bagging_freq': 1, 'min_child_samples': 40, 'learning_rate': 0.00020485173235206778, 'max_bin': 512, 'n_estimators': 140}. Best is trial 2 with value: 0.4235082247366586.\n"
     ]
    },
    {
     "name": "stderr",
     "output_type": "stream",
     "text": [
      "\u001B[32m[I 2023-04-21 08:26:26,708]\u001B[0m Trial 12 finished with value: 0.4235082247366586 and parameters: {'boosting_type': 'gbdt', 'lambda_l1': 1.2629724749571731e-08, 'lambda_l2': 3.390603189765865, 'num_leaves': 221, 'feature_fraction': 0.724381052807693, 'bagging_fraction': 0.8304770916566452, 'bagging_freq': 7, 'min_child_samples': 42, 'learning_rate': 0.00010535659139746389, 'max_bin': 512, 'n_estimators': 140}. Best is trial 2 with value: 0.4235082247366586.\u001B[0m\n"
     ]
    },
    {
     "name": "stdout",
     "output_type": "stream",
     "text": [
      "Trial 12 finished with value: 0.4235082247366586 and parameters: {'boosting_type': 'gbdt', 'lambda_l1': 1.2629724749571731e-08, 'lambda_l2': 3.390603189765865, 'num_leaves': 221, 'feature_fraction': 0.724381052807693, 'bagging_fraction': 0.8304770916566452, 'bagging_freq': 7, 'min_child_samples': 42, 'learning_rate': 0.00010535659139746389, 'max_bin': 512, 'n_estimators': 140}. Best is trial 2 with value: 0.4235082247366586.\n"
     ]
    },
    {
     "name": "stderr",
     "output_type": "stream",
     "text": [
      "\u001B[32m[I 2023-04-21 08:26:27,345]\u001B[0m Trial 17 finished with value: 0.4235082247366586 and parameters: {'boosting_type': 'dart', 'lambda_l1': 1.0117379382127918e-08, 'lambda_l2': 9.376556524124426, 'num_leaves': 256, 'feature_fraction': 0.7503860652460095, 'bagging_fraction': 0.7900318360857842, 'bagging_freq': 7, 'min_child_samples': 39, 'learning_rate': 0.00011742509479237352, 'max_bin': 512, 'n_estimators': 160}. Best is trial 2 with value: 0.4235082247366586.\u001B[0m\n"
     ]
    },
    {
     "name": "stdout",
     "output_type": "stream",
     "text": [
      "Trial 17 finished with value: 0.4235082247366586 and parameters: {'boosting_type': 'dart', 'lambda_l1': 1.0117379382127918e-08, 'lambda_l2': 9.376556524124426, 'num_leaves': 256, 'feature_fraction': 0.7503860652460095, 'bagging_fraction': 0.7900318360857842, 'bagging_freq': 7, 'min_child_samples': 39, 'learning_rate': 0.00011742509479237352, 'max_bin': 512, 'n_estimators': 160}. Best is trial 2 with value: 0.4235082247366586.\n"
     ]
    },
    {
     "name": "stderr",
     "output_type": "stream",
     "text": [
      "\u001B[32m[I 2023-04-21 08:26:30,423]\u001B[0m Trial 11 finished with value: 0.4235082247366586 and parameters: {'boosting_type': 'dart', 'lambda_l1': 1.9236047233867934e-08, 'lambda_l2': 1.9226679345069697, 'num_leaves': 242, 'feature_fraction': 0.7736592146746909, 'bagging_fraction': 0.7974437616210672, 'bagging_freq': 7, 'min_child_samples': 37, 'learning_rate': 0.00013319968527050706, 'max_bin': 512, 'n_estimators': 140}. Best is trial 2 with value: 0.4235082247366586.\u001B[0m\n"
     ]
    },
    {
     "name": "stdout",
     "output_type": "stream",
     "text": [
      "Trial 11 finished with value: 0.4235082247366586 and parameters: {'boosting_type': 'dart', 'lambda_l1': 1.9236047233867934e-08, 'lambda_l2': 1.9226679345069697, 'num_leaves': 242, 'feature_fraction': 0.7736592146746909, 'bagging_fraction': 0.7974437616210672, 'bagging_freq': 7, 'min_child_samples': 37, 'learning_rate': 0.00013319968527050706, 'max_bin': 512, 'n_estimators': 140}. Best is trial 2 with value: 0.4235082247366586.\n"
     ]
    },
    {
     "name": "stderr",
     "output_type": "stream",
     "text": [
      "\u001B[32m[I 2023-04-21 08:26:31,058]\u001B[0m Trial 14 finished with value: 0.4235082247366586 and parameters: {'boosting_type': 'gbdt', 'lambda_l1': 1.4408133646747365e-08, 'lambda_l2': 2.837493258342436, 'num_leaves': 245, 'feature_fraction': 0.7637633482746569, 'bagging_fraction': 0.8296627735915492, 'bagging_freq': 7, 'min_child_samples': 37, 'learning_rate': 0.00013694284525827822, 'max_bin': 512, 'n_estimators': 160}. Best is trial 2 with value: 0.4235082247366586.\u001B[0m\n"
     ]
    },
    {
     "name": "stdout",
     "output_type": "stream",
     "text": [
      "Trial 14 finished with value: 0.4235082247366586 and parameters: {'boosting_type': 'gbdt', 'lambda_l1': 1.4408133646747365e-08, 'lambda_l2': 2.837493258342436, 'num_leaves': 245, 'feature_fraction': 0.7637633482746569, 'bagging_fraction': 0.8296627735915492, 'bagging_freq': 7, 'min_child_samples': 37, 'learning_rate': 0.00013694284525827822, 'max_bin': 512, 'n_estimators': 160}. Best is trial 2 with value: 0.4235082247366586.\n"
     ]
    },
    {
     "name": "stderr",
     "output_type": "stream",
     "text": [
      "\u001B[32m[I 2023-04-21 08:26:34,243]\u001B[0m Trial 19 finished with value: 0.4235082247366586 and parameters: {'boosting_type': 'dart', 'lambda_l1': 1.3957343825730509e-06, 'lambda_l2': 1.2256972812369361e-08, 'num_leaves': 5, 'feature_fraction': 0.8427033256168555, 'bagging_fraction': 0.5366577275595632, 'bagging_freq': 1, 'min_child_samples': 36, 'learning_rate': 0.0007048212563581564, 'max_bin': 224, 'n_estimators': 40}. Best is trial 2 with value: 0.4235082247366586.\u001B[0m\n"
     ]
    },
    {
     "name": "stdout",
     "output_type": "stream",
     "text": [
      "Trial 19 finished with value: 0.4235082247366586 and parameters: {'boosting_type': 'dart', 'lambda_l1': 1.3957343825730509e-06, 'lambda_l2': 1.2256972812369361e-08, 'num_leaves': 5, 'feature_fraction': 0.8427033256168555, 'bagging_fraction': 0.5366577275595632, 'bagging_freq': 1, 'min_child_samples': 36, 'learning_rate': 0.0007048212563581564, 'max_bin': 224, 'n_estimators': 40}. Best is trial 2 with value: 0.4235082247366586.\n"
     ]
    },
    {
     "name": "stderr",
     "output_type": "stream",
     "text": [
      "\u001B[32m[I 2023-04-21 08:26:34,762]\u001B[0m Trial 18 finished with value: 0.4235082247366586 and parameters: {'boosting_type': 'dart', 'lambda_l1': 1.2876121235965678e-06, 'lambda_l2': 1.542472294392896e-07, 'num_leaves': 4, 'feature_fraction': 0.8472764387650585, 'bagging_fraction': 0.5063448986999544, 'bagging_freq': 1, 'min_child_samples': 34, 'learning_rate': 0.0005789551103378422, 'max_bin': 224, 'n_estimators': 40}. Best is trial 2 with value: 0.4235082247366586.\u001B[0m\n"
     ]
    },
    {
     "name": "stdout",
     "output_type": "stream",
     "text": [
      "Trial 18 finished with value: 0.4235082247366586 and parameters: {'boosting_type': 'dart', 'lambda_l1': 1.2876121235965678e-06, 'lambda_l2': 1.542472294392896e-07, 'num_leaves': 4, 'feature_fraction': 0.8472764387650585, 'bagging_fraction': 0.5063448986999544, 'bagging_freq': 1, 'min_child_samples': 34, 'learning_rate': 0.0005789551103378422, 'max_bin': 224, 'n_estimators': 40}. Best is trial 2 with value: 0.4235082247366586.\n"
     ]
    }
   ],
   "source": [
    "study = optuna.create_study(study_name=study_name, storage=storage_name, load_if_exists=True)\n",
    "study.optimize(objective(), n_trials=20, gc_after_trial=True, n_jobs=-1)"
   ],
   "metadata": {
    "collapsed": false,
    "ExecuteTime": {
     "start_time": "2023-04-21T10:25:32.524484Z",
     "end_time": "2023-04-21T10:26:35.511845Z"
    }
   }
  },
  {
   "cell_type": "code",
   "execution_count": 23,
   "outputs": [
    {
     "name": "stdout",
     "output_type": "stream",
     "text": [
      "FrozenTrial(number=5, state=TrialState.COMPLETE, values=[0.4235082247366586], datetime_start=datetime.datetime(2023, 4, 26, 21, 55, 55, 15345), datetime_complete=datetime.datetime(2023, 4, 26, 21, 56, 38, 244296), params={'bagging_fraction': 0.9277029430467971, 'bagging_freq': 3, 'feature_fraction': 0.6565211338929926, 'lambda_l1': 4.496791174062579, 'lambda_l2': 0.000612013760106219, 'learning_rate': 0.00011283703507767392, 'max_bin': 288, 'min_child_samples': 97, 'n_estimators': 180, 'num_leaves': 100}, user_attrs={}, system_attrs={}, intermediate_values={}, distributions={'bagging_fraction': FloatDistribution(high=1.0, log=False, low=0.4, step=None), 'bagging_freq': IntDistribution(high=7, log=False, low=1, step=1), 'feature_fraction': FloatDistribution(high=1.0, log=False, low=0.4, step=None), 'lambda_l1': FloatDistribution(high=10.0, log=True, low=1e-08, step=None), 'lambda_l2': FloatDistribution(high=10.0, log=True, low=1e-08, step=None), 'learning_rate': FloatDistribution(high=0.5, log=True, low=0.0001, step=None), 'max_bin': IntDistribution(high=512, log=False, low=128, step=32), 'min_child_samples': IntDistribution(high=100, log=False, low=5, step=1), 'n_estimators': IntDistribution(high=400, log=False, low=40, step=20), 'num_leaves': IntDistribution(high=256, log=False, low=2, step=1)}, trial_id=6, value=None)\n"
     ]
    }
   ],
   "source": [
    "print(study.best_trial)"
   ],
   "metadata": {
    "collapsed": false,
    "ExecuteTime": {
     "start_time": "2023-04-27T00:06:23.673676Z",
     "end_time": "2023-04-27T00:06:23.703511Z"
    }
   }
  },
  {
   "cell_type": "markdown",
   "source": [
    "## Multi-objective optimization"
   ],
   "metadata": {
    "collapsed": false
   }
  },
  {
   "cell_type": "code",
   "execution_count": 22,
   "outputs": [],
   "source": [
    "def moo_objective(trial):\n",
    "    learning_rate = trial.suggest_float(\"learning_rate\", 0.0001, 0.5, log=True),\n",
    "\n",
    "    model = lgb.LGBMClassifier(\n",
    "        force_row_wise=True,\n",
    "        boosting_type='gbdt',\n",
    "        n_estimators=200,\n",
    "        lambda_l1=3.298803078077973e-07,\n",
    "        lambda_l2=8.938532783741386e-07,\n",
    "        num_leaves=6,\n",
    "        feature_fraction=0.5133218336120866,\n",
    "        bagging_fraction=0.9660809666082303,\n",
    "        bagging_freq=7,\n",
    "        min_child_samples=91,\n",
    "        learning_rate=learning_rate,\n",
    "        max_bin=320,\n",
    "        verbose=-1,\n",
    "    )\n",
    "    scores = cross_val_score(model, X, y, scoring=\"f1_macro\")\n",
    "    return learning_rate[0], scores.mean()"
   ],
   "metadata": {
    "collapsed": false,
    "ExecuteTime": {
     "start_time": "2023-04-27T12:47:34.907420Z",
     "end_time": "2023-04-27T12:47:34.914428Z"
    }
   }
  },
  {
   "cell_type": "code",
   "execution_count": 23,
   "outputs": [
    {
     "name": "stderr",
     "output_type": "stream",
     "text": [
      "\u001B[32m[I 2023-04-27 10:47:35,501]\u001B[0m A new study created in memory with name: no-name-eb122531-f2ee-4cb5-92d1-8efba6a28eef\u001B[0m\n",
      "\u001B[32m[I 2023-04-27 10:47:36,221]\u001B[0m Trial 0 finished with values: [0.018276625572235056, 0.7229728382357858] and parameters: {'learning_rate': 0.018276625572235056}. \u001B[0m\n",
      "\u001B[32m[I 2023-04-27 10:47:36,922]\u001B[0m Trial 1 finished with values: [0.012281350875017864, 0.713129498994182] and parameters: {'learning_rate': 0.012281350875017864}. \u001B[0m\n",
      "\u001B[32m[I 2023-04-27 10:47:37,601]\u001B[0m Trial 2 finished with values: [0.3179931543219117, 0.7181352358216049] and parameters: {'learning_rate': 0.3179931543219117}. \u001B[0m\n",
      "\u001B[32m[I 2023-04-27 10:47:38,317]\u001B[0m Trial 3 finished with values: [0.3317048028124761, 0.7182462105095208] and parameters: {'learning_rate': 0.3317048028124761}. \u001B[0m\n",
      "\u001B[32m[I 2023-04-27 10:47:39,042]\u001B[0m Trial 4 finished with values: [0.010097499163932589, 0.689595604293249] and parameters: {'learning_rate': 0.010097499163932589}. \u001B[0m\n",
      "\u001B[32m[I 2023-04-27 10:47:39,716]\u001B[0m Trial 5 finished with values: [0.0010284892903758126, 0.4235082247366586] and parameters: {'learning_rate': 0.0010284892903758126}. \u001B[0m\n",
      "\u001B[32m[I 2023-04-27 10:47:40,423]\u001B[0m Trial 6 finished with values: [0.0008073623310050534, 0.4235082247366586] and parameters: {'learning_rate': 0.0008073623310050534}. \u001B[0m\n",
      "\u001B[32m[I 2023-04-27 10:47:41,147]\u001B[0m Trial 7 finished with values: [0.009446892389275133, 0.6841554205738356] and parameters: {'learning_rate': 0.009446892389275133}. \u001B[0m\n",
      "\u001B[32m[I 2023-04-27 10:47:41,994]\u001B[0m Trial 8 finished with values: [0.042129982546996285, 0.7318679125094985] and parameters: {'learning_rate': 0.042129982546996285}. \u001B[0m\n",
      "\u001B[32m[I 2023-04-27 10:47:42,733]\u001B[0m Trial 9 finished with values: [0.006234336282154794, 0.6372047388051083] and parameters: {'learning_rate': 0.006234336282154794}. \u001B[0m\n",
      "\u001B[32m[I 2023-04-27 10:47:43,412]\u001B[0m Trial 10 finished with values: [0.0014213907266344855, 0.4235082247366586] and parameters: {'learning_rate': 0.0014213907266344855}. \u001B[0m\n",
      "\u001B[32m[I 2023-04-27 10:47:44,069]\u001B[0m Trial 11 finished with values: [0.0074818711669891215, 0.6643619268828908] and parameters: {'learning_rate': 0.0074818711669891215}. \u001B[0m\n",
      "\u001B[32m[I 2023-04-27 10:47:44,798]\u001B[0m Trial 12 finished with values: [0.1148404311838305, 0.7321994102159477] and parameters: {'learning_rate': 0.1148404311838305}. \u001B[0m\n",
      "\u001B[32m[I 2023-04-27 10:47:45,481]\u001B[0m Trial 13 finished with values: [0.0012664149179400209, 0.4235082247366586] and parameters: {'learning_rate': 0.0012664149179400209}. \u001B[0m\n",
      "\u001B[32m[I 2023-04-27 10:47:46,223]\u001B[0m Trial 14 finished with values: [0.05307222954482612, 0.7336139976808754] and parameters: {'learning_rate': 0.05307222954482612}. \u001B[0m\n",
      "\u001B[32m[I 2023-04-27 10:47:46,949]\u001B[0m Trial 15 finished with values: [0.01538041330688695, 0.7173796023919852] and parameters: {'learning_rate': 0.01538041330688695}. \u001B[0m\n",
      "\u001B[32m[I 2023-04-27 10:47:47,724]\u001B[0m Trial 16 finished with values: [0.018396986660930648, 0.7227368738811438] and parameters: {'learning_rate': 0.018396986660930648}. \u001B[0m\n",
      "\u001B[32m[I 2023-04-27 10:47:48,451]\u001B[0m Trial 17 finished with values: [0.0030415201353781317, 0.4235082247366586] and parameters: {'learning_rate': 0.0030415201353781317}. \u001B[0m\n",
      "\u001B[32m[I 2023-04-27 10:47:49,134]\u001B[0m Trial 18 finished with values: [0.34679130964813293, 0.7165372792236238] and parameters: {'learning_rate': 0.34679130964813293}. \u001B[0m\n",
      "\u001B[32m[I 2023-04-27 10:47:49,814]\u001B[0m Trial 19 finished with values: [0.0016185106184141472, 0.4235082247366586] and parameters: {'learning_rate': 0.0016185106184141472}. \u001B[0m\n",
      "\u001B[32m[I 2023-04-27 10:47:50,473]\u001B[0m Trial 20 finished with values: [0.09977031400739048, 0.7302018596960369] and parameters: {'learning_rate': 0.09977031400739048}. \u001B[0m\n",
      "\u001B[32m[I 2023-04-27 10:47:51,155]\u001B[0m Trial 21 finished with values: [0.00015692458115144144, 0.4235082247366586] and parameters: {'learning_rate': 0.00015692458115144144}. \u001B[0m\n",
      "\u001B[32m[I 2023-04-27 10:47:51,845]\u001B[0m Trial 22 finished with values: [0.0014637099340279343, 0.4235082247366586] and parameters: {'learning_rate': 0.0014637099340279343}. \u001B[0m\n",
      "\u001B[32m[I 2023-04-27 10:47:52,522]\u001B[0m Trial 23 finished with values: [0.237542460048024, 0.7216310177763523] and parameters: {'learning_rate': 0.237542460048024}. \u001B[0m\n",
      "\u001B[32m[I 2023-04-27 10:47:53,209]\u001B[0m Trial 24 finished with values: [0.24410089728809634, 0.7254004209977449] and parameters: {'learning_rate': 0.24410089728809634}. \u001B[0m\n",
      "\u001B[32m[I 2023-04-27 10:47:53,930]\u001B[0m Trial 25 finished with values: [0.039216586476540555, 0.7301579035907364] and parameters: {'learning_rate': 0.039216586476540555}. \u001B[0m\n",
      "\u001B[32m[I 2023-04-27 10:47:54,668]\u001B[0m Trial 26 finished with values: [0.04413193652148863, 0.7292176187667853] and parameters: {'learning_rate': 0.04413193652148863}. \u001B[0m\n",
      "\u001B[32m[I 2023-04-27 10:47:55,334]\u001B[0m Trial 27 finished with values: [0.12844461011742844, 0.7321027124572879] and parameters: {'learning_rate': 0.12844461011742844}. \u001B[0m\n",
      "\u001B[32m[I 2023-04-27 10:47:56,032]\u001B[0m Trial 28 finished with values: [0.0006332697167843045, 0.4235082247366586] and parameters: {'learning_rate': 0.0006332697167843045}. \u001B[0m\n",
      "\u001B[32m[I 2023-04-27 10:47:56,712]\u001B[0m Trial 29 finished with values: [0.4498243389528799, 0.7180387023655493] and parameters: {'learning_rate': 0.4498243389528799}. \u001B[0m\n",
      "\u001B[32m[I 2023-04-27 10:47:57,322]\u001B[0m Trial 30 finished with values: [0.28825962026286955, 0.7220137309076756] and parameters: {'learning_rate': 0.28825962026286955}. \u001B[0m\n",
      "\u001B[32m[I 2023-04-27 10:47:57,985]\u001B[0m Trial 31 finished with values: [0.036619413830782564, 0.7302184406320554] and parameters: {'learning_rate': 0.036619413830782564}. \u001B[0m\n",
      "\u001B[32m[I 2023-04-27 10:47:58,563]\u001B[0m Trial 32 finished with values: [0.03610204856200786, 0.7304328067409969] and parameters: {'learning_rate': 0.03610204856200786}. \u001B[0m\n",
      "\u001B[32m[I 2023-04-27 10:47:59,225]\u001B[0m Trial 33 finished with values: [0.0021961450728918896, 0.4235082247366586] and parameters: {'learning_rate': 0.0021961450728918896}. \u001B[0m\n",
      "\u001B[32m[I 2023-04-27 10:47:59,946]\u001B[0m Trial 34 finished with values: [0.012193586140043794, 0.7120523440790167] and parameters: {'learning_rate': 0.012193586140043794}. \u001B[0m\n",
      "\u001B[32m[I 2023-04-27 10:48:00,626]\u001B[0m Trial 35 finished with values: [0.19630258423899116, 0.7290264275839735] and parameters: {'learning_rate': 0.19630258423899116}. \u001B[0m\n",
      "\u001B[32m[I 2023-04-27 10:48:01,328]\u001B[0m Trial 36 finished with values: [0.00017918412416240907, 0.4235082247366586] and parameters: {'learning_rate': 0.00017918412416240907}. \u001B[0m\n",
      "\u001B[32m[I 2023-04-27 10:48:02,017]\u001B[0m Trial 37 finished with values: [0.014133500358080071, 0.7167142851538554] and parameters: {'learning_rate': 0.014133500358080071}. \u001B[0m\n",
      "\u001B[32m[I 2023-04-27 10:48:02,698]\u001B[0m Trial 38 finished with values: [0.04852382290869409, 0.7310333204595433] and parameters: {'learning_rate': 0.04852382290869409}. \u001B[0m\n",
      "\u001B[32m[I 2023-04-27 10:48:03,384]\u001B[0m Trial 39 finished with values: [0.040201201662143485, 0.7306614283099379] and parameters: {'learning_rate': 0.040201201662143485}. \u001B[0m\n",
      "\u001B[32m[I 2023-04-27 10:48:04,062]\u001B[0m Trial 40 finished with values: [0.0011776265316570207, 0.4235082247366586] and parameters: {'learning_rate': 0.0011776265316570207}. \u001B[0m\n",
      "\u001B[32m[I 2023-04-27 10:48:04,770]\u001B[0m Trial 41 finished with values: [0.026396073829949854, 0.7294521208392316] and parameters: {'learning_rate': 0.026396073829949854}. \u001B[0m\n",
      "\u001B[32m[I 2023-04-27 10:48:05,444]\u001B[0m Trial 42 finished with values: [0.19287363423507076, 0.7259236143539816] and parameters: {'learning_rate': 0.19287363423507076}. \u001B[0m\n",
      "\u001B[32m[I 2023-04-27 10:48:06,182]\u001B[0m Trial 43 finished with values: [0.07377836783758575, 0.7335097300380633] and parameters: {'learning_rate': 0.07377836783758575}. \u001B[0m\n",
      "\u001B[32m[I 2023-04-27 10:48:06,865]\u001B[0m Trial 44 finished with values: [0.06950786503628438, 0.7323174432397132] and parameters: {'learning_rate': 0.06950786503628438}. \u001B[0m\n",
      "\u001B[32m[I 2023-04-27 10:48:07,522]\u001B[0m Trial 45 finished with values: [0.0013182070434705978, 0.4235082247366586] and parameters: {'learning_rate': 0.0013182070434705978}. \u001B[0m\n",
      "\u001B[32m[I 2023-04-27 10:48:08,245]\u001B[0m Trial 46 finished with values: [0.0001689170415983065, 0.4235082247366586] and parameters: {'learning_rate': 0.0001689170415983065}. \u001B[0m\n",
      "\u001B[32m[I 2023-04-27 10:48:08,983]\u001B[0m Trial 47 finished with values: [0.0021018530965500105, 0.4235082247366586] and parameters: {'learning_rate': 0.0021018530965500105}. \u001B[0m\n",
      "\u001B[32m[I 2023-04-27 10:48:09,687]\u001B[0m Trial 48 finished with values: [0.00019287163151974652, 0.4235082247366586] and parameters: {'learning_rate': 0.00019287163151974652}. \u001B[0m\n",
      "\u001B[32m[I 2023-04-27 10:48:10,369]\u001B[0m Trial 49 finished with values: [0.1714187324525616, 0.7274564562489783] and parameters: {'learning_rate': 0.1714187324525616}. \u001B[0m\n",
      "\u001B[32m[I 2023-04-27 10:48:11,109]\u001B[0m Trial 50 finished with values: [0.028218912249716382, 0.7285799931977797] and parameters: {'learning_rate': 0.028218912249716382}. \u001B[0m\n",
      "\u001B[32m[I 2023-04-27 10:48:11,818]\u001B[0m Trial 51 finished with values: [0.00037469787058577405, 0.4235082247366586] and parameters: {'learning_rate': 0.00037469787058577405}. \u001B[0m\n",
      "\u001B[32m[I 2023-04-27 10:48:12,557]\u001B[0m Trial 52 finished with values: [0.016517619384449466, 0.7201909680929806] and parameters: {'learning_rate': 0.016517619384449466}. \u001B[0m\n",
      "\u001B[32m[I 2023-04-27 10:48:13,222]\u001B[0m Trial 53 finished with values: [0.4796291220454122, 0.7120415606860494] and parameters: {'learning_rate': 0.4796291220454122}. \u001B[0m\n",
      "\u001B[32m[I 2023-04-27 10:48:13,891]\u001B[0m Trial 54 finished with values: [0.01075645544167512, 0.6983807551597365] and parameters: {'learning_rate': 0.01075645544167512}. \u001B[0m\n",
      "\u001B[32m[I 2023-04-27 10:48:14,587]\u001B[0m Trial 55 finished with values: [0.0013300668001608705, 0.4235082247366586] and parameters: {'learning_rate': 0.0013300668001608705}. \u001B[0m\n",
      "\u001B[32m[I 2023-04-27 10:48:15,311]\u001B[0m Trial 56 finished with values: [0.009234620597188305, 0.6815820697212852] and parameters: {'learning_rate': 0.009234620597188305}. \u001B[0m\n",
      "\u001B[32m[I 2023-04-27 10:48:16,010]\u001B[0m Trial 57 finished with values: [0.030789337644333142, 0.7297299658845593] and parameters: {'learning_rate': 0.030789337644333142}. \u001B[0m\n",
      "\u001B[32m[I 2023-04-27 10:48:16,741]\u001B[0m Trial 58 finished with values: [0.0005196761744466342, 0.4235082247366586] and parameters: {'learning_rate': 0.0005196761744466342}. \u001B[0m\n",
      "\u001B[32m[I 2023-04-27 10:48:17,397]\u001B[0m Trial 59 finished with values: [0.21454254531144426, 0.7279770709345865] and parameters: {'learning_rate': 0.21454254531144426}. \u001B[0m\n",
      "\u001B[32m[I 2023-04-27 10:48:18,113]\u001B[0m Trial 60 finished with values: [0.023714036796718886, 0.7259369472766212] and parameters: {'learning_rate': 0.023714036796718886}. \u001B[0m\n",
      "\u001B[32m[I 2023-04-27 10:48:18,831]\u001B[0m Trial 61 finished with values: [0.042951701452191404, 0.7302474855948291] and parameters: {'learning_rate': 0.042951701452191404}. \u001B[0m\n",
      "\u001B[32m[I 2023-04-27 10:48:19,505]\u001B[0m Trial 62 finished with values: [0.30521179006815724, 0.7193743184471776] and parameters: {'learning_rate': 0.30521179006815724}. \u001B[0m\n",
      "\u001B[32m[I 2023-04-27 10:48:20,238]\u001B[0m Trial 63 finished with values: [0.0031088442966744653, 0.4235082247366586] and parameters: {'learning_rate': 0.0031088442966744653}. \u001B[0m\n",
      "\u001B[32m[I 2023-04-27 10:48:20,968]\u001B[0m Trial 64 finished with values: [0.0004014235312843208, 0.4235082247366586] and parameters: {'learning_rate': 0.0004014235312843208}. \u001B[0m\n",
      "\u001B[32m[I 2023-04-27 10:48:21,682]\u001B[0m Trial 65 finished with values: [0.005578035829630357, 0.6170142717941252] and parameters: {'learning_rate': 0.005578035829630357}. \u001B[0m\n",
      "\u001B[32m[I 2023-04-27 10:48:22,420]\u001B[0m Trial 66 finished with values: [0.0001592544431367279, 0.4235082247366586] and parameters: {'learning_rate': 0.0001592544431367279}. \u001B[0m\n",
      "\u001B[32m[I 2023-04-27 10:48:23,115]\u001B[0m Trial 67 finished with values: [0.0807232375319011, 0.7309408871913655] and parameters: {'learning_rate': 0.0807232375319011}. \u001B[0m\n",
      "\u001B[32m[I 2023-04-27 10:48:23,791]\u001B[0m Trial 68 finished with values: [0.16799292006264588, 0.7309842390105754] and parameters: {'learning_rate': 0.16799292006264588}. \u001B[0m\n",
      "\u001B[32m[I 2023-04-27 10:48:24,481]\u001B[0m Trial 69 finished with values: [0.04159311590472715, 0.7313584050417112] and parameters: {'learning_rate': 0.04159311590472715}. \u001B[0m\n",
      "\u001B[32m[I 2023-04-27 10:48:25,217]\u001B[0m Trial 70 finished with values: [0.0007829813261500128, 0.4235082247366586] and parameters: {'learning_rate': 0.0007829813261500128}. \u001B[0m\n",
      "\u001B[32m[I 2023-04-27 10:48:25,965]\u001B[0m Trial 71 finished with values: [0.0005327862205087224, 0.4235082247366586] and parameters: {'learning_rate': 0.0005327862205087224}. \u001B[0m\n",
      "\u001B[32m[I 2023-04-27 10:48:26,763]\u001B[0m Trial 72 finished with values: [0.011004042996587247, 0.7013991059388606] and parameters: {'learning_rate': 0.011004042996587247}. \u001B[0m\n",
      "\u001B[32m[I 2023-04-27 10:48:27,570]\u001B[0m Trial 73 finished with values: [0.012096495400321669, 0.7112448137800941] and parameters: {'learning_rate': 0.012096495400321669}. \u001B[0m\n",
      "\u001B[32m[I 2023-04-27 10:48:28,277]\u001B[0m Trial 74 finished with values: [0.07830377287729806, 0.7306338561389435] and parameters: {'learning_rate': 0.07830377287729806}. \u001B[0m\n",
      "\u001B[32m[I 2023-04-27 10:48:29,000]\u001B[0m Trial 75 finished with values: [0.0020289312962674306, 0.4235082247366586] and parameters: {'learning_rate': 0.0020289312962674306}. \u001B[0m\n",
      "\u001B[32m[I 2023-04-27 10:48:29,717]\u001B[0m Trial 76 finished with values: [0.007003614272196497, 0.653715322076985] and parameters: {'learning_rate': 0.007003614272196497}. \u001B[0m\n",
      "\u001B[32m[I 2023-04-27 10:48:30,438]\u001B[0m Trial 77 finished with values: [0.026811861365256547, 0.7281393119846103] and parameters: {'learning_rate': 0.026811861365256547}. \u001B[0m\n",
      "\u001B[32m[I 2023-04-27 10:48:31,206]\u001B[0m Trial 78 finished with values: [0.0014534431094221844, 0.4235082247366586] and parameters: {'learning_rate': 0.0014534431094221844}. \u001B[0m\n",
      "\u001B[32m[I 2023-04-27 10:48:31,910]\u001B[0m Trial 79 finished with values: [0.07184266906020101, 0.7318954915835494] and parameters: {'learning_rate': 0.07184266906020101}. \u001B[0m\n",
      "\u001B[32m[I 2023-04-27 10:48:32,611]\u001B[0m Trial 80 finished with values: [0.20138173825410338, 0.7278080193179831] and parameters: {'learning_rate': 0.20138173825410338}. \u001B[0m\n",
      "\u001B[32m[I 2023-04-27 10:48:33,350]\u001B[0m Trial 81 finished with values: [0.01956656266919498, 0.7259187426802697] and parameters: {'learning_rate': 0.01956656266919498}. \u001B[0m\n",
      "\u001B[32m[I 2023-04-27 10:48:34,043]\u001B[0m Trial 82 finished with values: [0.005251844487229045, 0.6024609734794308] and parameters: {'learning_rate': 0.005251844487229045}. \u001B[0m\n",
      "\u001B[32m[I 2023-04-27 10:48:34,734]\u001B[0m Trial 83 finished with values: [0.0007975269741962664, 0.4235082247366586] and parameters: {'learning_rate': 0.0007975269741962664}. \u001B[0m\n",
      "\u001B[32m[I 2023-04-27 10:48:35,428]\u001B[0m Trial 84 finished with values: [0.0005538907493946157, 0.4235082247366586] and parameters: {'learning_rate': 0.0005538907493946157}. \u001B[0m\n",
      "\u001B[32m[I 2023-04-27 10:48:36,126]\u001B[0m Trial 85 finished with values: [0.0835122016432078, 0.7321890615843162] and parameters: {'learning_rate': 0.0835122016432078}. \u001B[0m\n",
      "\u001B[32m[I 2023-04-27 10:48:36,860]\u001B[0m Trial 86 finished with values: [0.0006260697703589752, 0.4235082247366586] and parameters: {'learning_rate': 0.0006260697703589752}. \u001B[0m\n",
      "\u001B[32m[I 2023-04-27 10:48:37,556]\u001B[0m Trial 87 finished with values: [0.11742527067046299, 0.7321944783582703] and parameters: {'learning_rate': 0.11742527067046299}. \u001B[0m\n",
      "\u001B[32m[I 2023-04-27 10:48:38,296]\u001B[0m Trial 88 finished with values: [0.004544231657855253, 0.5343888745179519] and parameters: {'learning_rate': 0.004544231657855253}. \u001B[0m\n",
      "\u001B[32m[I 2023-04-27 10:48:39,070]\u001B[0m Trial 89 finished with values: [0.00012209259631005412, 0.4235082247366586] and parameters: {'learning_rate': 0.00012209259631005412}. \u001B[0m\n",
      "\u001B[32m[I 2023-04-27 10:48:39,823]\u001B[0m Trial 90 finished with values: [0.001267549290534437, 0.4235082247366586] and parameters: {'learning_rate': 0.001267549290534437}. \u001B[0m\n",
      "\u001B[32m[I 2023-04-27 10:48:40,539]\u001B[0m Trial 91 finished with values: [0.004363976487357013, 0.5087369170754972] and parameters: {'learning_rate': 0.004363976487357013}. \u001B[0m\n",
      "\u001B[32m[I 2023-04-27 10:48:41,243]\u001B[0m Trial 92 finished with values: [0.017485462659550834, 0.722280452051524] and parameters: {'learning_rate': 0.017485462659550834}. \u001B[0m\n",
      "\u001B[32m[I 2023-04-27 10:48:41,927]\u001B[0m Trial 93 finished with values: [0.44828056389247145, 0.7116760995541701] and parameters: {'learning_rate': 0.44828056389247145}. \u001B[0m\n",
      "\u001B[32m[I 2023-04-27 10:48:42,634]\u001B[0m Trial 94 finished with values: [0.08277845673611592, 0.7314187112500111] and parameters: {'learning_rate': 0.08277845673611592}. \u001B[0m\n",
      "\u001B[32m[I 2023-04-27 10:48:43,357]\u001B[0m Trial 95 finished with values: [0.0003291311959625348, 0.4235082247366586] and parameters: {'learning_rate': 0.0003291311959625348}. \u001B[0m\n",
      "\u001B[32m[I 2023-04-27 10:48:44,073]\u001B[0m Trial 96 finished with values: [0.00022868118733042252, 0.4235082247366586] and parameters: {'learning_rate': 0.00022868118733042252}. \u001B[0m\n",
      "\u001B[32m[I 2023-04-27 10:48:44,798]\u001B[0m Trial 97 finished with values: [0.18286145837300968, 0.7262427071035374] and parameters: {'learning_rate': 0.18286145837300968}. \u001B[0m\n",
      "\u001B[32m[I 2023-04-27 10:48:45,479]\u001B[0m Trial 98 finished with values: [0.06941692989749879, 0.7295385067809874] and parameters: {'learning_rate': 0.06941692989749879}. \u001B[0m\n",
      "\u001B[32m[I 2023-04-27 10:48:46,147]\u001B[0m Trial 99 finished with values: [0.19305171220017311, 0.7262367052555226] and parameters: {'learning_rate': 0.19305171220017311}. \u001B[0m\n"
     ]
    }
   ],
   "source": [
    "study = optuna.create_study(directions=[\"maximize\", \"maximize\"])\n",
    "study.optimize(moo_objective, n_trials=100)"
   ],
   "metadata": {
    "collapsed": false,
    "ExecuteTime": {
     "start_time": "2023-04-27T12:47:35.162158Z",
     "end_time": "2023-04-27T12:48:45.814205Z"
    }
   }
  },
  {
   "cell_type": "code",
   "execution_count": 24,
   "outputs": [
    {
     "data": {
      "application/vnd.plotly.v1+json": {
       "data": [
        {
         "hovertemplate": "%{text}<extra>Trial</extra>",
         "marker": {
          "color": [
           0,
           1,
           2,
           4,
           5,
           6,
           7,
           8,
           9,
           10,
           11,
           13,
           15,
           16,
           17,
           18,
           19,
           20,
           21,
           22,
           23,
           25,
           26,
           28,
           31,
           32,
           33,
           34,
           36,
           37,
           38,
           39,
           40,
           41,
           42,
           44,
           45,
           46,
           47,
           48,
           49,
           50,
           51,
           52,
           54,
           55,
           56,
           57,
           58,
           60,
           61,
           63,
           64,
           65,
           66,
           67,
           69,
           70,
           71,
           72,
           73,
           74,
           75,
           76,
           77,
           78,
           79,
           80,
           81,
           82,
           83,
           84,
           85,
           86,
           88,
           89,
           90,
           91,
           92,
           93,
           94,
           95,
           96,
           97,
           98,
           99
          ],
          "colorbar": {
           "title": {
            "text": "Trial"
           }
          },
          "colorscale": [
           [
            0.0,
            "rgb(247,251,255)"
           ],
           [
            0.125,
            "rgb(222,235,247)"
           ],
           [
            0.25,
            "rgb(198,219,239)"
           ],
           [
            0.375,
            "rgb(158,202,225)"
           ],
           [
            0.5,
            "rgb(107,174,214)"
           ],
           [
            0.625,
            "rgb(66,146,198)"
           ],
           [
            0.75,
            "rgb(33,113,181)"
           ],
           [
            0.875,
            "rgb(8,81,156)"
           ],
           [
            1.0,
            "rgb(8,48,107)"
           ]
          ],
          "line": {
           "color": "Grey",
           "width": 0.5
          }
         },
         "mode": "markers",
         "showlegend": false,
         "text": [
          "{<br>  \"number\": 0,<br>  \"values\": [<br>    0.018276625572235056,<br>    0.7229728382357858<br>  ],<br>  \"params\": {<br>    \"learning_rate\": 0.018276625572235056<br>  }<br>}",
          "{<br>  \"number\": 1,<br>  \"values\": [<br>    0.012281350875017864,<br>    0.713129498994182<br>  ],<br>  \"params\": {<br>    \"learning_rate\": 0.012281350875017864<br>  }<br>}",
          "{<br>  \"number\": 2,<br>  \"values\": [<br>    0.3179931543219117,<br>    0.7181352358216049<br>  ],<br>  \"params\": {<br>    \"learning_rate\": 0.3179931543219117<br>  }<br>}",
          "{<br>  \"number\": 4,<br>  \"values\": [<br>    0.010097499163932589,<br>    0.689595604293249<br>  ],<br>  \"params\": {<br>    \"learning_rate\": 0.010097499163932589<br>  }<br>}",
          "{<br>  \"number\": 5,<br>  \"values\": [<br>    0.0010284892903758126,<br>    0.4235082247366586<br>  ],<br>  \"params\": {<br>    \"learning_rate\": 0.0010284892903758126<br>  }<br>}",
          "{<br>  \"number\": 6,<br>  \"values\": [<br>    0.0008073623310050534,<br>    0.4235082247366586<br>  ],<br>  \"params\": {<br>    \"learning_rate\": 0.0008073623310050534<br>  }<br>}",
          "{<br>  \"number\": 7,<br>  \"values\": [<br>    0.009446892389275133,<br>    0.6841554205738356<br>  ],<br>  \"params\": {<br>    \"learning_rate\": 0.009446892389275133<br>  }<br>}",
          "{<br>  \"number\": 8,<br>  \"values\": [<br>    0.042129982546996285,<br>    0.7318679125094985<br>  ],<br>  \"params\": {<br>    \"learning_rate\": 0.042129982546996285<br>  }<br>}",
          "{<br>  \"number\": 9,<br>  \"values\": [<br>    0.006234336282154794,<br>    0.6372047388051083<br>  ],<br>  \"params\": {<br>    \"learning_rate\": 0.006234336282154794<br>  }<br>}",
          "{<br>  \"number\": 10,<br>  \"values\": [<br>    0.0014213907266344855,<br>    0.4235082247366586<br>  ],<br>  \"params\": {<br>    \"learning_rate\": 0.0014213907266344855<br>  }<br>}",
          "{<br>  \"number\": 11,<br>  \"values\": [<br>    0.0074818711669891215,<br>    0.6643619268828908<br>  ],<br>  \"params\": {<br>    \"learning_rate\": 0.0074818711669891215<br>  }<br>}",
          "{<br>  \"number\": 13,<br>  \"values\": [<br>    0.0012664149179400209,<br>    0.4235082247366586<br>  ],<br>  \"params\": {<br>    \"learning_rate\": 0.0012664149179400209<br>  }<br>}",
          "{<br>  \"number\": 15,<br>  \"values\": [<br>    0.01538041330688695,<br>    0.7173796023919852<br>  ],<br>  \"params\": {<br>    \"learning_rate\": 0.01538041330688695<br>  }<br>}",
          "{<br>  \"number\": 16,<br>  \"values\": [<br>    0.018396986660930648,<br>    0.7227368738811438<br>  ],<br>  \"params\": {<br>    \"learning_rate\": 0.018396986660930648<br>  }<br>}",
          "{<br>  \"number\": 17,<br>  \"values\": [<br>    0.0030415201353781317,<br>    0.4235082247366586<br>  ],<br>  \"params\": {<br>    \"learning_rate\": 0.0030415201353781317<br>  }<br>}",
          "{<br>  \"number\": 18,<br>  \"values\": [<br>    0.34679130964813293,<br>    0.7165372792236238<br>  ],<br>  \"params\": {<br>    \"learning_rate\": 0.34679130964813293<br>  }<br>}",
          "{<br>  \"number\": 19,<br>  \"values\": [<br>    0.0016185106184141472,<br>    0.4235082247366586<br>  ],<br>  \"params\": {<br>    \"learning_rate\": 0.0016185106184141472<br>  }<br>}",
          "{<br>  \"number\": 20,<br>  \"values\": [<br>    0.09977031400739048,<br>    0.7302018596960369<br>  ],<br>  \"params\": {<br>    \"learning_rate\": 0.09977031400739048<br>  }<br>}",
          "{<br>  \"number\": 21,<br>  \"values\": [<br>    0.00015692458115144144,<br>    0.4235082247366586<br>  ],<br>  \"params\": {<br>    \"learning_rate\": 0.00015692458115144144<br>  }<br>}",
          "{<br>  \"number\": 22,<br>  \"values\": [<br>    0.0014637099340279343,<br>    0.4235082247366586<br>  ],<br>  \"params\": {<br>    \"learning_rate\": 0.0014637099340279343<br>  }<br>}",
          "{<br>  \"number\": 23,<br>  \"values\": [<br>    0.237542460048024,<br>    0.7216310177763523<br>  ],<br>  \"params\": {<br>    \"learning_rate\": 0.237542460048024<br>  }<br>}",
          "{<br>  \"number\": 25,<br>  \"values\": [<br>    0.039216586476540555,<br>    0.7301579035907364<br>  ],<br>  \"params\": {<br>    \"learning_rate\": 0.039216586476540555<br>  }<br>}",
          "{<br>  \"number\": 26,<br>  \"values\": [<br>    0.04413193652148863,<br>    0.7292176187667853<br>  ],<br>  \"params\": {<br>    \"learning_rate\": 0.04413193652148863<br>  }<br>}",
          "{<br>  \"number\": 28,<br>  \"values\": [<br>    0.0006332697167843045,<br>    0.4235082247366586<br>  ],<br>  \"params\": {<br>    \"learning_rate\": 0.0006332697167843045<br>  }<br>}",
          "{<br>  \"number\": 31,<br>  \"values\": [<br>    0.036619413830782564,<br>    0.7302184406320554<br>  ],<br>  \"params\": {<br>    \"learning_rate\": 0.036619413830782564<br>  }<br>}",
          "{<br>  \"number\": 32,<br>  \"values\": [<br>    0.03610204856200786,<br>    0.7304328067409969<br>  ],<br>  \"params\": {<br>    \"learning_rate\": 0.03610204856200786<br>  }<br>}",
          "{<br>  \"number\": 33,<br>  \"values\": [<br>    0.0021961450728918896,<br>    0.4235082247366586<br>  ],<br>  \"params\": {<br>    \"learning_rate\": 0.0021961450728918896<br>  }<br>}",
          "{<br>  \"number\": 34,<br>  \"values\": [<br>    0.012193586140043794,<br>    0.7120523440790167<br>  ],<br>  \"params\": {<br>    \"learning_rate\": 0.012193586140043794<br>  }<br>}",
          "{<br>  \"number\": 36,<br>  \"values\": [<br>    0.00017918412416240907,<br>    0.4235082247366586<br>  ],<br>  \"params\": {<br>    \"learning_rate\": 0.00017918412416240907<br>  }<br>}",
          "{<br>  \"number\": 37,<br>  \"values\": [<br>    0.014133500358080071,<br>    0.7167142851538554<br>  ],<br>  \"params\": {<br>    \"learning_rate\": 0.014133500358080071<br>  }<br>}",
          "{<br>  \"number\": 38,<br>  \"values\": [<br>    0.04852382290869409,<br>    0.7310333204595433<br>  ],<br>  \"params\": {<br>    \"learning_rate\": 0.04852382290869409<br>  }<br>}",
          "{<br>  \"number\": 39,<br>  \"values\": [<br>    0.040201201662143485,<br>    0.7306614283099379<br>  ],<br>  \"params\": {<br>    \"learning_rate\": 0.040201201662143485<br>  }<br>}",
          "{<br>  \"number\": 40,<br>  \"values\": [<br>    0.0011776265316570207,<br>    0.4235082247366586<br>  ],<br>  \"params\": {<br>    \"learning_rate\": 0.0011776265316570207<br>  }<br>}",
          "{<br>  \"number\": 41,<br>  \"values\": [<br>    0.026396073829949854,<br>    0.7294521208392316<br>  ],<br>  \"params\": {<br>    \"learning_rate\": 0.026396073829949854<br>  }<br>}",
          "{<br>  \"number\": 42,<br>  \"values\": [<br>    0.19287363423507076,<br>    0.7259236143539816<br>  ],<br>  \"params\": {<br>    \"learning_rate\": 0.19287363423507076<br>  }<br>}",
          "{<br>  \"number\": 44,<br>  \"values\": [<br>    0.06950786503628438,<br>    0.7323174432397132<br>  ],<br>  \"params\": {<br>    \"learning_rate\": 0.06950786503628438<br>  }<br>}",
          "{<br>  \"number\": 45,<br>  \"values\": [<br>    0.0013182070434705978,<br>    0.4235082247366586<br>  ],<br>  \"params\": {<br>    \"learning_rate\": 0.0013182070434705978<br>  }<br>}",
          "{<br>  \"number\": 46,<br>  \"values\": [<br>    0.0001689170415983065,<br>    0.4235082247366586<br>  ],<br>  \"params\": {<br>    \"learning_rate\": 0.0001689170415983065<br>  }<br>}",
          "{<br>  \"number\": 47,<br>  \"values\": [<br>    0.0021018530965500105,<br>    0.4235082247366586<br>  ],<br>  \"params\": {<br>    \"learning_rate\": 0.0021018530965500105<br>  }<br>}",
          "{<br>  \"number\": 48,<br>  \"values\": [<br>    0.00019287163151974652,<br>    0.4235082247366586<br>  ],<br>  \"params\": {<br>    \"learning_rate\": 0.00019287163151974652<br>  }<br>}",
          "{<br>  \"number\": 49,<br>  \"values\": [<br>    0.1714187324525616,<br>    0.7274564562489783<br>  ],<br>  \"params\": {<br>    \"learning_rate\": 0.1714187324525616<br>  }<br>}",
          "{<br>  \"number\": 50,<br>  \"values\": [<br>    0.028218912249716382,<br>    0.7285799931977797<br>  ],<br>  \"params\": {<br>    \"learning_rate\": 0.028218912249716382<br>  }<br>}",
          "{<br>  \"number\": 51,<br>  \"values\": [<br>    0.00037469787058577405,<br>    0.4235082247366586<br>  ],<br>  \"params\": {<br>    \"learning_rate\": 0.00037469787058577405<br>  }<br>}",
          "{<br>  \"number\": 52,<br>  \"values\": [<br>    0.016517619384449466,<br>    0.7201909680929806<br>  ],<br>  \"params\": {<br>    \"learning_rate\": 0.016517619384449466<br>  }<br>}",
          "{<br>  \"number\": 54,<br>  \"values\": [<br>    0.01075645544167512,<br>    0.6983807551597365<br>  ],<br>  \"params\": {<br>    \"learning_rate\": 0.01075645544167512<br>  }<br>}",
          "{<br>  \"number\": 55,<br>  \"values\": [<br>    0.0013300668001608705,<br>    0.4235082247366586<br>  ],<br>  \"params\": {<br>    \"learning_rate\": 0.0013300668001608705<br>  }<br>}",
          "{<br>  \"number\": 56,<br>  \"values\": [<br>    0.009234620597188305,<br>    0.6815820697212852<br>  ],<br>  \"params\": {<br>    \"learning_rate\": 0.009234620597188305<br>  }<br>}",
          "{<br>  \"number\": 57,<br>  \"values\": [<br>    0.030789337644333142,<br>    0.7297299658845593<br>  ],<br>  \"params\": {<br>    \"learning_rate\": 0.030789337644333142<br>  }<br>}",
          "{<br>  \"number\": 58,<br>  \"values\": [<br>    0.0005196761744466342,<br>    0.4235082247366586<br>  ],<br>  \"params\": {<br>    \"learning_rate\": 0.0005196761744466342<br>  }<br>}",
          "{<br>  \"number\": 60,<br>  \"values\": [<br>    0.023714036796718886,<br>    0.7259369472766212<br>  ],<br>  \"params\": {<br>    \"learning_rate\": 0.023714036796718886<br>  }<br>}",
          "{<br>  \"number\": 61,<br>  \"values\": [<br>    0.042951701452191404,<br>    0.7302474855948291<br>  ],<br>  \"params\": {<br>    \"learning_rate\": 0.042951701452191404<br>  }<br>}",
          "{<br>  \"number\": 63,<br>  \"values\": [<br>    0.0031088442966744653,<br>    0.4235082247366586<br>  ],<br>  \"params\": {<br>    \"learning_rate\": 0.0031088442966744653<br>  }<br>}",
          "{<br>  \"number\": 64,<br>  \"values\": [<br>    0.0004014235312843208,<br>    0.4235082247366586<br>  ],<br>  \"params\": {<br>    \"learning_rate\": 0.0004014235312843208<br>  }<br>}",
          "{<br>  \"number\": 65,<br>  \"values\": [<br>    0.005578035829630357,<br>    0.6170142717941252<br>  ],<br>  \"params\": {<br>    \"learning_rate\": 0.005578035829630357<br>  }<br>}",
          "{<br>  \"number\": 66,<br>  \"values\": [<br>    0.0001592544431367279,<br>    0.4235082247366586<br>  ],<br>  \"params\": {<br>    \"learning_rate\": 0.0001592544431367279<br>  }<br>}",
          "{<br>  \"number\": 67,<br>  \"values\": [<br>    0.0807232375319011,<br>    0.7309408871913655<br>  ],<br>  \"params\": {<br>    \"learning_rate\": 0.0807232375319011<br>  }<br>}",
          "{<br>  \"number\": 69,<br>  \"values\": [<br>    0.04159311590472715,<br>    0.7313584050417112<br>  ],<br>  \"params\": {<br>    \"learning_rate\": 0.04159311590472715<br>  }<br>}",
          "{<br>  \"number\": 70,<br>  \"values\": [<br>    0.0007829813261500128,<br>    0.4235082247366586<br>  ],<br>  \"params\": {<br>    \"learning_rate\": 0.0007829813261500128<br>  }<br>}",
          "{<br>  \"number\": 71,<br>  \"values\": [<br>    0.0005327862205087224,<br>    0.4235082247366586<br>  ],<br>  \"params\": {<br>    \"learning_rate\": 0.0005327862205087224<br>  }<br>}",
          "{<br>  \"number\": 72,<br>  \"values\": [<br>    0.011004042996587247,<br>    0.7013991059388606<br>  ],<br>  \"params\": {<br>    \"learning_rate\": 0.011004042996587247<br>  }<br>}",
          "{<br>  \"number\": 73,<br>  \"values\": [<br>    0.012096495400321669,<br>    0.7112448137800941<br>  ],<br>  \"params\": {<br>    \"learning_rate\": 0.012096495400321669<br>  }<br>}",
          "{<br>  \"number\": 74,<br>  \"values\": [<br>    0.07830377287729806,<br>    0.7306338561389435<br>  ],<br>  \"params\": {<br>    \"learning_rate\": 0.07830377287729806<br>  }<br>}",
          "{<br>  \"number\": 75,<br>  \"values\": [<br>    0.0020289312962674306,<br>    0.4235082247366586<br>  ],<br>  \"params\": {<br>    \"learning_rate\": 0.0020289312962674306<br>  }<br>}",
          "{<br>  \"number\": 76,<br>  \"values\": [<br>    0.007003614272196497,<br>    0.653715322076985<br>  ],<br>  \"params\": {<br>    \"learning_rate\": 0.007003614272196497<br>  }<br>}",
          "{<br>  \"number\": 77,<br>  \"values\": [<br>    0.026811861365256547,<br>    0.7281393119846103<br>  ],<br>  \"params\": {<br>    \"learning_rate\": 0.026811861365256547<br>  }<br>}",
          "{<br>  \"number\": 78,<br>  \"values\": [<br>    0.0014534431094221844,<br>    0.4235082247366586<br>  ],<br>  \"params\": {<br>    \"learning_rate\": 0.0014534431094221844<br>  }<br>}",
          "{<br>  \"number\": 79,<br>  \"values\": [<br>    0.07184266906020101,<br>    0.7318954915835494<br>  ],<br>  \"params\": {<br>    \"learning_rate\": 0.07184266906020101<br>  }<br>}",
          "{<br>  \"number\": 80,<br>  \"values\": [<br>    0.20138173825410338,<br>    0.7278080193179831<br>  ],<br>  \"params\": {<br>    \"learning_rate\": 0.20138173825410338<br>  }<br>}",
          "{<br>  \"number\": 81,<br>  \"values\": [<br>    0.01956656266919498,<br>    0.7259187426802697<br>  ],<br>  \"params\": {<br>    \"learning_rate\": 0.01956656266919498<br>  }<br>}",
          "{<br>  \"number\": 82,<br>  \"values\": [<br>    0.005251844487229045,<br>    0.6024609734794308<br>  ],<br>  \"params\": {<br>    \"learning_rate\": 0.005251844487229045<br>  }<br>}",
          "{<br>  \"number\": 83,<br>  \"values\": [<br>    0.0007975269741962664,<br>    0.4235082247366586<br>  ],<br>  \"params\": {<br>    \"learning_rate\": 0.0007975269741962664<br>  }<br>}",
          "{<br>  \"number\": 84,<br>  \"values\": [<br>    0.0005538907493946157,<br>    0.4235082247366586<br>  ],<br>  \"params\": {<br>    \"learning_rate\": 0.0005538907493946157<br>  }<br>}",
          "{<br>  \"number\": 85,<br>  \"values\": [<br>    0.0835122016432078,<br>    0.7321890615843162<br>  ],<br>  \"params\": {<br>    \"learning_rate\": 0.0835122016432078<br>  }<br>}",
          "{<br>  \"number\": 86,<br>  \"values\": [<br>    0.0006260697703589752,<br>    0.4235082247366586<br>  ],<br>  \"params\": {<br>    \"learning_rate\": 0.0006260697703589752<br>  }<br>}",
          "{<br>  \"number\": 88,<br>  \"values\": [<br>    0.004544231657855253,<br>    0.5343888745179519<br>  ],<br>  \"params\": {<br>    \"learning_rate\": 0.004544231657855253<br>  }<br>}",
          "{<br>  \"number\": 89,<br>  \"values\": [<br>    0.00012209259631005412,<br>    0.4235082247366586<br>  ],<br>  \"params\": {<br>    \"learning_rate\": 0.00012209259631005412<br>  }<br>}",
          "{<br>  \"number\": 90,<br>  \"values\": [<br>    0.001267549290534437,<br>    0.4235082247366586<br>  ],<br>  \"params\": {<br>    \"learning_rate\": 0.001267549290534437<br>  }<br>}",
          "{<br>  \"number\": 91,<br>  \"values\": [<br>    0.004363976487357013,<br>    0.5087369170754972<br>  ],<br>  \"params\": {<br>    \"learning_rate\": 0.004363976487357013<br>  }<br>}",
          "{<br>  \"number\": 92,<br>  \"values\": [<br>    0.017485462659550834,<br>    0.722280452051524<br>  ],<br>  \"params\": {<br>    \"learning_rate\": 0.017485462659550834<br>  }<br>}",
          "{<br>  \"number\": 93,<br>  \"values\": [<br>    0.44828056389247145,<br>    0.7116760995541701<br>  ],<br>  \"params\": {<br>    \"learning_rate\": 0.44828056389247145<br>  }<br>}",
          "{<br>  \"number\": 94,<br>  \"values\": [<br>    0.08277845673611592,<br>    0.7314187112500111<br>  ],<br>  \"params\": {<br>    \"learning_rate\": 0.08277845673611592<br>  }<br>}",
          "{<br>  \"number\": 95,<br>  \"values\": [<br>    0.0003291311959625348,<br>    0.4235082247366586<br>  ],<br>  \"params\": {<br>    \"learning_rate\": 0.0003291311959625348<br>  }<br>}",
          "{<br>  \"number\": 96,<br>  \"values\": [<br>    0.00022868118733042252,<br>    0.4235082247366586<br>  ],<br>  \"params\": {<br>    \"learning_rate\": 0.00022868118733042252<br>  }<br>}",
          "{<br>  \"number\": 97,<br>  \"values\": [<br>    0.18286145837300968,<br>    0.7262427071035374<br>  ],<br>  \"params\": {<br>    \"learning_rate\": 0.18286145837300968<br>  }<br>}",
          "{<br>  \"number\": 98,<br>  \"values\": [<br>    0.06941692989749879,<br>    0.7295385067809874<br>  ],<br>  \"params\": {<br>    \"learning_rate\": 0.06941692989749879<br>  }<br>}",
          "{<br>  \"number\": 99,<br>  \"values\": [<br>    0.19305171220017311,<br>    0.7262367052555226<br>  ],<br>  \"params\": {<br>    \"learning_rate\": 0.19305171220017311<br>  }<br>}"
         ],
         "x": [
          0.018276625572235056,
          0.012281350875017864,
          0.3179931543219117,
          0.010097499163932589,
          0.0010284892903758126,
          8.073623310050534E-4,
          0.009446892389275133,
          0.042129982546996285,
          0.006234336282154794,
          0.0014213907266344855,
          0.0074818711669891215,
          0.0012664149179400209,
          0.01538041330688695,
          0.018396986660930648,
          0.0030415201353781317,
          0.34679130964813293,
          0.0016185106184141472,
          0.09977031400739048,
          1.5692458115144144E-4,
          0.0014637099340279343,
          0.237542460048024,
          0.039216586476540555,
          0.04413193652148863,
          6.332697167843045E-4,
          0.036619413830782564,
          0.03610204856200786,
          0.0021961450728918896,
          0.012193586140043794,
          1.7918412416240907E-4,
          0.014133500358080071,
          0.04852382290869409,
          0.040201201662143485,
          0.0011776265316570207,
          0.026396073829949854,
          0.19287363423507076,
          0.06950786503628438,
          0.0013182070434705978,
          1.689170415983065E-4,
          0.0021018530965500105,
          1.9287163151974652E-4,
          0.1714187324525616,
          0.028218912249716382,
          3.7469787058577405E-4,
          0.016517619384449466,
          0.01075645544167512,
          0.0013300668001608705,
          0.009234620597188305,
          0.030789337644333142,
          5.196761744466342E-4,
          0.023714036796718886,
          0.042951701452191404,
          0.0031088442966744653,
          4.014235312843208E-4,
          0.005578035829630357,
          1.592544431367279E-4,
          0.0807232375319011,
          0.04159311590472715,
          7.829813261500128E-4,
          5.327862205087224E-4,
          0.011004042996587247,
          0.012096495400321669,
          0.07830377287729806,
          0.0020289312962674306,
          0.007003614272196497,
          0.026811861365256547,
          0.0014534431094221844,
          0.07184266906020101,
          0.20138173825410338,
          0.01956656266919498,
          0.005251844487229045,
          7.975269741962664E-4,
          5.538907493946157E-4,
          0.0835122016432078,
          6.260697703589752E-4,
          0.004544231657855253,
          1.2209259631005412E-4,
          0.001267549290534437,
          0.004363976487357013,
          0.017485462659550834,
          0.44828056389247145,
          0.08277845673611592,
          3.291311959625348E-4,
          2.2868118733042252E-4,
          0.18286145837300968,
          0.06941692989749879,
          0.19305171220017311
         ],
         "y": [
          0.7229728382357858,
          0.713129498994182,
          0.7181352358216049,
          0.689595604293249,
          0.4235082247366586,
          0.4235082247366586,
          0.6841554205738356,
          0.7318679125094985,
          0.6372047388051083,
          0.4235082247366586,
          0.6643619268828908,
          0.4235082247366586,
          0.7173796023919852,
          0.7227368738811438,
          0.4235082247366586,
          0.7165372792236238,
          0.4235082247366586,
          0.7302018596960369,
          0.4235082247366586,
          0.4235082247366586,
          0.7216310177763523,
          0.7301579035907364,
          0.7292176187667853,
          0.4235082247366586,
          0.7302184406320554,
          0.7304328067409969,
          0.4235082247366586,
          0.7120523440790167,
          0.4235082247366586,
          0.7167142851538554,
          0.7310333204595433,
          0.7306614283099379,
          0.4235082247366586,
          0.7294521208392316,
          0.7259236143539816,
          0.7323174432397132,
          0.4235082247366586,
          0.4235082247366586,
          0.4235082247366586,
          0.4235082247366586,
          0.7274564562489783,
          0.7285799931977797,
          0.4235082247366586,
          0.7201909680929806,
          0.6983807551597365,
          0.4235082247366586,
          0.6815820697212852,
          0.7297299658845593,
          0.4235082247366586,
          0.7259369472766212,
          0.7302474855948291,
          0.4235082247366586,
          0.4235082247366586,
          0.6170142717941252,
          0.4235082247366586,
          0.7309408871913655,
          0.7313584050417112,
          0.4235082247366586,
          0.4235082247366586,
          0.7013991059388606,
          0.7112448137800941,
          0.7306338561389435,
          0.4235082247366586,
          0.653715322076985,
          0.7281393119846103,
          0.4235082247366586,
          0.7318954915835494,
          0.7278080193179831,
          0.7259187426802697,
          0.6024609734794308,
          0.4235082247366586,
          0.4235082247366586,
          0.7321890615843162,
          0.4235082247366586,
          0.5343888745179519,
          0.4235082247366586,
          0.4235082247366586,
          0.5087369170754972,
          0.722280452051524,
          0.7116760995541701,
          0.7314187112500111,
          0.4235082247366586,
          0.4235082247366586,
          0.7262427071035374,
          0.7295385067809874,
          0.7262367052555226
         ],
         "type": "scatter"
        },
        {
         "hovertemplate": "%{text}<extra>Best Trial</extra>",
         "marker": {
          "color": [
           3,
           12,
           14,
           24,
           27,
           29,
           30,
           35,
           43,
           53,
           59,
           62,
           68,
           87
          ],
          "colorbar": {
           "title": {
            "text": "Best Trial"
           },
           "x": 1.1,
           "xpad": 40
          },
          "colorscale": [
           [
            0.0,
            "rgb(255,245,240)"
           ],
           [
            0.125,
            "rgb(254,224,210)"
           ],
           [
            0.25,
            "rgb(252,187,161)"
           ],
           [
            0.375,
            "rgb(252,146,114)"
           ],
           [
            0.5,
            "rgb(251,106,74)"
           ],
           [
            0.625,
            "rgb(239,59,44)"
           ],
           [
            0.75,
            "rgb(203,24,29)"
           ],
           [
            0.875,
            "rgb(165,15,21)"
           ],
           [
            1.0,
            "rgb(103,0,13)"
           ]
          ],
          "line": {
           "color": "Grey",
           "width": 0.5
          }
         },
         "mode": "markers",
         "showlegend": false,
         "text": [
          "{<br>  \"number\": 3,<br>  \"values\": [<br>    0.3317048028124761,<br>    0.7182462105095208<br>  ],<br>  \"params\": {<br>    \"learning_rate\": 0.3317048028124761<br>  }<br>}",
          "{<br>  \"number\": 12,<br>  \"values\": [<br>    0.1148404311838305,<br>    0.7321994102159477<br>  ],<br>  \"params\": {<br>    \"learning_rate\": 0.1148404311838305<br>  }<br>}",
          "{<br>  \"number\": 14,<br>  \"values\": [<br>    0.05307222954482612,<br>    0.7336139976808754<br>  ],<br>  \"params\": {<br>    \"learning_rate\": 0.05307222954482612<br>  }<br>}",
          "{<br>  \"number\": 24,<br>  \"values\": [<br>    0.24410089728809634,<br>    0.7254004209977449<br>  ],<br>  \"params\": {<br>    \"learning_rate\": 0.24410089728809634<br>  }<br>}",
          "{<br>  \"number\": 27,<br>  \"values\": [<br>    0.12844461011742844,<br>    0.7321027124572879<br>  ],<br>  \"params\": {<br>    \"learning_rate\": 0.12844461011742844<br>  }<br>}",
          "{<br>  \"number\": 29,<br>  \"values\": [<br>    0.4498243389528799,<br>    0.7180387023655493<br>  ],<br>  \"params\": {<br>    \"learning_rate\": 0.4498243389528799<br>  }<br>}",
          "{<br>  \"number\": 30,<br>  \"values\": [<br>    0.28825962026286955,<br>    0.7220137309076756<br>  ],<br>  \"params\": {<br>    \"learning_rate\": 0.28825962026286955<br>  }<br>}",
          "{<br>  \"number\": 35,<br>  \"values\": [<br>    0.19630258423899116,<br>    0.7290264275839735<br>  ],<br>  \"params\": {<br>    \"learning_rate\": 0.19630258423899116<br>  }<br>}",
          "{<br>  \"number\": 43,<br>  \"values\": [<br>    0.07377836783758575,<br>    0.7335097300380633<br>  ],<br>  \"params\": {<br>    \"learning_rate\": 0.07377836783758575<br>  }<br>}",
          "{<br>  \"number\": 53,<br>  \"values\": [<br>    0.4796291220454122,<br>    0.7120415606860494<br>  ],<br>  \"params\": {<br>    \"learning_rate\": 0.4796291220454122<br>  }<br>}",
          "{<br>  \"number\": 59,<br>  \"values\": [<br>    0.21454254531144426,<br>    0.7279770709345865<br>  ],<br>  \"params\": {<br>    \"learning_rate\": 0.21454254531144426<br>  }<br>}",
          "{<br>  \"number\": 62,<br>  \"values\": [<br>    0.30521179006815724,<br>    0.7193743184471776<br>  ],<br>  \"params\": {<br>    \"learning_rate\": 0.30521179006815724<br>  }<br>}",
          "{<br>  \"number\": 68,<br>  \"values\": [<br>    0.16799292006264588,<br>    0.7309842390105754<br>  ],<br>  \"params\": {<br>    \"learning_rate\": 0.16799292006264588<br>  }<br>}",
          "{<br>  \"number\": 87,<br>  \"values\": [<br>    0.11742527067046299,<br>    0.7321944783582703<br>  ],<br>  \"params\": {<br>    \"learning_rate\": 0.11742527067046299<br>  }<br>}"
         ],
         "x": [
          0.3317048028124761,
          0.1148404311838305,
          0.05307222954482612,
          0.24410089728809634,
          0.12844461011742844,
          0.4498243389528799,
          0.28825962026286955,
          0.19630258423899116,
          0.07377836783758575,
          0.4796291220454122,
          0.21454254531144426,
          0.30521179006815724,
          0.16799292006264588,
          0.11742527067046299
         ],
         "y": [
          0.7182462105095208,
          0.7321994102159477,
          0.7336139976808754,
          0.7254004209977449,
          0.7321027124572879,
          0.7180387023655493,
          0.7220137309076756,
          0.7290264275839735,
          0.7335097300380633,
          0.7120415606860494,
          0.7279770709345865,
          0.7193743184471776,
          0.7309842390105754,
          0.7321944783582703
         ],
         "type": "scatter"
        }
       ],
       "layout": {
        "title": {
         "text": "Pareto-front Plot"
        },
        "xaxis": {
         "title": {
          "text": "learning_rate"
         }
        },
        "yaxis": {
         "title": {
          "text": "f1"
         }
        },
        "template": {
         "data": {
          "histogram2dcontour": [
           {
            "type": "histogram2dcontour",
            "colorbar": {
             "outlinewidth": 0,
             "ticks": ""
            },
            "colorscale": [
             [
              0.0,
              "#0d0887"
             ],
             [
              0.1111111111111111,
              "#46039f"
             ],
             [
              0.2222222222222222,
              "#7201a8"
             ],
             [
              0.3333333333333333,
              "#9c179e"
             ],
             [
              0.4444444444444444,
              "#bd3786"
             ],
             [
              0.5555555555555556,
              "#d8576b"
             ],
             [
              0.6666666666666666,
              "#ed7953"
             ],
             [
              0.7777777777777778,
              "#fb9f3a"
             ],
             [
              0.8888888888888888,
              "#fdca26"
             ],
             [
              1.0,
              "#f0f921"
             ]
            ]
           }
          ],
          "choropleth": [
           {
            "type": "choropleth",
            "colorbar": {
             "outlinewidth": 0,
             "ticks": ""
            }
           }
          ],
          "histogram2d": [
           {
            "type": "histogram2d",
            "colorbar": {
             "outlinewidth": 0,
             "ticks": ""
            },
            "colorscale": [
             [
              0.0,
              "#0d0887"
             ],
             [
              0.1111111111111111,
              "#46039f"
             ],
             [
              0.2222222222222222,
              "#7201a8"
             ],
             [
              0.3333333333333333,
              "#9c179e"
             ],
             [
              0.4444444444444444,
              "#bd3786"
             ],
             [
              0.5555555555555556,
              "#d8576b"
             ],
             [
              0.6666666666666666,
              "#ed7953"
             ],
             [
              0.7777777777777778,
              "#fb9f3a"
             ],
             [
              0.8888888888888888,
              "#fdca26"
             ],
             [
              1.0,
              "#f0f921"
             ]
            ]
           }
          ],
          "heatmap": [
           {
            "type": "heatmap",
            "colorbar": {
             "outlinewidth": 0,
             "ticks": ""
            },
            "colorscale": [
             [
              0.0,
              "#0d0887"
             ],
             [
              0.1111111111111111,
              "#46039f"
             ],
             [
              0.2222222222222222,
              "#7201a8"
             ],
             [
              0.3333333333333333,
              "#9c179e"
             ],
             [
              0.4444444444444444,
              "#bd3786"
             ],
             [
              0.5555555555555556,
              "#d8576b"
             ],
             [
              0.6666666666666666,
              "#ed7953"
             ],
             [
              0.7777777777777778,
              "#fb9f3a"
             ],
             [
              0.8888888888888888,
              "#fdca26"
             ],
             [
              1.0,
              "#f0f921"
             ]
            ]
           }
          ],
          "heatmapgl": [
           {
            "type": "heatmapgl",
            "colorbar": {
             "outlinewidth": 0,
             "ticks": ""
            },
            "colorscale": [
             [
              0.0,
              "#0d0887"
             ],
             [
              0.1111111111111111,
              "#46039f"
             ],
             [
              0.2222222222222222,
              "#7201a8"
             ],
             [
              0.3333333333333333,
              "#9c179e"
             ],
             [
              0.4444444444444444,
              "#bd3786"
             ],
             [
              0.5555555555555556,
              "#d8576b"
             ],
             [
              0.6666666666666666,
              "#ed7953"
             ],
             [
              0.7777777777777778,
              "#fb9f3a"
             ],
             [
              0.8888888888888888,
              "#fdca26"
             ],
             [
              1.0,
              "#f0f921"
             ]
            ]
           }
          ],
          "contourcarpet": [
           {
            "type": "contourcarpet",
            "colorbar": {
             "outlinewidth": 0,
             "ticks": ""
            }
           }
          ],
          "contour": [
           {
            "type": "contour",
            "colorbar": {
             "outlinewidth": 0,
             "ticks": ""
            },
            "colorscale": [
             [
              0.0,
              "#0d0887"
             ],
             [
              0.1111111111111111,
              "#46039f"
             ],
             [
              0.2222222222222222,
              "#7201a8"
             ],
             [
              0.3333333333333333,
              "#9c179e"
             ],
             [
              0.4444444444444444,
              "#bd3786"
             ],
             [
              0.5555555555555556,
              "#d8576b"
             ],
             [
              0.6666666666666666,
              "#ed7953"
             ],
             [
              0.7777777777777778,
              "#fb9f3a"
             ],
             [
              0.8888888888888888,
              "#fdca26"
             ],
             [
              1.0,
              "#f0f921"
             ]
            ]
           }
          ],
          "surface": [
           {
            "type": "surface",
            "colorbar": {
             "outlinewidth": 0,
             "ticks": ""
            },
            "colorscale": [
             [
              0.0,
              "#0d0887"
             ],
             [
              0.1111111111111111,
              "#46039f"
             ],
             [
              0.2222222222222222,
              "#7201a8"
             ],
             [
              0.3333333333333333,
              "#9c179e"
             ],
             [
              0.4444444444444444,
              "#bd3786"
             ],
             [
              0.5555555555555556,
              "#d8576b"
             ],
             [
              0.6666666666666666,
              "#ed7953"
             ],
             [
              0.7777777777777778,
              "#fb9f3a"
             ],
             [
              0.8888888888888888,
              "#fdca26"
             ],
             [
              1.0,
              "#f0f921"
             ]
            ]
           }
          ],
          "mesh3d": [
           {
            "type": "mesh3d",
            "colorbar": {
             "outlinewidth": 0,
             "ticks": ""
            }
           }
          ],
          "scatter": [
           {
            "fillpattern": {
             "fillmode": "overlay",
             "size": 10,
             "solidity": 0.2
            },
            "type": "scatter"
           }
          ],
          "parcoords": [
           {
            "type": "parcoords",
            "line": {
             "colorbar": {
              "outlinewidth": 0,
              "ticks": ""
             }
            }
           }
          ],
          "scatterpolargl": [
           {
            "type": "scatterpolargl",
            "marker": {
             "colorbar": {
              "outlinewidth": 0,
              "ticks": ""
             }
            }
           }
          ],
          "bar": [
           {
            "error_x": {
             "color": "#2a3f5f"
            },
            "error_y": {
             "color": "#2a3f5f"
            },
            "marker": {
             "line": {
              "color": "#E5ECF6",
              "width": 0.5
             },
             "pattern": {
              "fillmode": "overlay",
              "size": 10,
              "solidity": 0.2
             }
            },
            "type": "bar"
           }
          ],
          "scattergeo": [
           {
            "type": "scattergeo",
            "marker": {
             "colorbar": {
              "outlinewidth": 0,
              "ticks": ""
             }
            }
           }
          ],
          "scatterpolar": [
           {
            "type": "scatterpolar",
            "marker": {
             "colorbar": {
              "outlinewidth": 0,
              "ticks": ""
             }
            }
           }
          ],
          "histogram": [
           {
            "marker": {
             "pattern": {
              "fillmode": "overlay",
              "size": 10,
              "solidity": 0.2
             }
            },
            "type": "histogram"
           }
          ],
          "scattergl": [
           {
            "type": "scattergl",
            "marker": {
             "colorbar": {
              "outlinewidth": 0,
              "ticks": ""
             }
            }
           }
          ],
          "scatter3d": [
           {
            "type": "scatter3d",
            "line": {
             "colorbar": {
              "outlinewidth": 0,
              "ticks": ""
             }
            },
            "marker": {
             "colorbar": {
              "outlinewidth": 0,
              "ticks": ""
             }
            }
           }
          ],
          "scattermapbox": [
           {
            "type": "scattermapbox",
            "marker": {
             "colorbar": {
              "outlinewidth": 0,
              "ticks": ""
             }
            }
           }
          ],
          "scatterternary": [
           {
            "type": "scatterternary",
            "marker": {
             "colorbar": {
              "outlinewidth": 0,
              "ticks": ""
             }
            }
           }
          ],
          "scattercarpet": [
           {
            "type": "scattercarpet",
            "marker": {
             "colorbar": {
              "outlinewidth": 0,
              "ticks": ""
             }
            }
           }
          ],
          "carpet": [
           {
            "aaxis": {
             "endlinecolor": "#2a3f5f",
             "gridcolor": "white",
             "linecolor": "white",
             "minorgridcolor": "white",
             "startlinecolor": "#2a3f5f"
            },
            "baxis": {
             "endlinecolor": "#2a3f5f",
             "gridcolor": "white",
             "linecolor": "white",
             "minorgridcolor": "white",
             "startlinecolor": "#2a3f5f"
            },
            "type": "carpet"
           }
          ],
          "table": [
           {
            "cells": {
             "fill": {
              "color": "#EBF0F8"
             },
             "line": {
              "color": "white"
             }
            },
            "header": {
             "fill": {
              "color": "#C8D4E3"
             },
             "line": {
              "color": "white"
             }
            },
            "type": "table"
           }
          ],
          "barpolar": [
           {
            "marker": {
             "line": {
              "color": "#E5ECF6",
              "width": 0.5
             },
             "pattern": {
              "fillmode": "overlay",
              "size": 10,
              "solidity": 0.2
             }
            },
            "type": "barpolar"
           }
          ],
          "pie": [
           {
            "automargin": true,
            "type": "pie"
           }
          ]
         },
         "layout": {
          "autotypenumbers": "strict",
          "colorway": [
           "#636efa",
           "#EF553B",
           "#00cc96",
           "#ab63fa",
           "#FFA15A",
           "#19d3f3",
           "#FF6692",
           "#B6E880",
           "#FF97FF",
           "#FECB52"
          ],
          "font": {
           "color": "#2a3f5f"
          },
          "hovermode": "closest",
          "hoverlabel": {
           "align": "left"
          },
          "paper_bgcolor": "white",
          "plot_bgcolor": "#E5ECF6",
          "polar": {
           "bgcolor": "#E5ECF6",
           "angularaxis": {
            "gridcolor": "white",
            "linecolor": "white",
            "ticks": ""
           },
           "radialaxis": {
            "gridcolor": "white",
            "linecolor": "white",
            "ticks": ""
           }
          },
          "ternary": {
           "bgcolor": "#E5ECF6",
           "aaxis": {
            "gridcolor": "white",
            "linecolor": "white",
            "ticks": ""
           },
           "baxis": {
            "gridcolor": "white",
            "linecolor": "white",
            "ticks": ""
           },
           "caxis": {
            "gridcolor": "white",
            "linecolor": "white",
            "ticks": ""
           }
          },
          "coloraxis": {
           "colorbar": {
            "outlinewidth": 0,
            "ticks": ""
           }
          },
          "colorscale": {
           "sequential": [
            [
             0.0,
             "#0d0887"
            ],
            [
             0.1111111111111111,
             "#46039f"
            ],
            [
             0.2222222222222222,
             "#7201a8"
            ],
            [
             0.3333333333333333,
             "#9c179e"
            ],
            [
             0.4444444444444444,
             "#bd3786"
            ],
            [
             0.5555555555555556,
             "#d8576b"
            ],
            [
             0.6666666666666666,
             "#ed7953"
            ],
            [
             0.7777777777777778,
             "#fb9f3a"
            ],
            [
             0.8888888888888888,
             "#fdca26"
            ],
            [
             1.0,
             "#f0f921"
            ]
           ],
           "sequentialminus": [
            [
             0.0,
             "#0d0887"
            ],
            [
             0.1111111111111111,
             "#46039f"
            ],
            [
             0.2222222222222222,
             "#7201a8"
            ],
            [
             0.3333333333333333,
             "#9c179e"
            ],
            [
             0.4444444444444444,
             "#bd3786"
            ],
            [
             0.5555555555555556,
             "#d8576b"
            ],
            [
             0.6666666666666666,
             "#ed7953"
            ],
            [
             0.7777777777777778,
             "#fb9f3a"
            ],
            [
             0.8888888888888888,
             "#fdca26"
            ],
            [
             1.0,
             "#f0f921"
            ]
           ],
           "diverging": [
            [
             0,
             "#8e0152"
            ],
            [
             0.1,
             "#c51b7d"
            ],
            [
             0.2,
             "#de77ae"
            ],
            [
             0.3,
             "#f1b6da"
            ],
            [
             0.4,
             "#fde0ef"
            ],
            [
             0.5,
             "#f7f7f7"
            ],
            [
             0.6,
             "#e6f5d0"
            ],
            [
             0.7,
             "#b8e186"
            ],
            [
             0.8,
             "#7fbc41"
            ],
            [
             0.9,
             "#4d9221"
            ],
            [
             1,
             "#276419"
            ]
           ]
          },
          "xaxis": {
           "gridcolor": "white",
           "linecolor": "white",
           "ticks": "",
           "title": {
            "standoff": 15
           },
           "zerolinecolor": "white",
           "automargin": true,
           "zerolinewidth": 2
          },
          "yaxis": {
           "gridcolor": "white",
           "linecolor": "white",
           "ticks": "",
           "title": {
            "standoff": 15
           },
           "zerolinecolor": "white",
           "automargin": true,
           "zerolinewidth": 2
          },
          "scene": {
           "xaxis": {
            "backgroundcolor": "#E5ECF6",
            "gridcolor": "white",
            "linecolor": "white",
            "showbackground": true,
            "ticks": "",
            "zerolinecolor": "white",
            "gridwidth": 2
           },
           "yaxis": {
            "backgroundcolor": "#E5ECF6",
            "gridcolor": "white",
            "linecolor": "white",
            "showbackground": true,
            "ticks": "",
            "zerolinecolor": "white",
            "gridwidth": 2
           },
           "zaxis": {
            "backgroundcolor": "#E5ECF6",
            "gridcolor": "white",
            "linecolor": "white",
            "showbackground": true,
            "ticks": "",
            "zerolinecolor": "white",
            "gridwidth": 2
           }
          },
          "shapedefaults": {
           "line": {
            "color": "#2a3f5f"
           }
          },
          "annotationdefaults": {
           "arrowcolor": "#2a3f5f",
           "arrowhead": 0,
           "arrowwidth": 1
          },
          "geo": {
           "bgcolor": "white",
           "landcolor": "#E5ECF6",
           "subunitcolor": "white",
           "showland": true,
           "showlakes": true,
           "lakecolor": "white"
          },
          "title": {
           "x": 0.05
          },
          "mapbox": {
           "style": "light"
          }
         }
        }
       },
       "config": {
        "plotlyServerURL": "https://plot.ly"
       }
      },
      "text/html": "<div>                            <div id=\"f5c97c6e-db5a-4ff5-9b09-b323a292b954\" class=\"plotly-graph-div\" style=\"height:525px; width:100%;\"></div>            <script type=\"text/javascript\">                require([\"plotly\"], function(Plotly) {                    window.PLOTLYENV=window.PLOTLYENV || {};                                    if (document.getElementById(\"f5c97c6e-db5a-4ff5-9b09-b323a292b954\")) {                    Plotly.newPlot(                        \"f5c97c6e-db5a-4ff5-9b09-b323a292b954\",                        [{\"hovertemplate\":\"%{text}<extra>Trial</extra>\",\"marker\":{\"color\":[0,1,2,4,5,6,7,8,9,10,11,13,15,16,17,18,19,20,21,22,23,25,26,28,31,32,33,34,36,37,38,39,40,41,42,44,45,46,47,48,49,50,51,52,54,55,56,57,58,60,61,63,64,65,66,67,69,70,71,72,73,74,75,76,77,78,79,80,81,82,83,84,85,86,88,89,90,91,92,93,94,95,96,97,98,99],\"colorbar\":{\"title\":{\"text\":\"Trial\"}},\"colorscale\":[[0.0,\"rgb(247,251,255)\"],[0.125,\"rgb(222,235,247)\"],[0.25,\"rgb(198,219,239)\"],[0.375,\"rgb(158,202,225)\"],[0.5,\"rgb(107,174,214)\"],[0.625,\"rgb(66,146,198)\"],[0.75,\"rgb(33,113,181)\"],[0.875,\"rgb(8,81,156)\"],[1.0,\"rgb(8,48,107)\"]],\"line\":{\"color\":\"Grey\",\"width\":0.5}},\"mode\":\"markers\",\"showlegend\":false,\"text\":[\"{<br>  \\\"number\\\": 0,<br>  \\\"values\\\": [<br>    0.018276625572235056,<br>    0.7229728382357858<br>  ],<br>  \\\"params\\\": {<br>    \\\"learning_rate\\\": 0.018276625572235056<br>  }<br>}\",\"{<br>  \\\"number\\\": 1,<br>  \\\"values\\\": [<br>    0.012281350875017864,<br>    0.713129498994182<br>  ],<br>  \\\"params\\\": {<br>    \\\"learning_rate\\\": 0.012281350875017864<br>  }<br>}\",\"{<br>  \\\"number\\\": 2,<br>  \\\"values\\\": [<br>    0.3179931543219117,<br>    0.7181352358216049<br>  ],<br>  \\\"params\\\": {<br>    \\\"learning_rate\\\": 0.3179931543219117<br>  }<br>}\",\"{<br>  \\\"number\\\": 4,<br>  \\\"values\\\": [<br>    0.010097499163932589,<br>    0.689595604293249<br>  ],<br>  \\\"params\\\": {<br>    \\\"learning_rate\\\": 0.010097499163932589<br>  }<br>}\",\"{<br>  \\\"number\\\": 5,<br>  \\\"values\\\": [<br>    0.0010284892903758126,<br>    0.4235082247366586<br>  ],<br>  \\\"params\\\": {<br>    \\\"learning_rate\\\": 0.0010284892903758126<br>  }<br>}\",\"{<br>  \\\"number\\\": 6,<br>  \\\"values\\\": [<br>    0.0008073623310050534,<br>    0.4235082247366586<br>  ],<br>  \\\"params\\\": {<br>    \\\"learning_rate\\\": 0.0008073623310050534<br>  }<br>}\",\"{<br>  \\\"number\\\": 7,<br>  \\\"values\\\": [<br>    0.009446892389275133,<br>    0.6841554205738356<br>  ],<br>  \\\"params\\\": {<br>    \\\"learning_rate\\\": 0.009446892389275133<br>  }<br>}\",\"{<br>  \\\"number\\\": 8,<br>  \\\"values\\\": [<br>    0.042129982546996285,<br>    0.7318679125094985<br>  ],<br>  \\\"params\\\": {<br>    \\\"learning_rate\\\": 0.042129982546996285<br>  }<br>}\",\"{<br>  \\\"number\\\": 9,<br>  \\\"values\\\": [<br>    0.006234336282154794,<br>    0.6372047388051083<br>  ],<br>  \\\"params\\\": {<br>    \\\"learning_rate\\\": 0.006234336282154794<br>  }<br>}\",\"{<br>  \\\"number\\\": 10,<br>  \\\"values\\\": [<br>    0.0014213907266344855,<br>    0.4235082247366586<br>  ],<br>  \\\"params\\\": {<br>    \\\"learning_rate\\\": 0.0014213907266344855<br>  }<br>}\",\"{<br>  \\\"number\\\": 11,<br>  \\\"values\\\": [<br>    0.0074818711669891215,<br>    0.6643619268828908<br>  ],<br>  \\\"params\\\": {<br>    \\\"learning_rate\\\": 0.0074818711669891215<br>  }<br>}\",\"{<br>  \\\"number\\\": 13,<br>  \\\"values\\\": [<br>    0.0012664149179400209,<br>    0.4235082247366586<br>  ],<br>  \\\"params\\\": {<br>    \\\"learning_rate\\\": 0.0012664149179400209<br>  }<br>}\",\"{<br>  \\\"number\\\": 15,<br>  \\\"values\\\": [<br>    0.01538041330688695,<br>    0.7173796023919852<br>  ],<br>  \\\"params\\\": {<br>    \\\"learning_rate\\\": 0.01538041330688695<br>  }<br>}\",\"{<br>  \\\"number\\\": 16,<br>  \\\"values\\\": [<br>    0.018396986660930648,<br>    0.7227368738811438<br>  ],<br>  \\\"params\\\": {<br>    \\\"learning_rate\\\": 0.018396986660930648<br>  }<br>}\",\"{<br>  \\\"number\\\": 17,<br>  \\\"values\\\": [<br>    0.0030415201353781317,<br>    0.4235082247366586<br>  ],<br>  \\\"params\\\": {<br>    \\\"learning_rate\\\": 0.0030415201353781317<br>  }<br>}\",\"{<br>  \\\"number\\\": 18,<br>  \\\"values\\\": [<br>    0.34679130964813293,<br>    0.7165372792236238<br>  ],<br>  \\\"params\\\": {<br>    \\\"learning_rate\\\": 0.34679130964813293<br>  }<br>}\",\"{<br>  \\\"number\\\": 19,<br>  \\\"values\\\": [<br>    0.0016185106184141472,<br>    0.4235082247366586<br>  ],<br>  \\\"params\\\": {<br>    \\\"learning_rate\\\": 0.0016185106184141472<br>  }<br>}\",\"{<br>  \\\"number\\\": 20,<br>  \\\"values\\\": [<br>    0.09977031400739048,<br>    0.7302018596960369<br>  ],<br>  \\\"params\\\": {<br>    \\\"learning_rate\\\": 0.09977031400739048<br>  }<br>}\",\"{<br>  \\\"number\\\": 21,<br>  \\\"values\\\": [<br>    0.00015692458115144144,<br>    0.4235082247366586<br>  ],<br>  \\\"params\\\": {<br>    \\\"learning_rate\\\": 0.00015692458115144144<br>  }<br>}\",\"{<br>  \\\"number\\\": 22,<br>  \\\"values\\\": [<br>    0.0014637099340279343,<br>    0.4235082247366586<br>  ],<br>  \\\"params\\\": {<br>    \\\"learning_rate\\\": 0.0014637099340279343<br>  }<br>}\",\"{<br>  \\\"number\\\": 23,<br>  \\\"values\\\": [<br>    0.237542460048024,<br>    0.7216310177763523<br>  ],<br>  \\\"params\\\": {<br>    \\\"learning_rate\\\": 0.237542460048024<br>  }<br>}\",\"{<br>  \\\"number\\\": 25,<br>  \\\"values\\\": [<br>    0.039216586476540555,<br>    0.7301579035907364<br>  ],<br>  \\\"params\\\": {<br>    \\\"learning_rate\\\": 0.039216586476540555<br>  }<br>}\",\"{<br>  \\\"number\\\": 26,<br>  \\\"values\\\": [<br>    0.04413193652148863,<br>    0.7292176187667853<br>  ],<br>  \\\"params\\\": {<br>    \\\"learning_rate\\\": 0.04413193652148863<br>  }<br>}\",\"{<br>  \\\"number\\\": 28,<br>  \\\"values\\\": [<br>    0.0006332697167843045,<br>    0.4235082247366586<br>  ],<br>  \\\"params\\\": {<br>    \\\"learning_rate\\\": 0.0006332697167843045<br>  }<br>}\",\"{<br>  \\\"number\\\": 31,<br>  \\\"values\\\": [<br>    0.036619413830782564,<br>    0.7302184406320554<br>  ],<br>  \\\"params\\\": {<br>    \\\"learning_rate\\\": 0.036619413830782564<br>  }<br>}\",\"{<br>  \\\"number\\\": 32,<br>  \\\"values\\\": [<br>    0.03610204856200786,<br>    0.7304328067409969<br>  ],<br>  \\\"params\\\": {<br>    \\\"learning_rate\\\": 0.03610204856200786<br>  }<br>}\",\"{<br>  \\\"number\\\": 33,<br>  \\\"values\\\": [<br>    0.0021961450728918896,<br>    0.4235082247366586<br>  ],<br>  \\\"params\\\": {<br>    \\\"learning_rate\\\": 0.0021961450728918896<br>  }<br>}\",\"{<br>  \\\"number\\\": 34,<br>  \\\"values\\\": [<br>    0.012193586140043794,<br>    0.7120523440790167<br>  ],<br>  \\\"params\\\": {<br>    \\\"learning_rate\\\": 0.012193586140043794<br>  }<br>}\",\"{<br>  \\\"number\\\": 36,<br>  \\\"values\\\": [<br>    0.00017918412416240907,<br>    0.4235082247366586<br>  ],<br>  \\\"params\\\": {<br>    \\\"learning_rate\\\": 0.00017918412416240907<br>  }<br>}\",\"{<br>  \\\"number\\\": 37,<br>  \\\"values\\\": [<br>    0.014133500358080071,<br>    0.7167142851538554<br>  ],<br>  \\\"params\\\": {<br>    \\\"learning_rate\\\": 0.014133500358080071<br>  }<br>}\",\"{<br>  \\\"number\\\": 38,<br>  \\\"values\\\": [<br>    0.04852382290869409,<br>    0.7310333204595433<br>  ],<br>  \\\"params\\\": {<br>    \\\"learning_rate\\\": 0.04852382290869409<br>  }<br>}\",\"{<br>  \\\"number\\\": 39,<br>  \\\"values\\\": [<br>    0.040201201662143485,<br>    0.7306614283099379<br>  ],<br>  \\\"params\\\": {<br>    \\\"learning_rate\\\": 0.040201201662143485<br>  }<br>}\",\"{<br>  \\\"number\\\": 40,<br>  \\\"values\\\": [<br>    0.0011776265316570207,<br>    0.4235082247366586<br>  ],<br>  \\\"params\\\": {<br>    \\\"learning_rate\\\": 0.0011776265316570207<br>  }<br>}\",\"{<br>  \\\"number\\\": 41,<br>  \\\"values\\\": [<br>    0.026396073829949854,<br>    0.7294521208392316<br>  ],<br>  \\\"params\\\": {<br>    \\\"learning_rate\\\": 0.026396073829949854<br>  }<br>}\",\"{<br>  \\\"number\\\": 42,<br>  \\\"values\\\": [<br>    0.19287363423507076,<br>    0.7259236143539816<br>  ],<br>  \\\"params\\\": {<br>    \\\"learning_rate\\\": 0.19287363423507076<br>  }<br>}\",\"{<br>  \\\"number\\\": 44,<br>  \\\"values\\\": [<br>    0.06950786503628438,<br>    0.7323174432397132<br>  ],<br>  \\\"params\\\": {<br>    \\\"learning_rate\\\": 0.06950786503628438<br>  }<br>}\",\"{<br>  \\\"number\\\": 45,<br>  \\\"values\\\": [<br>    0.0013182070434705978,<br>    0.4235082247366586<br>  ],<br>  \\\"params\\\": {<br>    \\\"learning_rate\\\": 0.0013182070434705978<br>  }<br>}\",\"{<br>  \\\"number\\\": 46,<br>  \\\"values\\\": [<br>    0.0001689170415983065,<br>    0.4235082247366586<br>  ],<br>  \\\"params\\\": {<br>    \\\"learning_rate\\\": 0.0001689170415983065<br>  }<br>}\",\"{<br>  \\\"number\\\": 47,<br>  \\\"values\\\": [<br>    0.0021018530965500105,<br>    0.4235082247366586<br>  ],<br>  \\\"params\\\": {<br>    \\\"learning_rate\\\": 0.0021018530965500105<br>  }<br>}\",\"{<br>  \\\"number\\\": 48,<br>  \\\"values\\\": [<br>    0.00019287163151974652,<br>    0.4235082247366586<br>  ],<br>  \\\"params\\\": {<br>    \\\"learning_rate\\\": 0.00019287163151974652<br>  }<br>}\",\"{<br>  \\\"number\\\": 49,<br>  \\\"values\\\": [<br>    0.1714187324525616,<br>    0.7274564562489783<br>  ],<br>  \\\"params\\\": {<br>    \\\"learning_rate\\\": 0.1714187324525616<br>  }<br>}\",\"{<br>  \\\"number\\\": 50,<br>  \\\"values\\\": [<br>    0.028218912249716382,<br>    0.7285799931977797<br>  ],<br>  \\\"params\\\": {<br>    \\\"learning_rate\\\": 0.028218912249716382<br>  }<br>}\",\"{<br>  \\\"number\\\": 51,<br>  \\\"values\\\": [<br>    0.00037469787058577405,<br>    0.4235082247366586<br>  ],<br>  \\\"params\\\": {<br>    \\\"learning_rate\\\": 0.00037469787058577405<br>  }<br>}\",\"{<br>  \\\"number\\\": 52,<br>  \\\"values\\\": [<br>    0.016517619384449466,<br>    0.7201909680929806<br>  ],<br>  \\\"params\\\": {<br>    \\\"learning_rate\\\": 0.016517619384449466<br>  }<br>}\",\"{<br>  \\\"number\\\": 54,<br>  \\\"values\\\": [<br>    0.01075645544167512,<br>    0.6983807551597365<br>  ],<br>  \\\"params\\\": {<br>    \\\"learning_rate\\\": 0.01075645544167512<br>  }<br>}\",\"{<br>  \\\"number\\\": 55,<br>  \\\"values\\\": [<br>    0.0013300668001608705,<br>    0.4235082247366586<br>  ],<br>  \\\"params\\\": {<br>    \\\"learning_rate\\\": 0.0013300668001608705<br>  }<br>}\",\"{<br>  \\\"number\\\": 56,<br>  \\\"values\\\": [<br>    0.009234620597188305,<br>    0.6815820697212852<br>  ],<br>  \\\"params\\\": {<br>    \\\"learning_rate\\\": 0.009234620597188305<br>  }<br>}\",\"{<br>  \\\"number\\\": 57,<br>  \\\"values\\\": [<br>    0.030789337644333142,<br>    0.7297299658845593<br>  ],<br>  \\\"params\\\": {<br>    \\\"learning_rate\\\": 0.030789337644333142<br>  }<br>}\",\"{<br>  \\\"number\\\": 58,<br>  \\\"values\\\": [<br>    0.0005196761744466342,<br>    0.4235082247366586<br>  ],<br>  \\\"params\\\": {<br>    \\\"learning_rate\\\": 0.0005196761744466342<br>  }<br>}\",\"{<br>  \\\"number\\\": 60,<br>  \\\"values\\\": [<br>    0.023714036796718886,<br>    0.7259369472766212<br>  ],<br>  \\\"params\\\": {<br>    \\\"learning_rate\\\": 0.023714036796718886<br>  }<br>}\",\"{<br>  \\\"number\\\": 61,<br>  \\\"values\\\": [<br>    0.042951701452191404,<br>    0.7302474855948291<br>  ],<br>  \\\"params\\\": {<br>    \\\"learning_rate\\\": 0.042951701452191404<br>  }<br>}\",\"{<br>  \\\"number\\\": 63,<br>  \\\"values\\\": [<br>    0.0031088442966744653,<br>    0.4235082247366586<br>  ],<br>  \\\"params\\\": {<br>    \\\"learning_rate\\\": 0.0031088442966744653<br>  }<br>}\",\"{<br>  \\\"number\\\": 64,<br>  \\\"values\\\": [<br>    0.0004014235312843208,<br>    0.4235082247366586<br>  ],<br>  \\\"params\\\": {<br>    \\\"learning_rate\\\": 0.0004014235312843208<br>  }<br>}\",\"{<br>  \\\"number\\\": 65,<br>  \\\"values\\\": [<br>    0.005578035829630357,<br>    0.6170142717941252<br>  ],<br>  \\\"params\\\": {<br>    \\\"learning_rate\\\": 0.005578035829630357<br>  }<br>}\",\"{<br>  \\\"number\\\": 66,<br>  \\\"values\\\": [<br>    0.0001592544431367279,<br>    0.4235082247366586<br>  ],<br>  \\\"params\\\": {<br>    \\\"learning_rate\\\": 0.0001592544431367279<br>  }<br>}\",\"{<br>  \\\"number\\\": 67,<br>  \\\"values\\\": [<br>    0.0807232375319011,<br>    0.7309408871913655<br>  ],<br>  \\\"params\\\": {<br>    \\\"learning_rate\\\": 0.0807232375319011<br>  }<br>}\",\"{<br>  \\\"number\\\": 69,<br>  \\\"values\\\": [<br>    0.04159311590472715,<br>    0.7313584050417112<br>  ],<br>  \\\"params\\\": {<br>    \\\"learning_rate\\\": 0.04159311590472715<br>  }<br>}\",\"{<br>  \\\"number\\\": 70,<br>  \\\"values\\\": [<br>    0.0007829813261500128,<br>    0.4235082247366586<br>  ],<br>  \\\"params\\\": {<br>    \\\"learning_rate\\\": 0.0007829813261500128<br>  }<br>}\",\"{<br>  \\\"number\\\": 71,<br>  \\\"values\\\": [<br>    0.0005327862205087224,<br>    0.4235082247366586<br>  ],<br>  \\\"params\\\": {<br>    \\\"learning_rate\\\": 0.0005327862205087224<br>  }<br>}\",\"{<br>  \\\"number\\\": 72,<br>  \\\"values\\\": [<br>    0.011004042996587247,<br>    0.7013991059388606<br>  ],<br>  \\\"params\\\": {<br>    \\\"learning_rate\\\": 0.011004042996587247<br>  }<br>}\",\"{<br>  \\\"number\\\": 73,<br>  \\\"values\\\": [<br>    0.012096495400321669,<br>    0.7112448137800941<br>  ],<br>  \\\"params\\\": {<br>    \\\"learning_rate\\\": 0.012096495400321669<br>  }<br>}\",\"{<br>  \\\"number\\\": 74,<br>  \\\"values\\\": [<br>    0.07830377287729806,<br>    0.7306338561389435<br>  ],<br>  \\\"params\\\": {<br>    \\\"learning_rate\\\": 0.07830377287729806<br>  }<br>}\",\"{<br>  \\\"number\\\": 75,<br>  \\\"values\\\": [<br>    0.0020289312962674306,<br>    0.4235082247366586<br>  ],<br>  \\\"params\\\": {<br>    \\\"learning_rate\\\": 0.0020289312962674306<br>  }<br>}\",\"{<br>  \\\"number\\\": 76,<br>  \\\"values\\\": [<br>    0.007003614272196497,<br>    0.653715322076985<br>  ],<br>  \\\"params\\\": {<br>    \\\"learning_rate\\\": 0.007003614272196497<br>  }<br>}\",\"{<br>  \\\"number\\\": 77,<br>  \\\"values\\\": [<br>    0.026811861365256547,<br>    0.7281393119846103<br>  ],<br>  \\\"params\\\": {<br>    \\\"learning_rate\\\": 0.026811861365256547<br>  }<br>}\",\"{<br>  \\\"number\\\": 78,<br>  \\\"values\\\": [<br>    0.0014534431094221844,<br>    0.4235082247366586<br>  ],<br>  \\\"params\\\": {<br>    \\\"learning_rate\\\": 0.0014534431094221844<br>  }<br>}\",\"{<br>  \\\"number\\\": 79,<br>  \\\"values\\\": [<br>    0.07184266906020101,<br>    0.7318954915835494<br>  ],<br>  \\\"params\\\": {<br>    \\\"learning_rate\\\": 0.07184266906020101<br>  }<br>}\",\"{<br>  \\\"number\\\": 80,<br>  \\\"values\\\": [<br>    0.20138173825410338,<br>    0.7278080193179831<br>  ],<br>  \\\"params\\\": {<br>    \\\"learning_rate\\\": 0.20138173825410338<br>  }<br>}\",\"{<br>  \\\"number\\\": 81,<br>  \\\"values\\\": [<br>    0.01956656266919498,<br>    0.7259187426802697<br>  ],<br>  \\\"params\\\": {<br>    \\\"learning_rate\\\": 0.01956656266919498<br>  }<br>}\",\"{<br>  \\\"number\\\": 82,<br>  \\\"values\\\": [<br>    0.005251844487229045,<br>    0.6024609734794308<br>  ],<br>  \\\"params\\\": {<br>    \\\"learning_rate\\\": 0.005251844487229045<br>  }<br>}\",\"{<br>  \\\"number\\\": 83,<br>  \\\"values\\\": [<br>    0.0007975269741962664,<br>    0.4235082247366586<br>  ],<br>  \\\"params\\\": {<br>    \\\"learning_rate\\\": 0.0007975269741962664<br>  }<br>}\",\"{<br>  \\\"number\\\": 84,<br>  \\\"values\\\": [<br>    0.0005538907493946157,<br>    0.4235082247366586<br>  ],<br>  \\\"params\\\": {<br>    \\\"learning_rate\\\": 0.0005538907493946157<br>  }<br>}\",\"{<br>  \\\"number\\\": 85,<br>  \\\"values\\\": [<br>    0.0835122016432078,<br>    0.7321890615843162<br>  ],<br>  \\\"params\\\": {<br>    \\\"learning_rate\\\": 0.0835122016432078<br>  }<br>}\",\"{<br>  \\\"number\\\": 86,<br>  \\\"values\\\": [<br>    0.0006260697703589752,<br>    0.4235082247366586<br>  ],<br>  \\\"params\\\": {<br>    \\\"learning_rate\\\": 0.0006260697703589752<br>  }<br>}\",\"{<br>  \\\"number\\\": 88,<br>  \\\"values\\\": [<br>    0.004544231657855253,<br>    0.5343888745179519<br>  ],<br>  \\\"params\\\": {<br>    \\\"learning_rate\\\": 0.004544231657855253<br>  }<br>}\",\"{<br>  \\\"number\\\": 89,<br>  \\\"values\\\": [<br>    0.00012209259631005412,<br>    0.4235082247366586<br>  ],<br>  \\\"params\\\": {<br>    \\\"learning_rate\\\": 0.00012209259631005412<br>  }<br>}\",\"{<br>  \\\"number\\\": 90,<br>  \\\"values\\\": [<br>    0.001267549290534437,<br>    0.4235082247366586<br>  ],<br>  \\\"params\\\": {<br>    \\\"learning_rate\\\": 0.001267549290534437<br>  }<br>}\",\"{<br>  \\\"number\\\": 91,<br>  \\\"values\\\": [<br>    0.004363976487357013,<br>    0.5087369170754972<br>  ],<br>  \\\"params\\\": {<br>    \\\"learning_rate\\\": 0.004363976487357013<br>  }<br>}\",\"{<br>  \\\"number\\\": 92,<br>  \\\"values\\\": [<br>    0.017485462659550834,<br>    0.722280452051524<br>  ],<br>  \\\"params\\\": {<br>    \\\"learning_rate\\\": 0.017485462659550834<br>  }<br>}\",\"{<br>  \\\"number\\\": 93,<br>  \\\"values\\\": [<br>    0.44828056389247145,<br>    0.7116760995541701<br>  ],<br>  \\\"params\\\": {<br>    \\\"learning_rate\\\": 0.44828056389247145<br>  }<br>}\",\"{<br>  \\\"number\\\": 94,<br>  \\\"values\\\": [<br>    0.08277845673611592,<br>    0.7314187112500111<br>  ],<br>  \\\"params\\\": {<br>    \\\"learning_rate\\\": 0.08277845673611592<br>  }<br>}\",\"{<br>  \\\"number\\\": 95,<br>  \\\"values\\\": [<br>    0.0003291311959625348,<br>    0.4235082247366586<br>  ],<br>  \\\"params\\\": {<br>    \\\"learning_rate\\\": 0.0003291311959625348<br>  }<br>}\",\"{<br>  \\\"number\\\": 96,<br>  \\\"values\\\": [<br>    0.00022868118733042252,<br>    0.4235082247366586<br>  ],<br>  \\\"params\\\": {<br>    \\\"learning_rate\\\": 0.00022868118733042252<br>  }<br>}\",\"{<br>  \\\"number\\\": 97,<br>  \\\"values\\\": [<br>    0.18286145837300968,<br>    0.7262427071035374<br>  ],<br>  \\\"params\\\": {<br>    \\\"learning_rate\\\": 0.18286145837300968<br>  }<br>}\",\"{<br>  \\\"number\\\": 98,<br>  \\\"values\\\": [<br>    0.06941692989749879,<br>    0.7295385067809874<br>  ],<br>  \\\"params\\\": {<br>    \\\"learning_rate\\\": 0.06941692989749879<br>  }<br>}\",\"{<br>  \\\"number\\\": 99,<br>  \\\"values\\\": [<br>    0.19305171220017311,<br>    0.7262367052555226<br>  ],<br>  \\\"params\\\": {<br>    \\\"learning_rate\\\": 0.19305171220017311<br>  }<br>}\"],\"x\":[0.018276625572235056,0.012281350875017864,0.3179931543219117,0.010097499163932589,0.0010284892903758126,0.0008073623310050534,0.009446892389275133,0.042129982546996285,0.006234336282154794,0.0014213907266344855,0.0074818711669891215,0.0012664149179400209,0.01538041330688695,0.018396986660930648,0.0030415201353781317,0.34679130964813293,0.0016185106184141472,0.09977031400739048,0.00015692458115144144,0.0014637099340279343,0.237542460048024,0.039216586476540555,0.04413193652148863,0.0006332697167843045,0.036619413830782564,0.03610204856200786,0.0021961450728918896,0.012193586140043794,0.00017918412416240907,0.014133500358080071,0.04852382290869409,0.040201201662143485,0.0011776265316570207,0.026396073829949854,0.19287363423507076,0.06950786503628438,0.0013182070434705978,0.0001689170415983065,0.0021018530965500105,0.00019287163151974652,0.1714187324525616,0.028218912249716382,0.00037469787058577405,0.016517619384449466,0.01075645544167512,0.0013300668001608705,0.009234620597188305,0.030789337644333142,0.0005196761744466342,0.023714036796718886,0.042951701452191404,0.0031088442966744653,0.0004014235312843208,0.005578035829630357,0.0001592544431367279,0.0807232375319011,0.04159311590472715,0.0007829813261500128,0.0005327862205087224,0.011004042996587247,0.012096495400321669,0.07830377287729806,0.0020289312962674306,0.007003614272196497,0.026811861365256547,0.0014534431094221844,0.07184266906020101,0.20138173825410338,0.01956656266919498,0.005251844487229045,0.0007975269741962664,0.0005538907493946157,0.0835122016432078,0.0006260697703589752,0.004544231657855253,0.00012209259631005412,0.001267549290534437,0.004363976487357013,0.017485462659550834,0.44828056389247145,0.08277845673611592,0.0003291311959625348,0.00022868118733042252,0.18286145837300968,0.06941692989749879,0.19305171220017311],\"y\":[0.7229728382357858,0.713129498994182,0.7181352358216049,0.689595604293249,0.4235082247366586,0.4235082247366586,0.6841554205738356,0.7318679125094985,0.6372047388051083,0.4235082247366586,0.6643619268828908,0.4235082247366586,0.7173796023919852,0.7227368738811438,0.4235082247366586,0.7165372792236238,0.4235082247366586,0.7302018596960369,0.4235082247366586,0.4235082247366586,0.7216310177763523,0.7301579035907364,0.7292176187667853,0.4235082247366586,0.7302184406320554,0.7304328067409969,0.4235082247366586,0.7120523440790167,0.4235082247366586,0.7167142851538554,0.7310333204595433,0.7306614283099379,0.4235082247366586,0.7294521208392316,0.7259236143539816,0.7323174432397132,0.4235082247366586,0.4235082247366586,0.4235082247366586,0.4235082247366586,0.7274564562489783,0.7285799931977797,0.4235082247366586,0.7201909680929806,0.6983807551597365,0.4235082247366586,0.6815820697212852,0.7297299658845593,0.4235082247366586,0.7259369472766212,0.7302474855948291,0.4235082247366586,0.4235082247366586,0.6170142717941252,0.4235082247366586,0.7309408871913655,0.7313584050417112,0.4235082247366586,0.4235082247366586,0.7013991059388606,0.7112448137800941,0.7306338561389435,0.4235082247366586,0.653715322076985,0.7281393119846103,0.4235082247366586,0.7318954915835494,0.7278080193179831,0.7259187426802697,0.6024609734794308,0.4235082247366586,0.4235082247366586,0.7321890615843162,0.4235082247366586,0.5343888745179519,0.4235082247366586,0.4235082247366586,0.5087369170754972,0.722280452051524,0.7116760995541701,0.7314187112500111,0.4235082247366586,0.4235082247366586,0.7262427071035374,0.7295385067809874,0.7262367052555226],\"type\":\"scatter\"},{\"hovertemplate\":\"%{text}<extra>Best Trial</extra>\",\"marker\":{\"color\":[3,12,14,24,27,29,30,35,43,53,59,62,68,87],\"colorbar\":{\"title\":{\"text\":\"Best Trial\"},\"x\":1.1,\"xpad\":40},\"colorscale\":[[0.0,\"rgb(255,245,240)\"],[0.125,\"rgb(254,224,210)\"],[0.25,\"rgb(252,187,161)\"],[0.375,\"rgb(252,146,114)\"],[0.5,\"rgb(251,106,74)\"],[0.625,\"rgb(239,59,44)\"],[0.75,\"rgb(203,24,29)\"],[0.875,\"rgb(165,15,21)\"],[1.0,\"rgb(103,0,13)\"]],\"line\":{\"color\":\"Grey\",\"width\":0.5}},\"mode\":\"markers\",\"showlegend\":false,\"text\":[\"{<br>  \\\"number\\\": 3,<br>  \\\"values\\\": [<br>    0.3317048028124761,<br>    0.7182462105095208<br>  ],<br>  \\\"params\\\": {<br>    \\\"learning_rate\\\": 0.3317048028124761<br>  }<br>}\",\"{<br>  \\\"number\\\": 12,<br>  \\\"values\\\": [<br>    0.1148404311838305,<br>    0.7321994102159477<br>  ],<br>  \\\"params\\\": {<br>    \\\"learning_rate\\\": 0.1148404311838305<br>  }<br>}\",\"{<br>  \\\"number\\\": 14,<br>  \\\"values\\\": [<br>    0.05307222954482612,<br>    0.7336139976808754<br>  ],<br>  \\\"params\\\": {<br>    \\\"learning_rate\\\": 0.05307222954482612<br>  }<br>}\",\"{<br>  \\\"number\\\": 24,<br>  \\\"values\\\": [<br>    0.24410089728809634,<br>    0.7254004209977449<br>  ],<br>  \\\"params\\\": {<br>    \\\"learning_rate\\\": 0.24410089728809634<br>  }<br>}\",\"{<br>  \\\"number\\\": 27,<br>  \\\"values\\\": [<br>    0.12844461011742844,<br>    0.7321027124572879<br>  ],<br>  \\\"params\\\": {<br>    \\\"learning_rate\\\": 0.12844461011742844<br>  }<br>}\",\"{<br>  \\\"number\\\": 29,<br>  \\\"values\\\": [<br>    0.4498243389528799,<br>    0.7180387023655493<br>  ],<br>  \\\"params\\\": {<br>    \\\"learning_rate\\\": 0.4498243389528799<br>  }<br>}\",\"{<br>  \\\"number\\\": 30,<br>  \\\"values\\\": [<br>    0.28825962026286955,<br>    0.7220137309076756<br>  ],<br>  \\\"params\\\": {<br>    \\\"learning_rate\\\": 0.28825962026286955<br>  }<br>}\",\"{<br>  \\\"number\\\": 35,<br>  \\\"values\\\": [<br>    0.19630258423899116,<br>    0.7290264275839735<br>  ],<br>  \\\"params\\\": {<br>    \\\"learning_rate\\\": 0.19630258423899116<br>  }<br>}\",\"{<br>  \\\"number\\\": 43,<br>  \\\"values\\\": [<br>    0.07377836783758575,<br>    0.7335097300380633<br>  ],<br>  \\\"params\\\": {<br>    \\\"learning_rate\\\": 0.07377836783758575<br>  }<br>}\",\"{<br>  \\\"number\\\": 53,<br>  \\\"values\\\": [<br>    0.4796291220454122,<br>    0.7120415606860494<br>  ],<br>  \\\"params\\\": {<br>    \\\"learning_rate\\\": 0.4796291220454122<br>  }<br>}\",\"{<br>  \\\"number\\\": 59,<br>  \\\"values\\\": [<br>    0.21454254531144426,<br>    0.7279770709345865<br>  ],<br>  \\\"params\\\": {<br>    \\\"learning_rate\\\": 0.21454254531144426<br>  }<br>}\",\"{<br>  \\\"number\\\": 62,<br>  \\\"values\\\": [<br>    0.30521179006815724,<br>    0.7193743184471776<br>  ],<br>  \\\"params\\\": {<br>    \\\"learning_rate\\\": 0.30521179006815724<br>  }<br>}\",\"{<br>  \\\"number\\\": 68,<br>  \\\"values\\\": [<br>    0.16799292006264588,<br>    0.7309842390105754<br>  ],<br>  \\\"params\\\": {<br>    \\\"learning_rate\\\": 0.16799292006264588<br>  }<br>}\",\"{<br>  \\\"number\\\": 87,<br>  \\\"values\\\": [<br>    0.11742527067046299,<br>    0.7321944783582703<br>  ],<br>  \\\"params\\\": {<br>    \\\"learning_rate\\\": 0.11742527067046299<br>  }<br>}\"],\"x\":[0.3317048028124761,0.1148404311838305,0.05307222954482612,0.24410089728809634,0.12844461011742844,0.4498243389528799,0.28825962026286955,0.19630258423899116,0.07377836783758575,0.4796291220454122,0.21454254531144426,0.30521179006815724,0.16799292006264588,0.11742527067046299],\"y\":[0.7182462105095208,0.7321994102159477,0.7336139976808754,0.7254004209977449,0.7321027124572879,0.7180387023655493,0.7220137309076756,0.7290264275839735,0.7335097300380633,0.7120415606860494,0.7279770709345865,0.7193743184471776,0.7309842390105754,0.7321944783582703],\"type\":\"scatter\"}],                        {\"title\":{\"text\":\"Pareto-front Plot\"},\"xaxis\":{\"title\":{\"text\":\"learning_rate\"}},\"yaxis\":{\"title\":{\"text\":\"f1\"}},\"template\":{\"data\":{\"histogram2dcontour\":[{\"type\":\"histogram2dcontour\",\"colorbar\":{\"outlinewidth\":0,\"ticks\":\"\"},\"colorscale\":[[0.0,\"#0d0887\"],[0.1111111111111111,\"#46039f\"],[0.2222222222222222,\"#7201a8\"],[0.3333333333333333,\"#9c179e\"],[0.4444444444444444,\"#bd3786\"],[0.5555555555555556,\"#d8576b\"],[0.6666666666666666,\"#ed7953\"],[0.7777777777777778,\"#fb9f3a\"],[0.8888888888888888,\"#fdca26\"],[1.0,\"#f0f921\"]]}],\"choropleth\":[{\"type\":\"choropleth\",\"colorbar\":{\"outlinewidth\":0,\"ticks\":\"\"}}],\"histogram2d\":[{\"type\":\"histogram2d\",\"colorbar\":{\"outlinewidth\":0,\"ticks\":\"\"},\"colorscale\":[[0.0,\"#0d0887\"],[0.1111111111111111,\"#46039f\"],[0.2222222222222222,\"#7201a8\"],[0.3333333333333333,\"#9c179e\"],[0.4444444444444444,\"#bd3786\"],[0.5555555555555556,\"#d8576b\"],[0.6666666666666666,\"#ed7953\"],[0.7777777777777778,\"#fb9f3a\"],[0.8888888888888888,\"#fdca26\"],[1.0,\"#f0f921\"]]}],\"heatmap\":[{\"type\":\"heatmap\",\"colorbar\":{\"outlinewidth\":0,\"ticks\":\"\"},\"colorscale\":[[0.0,\"#0d0887\"],[0.1111111111111111,\"#46039f\"],[0.2222222222222222,\"#7201a8\"],[0.3333333333333333,\"#9c179e\"],[0.4444444444444444,\"#bd3786\"],[0.5555555555555556,\"#d8576b\"],[0.6666666666666666,\"#ed7953\"],[0.7777777777777778,\"#fb9f3a\"],[0.8888888888888888,\"#fdca26\"],[1.0,\"#f0f921\"]]}],\"heatmapgl\":[{\"type\":\"heatmapgl\",\"colorbar\":{\"outlinewidth\":0,\"ticks\":\"\"},\"colorscale\":[[0.0,\"#0d0887\"],[0.1111111111111111,\"#46039f\"],[0.2222222222222222,\"#7201a8\"],[0.3333333333333333,\"#9c179e\"],[0.4444444444444444,\"#bd3786\"],[0.5555555555555556,\"#d8576b\"],[0.6666666666666666,\"#ed7953\"],[0.7777777777777778,\"#fb9f3a\"],[0.8888888888888888,\"#fdca26\"],[1.0,\"#f0f921\"]]}],\"contourcarpet\":[{\"type\":\"contourcarpet\",\"colorbar\":{\"outlinewidth\":0,\"ticks\":\"\"}}],\"contour\":[{\"type\":\"contour\",\"colorbar\":{\"outlinewidth\":0,\"ticks\":\"\"},\"colorscale\":[[0.0,\"#0d0887\"],[0.1111111111111111,\"#46039f\"],[0.2222222222222222,\"#7201a8\"],[0.3333333333333333,\"#9c179e\"],[0.4444444444444444,\"#bd3786\"],[0.5555555555555556,\"#d8576b\"],[0.6666666666666666,\"#ed7953\"],[0.7777777777777778,\"#fb9f3a\"],[0.8888888888888888,\"#fdca26\"],[1.0,\"#f0f921\"]]}],\"surface\":[{\"type\":\"surface\",\"colorbar\":{\"outlinewidth\":0,\"ticks\":\"\"},\"colorscale\":[[0.0,\"#0d0887\"],[0.1111111111111111,\"#46039f\"],[0.2222222222222222,\"#7201a8\"],[0.3333333333333333,\"#9c179e\"],[0.4444444444444444,\"#bd3786\"],[0.5555555555555556,\"#d8576b\"],[0.6666666666666666,\"#ed7953\"],[0.7777777777777778,\"#fb9f3a\"],[0.8888888888888888,\"#fdca26\"],[1.0,\"#f0f921\"]]}],\"mesh3d\":[{\"type\":\"mesh3d\",\"colorbar\":{\"outlinewidth\":0,\"ticks\":\"\"}}],\"scatter\":[{\"fillpattern\":{\"fillmode\":\"overlay\",\"size\":10,\"solidity\":0.2},\"type\":\"scatter\"}],\"parcoords\":[{\"type\":\"parcoords\",\"line\":{\"colorbar\":{\"outlinewidth\":0,\"ticks\":\"\"}}}],\"scatterpolargl\":[{\"type\":\"scatterpolargl\",\"marker\":{\"colorbar\":{\"outlinewidth\":0,\"ticks\":\"\"}}}],\"bar\":[{\"error_x\":{\"color\":\"#2a3f5f\"},\"error_y\":{\"color\":\"#2a3f5f\"},\"marker\":{\"line\":{\"color\":\"#E5ECF6\",\"width\":0.5},\"pattern\":{\"fillmode\":\"overlay\",\"size\":10,\"solidity\":0.2}},\"type\":\"bar\"}],\"scattergeo\":[{\"type\":\"scattergeo\",\"marker\":{\"colorbar\":{\"outlinewidth\":0,\"ticks\":\"\"}}}],\"scatterpolar\":[{\"type\":\"scatterpolar\",\"marker\":{\"colorbar\":{\"outlinewidth\":0,\"ticks\":\"\"}}}],\"histogram\":[{\"marker\":{\"pattern\":{\"fillmode\":\"overlay\",\"size\":10,\"solidity\":0.2}},\"type\":\"histogram\"}],\"scattergl\":[{\"type\":\"scattergl\",\"marker\":{\"colorbar\":{\"outlinewidth\":0,\"ticks\":\"\"}}}],\"scatter3d\":[{\"type\":\"scatter3d\",\"line\":{\"colorbar\":{\"outlinewidth\":0,\"ticks\":\"\"}},\"marker\":{\"colorbar\":{\"outlinewidth\":0,\"ticks\":\"\"}}}],\"scattermapbox\":[{\"type\":\"scattermapbox\",\"marker\":{\"colorbar\":{\"outlinewidth\":0,\"ticks\":\"\"}}}],\"scatterternary\":[{\"type\":\"scatterternary\",\"marker\":{\"colorbar\":{\"outlinewidth\":0,\"ticks\":\"\"}}}],\"scattercarpet\":[{\"type\":\"scattercarpet\",\"marker\":{\"colorbar\":{\"outlinewidth\":0,\"ticks\":\"\"}}}],\"carpet\":[{\"aaxis\":{\"endlinecolor\":\"#2a3f5f\",\"gridcolor\":\"white\",\"linecolor\":\"white\",\"minorgridcolor\":\"white\",\"startlinecolor\":\"#2a3f5f\"},\"baxis\":{\"endlinecolor\":\"#2a3f5f\",\"gridcolor\":\"white\",\"linecolor\":\"white\",\"minorgridcolor\":\"white\",\"startlinecolor\":\"#2a3f5f\"},\"type\":\"carpet\"}],\"table\":[{\"cells\":{\"fill\":{\"color\":\"#EBF0F8\"},\"line\":{\"color\":\"white\"}},\"header\":{\"fill\":{\"color\":\"#C8D4E3\"},\"line\":{\"color\":\"white\"}},\"type\":\"table\"}],\"barpolar\":[{\"marker\":{\"line\":{\"color\":\"#E5ECF6\",\"width\":0.5},\"pattern\":{\"fillmode\":\"overlay\",\"size\":10,\"solidity\":0.2}},\"type\":\"barpolar\"}],\"pie\":[{\"automargin\":true,\"type\":\"pie\"}]},\"layout\":{\"autotypenumbers\":\"strict\",\"colorway\":[\"#636efa\",\"#EF553B\",\"#00cc96\",\"#ab63fa\",\"#FFA15A\",\"#19d3f3\",\"#FF6692\",\"#B6E880\",\"#FF97FF\",\"#FECB52\"],\"font\":{\"color\":\"#2a3f5f\"},\"hovermode\":\"closest\",\"hoverlabel\":{\"align\":\"left\"},\"paper_bgcolor\":\"white\",\"plot_bgcolor\":\"#E5ECF6\",\"polar\":{\"bgcolor\":\"#E5ECF6\",\"angularaxis\":{\"gridcolor\":\"white\",\"linecolor\":\"white\",\"ticks\":\"\"},\"radialaxis\":{\"gridcolor\":\"white\",\"linecolor\":\"white\",\"ticks\":\"\"}},\"ternary\":{\"bgcolor\":\"#E5ECF6\",\"aaxis\":{\"gridcolor\":\"white\",\"linecolor\":\"white\",\"ticks\":\"\"},\"baxis\":{\"gridcolor\":\"white\",\"linecolor\":\"white\",\"ticks\":\"\"},\"caxis\":{\"gridcolor\":\"white\",\"linecolor\":\"white\",\"ticks\":\"\"}},\"coloraxis\":{\"colorbar\":{\"outlinewidth\":0,\"ticks\":\"\"}},\"colorscale\":{\"sequential\":[[0.0,\"#0d0887\"],[0.1111111111111111,\"#46039f\"],[0.2222222222222222,\"#7201a8\"],[0.3333333333333333,\"#9c179e\"],[0.4444444444444444,\"#bd3786\"],[0.5555555555555556,\"#d8576b\"],[0.6666666666666666,\"#ed7953\"],[0.7777777777777778,\"#fb9f3a\"],[0.8888888888888888,\"#fdca26\"],[1.0,\"#f0f921\"]],\"sequentialminus\":[[0.0,\"#0d0887\"],[0.1111111111111111,\"#46039f\"],[0.2222222222222222,\"#7201a8\"],[0.3333333333333333,\"#9c179e\"],[0.4444444444444444,\"#bd3786\"],[0.5555555555555556,\"#d8576b\"],[0.6666666666666666,\"#ed7953\"],[0.7777777777777778,\"#fb9f3a\"],[0.8888888888888888,\"#fdca26\"],[1.0,\"#f0f921\"]],\"diverging\":[[0,\"#8e0152\"],[0.1,\"#c51b7d\"],[0.2,\"#de77ae\"],[0.3,\"#f1b6da\"],[0.4,\"#fde0ef\"],[0.5,\"#f7f7f7\"],[0.6,\"#e6f5d0\"],[0.7,\"#b8e186\"],[0.8,\"#7fbc41\"],[0.9,\"#4d9221\"],[1,\"#276419\"]]},\"xaxis\":{\"gridcolor\":\"white\",\"linecolor\":\"white\",\"ticks\":\"\",\"title\":{\"standoff\":15},\"zerolinecolor\":\"white\",\"automargin\":true,\"zerolinewidth\":2},\"yaxis\":{\"gridcolor\":\"white\",\"linecolor\":\"white\",\"ticks\":\"\",\"title\":{\"standoff\":15},\"zerolinecolor\":\"white\",\"automargin\":true,\"zerolinewidth\":2},\"scene\":{\"xaxis\":{\"backgroundcolor\":\"#E5ECF6\",\"gridcolor\":\"white\",\"linecolor\":\"white\",\"showbackground\":true,\"ticks\":\"\",\"zerolinecolor\":\"white\",\"gridwidth\":2},\"yaxis\":{\"backgroundcolor\":\"#E5ECF6\",\"gridcolor\":\"white\",\"linecolor\":\"white\",\"showbackground\":true,\"ticks\":\"\",\"zerolinecolor\":\"white\",\"gridwidth\":2},\"zaxis\":{\"backgroundcolor\":\"#E5ECF6\",\"gridcolor\":\"white\",\"linecolor\":\"white\",\"showbackground\":true,\"ticks\":\"\",\"zerolinecolor\":\"white\",\"gridwidth\":2}},\"shapedefaults\":{\"line\":{\"color\":\"#2a3f5f\"}},\"annotationdefaults\":{\"arrowcolor\":\"#2a3f5f\",\"arrowhead\":0,\"arrowwidth\":1},\"geo\":{\"bgcolor\":\"white\",\"landcolor\":\"#E5ECF6\",\"subunitcolor\":\"white\",\"showland\":true,\"showlakes\":true,\"lakecolor\":\"white\"},\"title\":{\"x\":0.05},\"mapbox\":{\"style\":\"light\"}}}},                        {\"responsive\": true}                    ).then(function(){\n                            \nvar gd = document.getElementById('f5c97c6e-db5a-4ff5-9b09-b323a292b954');\nvar x = new MutationObserver(function (mutations, observer) {{\n        var display = window.getComputedStyle(gd).display;\n        if (!display || display === 'none') {{\n            console.log([gd, 'removed!']);\n            Plotly.purge(gd);\n            observer.disconnect();\n        }}\n}});\n\n// Listen for the removal of the full notebook cells\nvar notebookContainer = gd.closest('#notebook-container');\nif (notebookContainer) {{\n    x.observe(notebookContainer, {childList: true});\n}}\n\n// Listen for the clearing of the current output cell\nvar outputEl = gd.closest('.output');\nif (outputEl) {{\n    x.observe(outputEl, {childList: true});\n}}\n\n                        })                };                });            </script>        </div>"
     },
     "metadata": {},
     "output_type": "display_data"
    }
   ],
   "source": [
    "fig = optuna.visualization.plot_pareto_front(study, target_names=[\"learning_rate\", \"f1\"])\n",
    "fig.write_image(file=\"figures/ch5_pareto.png\", format=\"png\", scale=6)\n",
    "fig.show()"
   ],
   "metadata": {
    "collapsed": false,
    "ExecuteTime": {
     "start_time": "2023-04-27T12:48:45.820953Z",
     "end_time": "2023-04-27T12:48:46.776516Z"
    }
   }
  }
 ],
 "metadata": {
  "kernelspec": {
   "display_name": "Python 3",
   "language": "python",
   "name": "python3"
  },
  "language_info": {
   "codemirror_mode": {
    "name": "ipython",
    "version": 2
   },
   "file_extension": ".py",
   "mimetype": "text/x-python",
   "name": "python",
   "nbconvert_exporter": "python",
   "pygments_lexer": "ipython2",
   "version": "2.7.6"
  }
 },
 "nbformat": 4,
 "nbformat_minor": 0
}
