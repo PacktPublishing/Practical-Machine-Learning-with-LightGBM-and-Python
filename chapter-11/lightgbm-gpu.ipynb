{
 "cells": [
  {
   "cell_type": "code",
   "execution_count": 1,
   "metadata": {
    "collapsed": true,
    "ExecuteTime": {
     "end_time": "2023-08-06T14:33:52.936775200Z",
     "start_time": "2023-08-06T14:33:52.201992800Z"
    }
   },
   "outputs": [],
   "source": [
    "from sklearn import datasets\n",
    "from sklearn.model_selection import train_test_split\n",
    "from sklearn.model_selection import cross_val_score\n",
    "\n",
    "import lightgbm as lgb\n",
    "import optuna"
   ]
  },
  {
   "cell_type": "code",
   "execution_count": 2,
   "outputs": [],
   "source": [
    "dataset = datasets.fetch_covtype()\n",
    "\n",
    "X_train, X_test, y_train, y_test = train_test_split(dataset.data, dataset.target, random_state=179)"
   ],
   "metadata": {
    "collapsed": false,
    "ExecuteTime": {
     "end_time": "2023-08-06T14:35:16.112273800Z",
     "start_time": "2023-08-06T14:33:52.938775200Z"
    }
   }
  },
  {
   "cell_type": "code",
   "execution_count": 3,
   "outputs": [],
   "source": [
    "model = lgb.LGBMClassifier(\n",
    "    n_estimators=150,\n",
    "    verbose=-1\n",
    ")"
   ],
   "metadata": {
    "collapsed": false,
    "ExecuteTime": {
     "end_time": "2023-08-06T14:35:16.116796300Z",
     "start_time": "2023-08-06T14:35:16.116796300Z"
    }
   }
  },
  {
   "cell_type": "code",
   "execution_count": 4,
   "outputs": [
    {
     "name": "stdout",
     "output_type": "stream",
     "text": [
      "CPU times: user 16min 17s, sys: 4.35 s, total: 16min 22s\n",
      "Wall time: 2min 51s\n"
     ]
    }
   ],
   "source": [
    "%%time\n",
    "model = model.fit(X_train, y_train)"
   ],
   "metadata": {
    "collapsed": false,
    "ExecuteTime": {
     "end_time": "2023-08-06T13:58:10.090746900Z",
     "start_time": "2023-08-06T13:55:18.768652100Z"
    }
   }
  },
  {
   "cell_type": "code",
   "execution_count": 4,
   "outputs": [],
   "source": [
    "model = lgb.LGBMClassifier(\n",
    "    n_estimators=150,\n",
    "    device=\"cuda\",\n",
    "    verbose=-1\n",
    ")"
   ],
   "metadata": {
    "collapsed": false,
    "ExecuteTime": {
     "end_time": "2023-08-06T14:35:16.124381300Z",
     "start_time": "2023-08-06T14:35:16.121337300Z"
    }
   }
  },
  {
   "cell_type": "code",
   "execution_count": 5,
   "outputs": [
    {
     "name": "stdout",
     "output_type": "stream",
     "text": [
      "CPU times: user 10.6 s, sys: 1.56 s, total: 12.2 s\n",
      "Wall time: 11 s\n"
     ]
    }
   ],
   "source": [
    "%%time\n",
    "model = model.fit(X_train, y_train)"
   ],
   "metadata": {
    "collapsed": false,
    "ExecuteTime": {
     "end_time": "2023-08-06T14:35:27.117657700Z",
     "start_time": "2023-08-06T14:35:16.367076800Z"
    }
   }
  },
  {
   "cell_type": "code",
   "execution_count": 6,
   "outputs": [],
   "source": [
    "def objective(optimize_boosting_type=True):\n",
    "    def _objective(trial):\n",
    "        if optimize_boosting_type:\n",
    "            boosting_type = trial.suggest_categorical(\"boosting_type\", [\"dart\", \"gbdt\"])\n",
    "        else:\n",
    "            boosting_type = \"gbdt\"\n",
    "        lambda_l1 = trial.suggest_float(\n",
    "            'lambda_l1', 1e-8, 10.0, log=True),\n",
    "        lambda_l2 = trial.suggest_float(\n",
    "            'lambda_l2', 1e-8, 10.0, log=True),\n",
    "        num_leaves = trial.suggest_int(\n",
    "            'num_leaves', 2, 256),\n",
    "        feature_fraction = trial.suggest_float(\n",
    "            'feature_fraction', 0.4, 1.0),\n",
    "        bagging_fraction = trial.suggest_float(\n",
    "            'bagging_fraction', 0.4, 1.0),\n",
    "        bagging_freq = trial.suggest_int(\n",
    "            'bagging_freq', 1, 7),\n",
    "        min_child_samples = trial.suggest_int(\n",
    "            'min_child_samples', 5, 100),\n",
    "        learning_rate = trial.suggest_float(\n",
    "            \"learning_rate\", 0.0001, 0.5, log=True),\n",
    "        max_bin = trial.suggest_int(\n",
    "            \"max_bin\", 128, 512, 32)\n",
    "        n_estimators = trial.suggest_int(\n",
    "            \"n_estimators\", 40, 400, 20)\n",
    "\n",
    "        model = lgb.LGBMClassifier(\n",
    "            force_row_wise=True,\n",
    "            boosting_type=boosting_type,\n",
    "            n_estimators=n_estimators,\n",
    "            lambda_l1=lambda_l1,\n",
    "            lambda_l2=lambda_l2,\n",
    "            num_leaves=num_leaves,\n",
    "            feature_fraction=feature_fraction,\n",
    "            bagging_fraction=bagging_fraction,\n",
    "            bagging_freq=bagging_freq,\n",
    "            min_child_samples=min_child_samples,\n",
    "            learning_rate=learning_rate,\n",
    "            max_bin=max_bin,\n",
    "            device=\"cuda\",\n",
    "            verbose=-1)\n",
    "        scores = cross_val_score(model, X_train, y_train, scoring=\"f1_macro\")\n",
    "        return scores.mean()\n",
    "\n",
    "    return _objective"
   ],
   "metadata": {
    "collapsed": false,
    "ExecuteTime": {
     "end_time": "2023-08-06T14:36:27.962810Z",
     "start_time": "2023-08-06T14:36:27.959950500Z"
    }
   }
  },
  {
   "cell_type": "code",
   "execution_count": null,
   "outputs": [
    {
     "name": "stderr",
     "output_type": "stream",
     "text": [
      "[I 2023-08-06 14:36:28,978] A new study created in memory with name: no-name-9230bbce-53d5-4404-9c8a-2f87baec52d3\n"
     ]
    }
   ],
   "source": [
    "sampler = optuna.samplers.TPESampler()\n",
    "pruner = optuna.pruners.HyperbandPruner(\n",
    "    min_resource=10, max_resource=400, reduction_factor=3)\n",
    "\n",
    "study = optuna.create_study(\n",
    "    direction='maximize', sampler=sampler,\n",
    "    pruner=pruner\n",
    ")\n",
    "study.optimize(objective(), n_trials=10, gc_after_trial=True, n_jobs=1)"
   ],
   "metadata": {
    "collapsed": false,
    "is_executing": true,
    "ExecuteTime": {
     "start_time": "2023-08-06T14:36:29.811456Z"
    }
   }
  },
  {
   "cell_type": "code",
   "execution_count": null,
   "outputs": [],
   "source": [],
   "metadata": {
    "collapsed": false
   }
  }
 ],
 "metadata": {
  "kernelspec": {
   "display_name": "Python 3",
   "language": "python",
   "name": "python3"
  },
  "language_info": {
   "codemirror_mode": {
    "name": "ipython",
    "version": 2
   },
   "file_extension": ".py",
   "mimetype": "text/x-python",
   "name": "python",
   "nbconvert_exporter": "python",
   "pygments_lexer": "ipython2",
   "version": "2.7.6"
  }
 },
 "nbformat": 4,
 "nbformat_minor": 0
}
